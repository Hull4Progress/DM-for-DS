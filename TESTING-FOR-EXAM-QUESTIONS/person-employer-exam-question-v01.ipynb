{
 "cells": [
  {
   "cell_type": "code",
   "execution_count": 1,
   "id": "bb490aca-862d-422d-b607-ef2b30741462",
   "metadata": {},
   "outputs": [],
   "source": [
    "import sys\n",
    "import json\n",
    "import csv\n",
    "import yaml\n",
    "\n",
    "import importlib\n",
    "\n",
    "import math\n",
    "\n",
    "import pandas as pd\n",
    "import numpy as np\n",
    "\n",
    "import matplotlib as mpl\n",
    "import matplotlib.pyplot as plt\n",
    "import os\n",
    "from dotenv import load_dotenv\n",
    "\n",
    "from datetime import time\n",
    "from datetime import date\n",
    "from datetime import datetime\n",
    "# with the above choices, the imported datetime.time(2023,07,01) is recognized\n",
    "# from datetime import date\n",
    "# from datetime import datetime\n",
    "\n",
    "import pprint\n",
    "\n",
    "import psycopg2\n",
    "from sqlalchemy import create_engine, text as sql_text\n",
    "\n",
    "# Create an utilities file util.py in a folder benchmarking and import it\n",
    "# NOTE: I moved my util.py to the directory \"helper_functions\" -- seems like a better name\n",
    "# sys.path.append('helper_functions/')\n",
    "# import util"
   ]
  },
  {
   "cell_type": "code",
   "execution_count": 2,
   "id": "4dd9b877-ee9d-49fe-8da1-5c79aeabd150",
   "metadata": {},
   "outputs": [],
   "source": [
    "from pymongo import MongoClient\n",
    "from bson import ObjectId\n",
    "\n",
    "client = MongoClient()\n",
    "# could have written client = MongoClient(\"localhost\", 27017)\n",
    "#                 or client = MongoClient(\"mongodb://localhost:27017/\")"
   ]
  },
  {
   "cell_type": "code",
   "execution_count": 3,
   "id": "e3fb7546-c5bb-4877-9ccf-a0f198a7e63b",
   "metadata": {},
   "outputs": [],
   "source": [
    "# I have (or will have) a database \"airbnb\"\n",
    "db = client.exam_questions\n"
   ]
  },
  {
   "cell_type": "code",
   "execution_count": 4,
   "id": "a41dd4b4-13ab-46eb-94a2-b6d2be0ef55e",
   "metadata": {},
   "outputs": [
    {
     "name": "stdout",
     "output_type": "stream",
     "text": [
      "{'_id': ObjectId('66675dea154d7d6907a930b5'),\n",
      " 'employer_name': 'UC Davis',\n",
      " 'employer_city': 'Davis',\n",
      " 'industry': 'University'}\n",
      "{'_id': ObjectId('66675dea154d7d6907a930b6'),\n",
      " 'employer_name': 'UC Berkeley',\n",
      " 'employer_city': 'Berkeley',\n",
      " 'industry': 'University'}\n",
      "{'_id': ObjectId('66675dea154d7d6907a930b7'),\n",
      " 'employer_name': 'UC Santa Barbara',\n",
      " 'employer_city': 'Santa Barbara',\n",
      " 'industry': 'University'}\n"
     ]
    }
   ],
   "source": [
    "val1 = { 'employer_name': 'UC Davis',\n",
    "         'employer_city': 'Davis',\n",
    "         'industry': 'University' }\n",
    "val2 = { 'employer_name': 'UC Berkeley',\n",
    "         'employer_city': 'Berkeley',\n",
    "         'industry': 'University' }\n",
    "val3 = { 'employer_name': 'UC Santa Barbara',\n",
    "         'employer_city': 'Santa Barbara',\n",
    "         'industry': 'University' }\n",
    "\n",
    "db.employer.drop()\n",
    "db.employer.insert_many([val1, val2, val3])\n",
    "cursor = db.employer.find()\n",
    "for doc in cursor:\n",
    "    pprint.pp(doc)"
   ]
  },
  {
   "cell_type": "code",
   "execution_count": 5,
   "id": "b6881814-531c-4a82-a064-23dbfceb575a",
   "metadata": {},
   "outputs": [
    {
     "name": "stdout",
     "output_type": "stream",
     "text": [
      "{'_id': ObjectId('66675dea154d7d6907a930b8'),\n",
      " 'name': 'John Smith',\n",
      " 'region': 'Chicago',\n",
      " 'summary': 'Hard-working Data Scientist',\n",
      " 'work_history': [{'employer__id': ObjectId('66675dea154d7d6907a930b5'),\n",
      "                   'start_date': '2000-01-01',\n",
      "                   'end_date': '2010-01-01'},\n",
      "                  {'employer__id': ObjectId('66675dea154d7d6907a930b7'),\n",
      "                   'start_date': '2011-01-01'}]}\n",
      "{'_id': ObjectId('66675dea154d7d6907a930b9'),\n",
      " 'name': 'Jane Doe',\n",
      " 'region': 'Chicago',\n",
      " 'summary': 'Hard-working Software Engineer',\n",
      " 'work_history': [{'employer__id': ObjectId('66675dea154d7d6907a930b7'),\n",
      "                   'start_date': '2000-01-01',\n",
      "                   'end_date': '2010-01-01'},\n",
      "                  {'employer__id': ObjectId('66675dea154d7d6907a930b6'),\n",
      "                   'start_date': '2011-01-01'}]}\n",
      "{'_id': ObjectId('66675dea154d7d6907a930ba'),\n",
      " 'name': 'Janet Simpson',\n",
      " 'region': 'Chicago',\n",
      " 'summary': 'Hard-working Electrical Engineer',\n",
      " 'work_history': [{'employer__id': ObjectId('66675dea154d7d6907a930b7'),\n",
      "                   'start_date': '2000-01-01',\n",
      "                   'end_date': '2002-01-01'},\n",
      "                  {'employer__id': ObjectId('66675dea154d7d6907a930b6'),\n",
      "                   'start_date': '2015-01-01',\n",
      "                   'end_date': '2017_01_01'},\n",
      "                  {'employer__id': ObjectId('66675dea154d7d6907a930b5'),\n",
      "                   'start_date': '2019-01-01'}]}\n"
     ]
    }
   ],
   "source": [
    "ucd_id = db.employer.find_one({'employer_name':'UC Davis'})['_id']\n",
    "ucb_id = db.employer.find_one({'employer_name':'UC Berkeley'})['_id']\n",
    "ucsb_id = db.employer.find_one({'employer_name':'UC Santa Barbara'})['_id']\n",
    "\n",
    "\n",
    "\n",
    "\n",
    "\n",
    "val4 = { 'name': 'John Smith',\n",
    "        'region': 'Chicago',\n",
    "        'summary': 'Hard-working Data Scientist',\n",
    "        'work_history': [ { 'employer__id': ucd_id,\n",
    "                            'start_date': '2000-01-01',\n",
    "                            'end_date': '2010-01-01' },\n",
    "                          { 'employer__id': ucsb_id,\n",
    "                            'start_date': '2011-01-01'}\n",
    "                        ]\n",
    "      }\n",
    "val5 = { 'name': 'Jane Doe',\n",
    "        'region': 'Chicago',\n",
    "        'summary': 'Hard-working Software Engineer',\n",
    "        'work_history': [ {'employer__id': ucsb_id,\n",
    "                           'start_date': '2000-01-01',\n",
    "                           'end_date': '2010-01-01' },\n",
    "                          {'employer__id': ucb_id,\n",
    "                           'start_date': '2011-01-01'}\n",
    "                        ]\n",
    "      }\n",
    "                           \n",
    "val6 = { 'name': 'Janet Simpson',\n",
    "        'region': 'Chicago',\n",
    "        'summary': 'Hard-working Electrical Engineer',\n",
    "        'work_history': [ {'employer__id': ucsb_id,\n",
    "                           'start_date': '2000-01-01',\n",
    "                           'end_date': '2002-01-01' },\n",
    "                          {'employer__id': ucb_id,\n",
    "                           'start_date': '2015-01-01',\n",
    "                           'end_date': '2017_01_01'},\n",
    "                          {'employer__id': ucd_id,\n",
    "                           'start_date': '2019-01-01'}\n",
    "                        ]\n",
    "      }\n",
    "\n",
    "db.person.drop()\n",
    "db.person.insert_many([val4, val5, val6])\n",
    "cursor = db.person.find()\n",
    "for doc in cursor:\n",
    "    pprint.pp(doc)"
   ]
  },
  {
   "cell_type": "code",
   "execution_count": 6,
   "id": "0556f75f-9d7c-461e-b2fb-e75e9a6c3d66",
   "metadata": {},
   "outputs": [
    {
     "name": "stdout",
     "output_type": "stream",
     "text": [
      "{'_id': ObjectId('66675dea154d7d6907a930b5'), 'employer_name': 'UC Davis', 'employer_city': 'Davis', 'industry': 'University'}\n",
      "<class 'dict'>\n"
     ]
    }
   ],
   "source": [
    "ucd = db.employer.find_one({'employer_name':'UC Davis'})\n",
    "print(ucd)\n",
    "print(type(ucd))"
   ]
  },
  {
   "cell_type": "code",
   "execution_count": 7,
   "id": "715dbd63-d769-4a06-9711-f334d7fdedcb",
   "metadata": {},
   "outputs": [
    {
     "name": "stdout",
     "output_type": "stream",
     "text": [
      "66675dea154d7d6907a930b5\n"
     ]
    }
   ],
   "source": [
    "ucd_id = ucd['_id']\n",
    "print(ucd_id)"
   ]
  },
  {
   "cell_type": "code",
   "execution_count": 8,
   "id": "08e63035-f580-479d-ba87-d013d42e82d6",
   "metadata": {},
   "outputs": [
    {
     "name": "stdout",
     "output_type": "stream",
     "text": [
      "3\n",
      "3\n"
     ]
    }
   ],
   "source": [
    "print(db.person.count_documents({}))\n",
    "print(db.employer.count_documents({}))"
   ]
  },
  {
   "cell_type": "code",
   "execution_count": null,
   "id": "cdd35033-a022-4d50-aa7a-cfe460c6ea42",
   "metadata": {},
   "outputs": [],
   "source": []
  },
  {
   "cell_type": "code",
   "execution_count": 9,
   "id": "c56e7eb4-3760-45b1-a85e-2342a8f087a8",
   "metadata": {},
   "outputs": [
    {
     "name": "stdout",
     "output_type": "stream",
     "text": [
      "{'_id': ObjectId('66675dea154d7d6907a930b8'),\n",
      " 'name': 'John Smith',\n",
      " 'region': 'Chicago',\n",
      " 'summary': 'Hard-working Data Scientist',\n",
      " 'work_history': [{'employer__id': ObjectId('66675dea154d7d6907a930b5'),\n",
      "                   'start_date': '2000-01-01',\n",
      "                   'end_date': '2010-01-01'},\n",
      "                  {'employer__id': ObjectId('66675dea154d7d6907a930b7'),\n",
      "                   'start_date': '2011-01-01'}]}\n",
      "{'_id': ObjectId('66675dea154d7d6907a930ba'),\n",
      " 'name': 'Janet Simpson',\n",
      " 'region': 'Chicago',\n",
      " 'summary': 'Hard-working Electrical Engineer',\n",
      " 'work_history': [{'employer__id': ObjectId('66675dea154d7d6907a930b7'),\n",
      "                   'start_date': '2000-01-01',\n",
      "                   'end_date': '2002-01-01'},\n",
      "                  {'employer__id': ObjectId('66675dea154d7d6907a930b6'),\n",
      "                   'start_date': '2015-01-01',\n",
      "                   'end_date': '2017_01_01'},\n",
      "                  {'employer__id': ObjectId('66675dea154d7d6907a930b5'),\n",
      "                   'start_date': '2019-01-01'}]}\n"
     ]
    }
   ],
   "source": [
    "cursor = db.person.find({'work_history.employer__id': ucd_id})\n",
    "for doc in cursor:\n",
    "    pprint.pp(doc)"
   ]
  },
  {
   "cell_type": "code",
   "execution_count": 10,
   "id": "a1156ba2-a47a-410b-b356-4a903f7fd0e5",
   "metadata": {},
   "outputs": [
    {
     "name": "stdout",
     "output_type": "stream",
     "text": [
      "{'name': 'John Smith',\n",
      " 'region': 'Chicago',\n",
      " 'summary': 'Hard-working Data Scientist'}\n",
      "{'name': 'Janet Simpson',\n",
      " 'region': 'Chicago',\n",
      " 'summary': 'Hard-working Electrical Engineer'}\n"
     ]
    }
   ],
   "source": [
    "# db.test1.drop()\n",
    "pipeline = [ { '$match' : { 'work_history.employer__id': ucd_id}},\n",
    "             { '$unset': ['_id', 'work_history'] },\n",
    "             # { '$out' : 'test1' }\n",
    "           ]\n",
    "\n",
    "cursor = db.person.aggregate(pipeline)\n",
    "\n",
    "for doc in cursor:\n",
    "    pprint.pp(doc)"
   ]
  },
  {
   "cell_type": "code",
   "execution_count": null,
   "id": "0a8e92fb-e111-439f-889b-68e2302be02b",
   "metadata": {},
   "outputs": [],
   "source": []
  },
  {
   "cell_type": "code",
   "execution_count": null,
   "id": "2ffa29b7-22f8-47de-813f-3b90712d32dc",
   "metadata": {},
   "outputs": [],
   "source": []
  },
  {
   "cell_type": "code",
   "execution_count": 11,
   "id": "0287a459-d559-4d08-83ca-15e6381d79de",
   "metadata": {},
   "outputs": [],
   "source": [
    "db.test1.drop()\n",
    "\n",
    "pipeline = [ # \n",
    "            { '$unset' : '_id' },\n",
    "            { '$unwind' : '$work_history'},\n",
    "            { '$match' : { 'work_history._id': ucd_id}},\n",
    "            { '$project': {\n",
    "                   'name' : '$name',\n",
    "                   'region' : '$region',\n",
    "                   'start_date' : '$work_history.start_date',\n",
    "                   'end_date' : '$work_history.end_date'\n",
    "                   }\n",
    "            },\n",
    "             { '$out' : 'test1' }\n",
    "           ]\n",
    "\n",
    "db.person.aggregate(pipeline)\n",
    "\n",
    "ans = db.test1.find({})\n",
    "for doc in ans:\n",
    "    pprint.pp(doc)"
   ]
  },
  {
   "cell_type": "markdown",
   "id": "c3c7b97f-9f3d-4d94-90e6-d16b6c435231",
   "metadata": {},
   "source": [
    "### <span style=color:blue>Creating records of shape person_name, region, employer_name, start_date, end_date -- have to to an unwind, a project (to flatten the work history with employer ObjectID), then a lookup (join) to bring in data from Employer, and then drop some columns   </span>"
   ]
  },
  {
   "cell_type": "code",
   "execution_count": 12,
   "id": "39b0b217-13a3-47c4-aa1e-e3d5828925b1",
   "metadata": {},
   "outputs": [
    {
     "name": "stdout",
     "output_type": "stream",
     "text": [
      "{'name': 'John Smith',\n",
      " 'region': 'Chicago',\n",
      " 'employer__id': ObjectId('66675dea154d7d6907a930b5'),\n",
      " 'start_date': '2000-01-01',\n",
      " 'end_date': '2010-01-01'}\n",
      "{'name': 'John Smith',\n",
      " 'region': 'Chicago',\n",
      " 'employer__id': ObjectId('66675dea154d7d6907a930b7'),\n",
      " 'start_date': '2011-01-01'}\n",
      "{'name': 'Jane Doe',\n",
      " 'region': 'Chicago',\n",
      " 'employer__id': ObjectId('66675dea154d7d6907a930b7'),\n",
      " 'start_date': '2000-01-01',\n",
      " 'end_date': '2010-01-01'}\n",
      "{'name': 'Jane Doe',\n",
      " 'region': 'Chicago',\n",
      " 'employer__id': ObjectId('66675dea154d7d6907a930b6'),\n",
      " 'start_date': '2011-01-01'}\n",
      "{'name': 'Janet Simpson',\n",
      " 'region': 'Chicago',\n",
      " 'employer__id': ObjectId('66675dea154d7d6907a930b7'),\n",
      " 'start_date': '2000-01-01',\n",
      " 'end_date': '2002-01-01'}\n",
      "{'name': 'Janet Simpson',\n",
      " 'region': 'Chicago',\n",
      " 'employer__id': ObjectId('66675dea154d7d6907a930b6'),\n",
      " 'start_date': '2015-01-01',\n",
      " 'end_date': '2017_01_01'}\n",
      "{'name': 'Janet Simpson',\n",
      " 'region': 'Chicago',\n",
      " 'employer__id': ObjectId('66675dea154d7d6907a930b5'),\n",
      " 'start_date': '2019-01-01'}\n"
     ]
    }
   ],
   "source": [
    "db.test2.drop()\n",
    "\n",
    "pipeline = [  { '$unset' : '_id' },\n",
    "              { '$unwind' : '$work_history'},\n",
    "              { '$project': {\n",
    "                   'name' : '$name',\n",
    "                   'region' : '$region',\n",
    "                   'employer__id' : '$work_history.employer__id',\n",
    "                   'start_date' : '$work_history.start_date',\n",
    "                   'end_date' : '$work_history.end_date'\n",
    "              }}\n",
    "          ]\n",
    "\"\"\"\n",
    "              { '$lookup' : {\n",
    "                   'from': 'employer',\n",
    "                   'localField':  'employer__id',\n",
    "                   'foreignField': '_id',\n",
    "                   'as' : 'employer_list'\n",
    "              }},\n",
    "              { '$unwind' : '$employer_list'},\n",
    "              { '$addFields' : { 'employer_name' : '$$ROOT.employer_list.employer_name'}},    \n",
    "              { '$unset' : ['employer_list', 'employer__id'] },\n",
    "              { '$out' : 'test2' }\n",
    "          ]\n",
    "\"\"\"\n",
    "\n",
    "\n",
    "cursor = db.person.aggregate(pipeline)\n",
    "\n",
    "for doc in cursor:\n",
    "    pprint.pp(doc)\n"
   ]
  },
  {
   "cell_type": "code",
   "execution_count": 13,
   "id": "735413a0-5290-40a0-ba63-0946c9f2e27c",
   "metadata": {},
   "outputs": [
    {
     "name": "stdout",
     "output_type": "stream",
     "text": [
      "{'name': 'John Smith',\n",
      " 'region': 'Chicago',\n",
      " 'employer__id': ObjectId('66675dea154d7d6907a930b5'),\n",
      " 'start_date': '2000-01-01',\n",
      " 'end_date': '2010-01-01',\n",
      " 'employer_list': [{'_id': ObjectId('66675dea154d7d6907a930b5'),\n",
      "                    'employer_name': 'UC Davis',\n",
      "                    'employer_city': 'Davis',\n",
      "                    'industry': 'University'}]}\n",
      "{'name': 'John Smith',\n",
      " 'region': 'Chicago',\n",
      " 'employer__id': ObjectId('66675dea154d7d6907a930b7'),\n",
      " 'start_date': '2011-01-01',\n",
      " 'employer_list': [{'_id': ObjectId('66675dea154d7d6907a930b7'),\n",
      "                    'employer_name': 'UC Santa Barbara',\n",
      "                    'employer_city': 'Santa Barbara',\n",
      "                    'industry': 'University'}]}\n",
      "{'name': 'Jane Doe',\n",
      " 'region': 'Chicago',\n",
      " 'employer__id': ObjectId('66675dea154d7d6907a930b7'),\n",
      " 'start_date': '2000-01-01',\n",
      " 'end_date': '2010-01-01',\n",
      " 'employer_list': [{'_id': ObjectId('66675dea154d7d6907a930b7'),\n",
      "                    'employer_name': 'UC Santa Barbara',\n",
      "                    'employer_city': 'Santa Barbara',\n",
      "                    'industry': 'University'}]}\n",
      "{'name': 'Jane Doe',\n",
      " 'region': 'Chicago',\n",
      " 'employer__id': ObjectId('66675dea154d7d6907a930b6'),\n",
      " 'start_date': '2011-01-01',\n",
      " 'employer_list': [{'_id': ObjectId('66675dea154d7d6907a930b6'),\n",
      "                    'employer_name': 'UC Berkeley',\n",
      "                    'employer_city': 'Berkeley',\n",
      "                    'industry': 'University'}]}\n",
      "{'name': 'Janet Simpson',\n",
      " 'region': 'Chicago',\n",
      " 'employer__id': ObjectId('66675dea154d7d6907a930b7'),\n",
      " 'start_date': '2000-01-01',\n",
      " 'end_date': '2002-01-01',\n",
      " 'employer_list': [{'_id': ObjectId('66675dea154d7d6907a930b7'),\n",
      "                    'employer_name': 'UC Santa Barbara',\n",
      "                    'employer_city': 'Santa Barbara',\n",
      "                    'industry': 'University'}]}\n",
      "{'name': 'Janet Simpson',\n",
      " 'region': 'Chicago',\n",
      " 'employer__id': ObjectId('66675dea154d7d6907a930b6'),\n",
      " 'start_date': '2015-01-01',\n",
      " 'end_date': '2017_01_01',\n",
      " 'employer_list': [{'_id': ObjectId('66675dea154d7d6907a930b6'),\n",
      "                    'employer_name': 'UC Berkeley',\n",
      "                    'employer_city': 'Berkeley',\n",
      "                    'industry': 'University'}]}\n",
      "{'name': 'Janet Simpson',\n",
      " 'region': 'Chicago',\n",
      " 'employer__id': ObjectId('66675dea154d7d6907a930b5'),\n",
      " 'start_date': '2019-01-01',\n",
      " 'employer_list': [{'_id': ObjectId('66675dea154d7d6907a930b5'),\n",
      "                    'employer_name': 'UC Davis',\n",
      "                    'employer_city': 'Davis',\n",
      "                    'industry': 'University'}]}\n"
     ]
    }
   ],
   "source": [
    "db.test2.drop()\n",
    "\n",
    "pipeline = [  { '$unset' : '_id' },\n",
    "              { '$unwind' : '$work_history'},\n",
    "              { '$project': {\n",
    "                   'name' : '$name',\n",
    "                   'region' : '$region',\n",
    "                   'employer__id' : '$work_history.employer__id',\n",
    "                   'start_date' : '$work_history.start_date',\n",
    "                   'end_date' : '$work_history.end_date'\n",
    "              }},\n",
    "              { '$lookup' : {\n",
    "                   'from': 'employer',\n",
    "                   'localField':  'employer__id',\n",
    "                   'foreignField': '_id',\n",
    "                   'as' : 'employer_list'\n",
    "              }},\n",
    "          ]\n",
    "\"\"\"\n",
    "              { '$unwind' : '$employer_list'},\n",
    "              { '$addFields' : { 'employer_name' : '$$ROOT.employer_list.employer_name'}},    \n",
    "              { '$unset' : ['employer_list', 'employer__id'] },\n",
    "              { '$out' : 'test2' }\n",
    "          ]\n",
    "\"\"\"\n",
    "\n",
    "\n",
    "cursor = db.person.aggregate(pipeline)\n",
    "\n",
    "for doc in cursor:\n",
    "    pprint.pp(doc)\n"
   ]
  },
  {
   "cell_type": "code",
   "execution_count": 15,
   "id": "f27b3604-f860-4ee8-8523-9e7e6c7dd5c6",
   "metadata": {},
   "outputs": [
    {
     "name": "stdout",
     "output_type": "stream",
     "text": [
      "{'name': 'John Smith',\n",
      " 'region': 'Chicago',\n",
      " 'start_date': '2000-01-01',\n",
      " 'end_date': '2010-01-01',\n",
      " 'employer_name': 'UC Davis'}\n",
      "{'name': 'John Smith',\n",
      " 'region': 'Chicago',\n",
      " 'start_date': '2011-01-01',\n",
      " 'employer_name': 'UC Santa Barbara'}\n",
      "{'name': 'Jane Doe',\n",
      " 'region': 'Chicago',\n",
      " 'start_date': '2000-01-01',\n",
      " 'end_date': '2010-01-01',\n",
      " 'employer_name': 'UC Santa Barbara'}\n",
      "{'name': 'Jane Doe',\n",
      " 'region': 'Chicago',\n",
      " 'start_date': '2011-01-01',\n",
      " 'employer_name': 'UC Berkeley'}\n",
      "{'name': 'Janet Simpson',\n",
      " 'region': 'Chicago',\n",
      " 'start_date': '2000-01-01',\n",
      " 'end_date': '2002-01-01',\n",
      " 'employer_name': 'UC Santa Barbara'}\n",
      "{'name': 'Janet Simpson',\n",
      " 'region': 'Chicago',\n",
      " 'start_date': '2015-01-01',\n",
      " 'end_date': '2017_01_01',\n",
      " 'employer_name': 'UC Berkeley'}\n",
      "{'name': 'Janet Simpson',\n",
      " 'region': 'Chicago',\n",
      " 'start_date': '2019-01-01',\n",
      " 'employer_name': 'UC Davis'}\n"
     ]
    }
   ],
   "source": [
    "pipeline = [  { '$unset' : '_id' },\n",
    "              { '$unwind' : '$work_history'},\n",
    "              { '$project': {\n",
    "                   'name' : '$name',\n",
    "                   'region' : '$region',\n",
    "                   'employer__id' : '$work_history.employer__id',\n",
    "               #    'employer_name': '$work_history.employer_name',\n",
    "                   'start_date' : '$work_history.start_date',\n",
    "                   'end_date' : '$work_history.end_date'\n",
    "              }},\n",
    "              { '$lookup' : {\n",
    "                   'from': 'employer',\n",
    "                   'localField':  'employer__id',\n",
    "                   'foreignField': '_id',\n",
    "                   'as' : 'employer_list'\n",
    "              }},\n",
    "              { '$unwind' : '$employer_list'},\n",
    "              { '$addFields' : { 'employer_name' : '$$ROOT.employer_list.employer_name'}},\n",
    "              { '$unset' : ['employer_list', 'employer__id'] }\n",
    "          ]\n",
    "\n",
    "cursor = db.person.aggregate(pipeline)\n",
    "\n",
    "for doc in cursor:\n",
    "    pprint.pp(doc)\n"
   ]
  },
  {
   "cell_type": "code",
   "execution_count": 39,
   "id": "673e0cfd-5296-4242-b8d3-236a7425b0f9",
   "metadata": {},
   "outputs": [
    {
     "name": "stdout",
     "output_type": "stream",
     "text": [
      "{'name': 'John Smith',\n",
      " 'region': 'Chicago',\n",
      " 'summary': 'Hard-working Data Scientist',\n",
      " 'employer_name': 'UC Santa Barbara',\n",
      " 'employer_city': 'Santa Barbara',\n",
      " 'start_date': '2011-01-01'}\n",
      "{'name': 'Jane Doe',\n",
      " 'region': 'Chicago',\n",
      " 'summary': 'Hard-working Software Engineer',\n",
      " 'employer_name': 'UC Berkeley',\n",
      " 'employer_city': 'Berkeley',\n",
      " 'start_date': '2011-01-01'}\n",
      "{'name': 'Janet Simpson',\n",
      " 'region': 'Chicago',\n",
      " 'summary': 'Hard-working Electrical Engineer',\n",
      " 'employer_name': 'UC Davis',\n",
      " 'employer_city': 'Davis',\n",
      " 'start_date': '2019-01-01'}\n"
     ]
    }
   ],
   "source": [
    "pipeline = [\n",
    "    { '$unwind' : '$work_history' },\n",
    "    { '$match' : { 'work_history.end_date' : { '$exists' : False }\n",
    "                 }\n",
    "    },\n",
    "    { '$lookup' : \n",
    "          { 'from' : 'employer',\n",
    "            'localField' : 'work_history.employer__id',\n",
    "            'foreignField' : '_id',\n",
    "            'as' : 'employer'\n",
    "          }\n",
    "    },\n",
    "    { '$unwind' : '$employer' },\n",
    "    { '$addFields' : { 'employer_name' : '$$ROOT.employer.employer_name',\n",
    "                       'employer_city' : '$$ROOT.employer.employer_city',\n",
    "                       'start_date' : '$$ROOT.work_history.start_date'\n",
    "                     }\n",
    "    },\n",
    "    { '$unset': [ '_id', 'work_history', 'employer' ] \n",
    "    }\n",
    "] \n",
    "\n",
    "cursor = db.person.aggregate(pipeline)\n",
    "\n",
    "for doc in cursor:\n",
    "    pprint.pp(doc)"
   ]
  },
  {
   "cell_type": "code",
   "execution_count": null,
   "id": "4c8b14f3-b05d-4b36-a609-e7465f6c89ce",
   "metadata": {},
   "outputs": [],
   "source": []
  },
  {
   "cell_type": "code",
   "execution_count": null,
   "id": "d1f6e4db-c270-470f-977f-b15bf78176f8",
   "metadata": {},
   "outputs": [],
   "source": []
  }
 ],
 "metadata": {
  "kernelspec": {
   "display_name": "dm4ds",
   "language": "python",
   "name": "dm4ds"
  },
  "language_info": {
   "codemirror_mode": {
    "name": "ipython",
    "version": 3
   },
   "file_extension": ".py",
   "mimetype": "text/x-python",
   "name": "python",
   "nbconvert_exporter": "python",
   "pygments_lexer": "ipython3",
   "version": "3.11.7"
  }
 },
 "nbformat": 4,
 "nbformat_minor": 5
}
