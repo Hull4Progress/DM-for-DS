{
 "cells": [
  {
   "cell_type": "markdown",
   "id": "03ba5d94",
   "metadata": {},
   "source": [
    "## <span style=color:blue>Illustrations of using python to load and manipulate Postgres data    </span>"
   ]
  },
  {
   "cell_type": "code",
   "execution_count": 1,
   "id": "92ffd2fb",
   "metadata": {},
   "outputs": [],
   "source": [
    "# These are boiler plate imports that seem useful\n",
    "# Perhaps cleaner would be to delete or comment out the ones that aren't used in this script...\n",
    "\n",
    "import sys\n",
    "import json\n",
    "import csv\n",
    "import yaml\n",
    "\n",
    "import pandas as pd\n",
    "import numpy as np\n",
    "\n",
    "import matplotlib as mpl"
   ]
  },
  {
   "cell_type": "markdown",
   "id": "ce3ab428",
   "metadata": {},
   "source": [
    "## <span style=color:blue>Setting up Postgres connection.  Note database name is \"Small_Examples\" </span>"
   ]
  },
  {
   "cell_type": "code",
   "execution_count": 2,
   "id": "81308434",
   "metadata": {},
   "outputs": [],
   "source": [
    "import psycopg2"
   ]
  },
  {
   "cell_type": "code",
   "execution_count": 3,
   "id": "cdca016b",
   "metadata": {},
   "outputs": [
    {
     "name": "stdout",
     "output_type": "stream",
     "text": [
      "Successfully connected to the database.\n"
     ]
    }
   ],
   "source": [
    "# following https://earthly.dev/blog/psycopg2-postgres-python/\n",
    "\n",
    "db_conn = psycopg2.connect(dbname='Small_Examples',\n",
    "                           user='postgres',\n",
    "                           password='postgres',\n",
    "                           host='localhost',\n",
    "                           port=5432)\n",
    "\n",
    "print(\"Successfully connected to the database.\")\n",
    "\n",
    "# Actually, rather than putting the user and password directly into the code, we should\n",
    "#   set up a configuration file, e.g., \"db_info.ini\" (see the URL given above"
   ]
  },
  {
   "cell_type": "markdown",
   "id": "542270f5-9c69-4f13-9eb5-bcea4c883483",
   "metadata": {},
   "source": [
    "<span style=color:blue>One way to interact with the database is to use a \"cursor\". Think of the cursor as being able to run something that you highlight in a DBeaver SQL script window.  </span>"
   ]
  },
  {
   "cell_type": "code",
   "execution_count": 4,
   "id": "e4553476",
   "metadata": {},
   "outputs": [],
   "source": [
    "db_cursor = db_conn.cursor()"
   ]
  },
  {
   "cell_type": "code",
   "execution_count": 5,
   "id": "538cb9cb",
   "metadata": {},
   "outputs": [
    {
     "name": "stdout",
     "output_type": "stream",
     "text": [
      "('works_on',)\n"
     ]
    }
   ],
   "source": [
    "q1 = ''' \n",
    "SELECT table_name\n",
    "FROM information_schema.tables\n",
    "WHERE table_schema='company'\n",
    "  AND table_type='BASE TABLE';\n",
    "'''\n",
    "db_cursor.execute(q1)\n",
    "\n",
    "print(db_cursor.fetchone())\n"
   ]
  },
  {
   "cell_type": "code",
   "execution_count": 6,
   "id": "36cd5abd-4e50-4349-911d-4af7831386c3",
   "metadata": {},
   "outputs": [
    {
     "name": "stdout",
     "output_type": "stream",
     "text": [
      "[('dependent',), ('dept_locations',), ('project',), ('department',), ('employee',)]\n"
     ]
    }
   ],
   "source": [
    "print(db_cursor.fetchmany(10))"
   ]
  },
  {
   "cell_type": "markdown",
   "id": "a9dbc23e-a9b5-4555-b8f0-4b15aae2cc8c",
   "metadata": {},
   "source": [
    "<span style=color:blue>We can do a loop on the contents of the cursor</span"
   ]
  },
  {
   "cell_type": "code",
   "execution_count": 7,
   "id": "b86cbbac-cfb3-4bf0-bce9-ff7d05624939",
   "metadata": {},
   "outputs": [
    {
     "name": "stdout",
     "output_type": "stream",
     "text": [
      "('works_on',)\n",
      "('dependent',)\n",
      "('dept_locations',)\n",
      "('project',)\n",
      "('department',)\n",
      "('employee',)\n"
     ]
    }
   ],
   "source": [
    "db_cursor.execute(q1)\n",
    "\n",
    "for record in db_cursor:\n",
    "    print(record)"
   ]
  },
  {
   "cell_type": "markdown",
   "id": "9e03bbf2-0591-45e7-8f57-b87d4f76b97d",
   "metadata": {},
   "source": [
    "<span style=color:blue>I want my program to run on the company schema in particular.  So I can use the set search_path command.  Also, I need to \"commit\" that change to this session of the database.  Commits will also be needed if I create new tables or make updates to the data.  (There is also an \"autocommit\" feature that you can declare in psycopg2, but in my experience it does not always do a commit, so I avoid it.)</span>"
   ]
  },
  {
   "cell_type": "code",
   "execution_count": 8,
   "id": "d745b47a-1d2f-430c-8979-286ae0bbc43a",
   "metadata": {},
   "outputs": [],
   "source": [
    "q2 = '''set search_path to company'''\n",
    "db_cursor.execute(q2)\n",
    "db_conn.commit()"
   ]
  },
  {
   "cell_type": "code",
   "execution_count": 9,
   "id": "b8392efa-ca25-446d-9b84-c1db0138b306",
   "metadata": {},
   "outputs": [
    {
     "name": "stdout",
     "output_type": "stream",
     "text": [
      "[('Research', 5, '333445555', '5/22/88'), ('Administration', 4, '987654321', '1/1/95'), ('Headquarters', 1, '888665555', '6/19/81')]\n"
     ]
    }
   ],
   "source": [
    "q3 = '''\n",
    "SELECT *\n",
    "FROM department\n",
    "'''\n",
    "db_cursor.execute(q3)\n",
    "print(db_cursor.fetchmany(20))"
   ]
  },
  {
   "cell_type": "markdown",
   "id": "a58ae3db-ea43-444b-be3a-83672c3692a7",
   "metadata": {},
   "source": [
    "<span style=color:blue>I can introduce parameters into my queries</span>"
   ]
  },
  {
   "cell_type": "code",
   "execution_count": 10,
   "id": "ebdfb040-a7a8-4fb4-bc59-33a4137ecc2f",
   "metadata": {},
   "outputs": [
    {
     "name": "stdout",
     "output_type": "stream",
     "text": [
      "\n",
      "SELECT *\n",
      "FROM employee\n",
      "WHERE fname LIKE 'J%'\n",
      "\n",
      "[('Jennifer', 'S', 'Wallace', '987654321', '6/20/41', '291-Berry-Bellaire-TX', 'F', 43000, '888665555', 4), ('James', 'E', 'Borg', '888665555', '11/10/37', '450-Stone-Houston-TX', 'M', 55000, None, 1), ('John', 'B', 'Smith', '123456789', '1/9/65', '731-Fondren-Houston-TX', 'M', 33000, '333445555', 5), ('Joyce', 'A', 'English', '453453453', '7/31/72', '5631-Rice-Houston-TX', 'F', 27500, '333445555', 5), ('John', 'B', 'Smith', '998877665', None, None, None, None, None, None)]\n"
     ]
    }
   ],
   "source": [
    "# goal is to get employees whose first names start with a specified initial\n",
    "#   the WHERE from the query will look like: WHERE fname LIKE 'J%'  (where J will be a parameter)\n",
    "\n",
    "q4start = \"\"\"\n",
    "SELECT *\n",
    "FROM employee\n",
    "WHERE fname LIKE '\"\"\" \n",
    "\n",
    "q4end = \"\"\"%'\"\"\"\n",
    "\n",
    "finit = 'J'\n",
    "\n",
    "q4 = q4start + finit + q4end\n",
    "\n",
    "print(q4)\n",
    "print()\n",
    "\n",
    "db_cursor.execute(q4)\n",
    "print(db_cursor.fetchmany(20))"
   ]
  },
  {
   "cell_type": "code",
   "execution_count": 11,
   "id": "6e1d25d3-e037-4585-ba8d-90b64b2f18a6",
   "metadata": {},
   "outputs": [
    {
     "name": "stdout",
     "output_type": "stream",
     "text": [
      "[]\n"
     ]
    }
   ],
   "source": [
    "import pprint\n",
    "pprint.pp(db_cursor.fetchmany(20))"
   ]
  },
  {
   "cell_type": "markdown",
   "id": "e1b08f50-a039-4098-b7bb-fa4327b6c785",
   "metadata": {},
   "source": [
    "<span style=color:blue>Why is the above command giving us empty?  It is because the fetchone() and fetchmany() cycle through the answer and then finish.  To get the full answer we have to execute the query again</span>"
   ]
  },
  {
   "cell_type": "code",
   "execution_count": 13,
   "id": "fa0adbc0-fd21-4deb-b54b-5feee45e9a6f",
   "metadata": {},
   "outputs": [
    {
     "name": "stdout",
     "output_type": "stream",
     "text": [
      "[('Jennifer', 'S', 'Wallace', '987654321', '6/20/41', '291-Berry-Bellaire-TX', 'F', 43000, '888665555', 4),\n",
      " ('James', 'E', 'Borg', '888665555', '11/10/37', '450-Stone-Houston-TX', 'M', 55000, None, 1),\n",
      " ('John', 'B', 'Smith', '123456789', '1/9/65', '731-Fondren-Houston-TX', 'M', 33000, '333445555', 5),\n",
      " ('Joyce', 'A', 'English', '453453453', '7/31/72', '5631-Rice-Houston-TX', 'F', 27500, '333445555', 5),\n",
      " ('John', 'B', 'Smith', '998877665', None, None, None, None, None, None)]\n"
     ]
    }
   ],
   "source": [
    "db_cursor.execute(q4)\n",
    "pprint.pp(db_cursor.fetchmany(20), width=120)"
   ]
  },
  {
   "cell_type": "markdown",
   "id": "a89c885b-dda8-451e-baac-3b2b2dea99ed",
   "metadata": {},
   "source": [
    "<span style=color:blue>Soon we will introduce Pandas dataframes, which provide a natural way to import the contents of database tables and query answers, to import/export csv files, and to load csv files into the database</span>\n"
   ]
  },
  {
   "cell_type": "markdown",
   "id": "f33fd6d6-48c1-43b3-b249-3d050bd41338",
   "metadata": {},
   "source": [
    "<span style=color:blue>It is a good practice to \"close\" your connection to a database before exiting</span>"
   ]
  },
  {
   "cell_type": "code",
   "execution_count": 14,
   "id": "894282fd-2cb1-4d35-9eb0-bc1f785b61c1",
   "metadata": {},
   "outputs": [],
   "source": [
    "db_conn.close()"
   ]
  },
  {
   "cell_type": "code",
   "execution_count": 15,
   "id": "b770f0f1-87bc-45c0-9486-4b71954d93cf",
   "metadata": {},
   "outputs": [
    {
     "ename": "InterfaceError",
     "evalue": "cursor already closed",
     "output_type": "error",
     "traceback": [
      "\u001b[0;31m---------------------------------------------------------------------------\u001b[0m",
      "\u001b[0;31mInterfaceError\u001b[0m                            Traceback (most recent call last)",
      "Cell \u001b[0;32mIn[15], line 1\u001b[0m\n\u001b[0;32m----> 1\u001b[0m \u001b[43mdb_cursor\u001b[49m\u001b[38;5;241;43m.\u001b[39;49m\u001b[43mexecute\u001b[49m\u001b[43m(\u001b[49m\u001b[43mq3\u001b[49m\u001b[43m)\u001b[49m\n",
      "\u001b[0;31mInterfaceError\u001b[0m: cursor already closed"
     ]
    }
   ],
   "source": [
    "db_cursor.execute(q3)"
   ]
  },
  {
   "cell_type": "code",
   "execution_count": null,
   "id": "80f544fd-3acb-4dd2-9521-62dedaa56d74",
   "metadata": {},
   "outputs": [],
   "source": []
  }
 ],
 "metadata": {
  "kernelspec": {
   "display_name": "dm4ds",
   "language": "python",
   "name": "dm4ds"
  },
  "language_info": {
   "codemirror_mode": {
    "name": "ipython",
    "version": 3
   },
   "file_extension": ".py",
   "mimetype": "text/x-python",
   "name": "python",
   "nbconvert_exporter": "python",
   "pygments_lexer": "ipython3",
   "version": "3.11.7"
  }
 },
 "nbformat": 4,
 "nbformat_minor": 5
}
