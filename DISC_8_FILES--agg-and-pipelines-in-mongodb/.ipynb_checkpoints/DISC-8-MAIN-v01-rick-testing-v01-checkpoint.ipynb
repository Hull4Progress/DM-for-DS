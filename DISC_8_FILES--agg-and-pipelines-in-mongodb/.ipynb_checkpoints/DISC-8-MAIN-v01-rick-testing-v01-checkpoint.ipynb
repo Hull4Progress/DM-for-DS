{
 "cells": [
  {
   "cell_type": "markdown",
   "id": "1f62d410",
   "metadata": {},
   "source": [
    "### <span style=color:blue> DISCUSSION 8 - Working with mongodb (local) Continued </span>"
   ]
  },
  {
   "cell_type": "code",
   "execution_count": 1,
   "id": "082b2a26",
   "metadata": {},
   "outputs": [],
   "source": [
    "# Import the required packages \n",
    "\n",
    "import sys\n",
    "import json\n",
    "import csv\n",
    "import yaml\n",
    "import time\n",
    "from IPython.display import display\n",
    "\n",
    "import pandas as pd\n",
    "import numpy as np\n",
    "\n",
    "import matplotlib as mpl\n",
    "import matplotlib.pyplot as plt\n",
    "import os\n",
    "from dotenv import load_dotenv\n",
    "\n",
    "import pprint\n",
    "\n",
    "import psycopg2\n",
    "from sqlalchemy import create_engine, text as sql_text"
   ]
  },
  {
   "cell_type": "code",
   "execution_count": 2,
   "id": "85c639ef",
   "metadata": {},
   "outputs": [],
   "source": [
    "# Create an utilities file util.py in a folder benchmarking and import it\n",
    "\n",
    "sys.path.append('benchmarking/')\n",
    "import util"
   ]
  },
  {
   "cell_type": "code",
   "execution_count": 3,
   "id": "bec22743",
   "metadata": {},
   "outputs": [
    {
     "name": "stdout",
     "output_type": "stream",
     "text": [
      "Hello World\n"
     ]
    }
   ],
   "source": [
    "# test that utils.py has been imported well\n",
    "\n",
    "util.hello_world()"
   ]
  },
  {
   "cell_type": "code",
   "execution_count": 4,
   "id": "3f3d959b",
   "metadata": {},
   "outputs": [],
   "source": [
    "# Initialize pretty print and display\n",
    "\n",
    "pp = pprint.PrettyPrinter(indent=4)"
   ]
  },
  {
   "cell_type": "markdown",
   "id": "b3fe346d",
   "metadata": {},
   "source": [
    "##### <span style=color:blue>Basic Commands for mongosh (MongoDB Shell)</span>"
   ]
  },
  {
   "cell_type": "code",
   "execution_count": 5,
   "id": "2c1ec1d4",
   "metadata": {},
   "outputs": [
    {
     "data": {
      "text/html": [
       "<div>\n",
       "<style scoped>\n",
       "    .dataframe tbody tr th:only-of-type {\n",
       "        vertical-align: middle;\n",
       "    }\n",
       "\n",
       "    .dataframe tbody tr th {\n",
       "        vertical-align: top;\n",
       "    }\n",
       "\n",
       "    .dataframe thead th {\n",
       "        text-align: right;\n",
       "    }\n",
       "</style>\n",
       "<table border=\"1\" class=\"dataframe\">\n",
       "  <thead>\n",
       "    <tr style=\"text-align: right;\">\n",
       "      <th></th>\n",
       "      <th>Command</th>\n",
       "      <th>Description</th>\n",
       "    </tr>\n",
       "  </thead>\n",
       "  <tbody>\n",
       "    <tr>\n",
       "      <th>0</th>\n",
       "      <td>show dbs</td>\n",
       "      <td>Lists all databases.</td>\n",
       "    </tr>\n",
       "    <tr>\n",
       "      <th>1</th>\n",
       "      <td>use &lt;database&gt;</td>\n",
       "      <td>Switches to the specified database. Creates th...</td>\n",
       "    </tr>\n",
       "    <tr>\n",
       "      <th>2</th>\n",
       "      <td>show collections</td>\n",
       "      <td>Lists all collections in the current database.</td>\n",
       "    </tr>\n",
       "    <tr>\n",
       "      <th>3</th>\n",
       "      <td>db.createCollection('collectionName')</td>\n",
       "      <td>Creates a new collection with the specified name.</td>\n",
       "    </tr>\n",
       "    <tr>\n",
       "      <th>4</th>\n",
       "      <td>db.&lt;collection&gt;.insertOne({})</td>\n",
       "      <td>Inserts a single document into the collection.</td>\n",
       "    </tr>\n",
       "    <tr>\n",
       "      <th>5</th>\n",
       "      <td>db.&lt;collection&gt;.insertMany([{}])</td>\n",
       "      <td>Inserts multiple documents into the collection.</td>\n",
       "    </tr>\n",
       "    <tr>\n",
       "      <th>6</th>\n",
       "      <td>db.&lt;collection&gt;.find()</td>\n",
       "      <td>Retrieves all documents from the collection.</td>\n",
       "    </tr>\n",
       "    <tr>\n",
       "      <th>7</th>\n",
       "      <td>db.&lt;collection&gt;.updateOne({}, {$set: {}})</td>\n",
       "      <td>Updates a single document in the collection.</td>\n",
       "    </tr>\n",
       "    <tr>\n",
       "      <th>8</th>\n",
       "      <td>db.&lt;collection&gt;.updateMany({}, {$set: {}})</td>\n",
       "      <td>Updates multiple documents in the collection.</td>\n",
       "    </tr>\n",
       "    <tr>\n",
       "      <th>9</th>\n",
       "      <td>db.&lt;collection&gt;.deleteOne({})</td>\n",
       "      <td>Deletes a single document from the collection.</td>\n",
       "    </tr>\n",
       "    <tr>\n",
       "      <th>10</th>\n",
       "      <td>db.&lt;collection&gt;.deleteMany({})</td>\n",
       "      <td>Deletes multiple documents from the collection.</td>\n",
       "    </tr>\n",
       "    <tr>\n",
       "      <th>11</th>\n",
       "      <td>db.&lt;collection&gt;.drop()</td>\n",
       "      <td>Drops the specified collection.</td>\n",
       "    </tr>\n",
       "    <tr>\n",
       "      <th>12</th>\n",
       "      <td>db.dropDatabase()</td>\n",
       "      <td>Drops the current database.</td>\n",
       "    </tr>\n",
       "    <tr>\n",
       "      <th>13</th>\n",
       "      <td>db.&lt;collection&gt;.createIndex({})</td>\n",
       "      <td>Creates an index on the specified field(s).</td>\n",
       "    </tr>\n",
       "    <tr>\n",
       "      <th>14</th>\n",
       "      <td>db.&lt;collection&gt;.dropIndex('indexName')</td>\n",
       "      <td>Drops the specified index.</td>\n",
       "    </tr>\n",
       "  </tbody>\n",
       "</table>\n",
       "</div>"
      ],
      "text/plain": [
       "                                       Command  \\\n",
       "0                                     show dbs   \n",
       "1                               use <database>   \n",
       "2                             show collections   \n",
       "3        db.createCollection('collectionName')   \n",
       "4                db.<collection>.insertOne({})   \n",
       "5             db.<collection>.insertMany([{}])   \n",
       "6                       db.<collection>.find()   \n",
       "7    db.<collection>.updateOne({}, {$set: {}})   \n",
       "8   db.<collection>.updateMany({}, {$set: {}})   \n",
       "9                db.<collection>.deleteOne({})   \n",
       "10              db.<collection>.deleteMany({})   \n",
       "11                      db.<collection>.drop()   \n",
       "12                           db.dropDatabase()   \n",
       "13             db.<collection>.createIndex({})   \n",
       "14      db.<collection>.dropIndex('indexName')   \n",
       "\n",
       "                                          Description  \n",
       "0                                Lists all databases.  \n",
       "1   Switches to the specified database. Creates th...  \n",
       "2      Lists all collections in the current database.  \n",
       "3   Creates a new collection with the specified name.  \n",
       "4      Inserts a single document into the collection.  \n",
       "5     Inserts multiple documents into the collection.  \n",
       "6        Retrieves all documents from the collection.  \n",
       "7        Updates a single document in the collection.  \n",
       "8       Updates multiple documents in the collection.  \n",
       "9      Deletes a single document from the collection.  \n",
       "10    Deletes multiple documents from the collection.  \n",
       "11                    Drops the specified collection.  \n",
       "12                        Drops the current database.  \n",
       "13        Creates an index on the specified field(s).  \n",
       "14                         Drops the specified index.  "
      ]
     },
     "metadata": {},
     "output_type": "display_data"
    }
   ],
   "source": [
    "# Use mongosh provided in MongoDB Compass\n",
    "# You can also download the mongodb shell from -> https://www.mongodb.com/try/download/shell\n",
    "\n",
    "# BASIC COMMANDS IN MONGOSH\n",
    "data = {\n",
    "    \"Command\": [\n",
    "        \"show dbs\",\n",
    "        \"use <database>\",\n",
    "        \"show collections\",\n",
    "        \"db.createCollection('collectionName')\",\n",
    "        \"db.<collection>.insertOne({})\",\n",
    "        \"db.<collection>.insertMany([{}])\",\n",
    "        \"db.<collection>.find()\",\n",
    "        \"db.<collection>.updateOne({}, {$set: {}})\",\n",
    "        \"db.<collection>.updateMany({}, {$set: {}})\",\n",
    "        \"db.<collection>.deleteOne({})\",\n",
    "        \"db.<collection>.deleteMany({})\",\n",
    "        \"db.<collection>.drop()\",\n",
    "        \"db.dropDatabase()\",\n",
    "        \"db.<collection>.createIndex({})\",\n",
    "        \"db.<collection>.dropIndex('indexName')\"\n",
    "    ],\n",
    "    \"Description\": [\n",
    "        \"Lists all databases.\",\n",
    "        \"Switches to the specified database. Creates the database if it doesn't exist.\",\n",
    "        \"Lists all collections in the current database.\",\n",
    "        \"Creates a new collection with the specified name.\",\n",
    "        \"Inserts a single document into the collection.\",\n",
    "        \"Inserts multiple documents into the collection.\",\n",
    "        \"Retrieves all documents from the collection.\",\n",
    "        \"Updates a single document in the collection.\",\n",
    "        \"Updates multiple documents in the collection.\",\n",
    "        \"Deletes a single document from the collection.\",\n",
    "        \"Deletes multiple documents from the collection.\",\n",
    "        \"Drops the specified collection.\",\n",
    "        \"Drops the current database.\",\n",
    "        \"Creates an index on the specified field(s).\",\n",
    "        \"Drops the specified index.\"\n",
    "    ]\n",
    "}\n",
    "\n",
    "df = pd.DataFrame(data)\n",
    "\n",
    "display(df)"
   ]
  },
  {
   "cell_type": "markdown",
   "id": "237bb41e",
   "metadata": {},
   "source": [
    "##### <span style=color:blue>Connecting to mongoDB and importing data</span>"
   ]
  },
  {
   "cell_type": "code",
   "execution_count": 6,
   "id": "fd30a42d",
   "metadata": {},
   "outputs": [],
   "source": [
    "# Setup the mongoclient and connect to local instance of mongodb\n",
    "# Go to the MongoDBCompass and click on Connect for the connected on port 27017\n",
    "# If run into the error -> ECONREFUSSED then check out https://stackoverflow.com/questions/46523321/mongoerror-connect-econnrefused-127-0-0-127017\n",
    "\n",
    "from pymongo import MongoClient\n",
    "\n",
    "client = MongoClient(\"mongodb://localhost:27017/\")"
   ]
  },
  {
   "cell_type": "code",
   "execution_count": 7,
   "id": "5445cb86",
   "metadata": {},
   "outputs": [],
   "source": [
    "# Connect to the company db \n",
    "\n",
    "db=client[\"company\"]"
   ]
  },
  {
   "cell_type": "code",
   "execution_count": 8,
   "id": "cc2ee068",
   "metadata": {
    "scrolled": true
   },
   "outputs": [
    {
     "name": "stdout",
     "output_type": "stream",
     "text": [
      "            dname  dnumber    mgr_ssn mgr_start_date\n",
      "0        Research        5  333445555        5/22/88\n",
      "1  Administration        4  987654321         1/1/95\n",
      "2    Headquarters        1  888665555        6/19/81\n",
      "        essn dependent_name gender     bdate relationship\n",
      "0  333445555          Alice      F    4/5/86     Daughter\n",
      "1  333445555       Theodore      M  10/25/83          Son\n",
      "2  333445555            Joy      F    5/3/58       Spouse\n",
      "3  987654321          Abner      M   2/28/42       Spouse\n",
      "4  123456789        Michael      M    1/4/88          Son\n",
      "5  123456789          Alice      F  12/30/88     Daughter\n",
      "6  123456789      Elizabeth      F    5/5/67       Spouse\n",
      "   dnumber  dlocation\n",
      "0        1    Houston\n",
      "1        4   Stafford\n",
      "2        5   Bellaire\n",
      "3        5  Sugarland\n",
      "4        5    Houston\n",
      "      fname minit    lname        ssn     bdate                 address  \\\n",
      "0      John     B    Smith  123456789    1/9/65  731-Fondren-Houston-TX   \n",
      "1  Franklin     T     Wong  333445555   12/8/55     638-Voss-Houston-TX   \n",
      "2    Alicia     J   Zelaya  999887777   1/19/68   3321-Castle-Spring-TX   \n",
      "3  Jennifer     S  Wallace  987654321   6/20/41   291-Berry-Bellaire-TX   \n",
      "4    Ramesh     K  Narayan  666884444   9/15/62  975-Fire-Oak-Humble-TX   \n",
      "5     Joyce     A  English  453453453   7/31/72    5631-Rice-Houston-TX   \n",
      "6     Ahmad     V   Jabbar  987987987   3/29/69   980-Dallas-Houston-TX   \n",
      "7     James     E     Borg  888665555  11/10/37    450-Stone-Houston-TX   \n",
      "\n",
      "  gender  salary    super_ssn  dno  \n",
      "0      M   30000  333445555.0    5  \n",
      "1      M   40000  888665555.0    5  \n",
      "2      F   25000  987654321.0    4  \n",
      "3      F   43000  888665555.0    4  \n",
      "4      M   38000  333445555.0    5  \n",
      "5      F   25000  333445555.0    5  \n",
      "6      M   25000  987654321.0    4  \n",
      "7      M   55000          NaN    1  \n",
      "             pname  pnumber  plocation  dnum\n",
      "0         ProductX        1   Bellaire     5\n",
      "1         ProductY        2  Sugarland     5\n",
      "2         ProductZ        3    Houston     5\n",
      "3  Computerization       10   Stafford     4\n",
      "4   Reorganization       20    Houston     1\n",
      "5      Newbenefits       30   Stafford     4\n",
      "         essn  pno  hours\n",
      "0   123456789    1   32.5\n",
      "1   123456789    2    7.5\n",
      "2   666884444    3   40.0\n",
      "3   453453453    1   20.0\n",
      "4   453453453    2   20.0\n",
      "5   333445555    2   10.0\n",
      "6   333445555    3   10.0\n",
      "7   333445555   10   10.0\n",
      "8   333445555   20   10.0\n",
      "9   999887777   30   30.0\n",
      "10  999887777   10   10.0\n",
      "11  987987987   10   35.0\n",
      "12  987987987   30    5.0\n",
      "13  987654321   30   20.0\n",
      "14  987654321   20   15.0\n",
      "15  888665555   20    NaN\n"
     ]
    }
   ],
   "source": [
    "# IMPORTANT NOTE: Do not reload the the data if you've already done so \n",
    "# If not then Load CSV files into DataFrames\n",
    "\n",
    "department_df = pd.read_csv(\"data/department.csv\")\n",
    "dependent_df = pd.read_csv(\"data/dependent.csv\")\n",
    "dept_locations_df = pd.read_csv(\"data/dept_locations.csv\")\n",
    "employee_df = pd.read_csv(\"data/employee.csv\")\n",
    "project_df = pd.read_csv(\"data/project.csv\")\n",
    "works_on_df = pd.read_csv(\"data/works_on.csv\")\n",
    "\n",
    "print(department_df)\n",
    "print(dependent_df)\n",
    "print(dept_locations_df)\n",
    "print(employee_df)\n",
    "print(project_df)\n",
    "print(works_on_df)"
   ]
  },
  {
   "cell_type": "code",
   "execution_count": 9,
   "id": "2f683b21",
   "metadata": {},
   "outputs": [
    {
     "data": {
      "text/plain": [
       "InsertManyResult([ObjectId('665b672823735d575690b4a5'), ObjectId('665b672823735d575690b4a6'), ObjectId('665b672823735d575690b4a7'), ObjectId('665b672823735d575690b4a8'), ObjectId('665b672823735d575690b4a9'), ObjectId('665b672823735d575690b4aa'), ObjectId('665b672823735d575690b4ab'), ObjectId('665b672823735d575690b4ac'), ObjectId('665b672823735d575690b4ad'), ObjectId('665b672823735d575690b4ae'), ObjectId('665b672823735d575690b4af'), ObjectId('665b672823735d575690b4b0'), ObjectId('665b672823735d575690b4b1'), ObjectId('665b672823735d575690b4b2'), ObjectId('665b672823735d575690b4b3'), ObjectId('665b672823735d575690b4b4')], acknowledged=True)"
      ]
     },
     "execution_count": 9,
     "metadata": {},
     "output_type": "execute_result"
    }
   ],
   "source": [
    "# Insert data into MongoDB and check in MongoDB Compass or use the shell\n",
    "\n",
    "# first clearing all the collections\n",
    "db.departments.drop()\n",
    "db.dependents.drop()\n",
    "db.dept_locations.drop()\n",
    "db.employees.drop()\n",
    "db.projects.drop()\n",
    "db.works_on.drop()\n",
    "\n",
    "db.departments.insert_many(department_df.to_dict('records'))\n",
    "db.dependents.insert_many(dependent_df.to_dict('records'))\n",
    "db.dept_locations.insert_many(dept_locations_df.to_dict('records'))\n",
    "db.employees.insert_many(employee_df.to_dict('records'))\n",
    "db.projects.insert_many(project_df.to_dict('records'))\n",
    "db.works_on.insert_many(works_on_df.to_dict('records'))"
   ]
  },
  {
   "cell_type": "code",
   "execution_count": 10,
   "id": "b066f930-bc35-41fc-92cf-586e8abbe8e3",
   "metadata": {
    "scrolled": true
   },
   "outputs": [
    {
     "name": "stdout",
     "output_type": "stream",
     "text": [
      "Employees in the Database:\n",
      "{   '_id': ObjectId('665b672823735d575690b497'),\n",
      "    'address': '731-Fondren-Houston-TX',\n",
      "    'bdate': '1/9/65',\n",
      "    'dno': 5,\n",
      "    'fname': 'John',\n",
      "    'gender': 'M',\n",
      "    'lname': 'Smith',\n",
      "    'minit': 'B',\n",
      "    'salary': 30000,\n",
      "    'ssn': 123456789,\n",
      "    'super_ssn': 333445555.0}\n",
      "{   '_id': ObjectId('665b672823735d575690b498'),\n",
      "    'address': '638-Voss-Houston-TX',\n",
      "    'bdate': '12/8/55',\n",
      "    'dno': 5,\n",
      "    'fname': 'Franklin',\n",
      "    'gender': 'M',\n",
      "    'lname': 'Wong',\n",
      "    'minit': 'T',\n",
      "    'salary': 40000,\n",
      "    'ssn': 333445555,\n",
      "    'super_ssn': 888665555.0}\n",
      "{   '_id': ObjectId('665b672823735d575690b499'),\n",
      "    'address': '3321-Castle-Spring-TX',\n",
      "    'bdate': '1/19/68',\n",
      "    'dno': 4,\n",
      "    'fname': 'Alicia',\n",
      "    'gender': 'F',\n",
      "    'lname': 'Zelaya',\n",
      "    'minit': 'J',\n",
      "    'salary': 25000,\n",
      "    'ssn': 999887777,\n",
      "    'super_ssn': 987654321.0}\n",
      "{   '_id': ObjectId('665b672823735d575690b49a'),\n",
      "    'address': '291-Berry-Bellaire-TX',\n",
      "    'bdate': '6/20/41',\n",
      "    'dno': 4,\n",
      "    'fname': 'Jennifer',\n",
      "    'gender': 'F',\n",
      "    'lname': 'Wallace',\n",
      "    'minit': 'S',\n",
      "    'salary': 43000,\n",
      "    'ssn': 987654321,\n",
      "    'super_ssn': 888665555.0}\n",
      "{   '_id': ObjectId('665b672823735d575690b49b'),\n",
      "    'address': '975-Fire-Oak-Humble-TX',\n",
      "    'bdate': '9/15/62',\n",
      "    'dno': 5,\n",
      "    'fname': 'Ramesh',\n",
      "    'gender': 'M',\n",
      "    'lname': 'Narayan',\n",
      "    'minit': 'K',\n",
      "    'salary': 38000,\n",
      "    'ssn': 666884444,\n",
      "    'super_ssn': 333445555.0}\n",
      "{   '_id': ObjectId('665b672823735d575690b49c'),\n",
      "    'address': '5631-Rice-Houston-TX',\n",
      "    'bdate': '7/31/72',\n",
      "    'dno': 5,\n",
      "    'fname': 'Joyce',\n",
      "    'gender': 'F',\n",
      "    'lname': 'English',\n",
      "    'minit': 'A',\n",
      "    'salary': 25000,\n",
      "    'ssn': 453453453,\n",
      "    'super_ssn': 333445555.0}\n",
      "{   '_id': ObjectId('665b672823735d575690b49d'),\n",
      "    'address': '980-Dallas-Houston-TX',\n",
      "    'bdate': '3/29/69',\n",
      "    'dno': 4,\n",
      "    'fname': 'Ahmad',\n",
      "    'gender': 'M',\n",
      "    'lname': 'Jabbar',\n",
      "    'minit': 'V',\n",
      "    'salary': 25000,\n",
      "    'ssn': 987987987,\n",
      "    'super_ssn': 987654321.0}\n",
      "{   '_id': ObjectId('665b672823735d575690b49e'),\n",
      "    'address': '450-Stone-Houston-TX',\n",
      "    'bdate': '11/10/37',\n",
      "    'dno': 1,\n",
      "    'fname': 'James',\n",
      "    'gender': 'M',\n",
      "    'lname': 'Borg',\n",
      "    'minit': 'E',\n",
      "    'salary': 55000,\n",
      "    'ssn': 888665555,\n",
      "    'super_ssn': nan}\n"
     ]
    }
   ],
   "source": [
    "# SANITY CHECK - Print all employees in company\n",
    "\n",
    "print(\"Employees in the Database:\")\n",
    "\n",
    "employees = db.employees.find()\n",
    "for emp in employees:\n",
    "    pp.pprint(emp)"
   ]
  },
  {
   "cell_type": "code",
   "execution_count": 11,
   "id": "c53ee1ef-f6c4-4e9d-be67-aaa11196c677",
   "metadata": {
    "scrolled": true
   },
   "outputs": [
    {
     "name": "stdout",
     "output_type": "stream",
     "text": [
      "Departments in the Database:\n",
      "{   '_id': ObjectId('665b672823735d575690b488'),\n",
      "    'dname': 'Research',\n",
      "    'dnumber': 5,\n",
      "    'mgr_ssn': 333445555,\n",
      "    'mgr_start_date': '5/22/88'}\n",
      "{   '_id': ObjectId('665b672823735d575690b489'),\n",
      "    'dname': 'Administration',\n",
      "    'dnumber': 4,\n",
      "    'mgr_ssn': 987654321,\n",
      "    'mgr_start_date': '1/1/95'}\n",
      "{   '_id': ObjectId('665b672823735d575690b48a'),\n",
      "    'dname': 'Headquarters',\n",
      "    'dnumber': 1,\n",
      "    'mgr_ssn': 888665555,\n",
      "    'mgr_start_date': '6/19/81'}\n"
     ]
    }
   ],
   "source": [
    "print(\"Departments in the Database:\")\n",
    "\n",
    "departments = db.departments.find()\n",
    "for dept in departments:\n",
    "    pp.pprint(dept)"
   ]
  },
  {
   "cell_type": "code",
   "execution_count": 12,
   "id": "2ac2b562-b5bf-4b01-82bc-e066ceac0ef1",
   "metadata": {
    "scrolled": true
   },
   "outputs": [
    {
     "name": "stdout",
     "output_type": "stream",
     "text": [
      "works_on in the Database:\n",
      "{   '_id': ObjectId('665b672823735d575690b4a5'),\n",
      "    'essn': 123456789,\n",
      "    'hours': 32.5,\n",
      "    'pno': 1}\n",
      "{   '_id': ObjectId('665b672823735d575690b4a6'),\n",
      "    'essn': 123456789,\n",
      "    'hours': 7.5,\n",
      "    'pno': 2}\n",
      "{   '_id': ObjectId('665b672823735d575690b4a7'),\n",
      "    'essn': 666884444,\n",
      "    'hours': 40.0,\n",
      "    'pno': 3}\n",
      "{   '_id': ObjectId('665b672823735d575690b4a8'),\n",
      "    'essn': 453453453,\n",
      "    'hours': 20.0,\n",
      "    'pno': 1}\n",
      "{   '_id': ObjectId('665b672823735d575690b4a9'),\n",
      "    'essn': 453453453,\n",
      "    'hours': 20.0,\n",
      "    'pno': 2}\n",
      "{   '_id': ObjectId('665b672823735d575690b4aa'),\n",
      "    'essn': 333445555,\n",
      "    'hours': 10.0,\n",
      "    'pno': 2}\n",
      "{   '_id': ObjectId('665b672823735d575690b4ab'),\n",
      "    'essn': 333445555,\n",
      "    'hours': 10.0,\n",
      "    'pno': 3}\n",
      "{   '_id': ObjectId('665b672823735d575690b4ac'),\n",
      "    'essn': 333445555,\n",
      "    'hours': 10.0,\n",
      "    'pno': 10}\n",
      "{   '_id': ObjectId('665b672823735d575690b4ad'),\n",
      "    'essn': 333445555,\n",
      "    'hours': 10.0,\n",
      "    'pno': 20}\n",
      "{   '_id': ObjectId('665b672823735d575690b4ae'),\n",
      "    'essn': 999887777,\n",
      "    'hours': 30.0,\n",
      "    'pno': 30}\n",
      "{   '_id': ObjectId('665b672823735d575690b4af'),\n",
      "    'essn': 999887777,\n",
      "    'hours': 10.0,\n",
      "    'pno': 10}\n",
      "{   '_id': ObjectId('665b672823735d575690b4b0'),\n",
      "    'essn': 987987987,\n",
      "    'hours': 35.0,\n",
      "    'pno': 10}\n",
      "{   '_id': ObjectId('665b672823735d575690b4b1'),\n",
      "    'essn': 987987987,\n",
      "    'hours': 5.0,\n",
      "    'pno': 30}\n",
      "{   '_id': ObjectId('665b672823735d575690b4b2'),\n",
      "    'essn': 987654321,\n",
      "    'hours': 20.0,\n",
      "    'pno': 30}\n",
      "{   '_id': ObjectId('665b672823735d575690b4b3'),\n",
      "    'essn': 987654321,\n",
      "    'hours': 15.0,\n",
      "    'pno': 20}\n",
      "{   '_id': ObjectId('665b672823735d575690b4b4'),\n",
      "    'essn': 888665555,\n",
      "    'hours': nan,\n",
      "    'pno': 20}\n"
     ]
    }
   ],
   "source": [
    "print(\"works_on in the Database:\")\n",
    "\n",
    "works_on = db.works_on.find()\n",
    "for wo in works_on:\n",
    "    pp.pprint(wo)"
   ]
  },
  {
   "cell_type": "markdown",
   "id": "ce22c39c-6872-4ab7-b975-28c1b08b4278",
   "metadata": {},
   "source": [
    "<span style=color:blue>Fetching type of one field</span>"
   ]
  },
  {
   "cell_type": "code",
   "execution_count": 13,
   "id": "2caf51dd-957f-46db-9385-92e0cc6cfbef",
   "metadata": {},
   "outputs": [
    {
     "name": "stdout",
     "output_type": "stream",
     "text": [
      "{'_id': ObjectId('665b672823735d575690b4a5'), 'fieldType': 'double'}\n",
      "{'_id': ObjectId('665b672823735d575690b4a6'), 'fieldType': 'double'}\n",
      "{'_id': ObjectId('665b672823735d575690b4a7'), 'fieldType': 'double'}\n",
      "{'_id': ObjectId('665b672823735d575690b4a8'), 'fieldType': 'double'}\n",
      "{'_id': ObjectId('665b672823735d575690b4a9'), 'fieldType': 'double'}\n",
      "{'_id': ObjectId('665b672823735d575690b4aa'), 'fieldType': 'double'}\n",
      "{'_id': ObjectId('665b672823735d575690b4ab'), 'fieldType': 'double'}\n",
      "{'_id': ObjectId('665b672823735d575690b4ac'), 'fieldType': 'double'}\n",
      "{'_id': ObjectId('665b672823735d575690b4ad'), 'fieldType': 'double'}\n",
      "{'_id': ObjectId('665b672823735d575690b4ae'), 'fieldType': 'double'}\n",
      "{'_id': ObjectId('665b672823735d575690b4af'), 'fieldType': 'double'}\n",
      "{'_id': ObjectId('665b672823735d575690b4b0'), 'fieldType': 'double'}\n",
      "{'_id': ObjectId('665b672823735d575690b4b1'), 'fieldType': 'double'}\n",
      "{'_id': ObjectId('665b672823735d575690b4b2'), 'fieldType': 'double'}\n",
      "{'_id': ObjectId('665b672823735d575690b4b3'), 'fieldType': 'double'}\n",
      "{'_id': ObjectId('665b672823735d575690b4b4'), 'fieldType': 'double'}\n"
     ]
    }
   ],
   "source": [
    "# following https://stackoverflow.com/questions/3208538/return-actual-type-of-a-field-in-mongodb\n",
    "types = db.works_on.aggregate( \n",
    "    [ \n",
    "        { \"$project\": { \"fieldType\": {  \"$type\": \"$hours\"  } } } \n",
    "    ]\n",
    ")\n",
    "\n",
    "for t in types:\n",
    "    pp.pprint(t)"
   ]
  },
  {
   "cell_type": "markdown",
   "id": "1dc399cb",
   "metadata": {},
   "source": [
    "##### <span style=color:blue>Aggregation Queries</span>"
   ]
  },
  {
   "cell_type": "code",
   "execution_count": 14,
   "id": "fbde4ed7-124b-4614-8984-616d4aa4c10e",
   "metadata": {},
   "outputs": [
    {
     "name": "stdout",
     "output_type": "stream",
     "text": [
      "avg_sal_dept_v01:\n",
      "{'_id': 1, 'average_salary': 55000.0}\n",
      "{'_id': 5, 'average_salary': 33250.0}\n",
      "{'_id': 4, 'average_salary': 31000.0}\n"
     ]
    }
   ],
   "source": [
    "avg_sal_dept_v01 = db.employees.aggregate([\n",
    "    {\n",
    "        # Group documents by the dno field and create a new average_salary field\n",
    "        \"$group\": {\n",
    "            \"_id\": \"$dno\",\n",
    "            \"average_salary\": {\"$avg\": \"$salary\"}\n",
    "        }\n",
    "    }\n",
    "])\n",
    "\n",
    "print(\"avg_sal_dept_v01:\")\n",
    "\n",
    "for dept in avg_sal_dept_v01:\n",
    "    pp.pprint(dept)"
   ]
  },
  {
   "cell_type": "code",
   "execution_count": 15,
   "id": "0ccbabf5-1876-4091-89c4-0eb8bfe129bd",
   "metadata": {},
   "outputs": [
    {
     "name": "stdout",
     "output_type": "stream",
     "text": [
      "avg_sal_dept_v02:\n",
      "{   '_id': 5,\n",
      "    'average_salary': 33250.0,\n",
      "    'department_info': [   {   '_id': ObjectId('665b672823735d575690b488'),\n",
      "                               'dname': 'Research',\n",
      "                               'dnumber': 5,\n",
      "                               'mgr_ssn': 333445555,\n",
      "                               'mgr_start_date': '5/22/88'}]}\n",
      "{   '_id': 4,\n",
      "    'average_salary': 31000.0,\n",
      "    'department_info': [   {   '_id': ObjectId('665b672823735d575690b489'),\n",
      "                               'dname': 'Administration',\n",
      "                               'dnumber': 4,\n",
      "                               'mgr_ssn': 987654321,\n",
      "                               'mgr_start_date': '1/1/95'}]}\n",
      "{   '_id': 1,\n",
      "    'average_salary': 55000.0,\n",
      "    'department_info': [   {   '_id': ObjectId('665b672823735d575690b48a'),\n",
      "                               'dname': 'Headquarters',\n",
      "                               'dnumber': 1,\n",
      "                               'mgr_ssn': 888665555,\n",
      "                               'mgr_start_date': '6/19/81'}]}\n"
     ]
    }
   ],
   "source": [
    "avg_sal_dept_v02 = db.employees.aggregate([\n",
    "    {\n",
    "        # Group documents by the dno field and create a new average_salary field\n",
    "        \"$group\": {\n",
    "            \"_id\": \"$dno\",\n",
    "            \"average_salary\": {\"$avg\": \"$salary\"}\n",
    "        }\n",
    "    },\n",
    "    {\n",
    "        # Perform join between departments and employees\n",
    "        \"$lookup\": {\n",
    "            \"from\": \"departments\",\n",
    "            \"localField\": \"_id\",\n",
    "            \"foreignField\": \"dnumber\",\n",
    "            \"as\": \"department_info\"\n",
    "        }\n",
    "    }\n",
    "])\n",
    "\n",
    "print(\"avg_sal_dept_v02:\")\n",
    "\n",
    "for dept in avg_sal_dept_v02:\n",
    "    pp.pprint(dept)"
   ]
  },
  {
   "cell_type": "code",
   "execution_count": 16,
   "id": "3a32b6e9-8fa1-4366-8aaa-f87bf3db0da5",
   "metadata": {},
   "outputs": [
    {
     "name": "stdout",
     "output_type": "stream",
     "text": [
      "avg_sal_dept_v03:\n",
      "{   '_id': 1,\n",
      "    'average_salary': 55000.0,\n",
      "    'department_info': {   '_id': ObjectId('665b672823735d575690b48a'),\n",
      "                           'dname': 'Headquarters',\n",
      "                           'dnumber': 1,\n",
      "                           'mgr_ssn': 888665555,\n",
      "                           'mgr_start_date': '6/19/81'}}\n",
      "{   '_id': 4,\n",
      "    'average_salary': 31000.0,\n",
      "    'department_info': {   '_id': ObjectId('665b672823735d575690b489'),\n",
      "                           'dname': 'Administration',\n",
      "                           'dnumber': 4,\n",
      "                           'mgr_ssn': 987654321,\n",
      "                           'mgr_start_date': '1/1/95'}}\n",
      "{   '_id': 5,\n",
      "    'average_salary': 33250.0,\n",
      "    'department_info': {   '_id': ObjectId('665b672823735d575690b488'),\n",
      "                           'dname': 'Research',\n",
      "                           'dnumber': 5,\n",
      "                           'mgr_ssn': 333445555,\n",
      "                           'mgr_start_date': '5/22/88'}}\n"
     ]
    }
   ],
   "source": [
    "avg_sal_dept_v03 = db.employees.aggregate([\n",
    "    {\n",
    "        # Group documents by the dno field and create a new average_salary field\n",
    "        \"$group\": {\n",
    "            \"_id\": \"$dno\",\n",
    "            \"average_salary\": {\"$avg\": \"$salary\"}\n",
    "        }\n",
    "    },\n",
    "    {\n",
    "        # Perform join between departments and employees\n",
    "        \"$lookup\": {\n",
    "            \"from\": \"departments\",\n",
    "            \"localField\": \"_id\",\n",
    "            \"foreignField\": \"dnumber\",\n",
    "            \"as\": \"department_info\"\n",
    "        }\n",
    "    },\n",
    "    {\"$unwind\": \"$department_info\"}\n",
    "])\n",
    "\n",
    "print(\"avg_sal_dept_v03:\")\n",
    "\n",
    "for dept in avg_sal_dept_v03:\n",
    "    pp.pprint(dept)"
   ]
  },
  {
   "cell_type": "code",
   "execution_count": 17,
   "id": "b09d4ab0",
   "metadata": {},
   "outputs": [
    {
     "name": "stdout",
     "output_type": "stream",
     "text": [
      "Average Salary Per Department:\n",
      "{'_id': 5, 'average_salary': 33250.0, 'department_name': 'Research'}\n",
      "{'_id': 4, 'average_salary': 31000.0, 'department_name': 'Administration'}\n",
      "{'_id': 1, 'average_salary': 55000.0, 'department_name': 'Headquarters'}\n"
     ]
    }
   ],
   "source": [
    "# Calculate the average salary in each department\n",
    "\n",
    "average_salary_per_department = db.employees.aggregate([\n",
    "    {\n",
    "        # Group documents by the dno field and create a new average_salary field\n",
    "        \"$group\": {\n",
    "            \"_id\": \"$dno\",\n",
    "            \"average_salary\": {\"$avg\": \"$salary\"}\n",
    "        }\n",
    "    },\n",
    "    {\n",
    "        # Perform join between departments and employees\n",
    "        \"$lookup\": {\n",
    "            \"from\": \"departments\",\n",
    "            \"localField\": \"_id\",\n",
    "            \"foreignField\": \"dnumber\",\n",
    "            \"as\": \"department_info\"\n",
    "        }\n",
    "    },\n",
    "    {\"$unwind\": \"$department_info\"},\n",
    "    {\n",
    "        # Shape the output documents to include only the required fields.\n",
    "        \"$project\": {\n",
    "            \"department_name\": \"$department_info.dname\",\n",
    "            \"average_salary\": 2\n",
    "        }\n",
    "    }\n",
    "])\n",
    "\n",
    "print(\"Average Salary Per Department:\")\n",
    "\n",
    "for dept in average_salary_per_department:\n",
    "    pp.pprint(dept)\n",
    "\n",
    "# The above query will look like follows in SQL\n",
    "# SELECT \n",
    "#     d.dname AS department_name,\n",
    "#     AVG(e.salary) AS average_salary\n",
    "# FROM \n",
    "#     employees e\n",
    "# JOIN \n",
    "#     departments d ON e.dno = d.dnumber\n",
    "# GROUP BY \n",
    "#     d.dname;"
   ]
  },
  {
   "cell_type": "code",
   "execution_count": 18,
   "id": "67f14183",
   "metadata": {},
   "outputs": [
    {
     "name": "stdout",
     "output_type": "stream",
     "text": [
      "Total Hours Worked on Each Project:\n",
      "{'_id': 10, 'project_name': 'Computerization', 'total_hours': 55.0}\n",
      "{'_id': 20, 'project_name': 'Reorganization', 'total_hours': nan}\n",
      "{'_id': 2, 'project_name': 'ProductY', 'total_hours': 37.5}\n",
      "{'_id': 30, 'project_name': 'Newbenefits', 'total_hours': 55.0}\n",
      "{'_id': 1, 'project_name': 'ProductX', 'total_hours': 52.5}\n",
      "{'_id': 3, 'project_name': 'ProductZ', 'total_hours': 50.0}\n"
     ]
    }
   ],
   "source": [
    "# Aggregation pipeline to find the total hours worked on each project\n",
    "# This will return a result where for project_name \"Reorganization\" the \"total_hours\" worked is nan\n",
    "\n",
    "# Saving the total hours worked per project query so that we won't have to type it each time\n",
    "total_hours_per_project_query = [\n",
    "    {\n",
    "        \"$group\": {\n",
    "            \"_id\": \"$pno\",\n",
    "            \"total_hours\": {\"$sum\": \"$hours\"}\n",
    "        }\n",
    "    },\n",
    "    {\n",
    "        \"$lookup\": {\n",
    "            \"from\": \"projects\",\n",
    "            \"localField\": \"_id\",\n",
    "            \"foreignField\": \"pnumber\",\n",
    "            \"as\": \"project_info\"\n",
    "        }\n",
    "    },\n",
    "    {\"$unwind\": \"$project_info\"},\n",
    "    {\n",
    "        \"$project\": {\n",
    "            \"project_name\": \"$project_info.pname\",\n",
    "            \"total_hours\": 1\n",
    "        }\n",
    "    }\n",
    "]\n",
    "\n",
    "# Running the query\n",
    "total_hours_per_project = db.works_on.aggregate(total_hours_per_project_query)\n",
    "\n",
    "print(\"Total Hours Worked on Each Project:\")\n",
    "\n",
    "for project in total_hours_per_project:\n",
    "    pp.pprint(project)\n",
    "    \n",
    "# The above query will look like follows in SQL\n",
    "# SELECT \n",
    "#     p.pname AS project_name,\n",
    "#     SUM(COALESCE(w.hours, 0)) AS total_hours\n",
    "# FROM \n",
    "#     works_on w\n",
    "# JOIN \n",
    "#     projects p ON w.pno = p.pnumber\n",
    "# GROUP BY \n",
    "#     p.pname;"
   ]
  },
  {
   "cell_type": "code",
   "execution_count": 19,
   "id": "52c7379f-f795-487d-a4bf-261605283a5d",
   "metadata": {},
   "outputs": [
    {
     "name": "stdout",
     "output_type": "stream",
     "text": [
      "['projects', 'dept_locations', 'dependents', 'employees', 'departments', 'works_on']\n"
     ]
    }
   ],
   "source": [
    "print(db.list_collection_names())"
   ]
  },
  {
   "cell_type": "code",
   "execution_count": 20,
   "id": "e7179e39",
   "metadata": {},
   "outputs": [
    {
     "name": "stdout",
     "output_type": "stream",
     "text": [
      "Matched 1 documents and modified 1 documents.\n"
     ]
    }
   ],
   "source": [
    "# Update all documents in works_on where hours is NaN to set hours to 0\n",
    "\n",
    "result = db.works_on.update_many(\n",
    "#     {\"hours\": {\"$exists\": True, \"$type\": \"double\", \"$in\": [float('nan')]}},\n",
    "    {\"hours\": {\"$exists\": True, \"$in\": [float('nan')]}},\n",
    "    {\"$set\": {\"hours\": 0}}\n",
    ")\n",
    "\n",
    "print(f\"Matched {result.matched_count} documents and modified {result.modified_count} documents.\")"
   ]
  },
  {
   "cell_type": "code",
   "execution_count": 21,
   "id": "d65f2ff5",
   "metadata": {},
   "outputs": [
    {
     "name": "stdout",
     "output_type": "stream",
     "text": [
      "Total Hours Worked on Each Project:\n",
      "{'_id': 3, 'project_name': 'ProductZ', 'total_hours': 50.0}\n",
      "{'_id': 10, 'project_name': 'Computerization', 'total_hours': 55.0}\n",
      "{'_id': 20, 'project_name': 'Reorganization', 'total_hours': 25.0}\n",
      "{'_id': 1, 'project_name': 'ProductX', 'total_hours': 52.5}\n",
      "{'_id': 30, 'project_name': 'Newbenefits', 'total_hours': 55.0}\n",
      "{'_id': 2, 'project_name': 'ProductY', 'total_hours': 37.5}\n"
     ]
    }
   ],
   "source": [
    "# Run the \"Aggregation pipeline to find the total hours worked on each project\" again\n",
    "# And check if you're getting nan values now\n",
    "\n",
    "total_hours_per_project = db.works_on.aggregate(total_hours_per_project_query)\n",
    "\n",
    "print(\"Total Hours Worked on Each Project:\")\n",
    "\n",
    "for project in total_hours_per_project:\n",
    "    pp.pprint(project)"
   ]
  },
  {
   "cell_type": "code",
   "execution_count": 22,
   "id": "c566c336-7ed0-4312-bde5-369ad52e0a96",
   "metadata": {},
   "outputs": [
    {
     "name": "stdout",
     "output_type": "stream",
     "text": [
      "\n",
      "{'_id': 1, 'dept_name': 'Headquarters', 'emp_count': 1}\n",
      "{'_id': 4, 'dept_name': 'Administration', 'emp_count': 3}\n",
      "{'_id': 5, 'dept_name': 'Research', 'emp_count': 4}\n"
     ]
    }
   ],
   "source": [
    "# Rick recreating Aunsh's query\n",
    "#   Calculate the total number of employees per department, including the department names, \n",
    "#   and sorting the result in descending order of total employees\n",
    "\n",
    "pipeline1 = [\n",
    "    {'$group': {'_id': '$dno', 'count': {'$sum': 1}}},\n",
    "    {'$lookup':\n",
    "         { 'from': 'departments',\n",
    "           'localField': '_id',\n",
    "           'foreignField': 'dnumber',\n",
    "           'as': 'dept_list'\n",
    "         }\n",
    "    },\n",
    "    {'$unwind' : '$dept_list'},\n",
    "    {'$project' : { 'dept_name': '$dept_list.dname', 'emp_count': '$count'} },\n",
    "    # {'$sort' : { 'emp_count' : -1}}\n",
    "    {'$sort' : { 'emp_count' : 1}}\n",
    "\n",
    "\n",
    "]\n",
    "\n",
    "te = db.employees.aggregate(pipeline1)\n",
    "# pp.pprint(list(te))\n",
    "print()\n",
    "for t in te:\n",
    "    pp.pprint(t)"
   ]
  },
  {
   "cell_type": "code",
   "execution_count": 23,
   "id": "a83bf36e",
   "metadata": {},
   "outputs": [
    {
     "name": "stdout",
     "output_type": "stream",
     "text": [
      "[   {'_id': 5, 'count': 4, 'department_name': 'Research'},\n",
      "    {'_id': 4, 'count': 3, 'department_name': 'Administration'},\n",
      "    {'_id': 1, 'count': 1, 'department_name': 'Headquarters'}]\n"
     ]
    }
   ],
   "source": [
    "# Calculate the total number of employees per department, including the department names, \n",
    "# and sorting the result in descending order of total employees\n",
    "\n",
    "pipeline = [\n",
    "    {\"$group\": {\"_id\": \"$dno\", \"count\": {\"$sum\": 1}}},\n",
    "    {\"$lookup\": {\n",
    "        \"from\": \"departments\",\n",
    "        \"localField\": \"_id\",\n",
    "        \"foreignField\": \"dnumber\",\n",
    "        \"as\": \"department_info\"\n",
    "    }},\n",
    "    {\"$unwind\": \"$department_info\"},\n",
    "    {\"$project\": {\"department_name\": \"$department_info.dname\", \"count\": 1}},\n",
    "    {\"$sort\": {\"count\": -1}}\n",
    "]\n",
    "\n",
    "# Execute the aggregation pipeline\n",
    "total_employees_per_department = db.employees.aggregate(pipeline)\n",
    "\n",
    "# Print the results\n",
    "pp.pprint(list(total_employees_per_department))"
   ]
  },
  {
   "cell_type": "code",
   "execution_count": 24,
   "id": "eb30fc0d",
   "metadata": {},
   "outputs": [
    {
     "name": "stdout",
     "output_type": "stream",
     "text": [
      "\n",
      "Result Document:\n",
      "{   '_id': 5,\n",
      "    'count': 4,\n",
      "    'department_name': 'Research',\n",
      "    'intermediate_group': [   {   '_id': ObjectId('665b672823735d575690b497'),\n",
      "                                  'address': '731-Fondren-Houston-TX',\n",
      "                                  'bdate': '1/9/65',\n",
      "                                  'dno': 5,\n",
      "                                  'fname': 'John',\n",
      "                                  'gender': 'M',\n",
      "                                  'lname': 'Smith',\n",
      "                                  'minit': 'B',\n",
      "                                  'salary': 30000,\n",
      "                                  'ssn': 123456789,\n",
      "                                  'super_ssn': 333445555.0},\n",
      "                              {   '_id': ObjectId('665b672823735d575690b498'),\n",
      "                                  'address': '638-Voss-Houston-TX',\n",
      "                                  'bdate': '12/8/55',\n",
      "                                  'dno': 5,\n",
      "                                  'fname': 'Franklin',\n",
      "                                  'gender': 'M',\n",
      "                                  'lname': 'Wong',\n",
      "                                  'minit': 'T',\n",
      "                                  'salary': 40000,\n",
      "                                  'ssn': 333445555,\n",
      "                                  'super_ssn': 888665555.0},\n",
      "                              {   '_id': ObjectId('665b672823735d575690b49b'),\n",
      "                                  'address': '975-Fire-Oak-Humble-TX',\n",
      "                                  'bdate': '9/15/62',\n",
      "                                  'dno': 5,\n",
      "                                  'fname': 'Ramesh',\n",
      "                                  'gender': 'M',\n",
      "                                  'lname': 'Narayan',\n",
      "                                  'minit': 'K',\n",
      "                                  'salary': 38000,\n",
      "                                  'ssn': 666884444,\n",
      "                                  'super_ssn': 333445555.0},\n",
      "                              {   '_id': ObjectId('665b672823735d575690b49c'),\n",
      "                                  'address': '5631-Rice-Houston-TX',\n",
      "                                  'bdate': '7/31/72',\n",
      "                                  'dno': 5,\n",
      "                                  'fname': 'Joyce',\n",
      "                                  'gender': 'F',\n",
      "                                  'lname': 'English',\n",
      "                                  'minit': 'A',\n",
      "                                  'salary': 25000,\n",
      "                                  'ssn': 453453453,\n",
      "                                  'super_ssn': 333445555.0}],\n",
      "    'intermediate_lookup': [   {   '_id': ObjectId('665b672823735d575690b488'),\n",
      "                                   'dname': 'Research',\n",
      "                                   'dnumber': 5,\n",
      "                                   'mgr_ssn': 333445555,\n",
      "                                   'mgr_start_date': '5/22/88'}],\n",
      "    'intermediate_unwind': {   '_id': ObjectId('665b672823735d575690b488'),\n",
      "                               'dname': 'Research',\n",
      "                               'dnumber': 5,\n",
      "                               'mgr_ssn': 333445555,\n",
      "                               'mgr_start_date': '5/22/88'}}\n",
      "\n",
      "Intermediate Group Stage:\n",
      "[   {   '_id': ObjectId('665b672823735d575690b497'),\n",
      "        'address': '731-Fondren-Houston-TX',\n",
      "        'bdate': '1/9/65',\n",
      "        'dno': 5,\n",
      "        'fname': 'John',\n",
      "        'gender': 'M',\n",
      "        'lname': 'Smith',\n",
      "        'minit': 'B',\n",
      "        'salary': 30000,\n",
      "        'ssn': 123456789,\n",
      "        'super_ssn': 333445555.0},\n",
      "    {   '_id': ObjectId('665b672823735d575690b498'),\n",
      "        'address': '638-Voss-Houston-TX',\n",
      "        'bdate': '12/8/55',\n",
      "        'dno': 5,\n",
      "        'fname': 'Franklin',\n",
      "        'gender': 'M',\n",
      "        'lname': 'Wong',\n",
      "        'minit': 'T',\n",
      "        'salary': 40000,\n",
      "        'ssn': 333445555,\n",
      "        'super_ssn': 888665555.0},\n",
      "    {   '_id': ObjectId('665b672823735d575690b49b'),\n",
      "        'address': '975-Fire-Oak-Humble-TX',\n",
      "        'bdate': '9/15/62',\n",
      "        'dno': 5,\n",
      "        'fname': 'Ramesh',\n",
      "        'gender': 'M',\n",
      "        'lname': 'Narayan',\n",
      "        'minit': 'K',\n",
      "        'salary': 38000,\n",
      "        'ssn': 666884444,\n",
      "        'super_ssn': 333445555.0},\n",
      "    {   '_id': ObjectId('665b672823735d575690b49c'),\n",
      "        'address': '5631-Rice-Houston-TX',\n",
      "        'bdate': '7/31/72',\n",
      "        'dno': 5,\n",
      "        'fname': 'Joyce',\n",
      "        'gender': 'F',\n",
      "        'lname': 'English',\n",
      "        'minit': 'A',\n",
      "        'salary': 25000,\n",
      "        'ssn': 453453453,\n",
      "        'super_ssn': 333445555.0}]\n",
      "\n",
      "Intermediate Lookup Stage:\n",
      "[   {   '_id': ObjectId('665b672823735d575690b488'),\n",
      "        'dname': 'Research',\n",
      "        'dnumber': 5,\n",
      "        'mgr_ssn': 333445555,\n",
      "        'mgr_start_date': '5/22/88'}]\n",
      "\n",
      "Intermediate Unwind Stage:\n",
      "{   '_id': ObjectId('665b672823735d575690b488'),\n",
      "    'dname': 'Research',\n",
      "    'dnumber': 5,\n",
      "    'mgr_ssn': 333445555,\n",
      "    'mgr_start_date': '5/22/88'}\n",
      "\n",
      "Result Document:\n",
      "{   '_id': 4,\n",
      "    'count': 3,\n",
      "    'department_name': 'Administration',\n",
      "    'intermediate_group': [   {   '_id': ObjectId('665b672823735d575690b499'),\n",
      "                                  'address': '3321-Castle-Spring-TX',\n",
      "                                  'bdate': '1/19/68',\n",
      "                                  'dno': 4,\n",
      "                                  'fname': 'Alicia',\n",
      "                                  'gender': 'F',\n",
      "                                  'lname': 'Zelaya',\n",
      "                                  'minit': 'J',\n",
      "                                  'salary': 25000,\n",
      "                                  'ssn': 999887777,\n",
      "                                  'super_ssn': 987654321.0},\n",
      "                              {   '_id': ObjectId('665b672823735d575690b49a'),\n",
      "                                  'address': '291-Berry-Bellaire-TX',\n",
      "                                  'bdate': '6/20/41',\n",
      "                                  'dno': 4,\n",
      "                                  'fname': 'Jennifer',\n",
      "                                  'gender': 'F',\n",
      "                                  'lname': 'Wallace',\n",
      "                                  'minit': 'S',\n",
      "                                  'salary': 43000,\n",
      "                                  'ssn': 987654321,\n",
      "                                  'super_ssn': 888665555.0},\n",
      "                              {   '_id': ObjectId('665b672823735d575690b49d'),\n",
      "                                  'address': '980-Dallas-Houston-TX',\n",
      "                                  'bdate': '3/29/69',\n",
      "                                  'dno': 4,\n",
      "                                  'fname': 'Ahmad',\n",
      "                                  'gender': 'M',\n",
      "                                  'lname': 'Jabbar',\n",
      "                                  'minit': 'V',\n",
      "                                  'salary': 25000,\n",
      "                                  'ssn': 987987987,\n",
      "                                  'super_ssn': 987654321.0}],\n",
      "    'intermediate_lookup': [   {   '_id': ObjectId('665b672823735d575690b489'),\n",
      "                                   'dname': 'Administration',\n",
      "                                   'dnumber': 4,\n",
      "                                   'mgr_ssn': 987654321,\n",
      "                                   'mgr_start_date': '1/1/95'}],\n",
      "    'intermediate_unwind': {   '_id': ObjectId('665b672823735d575690b489'),\n",
      "                               'dname': 'Administration',\n",
      "                               'dnumber': 4,\n",
      "                               'mgr_ssn': 987654321,\n",
      "                               'mgr_start_date': '1/1/95'}}\n",
      "\n",
      "Intermediate Group Stage:\n",
      "[   {   '_id': ObjectId('665b672823735d575690b499'),\n",
      "        'address': '3321-Castle-Spring-TX',\n",
      "        'bdate': '1/19/68',\n",
      "        'dno': 4,\n",
      "        'fname': 'Alicia',\n",
      "        'gender': 'F',\n",
      "        'lname': 'Zelaya',\n",
      "        'minit': 'J',\n",
      "        'salary': 25000,\n",
      "        'ssn': 999887777,\n",
      "        'super_ssn': 987654321.0},\n",
      "    {   '_id': ObjectId('665b672823735d575690b49a'),\n",
      "        'address': '291-Berry-Bellaire-TX',\n",
      "        'bdate': '6/20/41',\n",
      "        'dno': 4,\n",
      "        'fname': 'Jennifer',\n",
      "        'gender': 'F',\n",
      "        'lname': 'Wallace',\n",
      "        'minit': 'S',\n",
      "        'salary': 43000,\n",
      "        'ssn': 987654321,\n",
      "        'super_ssn': 888665555.0},\n",
      "    {   '_id': ObjectId('665b672823735d575690b49d'),\n",
      "        'address': '980-Dallas-Houston-TX',\n",
      "        'bdate': '3/29/69',\n",
      "        'dno': 4,\n",
      "        'fname': 'Ahmad',\n",
      "        'gender': 'M',\n",
      "        'lname': 'Jabbar',\n",
      "        'minit': 'V',\n",
      "        'salary': 25000,\n",
      "        'ssn': 987987987,\n",
      "        'super_ssn': 987654321.0}]\n",
      "\n",
      "Intermediate Lookup Stage:\n",
      "[   {   '_id': ObjectId('665b672823735d575690b489'),\n",
      "        'dname': 'Administration',\n",
      "        'dnumber': 4,\n",
      "        'mgr_ssn': 987654321,\n",
      "        'mgr_start_date': '1/1/95'}]\n",
      "\n",
      "Intermediate Unwind Stage:\n",
      "{   '_id': ObjectId('665b672823735d575690b489'),\n",
      "    'dname': 'Administration',\n",
      "    'dnumber': 4,\n",
      "    'mgr_ssn': 987654321,\n",
      "    'mgr_start_date': '1/1/95'}\n",
      "\n",
      "Result Document:\n",
      "{   '_id': 1,\n",
      "    'count': 1,\n",
      "    'department_name': 'Headquarters',\n",
      "    'intermediate_group': [   {   '_id': ObjectId('665b672823735d575690b49e'),\n",
      "                                  'address': '450-Stone-Houston-TX',\n",
      "                                  'bdate': '11/10/37',\n",
      "                                  'dno': 1,\n",
      "                                  'fname': 'James',\n",
      "                                  'gender': 'M',\n",
      "                                  'lname': 'Borg',\n",
      "                                  'minit': 'E',\n",
      "                                  'salary': 55000,\n",
      "                                  'ssn': 888665555,\n",
      "                                  'super_ssn': nan}],\n",
      "    'intermediate_lookup': [   {   '_id': ObjectId('665b672823735d575690b48a'),\n",
      "                                   'dname': 'Headquarters',\n",
      "                                   'dnumber': 1,\n",
      "                                   'mgr_ssn': 888665555,\n",
      "                                   'mgr_start_date': '6/19/81'}],\n",
      "    'intermediate_unwind': {   '_id': ObjectId('665b672823735d575690b48a'),\n",
      "                               'dname': 'Headquarters',\n",
      "                               'dnumber': 1,\n",
      "                               'mgr_ssn': 888665555,\n",
      "                               'mgr_start_date': '6/19/81'}}\n",
      "\n",
      "Intermediate Group Stage:\n",
      "[   {   '_id': ObjectId('665b672823735d575690b49e'),\n",
      "        'address': '450-Stone-Houston-TX',\n",
      "        'bdate': '11/10/37',\n",
      "        'dno': 1,\n",
      "        'fname': 'James',\n",
      "        'gender': 'M',\n",
      "        'lname': 'Borg',\n",
      "        'minit': 'E',\n",
      "        'salary': 55000,\n",
      "        'ssn': 888665555,\n",
      "        'super_ssn': nan}]\n",
      "\n",
      "Intermediate Lookup Stage:\n",
      "[   {   '_id': ObjectId('665b672823735d575690b48a'),\n",
      "        'dname': 'Headquarters',\n",
      "        'dnumber': 1,\n",
      "        'mgr_ssn': 888665555,\n",
      "        'mgr_start_date': '6/19/81'}]\n",
      "\n",
      "Intermediate Unwind Stage:\n",
      "{   '_id': ObjectId('665b672823735d575690b48a'),\n",
      "    'dname': 'Headquarters',\n",
      "    'dnumber': 1,\n",
      "    'mgr_ssn': 888665555,\n",
      "    'mgr_start_date': '6/19/81'}\n"
     ]
    }
   ],
   "source": [
    "# What if you want to check the output of the intermediaries in a pipeline?\n",
    "\n",
    "pipeline = [\n",
    "    {\"$group\": {\n",
    "        \"_id\": \"$dno\",\n",
    "        \"count\": {\"$sum\": 1},\n",
    "        \"intermediate_group\": {\"$push\": \"$$ROOT\"}\n",
    "    }},\n",
    "    {\"$lookup\": {\n",
    "        \"from\": \"departments\",\n",
    "        \"localField\": \"_id\",\n",
    "        \"foreignField\": \"dnumber\",\n",
    "        \"as\": \"department_info\"\n",
    "    }},\n",
    "    {\"$addFields\": {\"intermediate_lookup\": \"$department_info\"}},\n",
    "    {\"$unwind\": \"$department_info\"},\n",
    "    {\"$addFields\": {\"intermediate_unwind\": \"$department_info\"}},\n",
    "    {\"$project\": {\n",
    "        \"department_name\": \"$department_info.dname\",\n",
    "        \"count\": 1,\n",
    "        \"intermediate_group\": 1,\n",
    "        \"intermediate_lookup\": 1,\n",
    "        \"intermediate_unwind\": 1\n",
    "    }},\n",
    "    {\"$sort\": {\"count\": -1}}\n",
    "]\n",
    "\n",
    "# Execute the aggregation pipeline\n",
    "total_employees_per_department = db.employees.aggregate(pipeline)\n",
    "\n",
    "# Print the results\n",
    "for doc in total_employees_per_department:\n",
    "    print(\"\\nResult Document:\")\n",
    "    pp.pprint(doc)\n",
    "    print(\"\\nIntermediate Group Stage:\")\n",
    "    pp.pprint(doc.get(\"intermediate_group\"))\n",
    "    print(\"\\nIntermediate Lookup Stage:\")\n",
    "    pp.pprint(doc.get(\"intermediate_lookup\"))\n",
    "    print(\"\\nIntermediate Unwind Stage:\")\n",
    "    pp.pprint(doc.get(\"intermediate_unwind\"))"
   ]
  },
  {
   "cell_type": "markdown",
   "id": "1bbee39c",
   "metadata": {},
   "source": [
    "##### <span style=color:blue>Indexing and Benchmarking</span>"
   ]
  },
  {
   "cell_type": "code",
   "execution_count": 25,
   "id": "cd18ef69",
   "metadata": {},
   "outputs": [
    {
     "name": "stdout",
     "output_type": "stream",
     "text": [
      "Collection(Database(MongoClient(host=['localhost:27017'], document_class=dict, tz_aware=False, connect=True), 'company'), 'employees')\n"
     ]
    }
   ],
   "source": [
    "# Drop all existing indices for the collection employees\n",
    "\n",
    "collection_emp = db.employees\n",
    "\n",
    "print(collection_emp)\n",
    "\n",
    "collection_emp.drop_indexes()"
   ]
  },
  {
   "cell_type": "code",
   "execution_count": 26,
   "id": "d6c3de96",
   "metadata": {},
   "outputs": [
    {
     "name": "stdout",
     "output_type": "stream",
     "text": [
      "\n",
      "Querying without index...\n",
      "Query took 0.004898 seconds\n",
      "Number of results: 4\n",
      "\n",
      "[   {   'duration': 0.0048978328704833984,\n",
      "        'index_name': None,\n",
      "        'query': {'salary': {'$gt': 30000}},\n",
      "        'result_count': 4}]\n"
     ]
    }
   ],
   "source": [
    "# Run the query (function in util.py) and store it in benchmark_data\n",
    "\n",
    "benchmark_data=[]\n",
    "\n",
    "# Return all employees with salay greater than 30k\n",
    "q1 = {\"salary\": {\"$gt\": 30000}}\n",
    "\n",
    "bench_data_1 = util.benchmark_query(q1, time, benchmark_data, collection_emp)\n",
    "print()\n",
    "pp.pprint(benchmark_data)"
   ]
  },
  {
   "cell_type": "code",
   "execution_count": 27,
   "id": "f1900b59",
   "metadata": {},
   "outputs": [
    {
     "data": {
      "text/plain": [
       "'salary_1'"
      ]
     },
     "execution_count": 27,
     "metadata": {},
     "output_type": "execute_result"
    }
   ],
   "source": [
    "# Create an index on the salary field\n",
    "\n",
    "collection_emp.create_index(\"salary\")"
   ]
  },
  {
   "cell_type": "code",
   "execution_count": 28,
   "id": "5f6a2bc2",
   "metadata": {},
   "outputs": [
    {
     "name": "stdout",
     "output_type": "stream",
     "text": [
      "\n",
      "Querying with index on salary...\n",
      "Query took 0.007094 seconds\n",
      "Number of results: 4\n"
     ]
    }
   ],
   "source": [
    "# Benchmark with index\n",
    "\n",
    "bench_data_2 = util.benchmark_query(q1, time, bench_data_1, collection_emp, index_name=\"salary\")"
   ]
  },
  {
   "cell_type": "code",
   "execution_count": 29,
   "id": "594448fc-0e75-4d26-92d6-fe8c26937399",
   "metadata": {},
   "outputs": [
    {
     "name": "stdout",
     "output_type": "stream",
     "text": [
      "[   {   'duration': 0.0048978328704833984,\n",
      "        'index_name': None,\n",
      "        'query': {'salary': {'$gt': 30000}},\n",
      "        'result_count': 4},\n",
      "    {   'duration': 0.007093906402587891,\n",
      "        'index_name': 'salary',\n",
      "        'query': {'salary': {'$gt': 30000}},\n",
      "        'result_count': 4}]\n"
     ]
    }
   ],
   "source": [
    "pp.pprint(bench_data_2)"
   ]
  },
  {
   "cell_type": "code",
   "execution_count": 30,
   "id": "e0b2ec3e",
   "metadata": {},
   "outputs": [],
   "source": [
    "# Save benchmark data to a JSON file in the perf_data folder\n",
    "with open(\"perf_data/benchmark_data.json\", \"w\") as file:\n",
    "    json.dump(bench_data_2, file)"
   ]
  },
  {
   "cell_type": "code",
   "execution_count": 31,
   "id": "d78e8b4e",
   "metadata": {},
   "outputs": [
    {
     "name": "stdout",
     "output_type": "stream",
     "text": [
      "[   {   'duration': 0.0048978328704833984,\n",
      "        'index_name': None,\n",
      "        'query': {'salary': {'$gt': 30000}},\n",
      "        'result_count': 4},\n",
      "    {   'duration': 0.007093906402587891,\n",
      "        'index_name': 'salary',\n",
      "        'query': {'salary': {'$gt': 30000}},\n",
      "        'result_count': 4}]\n"
     ]
    }
   ],
   "source": [
    "# Print to verify \n",
    "pp.pprint(bench_data_2)"
   ]
  },
  {
   "cell_type": "code",
   "execution_count": 32,
   "id": "4ee05f09",
   "metadata": {},
   "outputs": [],
   "source": [
    "# Drop the index\n",
    "collection_emp.drop_index(\"salary_1\")\n",
    "\n",
    "# Create a new complex query\n",
    "q2 = {\"dno\": 5, \"salary\": {\"$gt\": 30000}}"
   ]
  },
  {
   "cell_type": "code",
   "execution_count": 33,
   "id": "8cba3008",
   "metadata": {},
   "outputs": [
    {
     "name": "stdout",
     "output_type": "stream",
     "text": [
      "\n",
      "Querying without index...\n",
      "Query took 0.001380 seconds\n",
      "Number of results: 2\n"
     ]
    }
   ],
   "source": [
    "# Benchmarking new query without index\n",
    "bench_data_3 = util.benchmark_query(q2, time, bench_data_2, collection_emp)"
   ]
  },
  {
   "cell_type": "code",
   "execution_count": 34,
   "id": "72ad5f71",
   "metadata": {},
   "outputs": [
    {
     "data": {
      "text/plain": [
       "'dno_1_salary_1'"
      ]
     },
     "execution_count": 34,
     "metadata": {},
     "output_type": "execute_result"
    }
   ],
   "source": [
    "# Creating a compound index \n",
    "collection_emp.create_index([(\"dno\", 1), (\"salary\", 1)])"
   ]
  },
  {
   "cell_type": "code",
   "execution_count": 35,
   "id": "61df16e9",
   "metadata": {},
   "outputs": [
    {
     "name": "stdout",
     "output_type": "stream",
     "text": [
      "\n",
      "Querying with index on dno + salary...\n",
      "Query took 0.003879 seconds\n",
      "Number of results: 2\n"
     ]
    }
   ],
   "source": [
    "# Benchmarking new query with index\n",
    "bench_data_4 = util.benchmark_query(q2, time, bench_data_3, collection_emp, index_name=\"dno + salary\")"
   ]
  },
  {
   "cell_type": "code",
   "execution_count": 36,
   "id": "e5be75cb",
   "metadata": {},
   "outputs": [],
   "source": [
    "# Save benchmark data to a JSON file in the perf_data folder\n",
    "with open(\"perf_data/benchmark_data.json\", \"w\") as file:\n",
    "    json.dump(bench_data_4, file)"
   ]
  },
  {
   "cell_type": "markdown",
   "id": "66d07ff9",
   "metadata": {},
   "source": [
    "##### <span style=color:blue>Visualization</span>"
   ]
  },
  {
   "cell_type": "code",
   "execution_count": 44,
   "id": "b381f156",
   "metadata": {},
   "outputs": [
    {
     "name": "stdout",
     "output_type": "stream",
     "text": [
      "                                  query    index_name  duration  result_count  \\\n",
      "0            {'salary': {'$gt': 30000}}          None  0.004898             4   \n",
      "1            {'salary': {'$gt': 30000}}        salary  0.007094             4   \n",
      "2  {'dno': 5, 'salary': {'$gt': 30000}}          None  0.001380             2   \n",
      "3  {'dno': 5, 'salary': {'$gt': 30000}}  dno + salary  0.003879             2   \n",
      "\n",
      "        query_name  \n",
      "0        sal>30000  \n",
      "1        sal>30000  \n",
      "2  dno=5&sal>30000  \n",
      "3  dno=5&sal>30000  \n"
     ]
    }
   ],
   "source": [
    "# Load benchmark data\n",
    "with open(\"perf_data/benchmark_data.json\") as file:\n",
    "    benchmark_data = json.load(file)\n",
    "\n",
    "# Create a DataFrame\n",
    "df = pd.DataFrame(benchmark_data)\n",
    "\n",
    "df['query_name'] = df['query'].apply(lambda x:'dno=5&sal>30000' if 'dno' in x else 'sal>30000')\n",
    "\n",
    "print(df)"
   ]
  },
  {
   "cell_type": "code",
   "execution_count": 39,
   "id": "2f95a33f-5e0b-4173-b903-28003e92b7b0",
   "metadata": {},
   "outputs": [
    {
     "name": "stdout",
     "output_type": "stream",
     "text": [
      "0.003138899803161621\n"
     ]
    }
   ],
   "source": [
    "# testing\n",
    "# compute avg_no_index\n",
    "avg_no_index = df.loc[df['index_name'] != df['index_name']].loc[:,'duration'].mean()\n",
    "print(avg_no_index)"
   ]
  },
  {
   "cell_type": "code",
   "execution_count": 45,
   "id": "80c90f5f",
   "metadata": {},
   "outputs": [
    {
     "data": {
      "image/png": "[encoded data removed]",
      "text/plain": [
       "<Figure size 1000x600 with 1 Axes>"
      ]
     },
     "metadata": {},
     "output_type": "display_data"
    }
   ],
   "source": [
    "fig, ax = plt.subplots(figsize=(10, 6))\n",
    "\n",
    "# Plot without index\n",
    "df_no_index = df[df['index_name'].isnull()]\n",
    "ax.bar(df_no_index.index, df_no_index['duration'], label='Without Index', color='skyblue')\n",
    "\n",
    "# Plot with index\n",
    "df_with_index = df[df['index_name'].notnull()]\n",
    "ax.bar(df_with_index.index, df_with_index['duration'], label='With Index', color='orange')\n",
    "\n",
    "# compute avg_no_index\n",
    "avg_no_index = df.loc[df['index_name'] != df['index_name']].loc[:,'duration'].mean()\n",
    "# compute avg_with_index\n",
    "avg_with_index = df.loc[df['index_name'] == df['index_name']].loc[:,'duration'].mean()\n",
    "\n",
    "# Add horizontal lines for average durations\n",
    "ax.axhline(avg_no_index, color='blue', linestyle='--', linewidth=1, label=f'Average Without Index: {avg_no_index:.6f}')\n",
    "ax.axhline(avg_with_index, color='red', linestyle='--', linewidth=1, label=f'Average With Index: {avg_with_index:.6f}')\n",
    "\n",
    "# Add labels and title\n",
    "ax.set_xticks(df.index)\n",
    "ax.set_xticklabels(df['query_name'].fillna('None'))\n",
    "ax.set_xlabel('Index')\n",
    "ax.set_ylabel('Duration (seconds)')\n",
    "ax.set_title('Benchmarking MongoDB Query Performance')\n",
    "\n",
    "# Place the legend in the top right corner\n",
    "ax.legend(loc='upper right')\n",
    "\n",
    "# Show plot\n",
    "plt.show()"
   ]
  },
  {
   "cell_type": "code",
   "execution_count": null,
   "id": "5bde7d3c-23cf-44ea-ac76-a8720bd6809e",
   "metadata": {},
   "outputs": [],
   "source": []
  }
 ],
 "metadata": {
  "kernelspec": {
   "display_name": "Python 3 (ipykernel)",
   "language": "python",
   "name": "python3"
  },
  "language_info": {
   "codemirror_mode": {
    "name": "ipython",
    "version": 3
   },
   "file_extension": ".py",
   "mimetype": "text/x-python",
   "name": "python",
   "nbconvert_exporter": "python",
   "pygments_lexer": "ipython3",
   "version": "3.11.7"
  }
 },
 "nbformat": 4,
 "nbformat_minor": 5
}
