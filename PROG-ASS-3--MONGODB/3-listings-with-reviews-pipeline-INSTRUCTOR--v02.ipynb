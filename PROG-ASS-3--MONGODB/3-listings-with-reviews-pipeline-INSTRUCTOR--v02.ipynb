{
 "cells": [
  {
   "cell_type": "code",
   "execution_count": 1,
   "id": "29ba4174-7914-4af6-99cf-103951c8c908",
   "metadata": {},
   "outputs": [],
   "source": [
    "import sys\n",
    "import json\n",
    "import csv\n",
    "import yaml\n",
    "\n",
    "import importlib\n",
    "\n",
    "import math\n",
    "\n",
    "import pandas as pd\n",
    "import numpy as np\n",
    "\n",
    "import matplotlib as mpl\n",
    "import matplotlib.pyplot as plt\n",
    "import os\n",
    "from dotenv import load_dotenv\n",
    "\n",
    "from datetime import time\n",
    "from datetime import date\n",
    "from datetime import datetime\n",
    "# with the above choices, the imported datetime.time(2023,07,01) is recognized\n",
    "# from datetime import date\n",
    "# from datetime import datetime\n",
    "\n",
    "import pprint\n",
    "\n",
    "import psycopg2\n",
    "from sqlalchemy import create_engine, text as sql_text\n",
    "\n",
    "# Create an utilities file util.py in a folder benchmarking and import it\n",
    "# NOTE: I moved my util.py to the directory \"helper_functions\" -- seems like a better name\n",
    "sys.path.append('helper_functions/')\n",
    "import util"
   ]
  },
  {
   "cell_type": "code",
   "execution_count": 2,
   "id": "31d9af82-9c1d-4e9c-8107-bd5468533a2e",
   "metadata": {},
   "outputs": [
    {
     "name": "stdout",
     "output_type": "stream",
     "text": [
      "The list of all databases currently in the MongoDB client is:\n",
      "['admin', 'airbnb', 'company', 'config', 'local', 'test']\n",
      "\n",
      "The list of all collections in the airbnb database is:\n",
      "['listings_with_reviews_and_cal', 'calendar', 'listings_with_calendar', 'testing', 'listings_previously_built', 'listings_with_reviews', 'calendar_previously_built', 'listings']\n"
     ]
    }
   ],
   "source": [
    "from pymongo import MongoClient\n",
    "\n",
    "client = MongoClient()\n",
    "# could have written client = MongoClient(\"localhost\", 27017)\n",
    "#                 or client = MongoClient(\"mongodb://localhost:27017/\")\n",
    "\n",
    "db = client.airbnb\n",
    "\n",
    "print('The list of all databases currently in the MongoDB client is:')\n",
    "print(client.list_database_names())\n",
    "\n",
    "print('\\nThe list of all collections in the airbnb database is:')\n",
    "print(db.list_collection_names())"
   ]
  },
  {
   "cell_type": "code",
   "execution_count": null,
   "id": "a6a5c53d-fa4c-480b-8033-18b159a49ac5",
   "metadata": {},
   "outputs": [],
   "source": []
  },
  {
   "cell_type": "markdown",
   "id": "3d774dc2-f3af-43ff-9397-be58a7840b81",
   "metadata": {},
   "source": []
  },
  {
   "cell_type": "code",
   "execution_count": 3,
   "id": "622a2bcb-42aa-4d84-a822-7e043c20ae9a",
   "metadata": {},
   "outputs": [],
   "source": [
    "filenamel = '/Users/rick/DM-for-DS--Davis-Spring-2024/DATA-SETS/AirBNB/New-York-City/listings.csv'\n",
    "\n",
    "# Using partial list of dtypes, so that first several fields are interpreted as strings\n",
    "# As for the date and available fields (intended as date type and boolean, respectively,\n",
    "#    we import as strings and convert in the data frame\n",
    "dtype = {\"id\": str,  \"host_id\": str }\n",
    "# note including these, because the null values make trouble:  , \"minimum_nights\": int, \"maximum_nights\": int}\n",
    "\n",
    "# the csv has nulls in \"adjusted_price\", which has type str,. so including keep_default_na=False, \n",
    "#    see https://stackoverflow.com/questions/10867028/get-pandas-read-csv-to-read-empty-values-as-empty-string-instead-of-nan\n",
    "         \n",
    "df_listings = pd.read_csv(filenamel, dtype=dtype, keep_default_na=False)"
   ]
  },
  {
   "cell_type": "code",
   "execution_count": 4,
   "id": "1a1faebd-1f04-4c61-8f90-c661fbd927cb",
   "metadata": {},
   "outputs": [
    {
     "name": "stdout",
     "output_type": "stream",
     "text": [
      "(39202, 18)\n"
     ]
    }
   ],
   "source": [
    "print(df_listings.shape)"
   ]
  },
  {
   "cell_type": "code",
   "execution_count": 5,
   "id": "84ec25ca-86f1-4cc7-bd19-99c90912d6d0",
   "metadata": {},
   "outputs": [],
   "source": [
    "filenamer = '/Users/rick/DM-for-DS--Davis-Spring-2024/DATA-SETS/AirBNB/New-York-City/reviews.csv'\n",
    "\n",
    "# Using partial list of dtypes, so that first several fields are interpreted as strings\n",
    "# As for the date and available fields (intended as date type and boolean, respectively,\n",
    "#    we import as strings and convert in the data frame\n",
    "dtype = {\"id\": str, \"listing_id\": str, \"reviewer_id\": str}\n",
    "# note including these, because the null values make trouble:  , \"minimum_nights\": int, \"maximum_nights\": int}\n",
    "\n",
    "# the csv has nulls in \"adjusted_price\", which has type str,. so including keep_default_na=False, \n",
    "#    see https://stackoverflow.com/questions/10867028/get-pandas-read-csv-to-read-empty-values-as-empty-string-instead-of-nan\n",
    "         \n",
    "df_reviews = pd.read_csv(filenamer, dtype=dtype, keep_default_na=False)"
   ]
  },
  {
   "cell_type": "code",
   "execution_count": 6,
   "id": "8fcb0655-a280-4b46-93f1-c0b4dfb1c23c",
   "metadata": {},
   "outputs": [
    {
     "name": "stdout",
     "output_type": "stream",
     "text": [
      "(986810, 6)\n"
     ]
    }
   ],
   "source": [
    "print(df_reviews.shape)"
   ]
  },
  {
   "cell_type": "code",
   "execution_count": 7,
   "id": "fe160f75-c13b-45ad-90f9-2c2efd9aea97",
   "metadata": {},
   "outputs": [
    {
     "name": "stdout",
     "output_type": "stream",
     "text": [
      "2023-01-03 00:00:00\n"
     ]
    }
   ],
   "source": [
    "# also put this into util.py\n",
    "# dt has format such as '1/3/24'\n",
    "def convert_date_slash_to_datetime(dt):\n",
    "    if dt is None:\n",
    "        return None\n",
    "    elif pd.isnull(dt):  # tests whether dt is the pandas value NaT (\"not a time\")\n",
    "        # print('\\nEntered the NaT case\\n')\n",
    "        return None\n",
    "    elif dt != dt:\n",
    "        return None        # could also use math.nan, I think\n",
    "    elif dt == '':\n",
    "        return None\n",
    "    else:\n",
    "        dt = dt[:-2] + '20' + dt[-2:]\n",
    "        new_dt = datetime.strptime(dt, '%m/%d/%Y') \n",
    "        return new_dt\n",
    "\n",
    "print(convert_date_slash_to_datetime('1/3/23'))"
   ]
  },
  {
   "cell_type": "code",
   "execution_count": 8,
   "id": "2908b51a-855c-48f9-80b1-113fa6514d54",
   "metadata": {},
   "outputs": [],
   "source": [
    "# using this because I added stuff to util.py\n",
    "importlib.reload(util)\n",
    "\n",
    "# dates in listings.csv have format such as '1/3/23', so using function to convert that to datetime\n",
    "df_listings['last_review'] = df_listings['last_review'].apply(util.convert_date_slash_to_datetime)"
   ]
  },
  {
   "cell_type": "code",
   "execution_count": 33,
   "id": "31c11b82-f920-49d5-951c-bb3d98951e58",
   "metadata": {},
   "outputs": [],
   "source": [
    "df_listings['price'] = pd.to_numeric(df_listings['price'])"
   ]
  },
  {
   "cell_type": "code",
   "execution_count": 44,
   "id": "fcd510eb-4eac-4ed2-a1bd-80110c1913a0",
   "metadata": {},
   "outputs": [],
   "source": [
    "df_listings['reviews_per_month'] = pd.to_numeric(df_listings['reviews_per_month'])"
   ]
  },
  {
   "cell_type": "code",
   "execution_count": 45,
   "id": "44357fec-7864-4939-bfe4-d24e2d3fd667",
   "metadata": {},
   "outputs": [
    {
     "name": "stdout",
     "output_type": "stream",
     "text": [
      "id                                        object\n",
      "name                                      object\n",
      "host_id                                   object\n",
      "host_name                                 object\n",
      "neighbourhood_group                       object\n",
      "neighbourhood                             object\n",
      "latitude                                 float64\n",
      "longitude                                float64\n",
      "room_type                                 object\n",
      "price                                    float64\n",
      "minimum_nights                             int64\n",
      "number_of_reviews                          int64\n",
      "last_review                       datetime64[ns]\n",
      "reviews_per_month                        float64\n",
      "calculated_host_listings_count             int64\n",
      "availability_365                           int64\n",
      "number_of_reviews_ltm                      int64\n",
      "license                                   object\n",
      "dtype: object\n"
     ]
    }
   ],
   "source": [
    "print(df_listings.dtypes)"
   ]
  },
  {
   "cell_type": "code",
   "execution_count": 9,
   "id": "34da8787-a02b-41a7-aa11-3acfaf961cda",
   "metadata": {},
   "outputs": [],
   "source": [
    "df_reviews['date'] = df_reviews['date'].apply(util.convert_date_str_to_datetime)"
   ]
  },
  {
   "cell_type": "code",
   "execution_count": 13,
   "id": "fbf9cb76-73d2-44ba-a79d-06c24ff217ca",
   "metadata": {},
   "outputs": [
    {
     "name": "stdout",
     "output_type": "stream",
     "text": [
      "listing_id               object\n",
      "id                       object\n",
      "date             datetime64[ns]\n",
      "reviewer_id              object\n",
      "reviewer_name            object\n",
      "comments                 object\n",
      "dtype: object\n"
     ]
    }
   ],
   "source": [
    "print(df_reviews.dtypes)"
   ]
  },
  {
   "cell_type": "code",
   "execution_count": 46,
   "id": "24334b26-657b-4f32-acdd-2cec90f9ed6c",
   "metadata": {},
   "outputs": [
    {
     "name": "stdout",
     "output_type": "stream",
     "text": [
      "39202\n"
     ]
    }
   ],
   "source": [
    "dict_listings = df_listings.to_dict('records')\n",
    "print(len(dict_listings))"
   ]
  },
  {
   "cell_type": "code",
   "execution_count": 16,
   "id": "9cc1f76f-0ad7-473b-8dae-8e30287ebb7b",
   "metadata": {},
   "outputs": [
    {
     "name": "stdout",
     "output_type": "stream",
     "text": [
      "986810\n"
     ]
    }
   ],
   "source": [
    "dict_reviews = df_reviews.to_dict('records')\n",
    "print(len(dict_reviews))"
   ]
  },
  {
   "cell_type": "code",
   "execution_count": 47,
   "id": "de4737dc-3e71-4fa0-9e74-53cc16781db6",
   "metadata": {},
   "outputs": [
    {
     "name": "stdout",
     "output_type": "stream",
     "text": [
      "11500\n"
     ]
    }
   ],
   "source": [
    "# converting the NaT's into Nones\n",
    "i = 0\n",
    "for d in dict_listings:\n",
    "    if pd.isnull(d['last_review']):\n",
    "        i = i+1\n",
    "        d['last_review'] = None\n",
    "print(i)"
   ]
  },
  {
   "cell_type": "code",
   "execution_count": 48,
   "id": "8600de76-20c3-4b65-823f-717acb75bc58",
   "metadata": {},
   "outputs": [
    {
     "name": "stdout",
     "output_type": "stream",
     "text": [
      "Time to load into MongoDB was 0.605676 seconds.\n"
     ]
    }
   ],
   "source": [
    "db.listings_3.drop()\n",
    "\n",
    "time1 = datetime.now()\n",
    "result = db.listings_3.insert_many(dict_listings)\n",
    "time2 = datetime.now()\n",
    "print(f'Time to load into MongoDB was {util.time_diff(time1,time2)} seconds.')"
   ]
  },
  {
   "cell_type": "code",
   "execution_count": 49,
   "id": "922698a2-423c-4147-82b9-18183211a47a",
   "metadata": {},
   "outputs": [
    {
     "name": "stdout",
     "output_type": "stream",
     "text": [
      "39202\n"
     ]
    }
   ],
   "source": [
    "print(db.listings_3.count_documents({}))"
   ]
  },
  {
   "cell_type": "code",
   "execution_count": 22,
   "id": "cc7ca629-679e-4f49-8e87-0813fe8745e3",
   "metadata": {},
   "outputs": [
    {
     "name": "stdout",
     "output_type": "stream",
     "text": [
      "Time to load into MongoDB was 15.475313 seconds.\n",
      "\n",
      "986810\n"
     ]
    }
   ],
   "source": [
    "db.reviews_3.drop()\n",
    "\n",
    "time1 = datetime.now()\n",
    "result = db.reviews_3.insert_many(dict_reviews)\n",
    "time2 = datetime.now()\n",
    "print(f'Time to load into MongoDB was {util.time_diff(time1,time2)} seconds.')\n",
    "print()\n",
    "print(db.reviews_3.count_documents({}))"
   ]
  },
  {
   "cell_type": "markdown",
   "id": "5c7b3671-a67f-470a-ba5a-a0021c6ff53d",
   "metadata": {},
   "source": [
    "<span style=color:blue> Adding the index    </span>"
   ]
  },
  {
   "cell_type": "code",
   "execution_count": 25,
   "id": "f7e50b50-91d3-4a43-84e8-afa4f165bff8",
   "metadata": {},
   "outputs": [
    {
     "name": "stdout",
     "output_type": "stream",
     "text": [
      "The time taken to create the index was 3.260526 seconds.\n",
      "listing_id_1\n"
     ]
    }
   ],
   "source": [
    "time1 = datetime.now()\n",
    "index_name = db.reviews_3.create_index('listing_id')\n",
    "time2 = datetime.now()\n",
    "print(f'The time taken to create the index was {util.time_diff(time1,time2)} seconds.')\n",
    "print(index_name)"
   ]
  },
  {
   "cell_type": "code",
   "execution_count": 51,
   "id": "470469cf-9dbc-494e-962c-21e4e9d25e5c",
   "metadata": {},
   "outputs": [
    {
     "name": "stdout",
     "output_type": "stream",
     "text": [
      "2024-06-03 21:02:47.940114\n",
      "Time to load into MongoDB was 6.741878 seconds.\n",
      "39202\n"
     ]
    }
   ],
   "source": [
    "db.listings_with_reviews_m_3.drop()\n",
    "\n",
    "pipeline = [\n",
    "    {\n",
    "        '$lookup': {\n",
    "            'from': 'reviews_3',\n",
    "            'localField': 'id',\n",
    "            'foreignField': 'listing_id',\n",
    "            'as': 'reviews'\n",
    "        }\n",
    "    },\n",
    "    {\n",
    "        '$out': 'listings_with_reviews_m_3'\n",
    "    }\n",
    "]\n",
    "\n",
    "\n",
    "time1 = datetime.now()\n",
    "print(time1)\n",
    "db.listings_3.aggregate(pipeline)\n",
    "time2 = datetime.now()\n",
    "print(f'Time to load into MongoDB was {util.time_diff(time1,time2)} seconds.')\n",
    "\n",
    "print(db.listings_with_reviews_m_3.count_documents({}))\n"
   ]
  },
  {
   "cell_type": "code",
   "execution_count": 52,
   "id": "3f6eb510-9013-44e5-a098-c2998d881056",
   "metadata": {
    "scrolled": true
   },
   "outputs": [
    {
     "name": "stdout",
     "output_type": "stream",
     "text": [
      "{'_id': ObjectId('665e91ad81a877ddad1a7549'),\n",
      " 'id': '977395984065981849',\n",
      " 'name': 'Home in Brooklyn · 1 bedroom · 1 bed · 1 bath',\n",
      " 'host_id': '95344065',\n",
      " 'host_name': 'Derek',\n",
      " 'neighbourhood_group': 'Brooklyn',\n",
      " 'neighbourhood': 'Sheepshead Bay',\n",
      " 'latitude': 40.59179,\n",
      " 'longitude': -73.94285,\n",
      " 'room_type': 'Private room',\n",
      " 'price': 30.0,\n",
      " 'minimum_nights': 31,\n",
      " 'number_of_reviews': 1,\n",
      " 'last_review': datetime.datetime(2024, 1, 3, 0, 0),\n",
      " 'reviews_per_month': 0.86,\n",
      " 'calculated_host_listings_count': 7,\n",
      " 'availability_365': 339,\n",
      " 'number_of_reviews_ltm': 1,\n",
      " 'license': '',\n",
      " 'reviews': [{'_id': ObjectId('665e7a1981a877ddad19ca7b'),\n",
      "              'listing_id': '977395984065981849',\n",
      "              'id': '1060927930986644037',\n",
      "              'date': datetime.datetime(2024, 1, 3, 0, 0),\n",
      "              'reviewer_id': '56179331',\n",
      "              'reviewer_name': 'Sean',\n",
      "              'comments': 'I fear it’s kind of a “you get what you pay for” '\n",
      "                          'situation. The place is very dirty, especially the '\n",
      "                          'common rooms where the cupboards are caked and '\n",
      "                          'grease and stickiness. To the point that even '\n",
      "                          'opening a drawer or grabbing a handle requires '\n",
      "                          'washing your hands after. The bathroom has moldy '\n",
      "                          'rugs and had cockroaches. There’s occasionally a '\n",
      "                          'smell. The internet is very hit or miss and the '\n",
      "                          'temperature fluxuates a lot in the '\n",
      "                          'apartment.<br/>To their credit though, the bedrooms '\n",
      "                          'are clean enough and pretty comfortable. The floors '\n",
      "                          'a bit dusty but I kinda just dusted that up. The '\n",
      "                          'neighborhood itself is nice if you’re looking for '\n",
      "                          'something that feels quieter than the rest of the '\n",
      "                          'city. I enjoyed having plenty of stores, '\n",
      "                          'restaurants, and even a movie theater in walking '\n",
      "                          'distance while still being on a quiet residential '\n",
      "                          'street. That said, for commuting it does take about '\n",
      "                          'an hour to get to Manhattan.<br/>Like I said, it is '\n",
      "                          'extremelly cheap but that means it’s not '\n",
      "                          'well-maintained; so you get what you pay for.'}]}\n"
     ]
    }
   ],
   "source": [
    "doc = db.listings_with_reviews_m_3.find_one()\n",
    "pprint.pp(doc)"
   ]
  },
  {
   "cell_type": "code",
   "execution_count": 58,
   "id": "b2782922-45b5-4902-a983-d776e03376e5",
   "metadata": {},
   "outputs": [
    {
     "name": "stdout",
     "output_type": "stream",
     "text": [
      "{'_id': '665e91ad81a877ddad1b04b0',\n",
      " 'id': '11162564',\n",
      " 'name': 'Rental unit in New York · ★4.20 · Studio · 1 bed · 1 bath',\n",
      " 'host_id': '2119276',\n",
      " 'host_name': 'Urban Furnished',\n",
      " 'neighbourhood_group': 'Manhattan',\n",
      " 'neighbourhood': 'Gramercy',\n",
      " 'latitude': 40.73323,\n",
      " 'longitude': -73.9828,\n",
      " 'room_type': 'Entire home/apt',\n",
      " 'price': 111.0,\n",
      " 'minimum_nights': 30,\n",
      " 'number_of_reviews': 10,\n",
      " 'last_review': '2022-09-15',\n",
      " 'reviews_per_month': 0.11,\n",
      " 'calculated_host_listings_count': 53,\n",
      " 'availability_365': 342,\n",
      " 'number_of_reviews_ltm': 0,\n",
      " 'license': '',\n",
      " 'reviews': [{'_id': '665e7a1681a877ddad0f1240',\n",
      "              'date': '2016-08-09',\n",
      "              'listing_id': '11162564',\n",
      "              'id': '92592458',\n",
      "              'reviewer_id': '14915683',\n",
      "              'reviewer_name': 'Zen',\n",
      "              'comments': 'The studio is very well located, right next to the '\n",
      "                          'metro station. '},\n",
      "             {'_id': '665e7a1681a877ddad0f1241',\n",
      "              'date': '2017-05-29',\n",
      "              'listing_id': '11162564',\n",
      "              'id': '155991818',\n",
      "              'reviewer_id': '19313712',\n",
      "              'reviewer_name': 'Glenn',\n",
      "              'comments': 'Overall a good place with convenient access to '\n",
      "                          'transit and walkable neighborhood '},\n",
      "             {'_id': '665e7a1681a877ddad0f1242',\n",
      "              'date': '2017-08-31',\n",
      "              'listing_id': '11162564',\n",
      "              'id': '189073934',\n",
      "              'reviewer_id': '16644691',\n",
      "              'reviewer_name': 'Dan',\n",
      "              'comments': 'Great location - a short walk to Union Square and '\n",
      "                          'all the subway lines. Eran the host was attentive '\n",
      "                          'and easy to communicate with. Overall it was a good '\n",
      "                          'stay for my 3-month work trip to NYC.'},\n",
      "             {'_id': '665e7a1681a877ddad0f1243',\n",
      "              'date': '2018-03-06',\n",
      "              'listing_id': '11162564',\n",
      "              'id': '240889809',\n",
      "              'reviewer_id': '110032063',\n",
      "              'reviewer_name': 'Ana',\n",
      "              'comments': 'Good apartment in a great spot! Clean, safe, '\n",
      "                          'wonderful neighborhood with lots of cafes and '\n",
      "                          'restaurants around. Subway really close, which '\n",
      "                          'helped a lot. Thanks Eran!'},\n",
      "             {'_id': '665e7a1681a877ddad0f1244',\n",
      "              'date': '2018-08-11',\n",
      "              'listing_id': '11162564',\n",
      "              'id': '305582258',\n",
      "              'reviewer_id': '112979545',\n",
      "              'reviewer_name': 'Michelle',\n",
      "              'comments': 'It was a fantastic accommodation for 14 weeks. The '\n",
      "                          'room was nicely furnished and it had a decent '\n",
      "                          'amount of nice touches. The bathroom was very clean '\n",
      "                          'and the space looked modern. The bed was '\n",
      "                          'comfortable and the couch pulls out into a second '\n",
      "                          'bed. The TV works and the AC works as well. The '\n",
      "                          'kitchen comes with supplies. Overall, the host was '\n",
      "                          'very communicative (Eran) and he responded '\n",
      "                          'immediately to my concerns. It is in a building '\n",
      "                          'with a lot of younger people. <br/>It was a bit '\n",
      "                          'small, but it is to be expected for union square. '\n",
      "                          'It is about 8 minutes walking from the NQRW 456 in '\n",
      "                          'union square, and 6 minutes from Trader Joe’s. On '\n",
      "                          'the third floor, a short walk up. Would recommend '\n",
      "                          'for a longer stay, and a shorter one. Great for a '\n",
      "                          'couple to live in. <br/>Thanks for a great stay!'},\n",
      "             {'_id': '665e7a1681a877ddad0f1245',\n",
      "              'date': '2018-10-31',\n",
      "              'listing_id': '11162564',\n",
      "              'id': '343421469',\n",
      "              'reviewer_id': '39666842',\n",
      "              'reviewer_name': 'Genevieve',\n",
      "              'comments': 'Staying at this apartment was perfect. I needed '\n",
      "                          'accommodation for a month and this place Could not '\n",
      "                          'have been better. Well located and newly renovated. '\n",
      "                          '<br/>Any issues were answered swiftly and taken '\n",
      "                          'care of. <br/>Highly recommended.'},\n",
      "             {'_id': '665e7a1681a877ddad0f1246',\n",
      "              'date': '2020-10-31',\n",
      "              'listing_id': '11162564',\n",
      "              'id': '705449292',\n",
      "              'reviewer_id': '136770142',\n",
      "              'reviewer_name': 'Behailu',\n",
      "              'comments': 'Overall convenient studio. Host was super welcoming '\n",
      "                          'and gave me a bunch of stuff I asked for.  Main '\n",
      "                          'issues were with street noise, neighbor dog barking '\n",
      "                          'incessantly, no desk in apt and no way to easily '\n",
      "                          'cook. It’s basically a hotel room but overall '\n",
      "                          'decent for quick stays but not longer ones imo.'},\n",
      "             {'_id': '665e7a1681a877ddad0f1247',\n",
      "              'date': '2021-07-17',\n",
      "              'listing_id': '11162564',\n",
      "              'id': '408625863401607617',\n",
      "              'reviewer_id': '208610163',\n",
      "              'reviewer_name': 'Jian',\n",
      "              'comments': 'This is a great central location making it easy to '\n",
      "                          'walk anywhere downtown/midtown.  Also right next to '\n",
      "                          'the subway to get anywhere else in Manhattan or '\n",
      "                          'Brooklyn. The studio layout feels very open and '\n",
      "                          'spacious. Any problems Eran was responsive and '\n",
      "                          'quick to help.  Overall couldn’t be happier.'},\n",
      "             {'_id': '665e7a1681a877ddad0f1248',\n",
      "              'date': '2021-08-17',\n",
      "              'listing_id': '11162564',\n",
      "              'id': '431032006473391738',\n",
      "              'reviewer_id': '238704298',\n",
      "              'reviewer_name': 'Eric',\n",
      "              'comments': 'Amazing location and comfortable shelter. Great '\n",
      "                          'sleeping space. Cook friendly. Wouldn’t have had it '\n",
      "                          'any other way.'},\n",
      "             {'_id': '665e7a1681a877ddad0f1249',\n",
      "              'date': '2022-09-15',\n",
      "              'listing_id': '11162564',\n",
      "              'id': '716662299399708677',\n",
      "              'reviewer_id': '182156665',\n",
      "              'reviewer_name': 'Leonardo',\n",
      "              'comments': 'I stayed for 46 days in august, very hot, air '\n",
      "                          'conditioning is a must.<br/>Great location for '\n",
      "                          'getting around New York.  The house respects the '\n",
      "                          'pictures, even if in the details of the furniture '\n",
      "                          'are wasted (cracks, small defects or stains) Third '\n",
      "                          'floor without elevator, small but comfortable.  The '\n",
      "                          'street is quite busy, which means sirens every '\n",
      "                          \"hour, but it's New York. I needed assistance on the \"\n",
      "                          'keys and the agency immediately replaced them.  '\n",
      "                          'Communication was little and unnecessary, even if '\n",
      "                          'at check out there was a misunderstanding due to '\n",
      "                          'their communication error.  They '\n",
      "                          'apologized.<br/>The cost is high, but rents in New '\n",
      "                          'York are very expensive.'}]}\n"
     ]
    }
   ],
   "source": [
    "def convert_lwr_to_json(doc):\n",
    "    doc_new = {}\n",
    "    # start by transferring all scalar keys over, then fix some of them\n",
    "    for key in doc.keys():\n",
    "        if key != 'reviews':\n",
    "            doc_new[key] = doc[key]\n",
    "    # now fixing some possible issues\n",
    "    doc_new['_id'] = str(doc['_id'])\n",
    "    if doc['last_review'] == None:    # is null\n",
    "        doc_new['last_review'] = None\n",
    "    else:\n",
    "        doc_new['last_review'] = doc['last_review'].strftime('%Y-%m-%d')\n",
    "    if math.isnan(doc['price']):\n",
    "        doc_new['price'] = None\n",
    "    else:\n",
    "        doc_new['price'] = doc['price']\n",
    "    if math.isnan(doc['reviews_per_month']):\n",
    "        doc_new['reviews_per_month'] = None\n",
    "    else:\n",
    "        doc_new['reviews_per_month'] = doc['reviews_per_month']\n",
    "    # now dealing with the 'review' array\n",
    "    dlist = []\n",
    "    for d in doc['reviews']:\n",
    "        d_new = {}\n",
    "        d_new['_id'] = str(d['_id'])\n",
    "        d_new['date'] = d['date'].strftime('%Y-%m-%d')\n",
    "        for key in d.keys():\n",
    "            if key not in ['date', '_id']:\n",
    "                d_new[key] = d[key]\n",
    "        dlist.append(d_new)\n",
    "    doc_new['reviews'] = dlist\n",
    "    return doc_new\n",
    "\n",
    "# pprint.pp(doc)\n",
    "\n",
    "pprint.pp(convert_lwr_to_json(doc))"
   ]
  },
  {
   "cell_type": "code",
   "execution_count": null,
   "id": "6c6b144d-80c6-42a7-b307-d735d58e382f",
   "metadata": {},
   "outputs": [],
   "source": []
  },
  {
   "cell_type": "code",
   "execution_count": null,
   "id": "8828aeda-3601-40a7-b283-b7aa04fef5b2",
   "metadata": {},
   "outputs": [],
   "source": []
  },
  {
   "cell_type": "code",
   "execution_count": 68,
   "id": "418357c6-b2a2-4446-955a-58ac7d976373",
   "metadata": {},
   "outputs": [
    {
     "name": "stdout",
     "output_type": "stream",
     "text": [
      "39202\n",
      "28\n"
     ]
    }
   ],
   "source": [
    "print(db.listings_with_reviews.count_documents({}))\n",
    "\n",
    "cursor = db.listings_with_reviews_m_3.find({'id' : {'$regex' : '^111.*$'}})\n",
    "    \n",
    "l = list(cursor)\n",
    "print(len(l))"
   ]
  },
  {
   "cell_type": "code",
   "execution_count": 69,
   "id": "662f662f-2687-4896-a2ec-25d768ee5fa2",
   "metadata": {},
   "outputs": [
    {
     "name": "stdout",
     "output_type": "stream",
     "text": [
      "28\n"
     ]
    }
   ],
   "source": [
    "cursor = db.listings_with_reviews_m_3.find({'id' : {'$regex' : '^111.*$'}})\n",
    "\n",
    "output = []\n",
    "\n",
    "for doc in cursor:\n",
    "    output.append(convert_lwr_to_json(doc))\n",
    "\n",
    "print(len(output))"
   ]
  },
  {
   "cell_type": "code",
   "execution_count": 70,
   "id": "967f8c38-c180-450d-8c17-ee3b32632343",
   "metadata": {},
   "outputs": [],
   "source": [
    "dir = 'OUTPUTS'\n",
    "filename = 'listings_with_reviews_3_subset_111.json'\n",
    "util.write_dict_to_dir_json(output, dir, filename)"
   ]
  },
  {
   "cell_type": "code",
   "execution_count": 72,
   "id": "3900e220-bfc0-44f2-a2de-f9e5d11c0dd2",
   "metadata": {},
   "outputs": [],
   "source": [
    "dir = 'OUTPUTS'\n",
    "filename = 'listings_with_reviews_m_subset_111__v03.json'\n",
    "util.write_dict_to_dir_json(output, dir, filename)"
   ]
  },
  {
   "cell_type": "code",
   "execution_count": null,
   "id": "eeb0b8c5-9aa0-4178-86d8-f56d63507c53",
   "metadata": {},
   "outputs": [],
   "source": []
  },
  {
   "cell_type": "code",
   "execution_count": 62,
   "id": "af85a767-3051-4d85-b2ea-67da85800359",
   "metadata": {},
   "outputs": [
    {
     "name": "stdout",
     "output_type": "stream",
     "text": [
      "39202\n",
      "43\n"
     ]
    }
   ],
   "source": [
    "print(db.listings_with_reviews.count_documents({}))\n",
    "\n",
    "cursor = db.listings_with_reviews_m_3.find({'id' : {'$regex' : '^1000.*$'}})\n",
    "    \n",
    "l = list(cursor)\n",
    "print(len(l))"
   ]
  },
  {
   "cell_type": "code",
   "execution_count": 63,
   "id": "a7748c39-c822-4156-9bc1-75439e89a84f",
   "metadata": {},
   "outputs": [
    {
     "name": "stdout",
     "output_type": "stream",
     "text": [
      "43\n"
     ]
    }
   ],
   "source": [
    "cursor = db.listings_with_reviews_m_3.find({'id' : {'$regex' : '^1000.*$'}})\n",
    "\n",
    "output = []\n",
    "\n",
    "for doc in cursor:\n",
    "    output.append(convert_lwr_to_json(doc))\n",
    "\n",
    "print(len(output))"
   ]
  },
  {
   "cell_type": "code",
   "execution_count": 67,
   "id": "a557c7d1-d29a-420f-93c9-cde3feb84728",
   "metadata": {},
   "outputs": [],
   "source": [
    "dir = 'OUTPUTS'\n",
    "filename = 'listings_with_reviews_m_subset_1000.json'\n",
    "util.write_dict_to_dir_json(output, dir, filename)"
   ]
  },
  {
   "cell_type": "code",
   "execution_count": null,
   "id": "8350f07b-378e-42d6-8a8f-b0cb6795dbc3",
   "metadata": {},
   "outputs": [],
   "source": []
  },
  {
   "cell_type": "code",
   "execution_count": 73,
   "id": "e2d6f217-d930-4d46-aa08-92f7bf0dcf04",
   "metadata": {},
   "outputs": [
    {
     "name": "stdout",
     "output_type": "stream",
     "text": [
      "39202\n"
     ]
    }
   ],
   "source": [
    "cursor = db.listings_with_reviews_m_3.find({})\n",
    "\n",
    "output = []\n",
    "\n",
    "for doc in cursor:\n",
    "    output.append(convert_lwr_to_json(doc))\n",
    "\n",
    "print(len(output))"
   ]
  },
  {
   "cell_type": "code",
   "execution_count": 74,
   "id": "4f344add-2846-4f0c-8313-e764957dfd07",
   "metadata": {},
   "outputs": [],
   "source": [
    "dir = 'OUTPUTS'\n",
    "filename = 'listings_with_reviews_m_all__v03.json'\n",
    "util.write_dict_to_dir_json(output, dir, filename)"
   ]
  },
  {
   "cell_type": "code",
   "execution_count": null,
   "id": "6b912431-9b7e-440a-a12f-c9eb0494214d",
   "metadata": {},
   "outputs": [],
   "source": []
  }
 ],
 "metadata": {
  "kernelspec": {
   "display_name": "dm4ds",
   "language": "python",
   "name": "dm4ds"
  },
  "language_info": {
   "codemirror_mode": {
    "name": "ipython",
    "version": 3
   },
   "file_extension": ".py",
   "mimetype": "text/x-python",
   "name": "python",
   "nbconvert_exporter": "python",
   "pygments_lexer": "ipython3",
   "version": "3.11.7"
  }
 },
 "nbformat": 4,
 "nbformat_minor": 5
}
