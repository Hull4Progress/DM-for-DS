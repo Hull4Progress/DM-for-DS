{
 "cells": [
  {
   "cell_type": "markdown",
   "id": "c62ea35f-de63-47e8-93fc-a13bc4e58a9c",
   "metadata": {},
   "source": [
    "### <span style=color:blue> Loading data from postgresql into mongodb (local)    </span>"
   ]
  },
  {
   "cell_type": "code",
   "execution_count": 1,
   "id": "ea7cbe6e-4481-4bf3-bb1d-7e0e9649a1be",
   "metadata": {},
   "outputs": [],
   "source": [
    "import sys\n",
    "import json\n",
    "import csv\n",
    "import yaml\n",
    "\n",
    "import pandas as pd\n",
    "import numpy as np\n",
    "\n",
    "import matplotlib as mpl\n",
    "import matplotlib.pyplot as plt\n",
    "import os\n",
    "from dotenv import load_dotenv\n",
    "\n",
    "from datetime import time\n",
    "from datetime import date\n",
    "from datetime import datetime\n",
    "# with the above choices, the imported datetime.time(2023,07,01) is recognized\n",
    "# from datetime import date\n",
    "# from datetime import datetime\n",
    "\n",
    "import pprint\n",
    "\n",
    "import psycopg2\n",
    "from sqlalchemy import create_engine, text as sql_text\n",
    "\n",
    "# Create an utilities file util.py in a folder benchmarking and import it\n",
    "sys.path.append('helper_functions/')\n",
    "import util as util"
   ]
  },
  {
   "cell_type": "code",
   "execution_count": 2,
   "id": "95c43ba9-99d5-481d-b549-7952326aacef",
   "metadata": {},
   "outputs": [
    {
     "name": "stdout",
     "output_type": "stream",
     "text": [
      "hello world\n"
     ]
    }
   ],
   "source": [
    "# test that utils.py has been imported well\n",
    "util.hello_world()"
   ]
  },
  {
   "cell_type": "markdown",
   "id": "86dc7f83-99a7-4686-af8b-f3a04ab60d4b",
   "metadata": {},
   "source": [
    "<span style=color:blue>Getting PostgreSQL connection set up</span>"
   ]
  },
  {
   "cell_type": "code",
   "execution_count": 3,
   "id": "461d210b-087a-4512-8592-af5af384976b",
   "metadata": {},
   "outputs": [
    {
     "name": "stdout",
     "output_type": "stream",
     "text": [
      "Successfully created db engine.\n"
     ]
    }
   ],
   "source": [
    "# Load the env file \n",
    "\n",
    "dotenv_path = 'env_variables.env'\n",
    "load_dotenv(dotenv_path=dotenv_path)\n",
    "\n",
    "# Import the env variables\n",
    "\n",
    "load_dotenv()\n",
    "\n",
    "schema = os.getenv('DISC_6_SCHEMA')\n",
    "port = os.getenv('DISC_6_PORT')\n",
    "host = os.getenv('DISC_6_HOST')\n",
    "database = os.getenv('DISC_6_DB')\n",
    "password = os.getenv('DISC_6_PASSWORD')\n",
    "connection = os.getenv('DISC_6_CONNECTION')\n",
    "\n",
    "# Create the db engine \n",
    "\n",
    "db_eng = create_engine(f\"postgresql+psycopg2://{connection}:{password}@{host}:{port}/{database}\",\n",
    "                       connect_args={'options': '-csearch_path={}'.format(schema)},\n",
    "                       isolation_level = 'SERIALIZABLE')\n",
    "\n",
    "print(\"Successfully created db engine.\")"
   ]
  },
  {
   "cell_type": "markdown",
   "id": "3d4b4754-f3bc-4d78-900a-3061eb856b71",
   "metadata": {},
   "source": [
    "<span style=color:blue>Getting mongodb connection set up</span>"
   ]
  },
  {
   "cell_type": "code",
   "execution_count": 4,
   "id": "e0fbfb3f-2529-447b-b17d-bf12dbd2d36d",
   "metadata": {},
   "outputs": [],
   "source": [
    "from pymongo import MongoClient\n",
    "\n",
    "client = MongoClient()\n",
    "# could have written client = MongoClient(\"localhost\", 27017)\n",
    "#                 or client = MongoClient(\"mongodb://localhost:27017/\")"
   ]
  },
  {
   "cell_type": "markdown",
   "id": "8d3d8ec1-b6f7-4cae-8ec4-dcfd4c9be361",
   "metadata": {},
   "source": [
    "<span style=color:blue>Setting up collection \"listings\" in mongodb</span>"
   ]
  },
  {
   "cell_type": "code",
   "execution_count": 5,
   "id": "e1a6e20f-5c3e-4892-881b-2f64c42d8331",
   "metadata": {},
   "outputs": [
    {
     "name": "stdout",
     "output_type": "stream",
     "text": [
      "['testing', 'listings']\n"
     ]
    }
   ],
   "source": [
    "# I have (or will have) a database \"airbnb\"\n",
    "db = client.airbnb\n",
    "\n",
    "# inside the \"airbnb\" database, I have (or will have) a collection \"listings\"\n",
    "listings = db.listings\n",
    "print(db.list_collection_names())"
   ]
  },
  {
   "cell_type": "markdown",
   "id": "0d485a58-5f5f-4c6f-8094-e1de8a136976",
   "metadata": {},
   "source": [
    "<span style=color:blue>Installing all indexes I can think of</span>"
   ]
  },
  {
   "cell_type": "code",
   "execution_count": 6,
   "id": "657d34a4-eb0d-40a2-ba3c-c8daef668c84",
   "metadata": {},
   "outputs": [
    {
     "name": "stdout",
     "output_type": "stream",
     "text": [
      "1672560000.0\n",
      "now trying with the function\n",
      "{'foo': 3, 'date': datetime.date(2023, 1, 2)}\n",
      "{'hoo': 4, 'date': None}\n",
      "<class 'pymongo.results.InsertOneResult'>\n",
      "{'_id': ObjectId('664aecc14b86e1227ff59cb7'), 'hoo': 4, 'date': None}\n"
     ]
    }
   ],
   "source": [
    "testing = db.testing\n",
    "\n",
    "dict = {'date': datetime(2023, 1, 1,0,0,0)}\n",
    "\n",
    "ts = dict['date'].timestamp()\n",
    "print(ts)\n",
    "db.testing.insert_one({'date': datetime.fromtimestamp(ts)})\n",
    "\n",
    "def convert_date_to_datetime(dt):\n",
    "    if dt is None:\n",
    "        return None\n",
    "    elif dt != dt:\n",
    "        return float('NaN')\n",
    "    else:\n",
    "        temp = datetime(dt.year, dt.month, dt.day)\n",
    "        ts = temp.timestamp()\n",
    "        new_dt = datetime.fromtimestamp(ts)\n",
    "        return new_dt\n",
    "\n",
    "print('now trying with the function')\n",
    "dict1 = {'foo':3, 'date': date(2023,1,2)}\n",
    "dict2 = {'hoo':4, 'date': float('nan')}\n",
    "dict3 = {'hoo':4, 'date': None}\n",
    "print(dict1)\n",
    "dict1['date'] = convert_date_to_datetime(dict1['date'])\n",
    "dict2['date'] = convert_date_to_datetime(dict2['date'])\n",
    "dict3['date'] = convert_date_to_datetime(dict3['date'])\n",
    "\n",
    "# print(dict1)\n",
    "# db.testing.insert_one(dict1)\n",
    "\n",
    "print(dict3)\n",
    "output = db.testing.insert_one(dict3)\n",
    "print(type(output))\n",
    "print(db.testing.find_one({'_id': output.inserted_id}))"
   ]
  },
  {
   "cell_type": "code",
   "execution_count": 7,
   "id": "a4812bb2-4f7f-4032-a963-2f452758f3d0",
   "metadata": {},
   "outputs": [
    {
     "name": "stdout",
     "output_type": "stream",
     "text": [
      "<class 'bson.objectid.ObjectId'>\n",
      "664987068b80b91420d2b513\n",
      "{'_id': ObjectId('664987068b80b91420d2b513'), 'date': datetime.datetime(2023, 1, 1, 0, 0)}\n",
      "<class 'datetime.datetime'>\n",
      "{'_id': ObjectId('664987068b80b91420d2b513'), 'date': datetime.datetime(2023, 1, 1, 0, 0)}\n"
     ]
    }
   ],
   "source": [
    "doc = db.testing.find_one()\n",
    "obj_pointer = doc['_id']\n",
    "print(type(obj_pointer))\n",
    "print(obj_pointer)\n",
    "print(doc)\n",
    "print(type(doc['date']))\n",
    "print(db.testing.find_one({'_id': obj_pointer}))"
   ]
  },
  {
   "cell_type": "code",
   "execution_count": null,
   "id": "b96bbd58-bf2b-4ab6-90b9-fd618dad5e55",
   "metadata": {},
   "outputs": [],
   "source": []
  },
  {
   "cell_type": "code",
   "execution_count": null,
   "id": "eaa422da-c692-49a1-9d90-ae192c581f43",
   "metadata": {},
   "outputs": [],
   "source": []
  },
  {
   "cell_type": "markdown",
   "id": "4dc1716d-fec3-482d-9880-7080e49daa6e",
   "metadata": {},
   "source": [
    "<span style=color:blue>Dropping the collection \"listings\" to get a fresh start.    </span>"
   ]
  },
  {
   "cell_type": "code",
   "execution_count": 8,
   "id": "1e101a46-3128-4b59-9453-43b048811a18",
   "metadata": {},
   "outputs": [
    {
     "data": {
      "text/plain": [
       "['testing']"
      ]
     },
     "execution_count": 8,
     "metadata": {},
     "output_type": "execute_result"
    }
   ],
   "source": [
    "db.listings.drop()\n",
    "print(db.list_collection_names())"
   ]
  },
  {
   "cell_type": "markdown",
   "id": "d6de7bdc-84c8-4a84-b713-a8b7f39cc022",
   "metadata": {},
   "source": [
    "### <span style=color:blue>As preparation for this, I have a table reviewm (for review_mongodb) in which I dropped the comments_tsv column (because not needed) and renamed column \"id\" to \"review_id\" (so that it is not repeating the \"id\" column of the listings table</span>"
   ]
  },
  {
   "cell_type": "code",
   "execution_count": 9,
   "id": "b55125cb-cad5-4803-bca4-948f8e24070f",
   "metadata": {},
   "outputs": [
    {
     "name": "stdout",
     "output_type": "stream",
     "text": [
      "         id                                               name   host_id  \\\n",
      "0  51944693  Home in Queens · ★4.82 · 1 bedroom · 5 beds · ...  91646104   \n",
      "1  51944693  Home in Queens · ★4.82 · 1 bedroom · 5 beds · ...  91646104   \n",
      "2  51944693  Home in Queens · ★4.82 · 1 bedroom · 5 beds · ...  91646104   \n",
      "3  51944693  Home in Queens · ★4.82 · 1 bedroom · 5 beds · ...  91646104   \n",
      "4  51944693  Home in Queens · ★4.82 · 1 bedroom · 5 beds · ...  91646104   \n",
      "\n",
      "  host_name neighbourhood_group neighbourhood  latitude  longitude  \\\n",
      "0       Pao              Queens      Woodside  40.74395  -73.90858   \n",
      "1       Pao              Queens      Woodside  40.74395  -73.90858   \n",
      "2       Pao              Queens      Woodside  40.74395  -73.90858   \n",
      "3       Pao              Queens      Woodside  40.74395  -73.90858   \n",
      "4       Pao              Queens      Woodside  40.74395  -73.90858   \n",
      "\n",
      "         room_type  price  ...  calculated_host_listings_count  \\\n",
      "0  Entire home/apt  294.0  ...                               4   \n",
      "1  Entire home/apt  294.0  ...                               4   \n",
      "2  Entire home/apt  294.0  ...                               4   \n",
      "3  Entire home/apt  294.0  ...                               4   \n",
      "4  Entire home/apt  294.0  ...                               4   \n",
      "\n",
      "   availability_365 number_of_reviews_ltm  license  listing_id  \\\n",
      "0                89                    23             51944693   \n",
      "1                89                    23             51944693   \n",
      "2                89                    23             51944693   \n",
      "3                89                    23             51944693   \n",
      "4                89                    23             51944693   \n",
      "\n",
      "            review_id        date reviewer_id reviewer_name  \\\n",
      "0  883354811516703393  2023-05-03    78568329        Laaziz   \n",
      "1  894958612605409458  2023-05-19    31215609      Suppasit   \n",
      "2  897151957613869875  2023-05-22    17688815          Ziya   \n",
      "3  913809803180172843  2023-06-14   518486632        Ernest   \n",
      "4  937035352711442723  2023-07-16    92504654         Katie   \n",
      "\n",
      "                                            comments  \n",
      "0  Hôte très réactif et avenant. Logement très bi...  \n",
      "1  Nice place, comfy living room with friends. Pa...  \n",
      "2  Pao’s place is a great place to stay- very clo...  \n",
      "3  It was such a hassle free stay! We felt at wel...  \n",
      "4  Really enjoyed our stay! Pao was incredible! R...  \n",
      "\n",
      "[5 rows x 24 columns]\n"
     ]
    }
   ],
   "source": [
    "import importlib\n",
    "import util\n",
    "importlib.reload(util)\n",
    "\n",
    "# q = util.build_query_full_join_listings_reviewsm()\n",
    "# q = util.build_query_left_join_listings_reviewsm_null_right()\n",
    "q = util.build_query_left_join_listings_reviewsm()\n",
    "\n",
    "with db_eng.connect() as conn:\n",
    "    # df_ljr100 = pd.read_sql(q, con=conn)\n",
    "    df_ljr = pd.read_sql(q, con=conn)\n",
    "    \n",
    "\n",
    "# print(df_ljr100.head())\n",
    "print(df_ljr.head())\n"
   ]
  },
  {
   "cell_type": "code",
   "execution_count": 10,
   "id": "16fc3cdd-63cb-43f5-8e7f-739d81cf7c8c",
   "metadata": {},
   "outputs": [
    {
     "name": "stdout",
     "output_type": "stream",
     "text": [
      "(998310, 24)\n"
     ]
    }
   ],
   "source": [
    "# should be 998,310 rows.  This is\n",
    "#     number of records in listings whose id do not show up in reviews['listing_id'] =  11,500\n",
    "#   + number of reviews                                                              = 986,810\n",
    "print(df_ljr.shape)"
   ]
  },
  {
   "cell_type": "code",
   "execution_count": 11,
   "id": "0d5e6733-dd1f-45ec-871e-187a3b228e1c",
   "metadata": {},
   "outputs": [
    {
     "name": "stdout",
     "output_type": "stream",
     "text": [
      "['id', 'name', 'host_id', 'host_name', 'neighbourhood_group', 'neighbourhood', 'latitude', 'longitude', 'room_type', 'price', 'minimum_nights', 'number_of_reviews', 'last_review', 'reviews_per_month', 'calculated_host_listings_count', 'availability_365', 'number_of_reviews_ltm', 'license', 'listing_id', 'review_id', 'date', 'reviewer_id', 'reviewer_name', 'comments']\n"
     ]
    }
   ],
   "source": [
    "# cols = df_ljr100.columns.tolist()\n",
    "cols = df_ljr.columns.tolist()\n",
    "print(cols)"
   ]
  },
  {
   "cell_type": "code",
   "execution_count": 12,
   "id": "72a595cc-9b34-4a41-a89e-d465b8676982",
   "metadata": {},
   "outputs": [
    {
     "name": "stdout",
     "output_type": "stream",
     "text": [
      "<class 'pandas._libs.tslibs.timestamps.Timestamp'>\n",
      "2023-09-24 00:00:00\n",
      "(39202, 18)\n",
      "                    id                                               name  \\\n",
      "0             51944693  Home in Queens · ★4.82 · 1 bedroom · 5 beds · ...   \n",
      "8             52966412  Home in Queens · ★4.93 · 1 bedroom · 2 beds · ...   \n",
      "9              4365276  Rental unit in Brooklyn · ★4.52 · 1 bedroom · ...   \n",
      "10            51620506  Rental unit in Queens · ★4.75 · 1 bedroom · 1 ...   \n",
      "12            52013393  Condo in Queens · ★4.82 · 1 bedroom · 1 bed · ...   \n",
      "14  761666718123905227  Home in Queens · ★5.0 · 1 bedroom · 1 bed · 1 ...   \n",
      "15  689043579053364669  Rental unit in Queens · ★4.87 · 1 bedroom · 1 ...   \n",
      "17            10073940  Home in Queens · ★4.77 · 1 bedroom · 1 bed · 1...   \n",
      "21  760316567719628232  Rental unit in Queens · ★4.82 · 2 bedrooms · 3...   \n",
      "25  709364398556175620  Home in Queens · ★5.0 · 1 bedroom · 1 bed · 1 ...   \n",
      "\n",
      "      host_id host_name neighbourhood_group  neighbourhood   latitude  \\\n",
      "0    91646104       Pao              Queens       Woodside  40.743950   \n",
      "8   396969684  Tafazzul              Queens  East Elmhurst  40.766680   \n",
      "9     3081990    Amanda            Brooklyn   Williamsburg  40.708320   \n",
      "10  239139334     Helen              Queens       Flushing  40.763500   \n",
      "12  420148935    Nusrat              Queens        Jamaica  40.673440   \n",
      "14    5789328     Ashek              Queens  Richmond Hill  40.688460   \n",
      "15  473978913       Jas              Queens  East Elmhurst  40.764700   \n",
      "17   51688993     Taran              Queens        Jamaica  40.688260   \n",
      "21  487744763     Damni              Queens       Flushing  40.747784   \n",
      "25  478260569    Yvonne              Queens     St. Albans  40.704840   \n",
      "\n",
      "    longitude        room_type  price  minimum_nights  number_of_reviews  \\\n",
      "0   -73.90858  Entire home/apt  294.0              30                 57   \n",
      "8   -73.86583     Private room   86.0               1                182   \n",
      "9   -73.95588  Entire home/apt    NaN              30                274   \n",
      "10  -73.82608     Private room   53.0              30                 40   \n",
      "12  -73.78200  Entire home/apt   65.0              30                207   \n",
      "14  -73.81106     Private room  328.0              30                 78   \n",
      "15  -73.88203  Entire home/apt  142.0              30                107   \n",
      "17  -73.80384     Private room  200.0              30                184   \n",
      "21  -73.81404  Entire home/apt  150.0              30                 65   \n",
      "25  -73.76740     Private room    NaN              30                 17   \n",
      "\n",
      "   last_review  reviews_per_month  calculated_host_listings_count  \\\n",
      "0   2023-09-24               1.98                               4   \n",
      "8   2023-11-25               6.76                               1   \n",
      "9   2023-10-21               2.68                               1   \n",
      "10  2023-08-30               1.37                               3   \n",
      "12  2024-01-30               7.06                               1   \n",
      "14  2023-11-24               5.34                               2   \n",
      "15  2023-10-22               6.18                               2   \n",
      "17  2023-09-17               1.95                               1   \n",
      "21  2023-09-10               4.39                               1   \n",
      "25  2023-12-23               0.99                               6   \n",
      "\n",
      "    availability_365  number_of_reviews_ltm             license  \n",
      "0                 89                     23                      \n",
      "8                 65                     59  OSE-STRREG-0001247  \n",
      "9                  0                     27                      \n",
      "10               342                     11                      \n",
      "12                 0                     61                      \n",
      "14               179                     63                      \n",
      "15               362                     67                      \n",
      "17               365                     18                      \n",
      "21                89                     52                      \n",
      "25                 2                     11                      \n"
     ]
    }
   ],
   "source": [
    "# to do a projection and remove duplicates\n",
    "cols_of_listings = ['id', 'name', 'host_id', 'host_name', 'neighbourhood_group', \n",
    "                    'neighbourhood', 'latitude', 'longitude', 'room_type', 'price', \n",
    "                    'minimum_nights', 'number_of_reviews', 'last_review', \n",
    "                    'reviews_per_month', 'calculated_host_listings_count', \n",
    "                    'availability_365', 'number_of_reviews_ltm', 'license']\n",
    "cols_of_reviews = ['listing_id', 'review_id', 'date', 'reviewer_id', \n",
    "                   'reviewer_name', 'comments']\n",
    "\n",
    "df_ljr_new = df_ljr.drop(cols_of_reviews, axis=1).drop_duplicates()\n",
    "\n",
    "df_ljr_new['last_review'] = df_ljr_new['last_review'].apply(lambda x: convert_date_to_datetime(x))\n",
    "\n",
    "print(type(df_ljr_new.at[0,'last_review']))\n",
    "print(str(df_ljr_new.at[0,'last_review']))\n",
    "\n",
    "print(df_ljr_new.shape)\n",
    "print(df_ljr_new.head(10))"
   ]
  },
  {
   "cell_type": "code",
   "execution_count": 13,
   "id": "50762f47-894e-4daf-b223-d3162ec33ec7",
   "metadata": {},
   "outputs": [
    {
     "name": "stdout",
     "output_type": "stream",
     "text": [
      "39202\n",
      "{'id': '51944693',\n",
      " 'name': 'Home in Queens · ★4.82 · 1 bedroom · 5 beds · 1 bath',\n",
      " 'host_id': '91646104',\n",
      " 'host_name': 'Pao',\n",
      " 'neighbourhood_group': 'Queens',\n",
      " 'neighbourhood': 'Woodside',\n",
      " 'latitude': 40.74395,\n",
      " 'longitude': -73.90858,\n",
      " 'room_type': 'Entire home/apt',\n",
      " 'price': 294.0,\n",
      " 'minimum_nights': 30,\n",
      " 'number_of_reviews': 57,\n",
      " 'last_review': Timestamp('2023-09-24 00:00:00'),\n",
      " 'reviews_per_month': 1.98,\n",
      " 'calculated_host_listings_count': 4,\n",
      " 'availability_365': 89,\n",
      " 'number_of_reviews_ltm': 23,\n",
      " 'license': ''}\n"
     ]
    }
   ],
   "source": [
    "dict_ljr_new = df_ljr_new.to_dict('records')\n",
    "print(len(dict_ljr_new))\n",
    "pprint.pp(dict_ljr_new[0])"
   ]
  },
  {
   "cell_type": "code",
   "execution_count": 15,
   "id": "bbbcf116-c243-4d4e-9286-062ed682da5e",
   "metadata": {},
   "outputs": [
    {
     "name": "stdout",
     "output_type": "stream",
     "text": [
      "Have now completed step number: 1000\n",
      "Have now completed step number: 2000\n",
      "Have now completed step number: 3000\n",
      "Have now completed step number: 4000\n",
      "Have now completed step number: 5000\n",
      "Have now completed step number: 6000\n",
      "Have now completed step number: 7000\n",
      "Have now completed step number: 8000\n",
      "Have now completed step number: 9000\n",
      "Have now completed step number: 10000\n",
      "Have now completed step number: 11000\n",
      "Have now completed step number: 12000\n",
      "Have now completed step number: 13000\n",
      "Have now completed step number: 14000\n",
      "Have now completed step number: 15000\n",
      "Have now completed step number: 16000\n",
      "Have now completed step number: 17000\n",
      "Have now completed step number: 18000\n",
      "Have now completed step number: 19000\n",
      "Have now completed step number: 20000\n",
      "Have now completed step number: 21000\n",
      "Have now completed step number: 22000\n",
      "Have now completed step number: 23000\n",
      "Have now completed step number: 24000\n",
      "Have now completed step number: 25000\n",
      "Have now completed step number: 26000\n",
      "Have now completed step number: 27000\n",
      "Have now completed step number: 28000\n",
      "Have now completed step number: 29000\n",
      "Have now completed step number: 30000\n",
      "Have now completed step number: 31000\n",
      "Have now completed step number: 32000\n",
      "Have now completed step number: 33000\n",
      "Have now completed step number: 34000\n",
      "Have now completed step number: 35000\n",
      "Have now completed step number: 36000\n",
      "Have now completed step number: 37000\n",
      "Have now completed step number: 38000\n",
      "Have now completed step number: 39000\n",
      "39202\n",
      "[{'id': '762393507139462217',\n",
      "  'name': 'Hotel in New York · 1 bedroom · 2 beds · 1 private bath',\n",
      "  'host_id': '202829797',\n",
      "  'host_name': 'Crystal',\n",
      "  'neighbourhood_group': 'Manhattan',\n",
      "  'neighbourhood': 'Murray Hill',\n",
      "  'latitude': 40.749428,\n",
      "  'longitude': -73.97196,\n",
      "  'room_type': 'Private room',\n",
      "  'price': nan,\n",
      "  'minimum_nights': 30,\n",
      "  'number_of_reviews': 0,\n",
      "  'last_review': NaT,\n",
      "  'reviews_per_month': nan,\n",
      "  'calculated_host_listings_count': 3,\n",
      "  'availability_365': 364,\n",
      "  'number_of_reviews_ltm': 0,\n",
      "  'license': '',\n",
      "  'reviews': {}}]\n"
     ]
    }
   ],
   "source": [
    "i = 0\n",
    "\n",
    "for d in dict_ljr_new:\n",
    "    i += 1\n",
    "\n",
    "    df_reviews_one_listing = df_ljr.loc[df_ljr['id'] == d['id']].drop(cols_of_listings, axis=1)\n",
    "\n",
    "    df_reviews_one_listing['date'] = df_reviews_one_listing['date'].apply(lambda x: convert_date_to_datetime(x))\n",
    "\n",
    "    dicts_reviews_one_listing = df_reviews_one_listing.to_dict('records')\n",
    "\n",
    "    if len(dicts_reviews_one_listing) == 1 and dicts_reviews_one_listing[0]['review_id'] is None:\n",
    "        d['reviews'] = {}\n",
    "    else:\n",
    "        d['reviews'] = dicts_reviews_one_listing\n",
    "\n",
    "    if i % 1000 == 0:\n",
    "        print('Have now completed step number:', str(i))\n",
    "\n",
    "print(len(dict_ljr_new))\n",
    "pprint.pp(dict_ljr_new[-1:])\n",
    "\n",
    "\n",
    "    "
   ]
  },
  {
   "cell_type": "markdown",
   "id": "236925db-c088-4fa2-83f5-096916f5d9b7",
   "metadata": {},
   "source": [
    "<span style=color:blue> Doing a bulk insert    </span>"
   ]
  },
  {
   "cell_type": "code",
   "execution_count": 16,
   "id": "e052b6ff-fbe8-4953-9db3-7e4d69f9053e",
   "metadata": {},
   "outputs": [
    {
     "name": "stdout",
     "output_type": "stream",
     "text": [
      "39202\n"
     ]
    }
   ],
   "source": [
    "print(len(dict_ljr_new))"
   ]
  },
  {
   "cell_type": "code",
   "execution_count": 18,
   "id": "02cd44ac-c475-4648-930e-6d0df81c3825",
   "metadata": {},
   "outputs": [
    {
     "name": "stdout",
     "output_type": "stream",
     "text": [
      "['testing']\n",
      "Last element of result for run number 1 was:\n",
      "[ObjectId('664b1a164b86e1227ff5cfe3')]\n",
      "Last element of result for run number 2 was:\n",
      "[ObjectId('664b1a164b86e1227ff5d047')]\n",
      "Last element of result for run number 3 was:\n",
      "[ObjectId('664b1a164b86e1227ff5d0ab')]\n",
      "Last element of result for run number 4 was:\n",
      "[ObjectId('664b1a164b86e1227ff5d10f')]\n",
      "Last element of result for run number 5 was:\n",
      "[ObjectId('664b1a164b86e1227ff5d173')]\n",
      "Last element of result for run number 6 was:\n",
      "[ObjectId('664b1a174b86e1227ff5d1d7')]\n",
      "Last element of result for run number 7 was:\n",
      "[ObjectId('664b1a174b86e1227ff5d23b')]\n",
      "Last element of result for run number 8 was:\n",
      "[ObjectId('664b1a174b86e1227ff5d29f')]\n",
      "Last element of result for run number 9 was:\n",
      "[ObjectId('664b1a174b86e1227ff5d303')]\n",
      "Last element of result for run number 10 was:\n",
      "[ObjectId('664b19464b86e1227ff59d1b')]\n",
      "Last element of result for run number 11 was:\n",
      "[ObjectId('664b19464b86e1227ff59d7f')]\n",
      "Last element of result for run number 12 was:\n",
      "[ObjectId('664b19464b86e1227ff59de3')]\n",
      "Last element of result for run number 13 was:\n",
      "[ObjectId('664b19464b86e1227ff59e47')]\n",
      "Last element of result for run number 14 was:\n",
      "[ObjectId('664b19464b86e1227ff59eab')]\n",
      "Last element of result for run number 15 was:\n",
      "[ObjectId('664b19464b86e1227ff59f0f')]\n",
      "Last element of result for run number 16 was:\n",
      "[ObjectId('664b19464b86e1227ff59f73')]\n",
      "Last element of result for run number 17 was:\n",
      "[ObjectId('664b19464b86e1227ff59fd7')]\n",
      "Last element of result for run number 18 was:\n",
      "[ObjectId('664b19464b86e1227ff5a03b')]\n",
      "Last element of result for run number 19 was:\n",
      "[ObjectId('664b19464b86e1227ff5a09f')]\n",
      "Last element of result for run number 20 was:\n",
      "[ObjectId('664b19484b86e1227ff5a103')]\n",
      "Last element of result for run number 21 was:\n",
      "[ObjectId('664b19484b86e1227ff5a167')]\n",
      "Last element of result for run number 22 was:\n",
      "[ObjectId('664b19484b86e1227ff5a1cb')]\n",
      "Last element of result for run number 23 was:\n",
      "[ObjectId('664b19484b86e1227ff5a22f')]\n",
      "Last element of result for run number 24 was:\n",
      "[ObjectId('664b19484b86e1227ff5a293')]\n",
      "Last element of result for run number 25 was:\n",
      "[ObjectId('664b19484b86e1227ff5a2f7')]\n",
      "Last element of result for run number 26 was:\n",
      "[ObjectId('664b19484b86e1227ff5a35b')]\n",
      "Last element of result for run number 27 was:\n",
      "[ObjectId('664b19484b86e1227ff5a3bf')]\n",
      "Last element of result for run number 28 was:\n",
      "[ObjectId('664b19484b86e1227ff5a423')]\n",
      "Last element of result for run number 29 was:\n",
      "[ObjectId('664b19484b86e1227ff5a487')]\n",
      "Last element of result for run number 30 was:\n",
      "[ObjectId('664b19494b86e1227ff5a4eb')]\n",
      "Last element of result for run number 31 was:\n",
      "[ObjectId('664b19494b86e1227ff5a54f')]\n",
      "Last element of result for run number 32 was:\n",
      "[ObjectId('664b19494b86e1227ff5a5b3')]\n",
      "Last element of result for run number 33 was:\n",
      "[ObjectId('664b19494b86e1227ff5a617')]\n",
      "Last element of result for run number 34 was:\n",
      "[ObjectId('664b19494b86e1227ff5a67b')]\n",
      "Last element of result for run number 35 was:\n",
      "[ObjectId('664b19494b86e1227ff5a6df')]\n",
      "Last element of result for run number 36 was:\n",
      "[ObjectId('664b19494b86e1227ff5a743')]\n",
      "Last element of result for run number 37 was:\n",
      "[ObjectId('664b19494b86e1227ff5a7a7')]\n",
      "Last element of result for run number 38 was:\n",
      "[ObjectId('664b19494b86e1227ff5a80b')]\n",
      "Last element of result for run number 39 was:\n",
      "[ObjectId('664b19494b86e1227ff5a86f')]\n",
      "Last element of result for run number 40 was:\n",
      "[ObjectId('664b194a4b86e1227ff5a8d3')]\n",
      "Last element of result for run number 41 was:\n",
      "[ObjectId('664b194a4b86e1227ff5a937')]\n",
      "Last element of result for run number 42 was:\n",
      "[ObjectId('664b194a4b86e1227ff5a99b')]\n",
      "Last element of result for run number 43 was:\n",
      "[ObjectId('664b194a4b86e1227ff5a9ff')]\n",
      "Last element of result for run number 44 was:\n",
      "[ObjectId('664b194a4b86e1227ff5aa63')]\n",
      "Last element of result for run number 45 was:\n",
      "[ObjectId('664b194a4b86e1227ff5aac7')]\n",
      "Last element of result for run number 46 was:\n",
      "[ObjectId('664b194a4b86e1227ff5ab2b')]\n",
      "Last element of result for run number 47 was:\n",
      "[ObjectId('664b194a4b86e1227ff5ab8f')]\n",
      "Last element of result for run number 48 was:\n",
      "[ObjectId('664b194a4b86e1227ff5abf3')]\n",
      "Last element of result for run number 49 was:\n",
      "[ObjectId('664b194a4b86e1227ff5ac57')]\n",
      "Last element of result for run number 50 was:\n",
      "[ObjectId('664b194b4b86e1227ff5acbb')]\n",
      "Last element of result for run number 51 was:\n",
      "[ObjectId('664b194b4b86e1227ff5ad1f')]\n",
      "Last element of result for run number 52 was:\n",
      "[ObjectId('664b194b4b86e1227ff5ad83')]\n",
      "Last element of result for run number 53 was:\n",
      "[ObjectId('664b194b4b86e1227ff5ade7')]\n",
      "Last element of result for run number 54 was:\n",
      "[ObjectId('664b194b4b86e1227ff5ae4b')]\n",
      "Last element of result for run number 55 was:\n",
      "[ObjectId('664b194b4b86e1227ff5aeaf')]\n",
      "Last element of result for run number 56 was:\n",
      "[ObjectId('664b194b4b86e1227ff5af13')]\n",
      "Last element of result for run number 57 was:\n",
      "[ObjectId('664b194b4b86e1227ff5af77')]\n",
      "Last element of result for run number 58 was:\n",
      "[ObjectId('664b194b4b86e1227ff5afdb')]\n",
      "Last element of result for run number 59 was:\n",
      "[ObjectId('664b194b4b86e1227ff5b03f')]\n",
      "Last element of result for run number 60 was:\n",
      "[ObjectId('664b194b4b86e1227ff5b0a3')]\n",
      "Last element of result for run number 61 was:\n",
      "[ObjectId('664b194b4b86e1227ff5b107')]\n",
      "Last element of result for run number 62 was:\n",
      "[ObjectId('664b194b4b86e1227ff5b16b')]\n",
      "Last element of result for run number 63 was:\n",
      "[ObjectId('664b194b4b86e1227ff5b1cf')]\n",
      "Last element of result for run number 64 was:\n",
      "[ObjectId('664b194b4b86e1227ff5b233')]\n",
      "Last element of result for run number 65 was:\n",
      "[ObjectId('664b194b4b86e1227ff5b297')]\n",
      "Last element of result for run number 66 was:\n",
      "[ObjectId('664b194b4b86e1227ff5b2fb')]\n",
      "Last element of result for run number 67 was:\n",
      "[ObjectId('664b194b4b86e1227ff5b35f')]\n",
      "Last element of result for run number 68 was:\n",
      "[ObjectId('664b194b4b86e1227ff5b3c3')]\n",
      "Last element of result for run number 69 was:\n",
      "[ObjectId('664b194b4b86e1227ff5b427')]\n",
      "Last element of result for run number 70 was:\n",
      "[ObjectId('664b194b4b86e1227ff5b48b')]\n",
      "Last element of result for run number 71 was:\n",
      "[ObjectId('664b194b4b86e1227ff5b4ef')]\n",
      "Last element of result for run number 72 was:\n",
      "[ObjectId('664b194b4b86e1227ff5b553')]\n",
      "Last element of result for run number 73 was:\n",
      "[ObjectId('664b194b4b86e1227ff5b5b7')]\n",
      "Last element of result for run number 74 was:\n",
      "[ObjectId('664b194b4b86e1227ff5b61b')]\n",
      "Last element of result for run number 75 was:\n",
      "[ObjectId('664b194b4b86e1227ff5b67f')]\n",
      "Last element of result for run number 76 was:\n",
      "[ObjectId('664b194b4b86e1227ff5b6e3')]\n",
      "Last element of result for run number 77 was:\n",
      "[ObjectId('664b194b4b86e1227ff5b747')]\n",
      "Last element of result for run number 78 was:\n",
      "[ObjectId('664b194b4b86e1227ff5b7ab')]\n",
      "Last element of result for run number 79 was:\n",
      "[ObjectId('664b194b4b86e1227ff5b80f')]\n",
      "Last element of result for run number 80 was:\n",
      "[ObjectId('664b194c4b86e1227ff5b873')]\n",
      "Last element of result for run number 81 was:\n",
      "[ObjectId('664b194c4b86e1227ff5b8d7')]\n",
      "Last element of result for run number 82 was:\n",
      "[ObjectId('664b194c4b86e1227ff5b93b')]\n",
      "Last element of result for run number 83 was:\n",
      "[ObjectId('664b194c4b86e1227ff5b99f')]\n",
      "Last element of result for run number 84 was:\n",
      "[ObjectId('664b194c4b86e1227ff5ba03')]\n",
      "Last element of result for run number 85 was:\n",
      "[ObjectId('664b194c4b86e1227ff5ba67')]\n",
      "Last element of result for run number 86 was:\n",
      "[ObjectId('664b194c4b86e1227ff5bacb')]\n",
      "Last element of result for run number 87 was:\n",
      "[ObjectId('664b194c4b86e1227ff5bb2f')]\n",
      "Last element of result for run number 88 was:\n",
      "[ObjectId('664b194c4b86e1227ff5bb93')]\n",
      "Last element of result for run number 89 was:\n",
      "[ObjectId('664b194c4b86e1227ff5bbf7')]\n",
      "Last element of result for run number 90 was:\n",
      "[ObjectId('664b194c4b86e1227ff5bc5b')]\n",
      "Last element of result for run number 91 was:\n",
      "[ObjectId('664b194c4b86e1227ff5bcbf')]\n",
      "Last element of result for run number 92 was:\n",
      "[ObjectId('664b194c4b86e1227ff5bd23')]\n",
      "Last element of result for run number 93 was:\n",
      "[ObjectId('664b194c4b86e1227ff5bd87')]\n",
      "Last element of result for run number 94 was:\n",
      "[ObjectId('664b194c4b86e1227ff5bdeb')]\n",
      "Last element of result for run number 95 was:\n",
      "[ObjectId('664b194c4b86e1227ff5be4f')]\n",
      "Last element of result for run number 96 was:\n",
      "[ObjectId('664b194c4b86e1227ff5beb3')]\n",
      "Last element of result for run number 97 was:\n",
      "[ObjectId('664b194c4b86e1227ff5bf17')]\n",
      "Last element of result for run number 98 was:\n",
      "[ObjectId('664b194c4b86e1227ff5bf7b')]\n",
      "Last element of result for run number 99 was:\n",
      "[ObjectId('664b194c4b86e1227ff5bfdf')]\n",
      "Last element of result for run number 100 was:\n",
      "[ObjectId('664b194c4b86e1227ff5c043')]\n",
      "Last element of result for run number 101 was:\n",
      "[ObjectId('664b194c4b86e1227ff5c0a7')]\n",
      "Last element of result for run number 102 was:\n",
      "[ObjectId('664b194c4b86e1227ff5c10b')]\n",
      "Last element of result for run number 103 was:\n",
      "[ObjectId('664b194c4b86e1227ff5c16f')]\n",
      "Last element of result for run number 104 was:\n",
      "[ObjectId('664b194c4b86e1227ff5c1d3')]\n",
      "Last element of result for run number 105 was:\n",
      "[ObjectId('664b194c4b86e1227ff5c237')]\n",
      "Last element of result for run number 106 was:\n",
      "[ObjectId('664b194c4b86e1227ff5c29b')]\n",
      "Last element of result for run number 107 was:\n",
      "[ObjectId('664b194c4b86e1227ff5c2ff')]\n",
      "Last element of result for run number 108 was:\n",
      "[ObjectId('664b194c4b86e1227ff5c363')]\n",
      "Last element of result for run number 109 was:\n",
      "[ObjectId('664b194c4b86e1227ff5c3c7')]\n",
      "Last element of result for run number 110 was:\n",
      "[ObjectId('664b194c4b86e1227ff5c42b')]\n",
      "Last element of result for run number 111 was:\n",
      "[ObjectId('664b194c4b86e1227ff5c48f')]\n",
      "Last element of result for run number 112 was:\n",
      "[ObjectId('664b194c4b86e1227ff5c4f3')]\n",
      "Last element of result for run number 113 was:\n",
      "[ObjectId('664b194c4b86e1227ff5c557')]\n",
      "Last element of result for run number 114 was:\n",
      "[ObjectId('664b194c4b86e1227ff5c5bb')]\n",
      "Last element of result for run number 115 was:\n",
      "[ObjectId('664b194c4b86e1227ff5c61f')]\n",
      "Last element of result for run number 116 was:\n",
      "[ObjectId('664b194c4b86e1227ff5c683')]\n",
      "Last element of result for run number 117 was:\n",
      "[ObjectId('664b194c4b86e1227ff5c6e7')]\n",
      "Last element of result for run number 118 was:\n",
      "[ObjectId('664b194c4b86e1227ff5c74b')]\n",
      "Last element of result for run number 119 was:\n",
      "[ObjectId('664b194c4b86e1227ff5c7af')]\n",
      "Last element of result for run number 120 was:\n",
      "[ObjectId('664b194c4b86e1227ff5c813')]\n",
      "Last element of result for run number 121 was:\n",
      "[ObjectId('664b194c4b86e1227ff5c877')]\n",
      "Last element of result for run number 122 was:\n",
      "[ObjectId('664b194c4b86e1227ff5c8db')]\n",
      "Last element of result for run number 123 was:\n",
      "[ObjectId('664b194c4b86e1227ff5c93f')]\n",
      "Last element of result for run number 124 was:\n",
      "[ObjectId('664b194c4b86e1227ff5c9a3')]\n",
      "Last element of result for run number 125 was:\n",
      "[ObjectId('664b194c4b86e1227ff5ca07')]\n",
      "Last element of result for run number 126 was:\n",
      "[ObjectId('664b194c4b86e1227ff5ca6b')]\n",
      "Last element of result for run number 127 was:\n",
      "[ObjectId('664b194c4b86e1227ff5cacf')]\n",
      "Last element of result for run number 128 was:\n",
      "[ObjectId('664b194c4b86e1227ff5cb33')]\n",
      "Last element of result for run number 129 was:\n",
      "[ObjectId('664b194c4b86e1227ff5cb97')]\n",
      "Last element of result for run number 130 was:\n",
      "[ObjectId('664b194d4b86e1227ff5cbfb')]\n",
      "Last element of result for run number 131 was:\n",
      "[ObjectId('664b194d4b86e1227ff5cc5f')]\n",
      "Last element of result for run number 132 was:\n",
      "[ObjectId('664b194d4b86e1227ff5ccc3')]\n",
      "Last element of result for run number 133 was:\n",
      "[ObjectId('664b194d4b86e1227ff5cd27')]\n",
      "Last element of result for run number 134 was:\n",
      "[ObjectId('664b194d4b86e1227ff5cd8b')]\n",
      "Last element of result for run number 135 was:\n",
      "[ObjectId('664b194d4b86e1227ff5cdef')]\n",
      "Last element of result for run number 136 was:\n",
      "[ObjectId('664b194d4b86e1227ff5ce53')]\n",
      "Last element of result for run number 137 was:\n",
      "[ObjectId('664b194d4b86e1227ff5ceb7')]\n"
     ]
    },
    {
     "ename": "ValueError",
     "evalue": "NaTType does not support utcoffset",
     "output_type": "error",
     "traceback": [
      "\u001b[0;31m---------------------------------------------------------------------------\u001b[0m",
      "\u001b[0;31mValueError\u001b[0m                                Traceback (most recent call last)",
      "Cell \u001b[0;32mIn[18], line 9\u001b[0m\n\u001b[1;32m      7\u001b[0m time1 \u001b[38;5;241m=\u001b[39m datetime\u001b[38;5;241m.\u001b[39mnow()\n\u001b[1;32m      8\u001b[0m \u001b[38;5;28;01mfor\u001b[39;00m i \u001b[38;5;129;01min\u001b[39;00m \u001b[38;5;28mrange\u001b[39m(\u001b[38;5;241m1\u001b[39m,\u001b[38;5;241m392\u001b[39m):\n\u001b[0;32m----> 9\u001b[0m     result \u001b[38;5;241m=\u001b[39m \u001b[43mlistings\u001b[49m\u001b[38;5;241;43m.\u001b[39;49m\u001b[43minsert_many\u001b[49m\u001b[43m(\u001b[49m\u001b[43mdict_ljr_new\u001b[49m\u001b[43m[\u001b[49m\u001b[38;5;241;43m100\u001b[39;49m\u001b[38;5;241;43m*\u001b[39;49m\u001b[43mi\u001b[49m\u001b[43m:\u001b[49m\u001b[38;5;241;43m100\u001b[39;49m\u001b[38;5;241;43m*\u001b[39;49m\u001b[43m(\u001b[49m\u001b[43mi\u001b[49m\u001b[38;5;241;43m+\u001b[39;49m\u001b[38;5;241;43m1\u001b[39;49m\u001b[43m)\u001b[49m\u001b[43m]\u001b[49m\u001b[43m)\u001b[49m\n\u001b[1;32m     10\u001b[0m     \u001b[38;5;28mprint\u001b[39m(\u001b[38;5;124m'\u001b[39m\u001b[38;5;124mLast element of result for run number\u001b[39m\u001b[38;5;124m'\u001b[39m, \u001b[38;5;28mstr\u001b[39m(i), \u001b[38;5;124m'\u001b[39m\u001b[38;5;124mwas:\u001b[39m\u001b[38;5;124m'\u001b[39m)\n\u001b[1;32m     11\u001b[0m     \u001b[38;5;28mprint\u001b[39m(result\u001b[38;5;241m.\u001b[39minserted_ids[\u001b[38;5;241m-\u001b[39m\u001b[38;5;241m1\u001b[39m:])\n",
      "File \u001b[0;32m~/opt/anaconda3/lib/python3.11/site-packages/pymongo/_csot.py:108\u001b[0m, in \u001b[0;36mapply.<locals>.csot_wrapper\u001b[0;34m(self, *args, **kwargs)\u001b[0m\n\u001b[1;32m    106\u001b[0m         \u001b[38;5;28;01mwith\u001b[39;00m _TimeoutContext(timeout):\n\u001b[1;32m    107\u001b[0m             \u001b[38;5;28;01mreturn\u001b[39;00m func(\u001b[38;5;28mself\u001b[39m, \u001b[38;5;241m*\u001b[39margs, \u001b[38;5;241m*\u001b[39m\u001b[38;5;241m*\u001b[39mkwargs)\n\u001b[0;32m--> 108\u001b[0m \u001b[38;5;28;01mreturn\u001b[39;00m \u001b[43mfunc\u001b[49m\u001b[43m(\u001b[49m\u001b[38;5;28;43mself\u001b[39;49m\u001b[43m,\u001b[49m\u001b[43m \u001b[49m\u001b[38;5;241;43m*\u001b[39;49m\u001b[43margs\u001b[49m\u001b[43m,\u001b[49m\u001b[43m \u001b[49m\u001b[38;5;241;43m*\u001b[39;49m\u001b[38;5;241;43m*\u001b[39;49m\u001b[43mkwargs\u001b[49m\u001b[43m)\u001b[49m\n",
      "File \u001b[0;32m~/opt/anaconda3/lib/python3.11/site-packages/pymongo/collection.py:742\u001b[0m, in \u001b[0;36mCollection.insert_many\u001b[0;34m(self, documents, ordered, bypass_document_validation, session, comment)\u001b[0m\n\u001b[1;32m    740\u001b[0m blk \u001b[38;5;241m=\u001b[39m _Bulk(\u001b[38;5;28mself\u001b[39m, ordered, bypass_document_validation, comment\u001b[38;5;241m=\u001b[39mcomment)\n\u001b[1;32m    741\u001b[0m blk\u001b[38;5;241m.\u001b[39mops \u001b[38;5;241m=\u001b[39m \u001b[38;5;28mlist\u001b[39m(gen())\n\u001b[0;32m--> 742\u001b[0m \u001b[43mblk\u001b[49m\u001b[38;5;241;43m.\u001b[39;49m\u001b[43mexecute\u001b[49m\u001b[43m(\u001b[49m\u001b[43mwrite_concern\u001b[49m\u001b[43m,\u001b[49m\u001b[43m \u001b[49m\u001b[43msession\u001b[49m\u001b[43m,\u001b[49m\u001b[43m \u001b[49m\u001b[43m_Op\u001b[49m\u001b[38;5;241;43m.\u001b[39;49m\u001b[43mINSERT\u001b[49m\u001b[43m)\u001b[49m\n\u001b[1;32m    743\u001b[0m \u001b[38;5;28;01mreturn\u001b[39;00m InsertManyResult(inserted_ids, write_concern\u001b[38;5;241m.\u001b[39macknowledged)\n",
      "File \u001b[0;32m~/opt/anaconda3/lib/python3.11/site-packages/pymongo/bulk.py:595\u001b[0m, in \u001b[0;36m_Bulk.execute\u001b[0;34m(self, write_concern, session, operation)\u001b[0m\n\u001b[1;32m    593\u001b[0m         \u001b[38;5;28;01mreturn\u001b[39;00m \u001b[38;5;28;01mNone\u001b[39;00m\n\u001b[1;32m    594\u001b[0m \u001b[38;5;28;01melse\u001b[39;00m:\n\u001b[0;32m--> 595\u001b[0m     \u001b[38;5;28;01mreturn\u001b[39;00m \u001b[38;5;28;43mself\u001b[39;49m\u001b[38;5;241;43m.\u001b[39;49m\u001b[43mexecute_command\u001b[49m\u001b[43m(\u001b[49m\u001b[43mgenerator\u001b[49m\u001b[43m,\u001b[49m\u001b[43m \u001b[49m\u001b[43mwrite_concern\u001b[49m\u001b[43m,\u001b[49m\u001b[43m \u001b[49m\u001b[43msession\u001b[49m\u001b[43m,\u001b[49m\u001b[43m \u001b[49m\u001b[43moperation\u001b[49m\u001b[43m)\u001b[49m\n",
      "File \u001b[0;32m~/opt/anaconda3/lib/python3.11/site-packages/pymongo/bulk.py:452\u001b[0m, in \u001b[0;36m_Bulk.execute_command\u001b[0;34m(self, generator, write_concern, session, operation)\u001b[0m\n\u001b[1;32m    441\u001b[0m     \u001b[38;5;28mself\u001b[39m\u001b[38;5;241m.\u001b[39m_execute_command(\n\u001b[1;32m    442\u001b[0m         generator,\n\u001b[1;32m    443\u001b[0m         write_concern,\n\u001b[0;32m   (...)\u001b[0m\n\u001b[1;32m    448\u001b[0m         full_result,\n\u001b[1;32m    449\u001b[0m     )\n\u001b[1;32m    451\u001b[0m client \u001b[38;5;241m=\u001b[39m \u001b[38;5;28mself\u001b[39m\u001b[38;5;241m.\u001b[39mcollection\u001b[38;5;241m.\u001b[39mdatabase\u001b[38;5;241m.\u001b[39mclient\n\u001b[0;32m--> 452\u001b[0m \u001b[43mclient\u001b[49m\u001b[38;5;241;43m.\u001b[39;49m\u001b[43m_retryable_write\u001b[49m\u001b[43m(\u001b[49m\n\u001b[1;32m    453\u001b[0m \u001b[43m    \u001b[49m\u001b[38;5;28;43mself\u001b[39;49m\u001b[38;5;241;43m.\u001b[39;49m\u001b[43mis_retryable\u001b[49m\u001b[43m,\u001b[49m\n\u001b[1;32m    454\u001b[0m \u001b[43m    \u001b[49m\u001b[43mretryable_bulk\u001b[49m\u001b[43m,\u001b[49m\n\u001b[1;32m    455\u001b[0m \u001b[43m    \u001b[49m\u001b[43msession\u001b[49m\u001b[43m,\u001b[49m\n\u001b[1;32m    456\u001b[0m \u001b[43m    \u001b[49m\u001b[43moperation\u001b[49m\u001b[43m,\u001b[49m\n\u001b[1;32m    457\u001b[0m \u001b[43m    \u001b[49m\u001b[43mbulk\u001b[49m\u001b[38;5;241;43m=\u001b[39;49m\u001b[38;5;28;43mself\u001b[39;49m\u001b[43m,\u001b[49m\n\u001b[1;32m    458\u001b[0m \u001b[43m    \u001b[49m\u001b[43moperation_id\u001b[49m\u001b[38;5;241;43m=\u001b[39;49m\u001b[43mop_id\u001b[49m\u001b[43m,\u001b[49m\n\u001b[1;32m    459\u001b[0m \u001b[43m\u001b[49m\u001b[43m)\u001b[49m\n\u001b[1;32m    461\u001b[0m \u001b[38;5;28;01mif\u001b[39;00m full_result[\u001b[38;5;124m\"\u001b[39m\u001b[38;5;124mwriteErrors\u001b[39m\u001b[38;5;124m\"\u001b[39m] \u001b[38;5;129;01mor\u001b[39;00m full_result[\u001b[38;5;124m\"\u001b[39m\u001b[38;5;124mwriteConcernErrors\u001b[39m\u001b[38;5;124m\"\u001b[39m]:\n\u001b[1;32m    462\u001b[0m     _raise_bulk_write_error(full_result)\n",
      "File \u001b[0;32m~/opt/anaconda3/lib/python3.11/site-packages/pymongo/mongo_client.py:1569\u001b[0m, in \u001b[0;36mMongoClient._retryable_write\u001b[0;34m(self, retryable, func, session, operation, bulk, operation_id)\u001b[0m\n\u001b[1;32m   1555\u001b[0m \u001b[38;5;250m\u001b[39m\u001b[38;5;124;03m\"\"\"Execute an operation with consecutive retries if possible\u001b[39;00m\n\u001b[1;32m   1556\u001b[0m \n\u001b[1;32m   1557\u001b[0m \u001b[38;5;124;03mReturns func()'s return value on success. On error retries the same\u001b[39;00m\n\u001b[0;32m   (...)\u001b[0m\n\u001b[1;32m   1566\u001b[0m \u001b[38;5;124;03m:param bulk: bulk abstraction to execute operations in bulk, defaults to None\u001b[39;00m\n\u001b[1;32m   1567\u001b[0m \u001b[38;5;124;03m\"\"\"\u001b[39;00m\n\u001b[1;32m   1568\u001b[0m \u001b[38;5;28;01mwith\u001b[39;00m \u001b[38;5;28mself\u001b[39m\u001b[38;5;241m.\u001b[39m_tmp_session(session) \u001b[38;5;28;01mas\u001b[39;00m s:\n\u001b[0;32m-> 1569\u001b[0m     \u001b[38;5;28;01mreturn\u001b[39;00m \u001b[38;5;28;43mself\u001b[39;49m\u001b[38;5;241;43m.\u001b[39;49m\u001b[43m_retry_with_session\u001b[49m\u001b[43m(\u001b[49m\u001b[43mretryable\u001b[49m\u001b[43m,\u001b[49m\u001b[43m \u001b[49m\u001b[43mfunc\u001b[49m\u001b[43m,\u001b[49m\u001b[43m \u001b[49m\u001b[43ms\u001b[49m\u001b[43m,\u001b[49m\u001b[43m \u001b[49m\u001b[43mbulk\u001b[49m\u001b[43m,\u001b[49m\u001b[43m \u001b[49m\u001b[43moperation\u001b[49m\u001b[43m,\u001b[49m\u001b[43m \u001b[49m\u001b[43moperation_id\u001b[49m\u001b[43m)\u001b[49m\n",
      "File \u001b[0;32m~/opt/anaconda3/lib/python3.11/site-packages/pymongo/mongo_client.py:1455\u001b[0m, in \u001b[0;36mMongoClient._retry_with_session\u001b[0;34m(self, retryable, func, session, bulk, operation, operation_id)\u001b[0m\n\u001b[1;32m   1450\u001b[0m \u001b[38;5;66;03m# Ensure that the options supports retry_writes and there is a valid session not in\u001b[39;00m\n\u001b[1;32m   1451\u001b[0m \u001b[38;5;66;03m# transaction, otherwise, we will not support retry behavior for this txn.\u001b[39;00m\n\u001b[1;32m   1452\u001b[0m retryable \u001b[38;5;241m=\u001b[39m \u001b[38;5;28mbool\u001b[39m(\n\u001b[1;32m   1453\u001b[0m     retryable \u001b[38;5;129;01mand\u001b[39;00m \u001b[38;5;28mself\u001b[39m\u001b[38;5;241m.\u001b[39moptions\u001b[38;5;241m.\u001b[39mretry_writes \u001b[38;5;129;01mand\u001b[39;00m session \u001b[38;5;129;01mand\u001b[39;00m \u001b[38;5;129;01mnot\u001b[39;00m session\u001b[38;5;241m.\u001b[39min_transaction\n\u001b[1;32m   1454\u001b[0m )\n\u001b[0;32m-> 1455\u001b[0m \u001b[38;5;28;01mreturn\u001b[39;00m \u001b[38;5;28;43mself\u001b[39;49m\u001b[38;5;241;43m.\u001b[39;49m\u001b[43m_retry_internal\u001b[49m\u001b[43m(\u001b[49m\n\u001b[1;32m   1456\u001b[0m \u001b[43m    \u001b[49m\u001b[43mfunc\u001b[49m\u001b[38;5;241;43m=\u001b[39;49m\u001b[43mfunc\u001b[49m\u001b[43m,\u001b[49m\n\u001b[1;32m   1457\u001b[0m \u001b[43m    \u001b[49m\u001b[43msession\u001b[49m\u001b[38;5;241;43m=\u001b[39;49m\u001b[43msession\u001b[49m\u001b[43m,\u001b[49m\n\u001b[1;32m   1458\u001b[0m \u001b[43m    \u001b[49m\u001b[43mbulk\u001b[49m\u001b[38;5;241;43m=\u001b[39;49m\u001b[43mbulk\u001b[49m\u001b[43m,\u001b[49m\n\u001b[1;32m   1459\u001b[0m \u001b[43m    \u001b[49m\u001b[43moperation\u001b[49m\u001b[38;5;241;43m=\u001b[39;49m\u001b[43moperation\u001b[49m\u001b[43m,\u001b[49m\n\u001b[1;32m   1460\u001b[0m \u001b[43m    \u001b[49m\u001b[43mretryable\u001b[49m\u001b[38;5;241;43m=\u001b[39;49m\u001b[43mretryable\u001b[49m\u001b[43m,\u001b[49m\n\u001b[1;32m   1461\u001b[0m \u001b[43m    \u001b[49m\u001b[43moperation_id\u001b[49m\u001b[38;5;241;43m=\u001b[39;49m\u001b[43moperation_id\u001b[49m\u001b[43m,\u001b[49m\n\u001b[1;32m   1462\u001b[0m \u001b[43m\u001b[49m\u001b[43m)\u001b[49m\n",
      "File \u001b[0;32m~/opt/anaconda3/lib/python3.11/site-packages/pymongo/_csot.py:108\u001b[0m, in \u001b[0;36mapply.<locals>.csot_wrapper\u001b[0;34m(self, *args, **kwargs)\u001b[0m\n\u001b[1;32m    106\u001b[0m         \u001b[38;5;28;01mwith\u001b[39;00m _TimeoutContext(timeout):\n\u001b[1;32m    107\u001b[0m             \u001b[38;5;28;01mreturn\u001b[39;00m func(\u001b[38;5;28mself\u001b[39m, \u001b[38;5;241m*\u001b[39margs, \u001b[38;5;241m*\u001b[39m\u001b[38;5;241m*\u001b[39mkwargs)\n\u001b[0;32m--> 108\u001b[0m \u001b[38;5;28;01mreturn\u001b[39;00m \u001b[43mfunc\u001b[49m\u001b[43m(\u001b[49m\u001b[38;5;28;43mself\u001b[39;49m\u001b[43m,\u001b[49m\u001b[43m \u001b[49m\u001b[38;5;241;43m*\u001b[39;49m\u001b[43margs\u001b[49m\u001b[43m,\u001b[49m\u001b[43m \u001b[49m\u001b[38;5;241;43m*\u001b[39;49m\u001b[38;5;241;43m*\u001b[39;49m\u001b[43mkwargs\u001b[49m\u001b[43m)\u001b[49m\n",
      "File \u001b[0;32m~/opt/anaconda3/lib/python3.11/site-packages/pymongo/mongo_client.py:1501\u001b[0m, in \u001b[0;36mMongoClient._retry_internal\u001b[0;34m(self, func, session, bulk, operation, is_read, address, read_pref, retryable, operation_id)\u001b[0m\n\u001b[1;32m   1464\u001b[0m \u001b[38;5;129m@_csot\u001b[39m\u001b[38;5;241m.\u001b[39mapply\n\u001b[1;32m   1465\u001b[0m \u001b[38;5;28;01mdef\u001b[39;00m \u001b[38;5;21m_retry_internal\u001b[39m(\n\u001b[1;32m   1466\u001b[0m     \u001b[38;5;28mself\u001b[39m,\n\u001b[0;32m   (...)\u001b[0m\n\u001b[1;32m   1475\u001b[0m     operation_id: Optional[\u001b[38;5;28mint\u001b[39m] \u001b[38;5;241m=\u001b[39m \u001b[38;5;28;01mNone\u001b[39;00m,\n\u001b[1;32m   1476\u001b[0m ) \u001b[38;5;241m-\u001b[39m\u001b[38;5;241m>\u001b[39m T:\n\u001b[1;32m   1477\u001b[0m \u001b[38;5;250m    \u001b[39m\u001b[38;5;124;03m\"\"\"Internal retryable helper for all client transactions.\u001b[39;00m\n\u001b[1;32m   1478\u001b[0m \n\u001b[1;32m   1479\u001b[0m \u001b[38;5;124;03m    :param func: Callback function we want to retry\u001b[39;00m\n\u001b[0;32m   (...)\u001b[0m\n\u001b[1;32m   1488\u001b[0m \u001b[38;5;124;03m    :return: Output of the calling func()\u001b[39;00m\n\u001b[1;32m   1489\u001b[0m \u001b[38;5;124;03m    \"\"\"\u001b[39;00m\n\u001b[1;32m   1490\u001b[0m     \u001b[38;5;28;01mreturn\u001b[39;00m \u001b[43m_ClientConnectionRetryable\u001b[49m\u001b[43m(\u001b[49m\n\u001b[1;32m   1491\u001b[0m \u001b[43m        \u001b[49m\u001b[43mmongo_client\u001b[49m\u001b[38;5;241;43m=\u001b[39;49m\u001b[38;5;28;43mself\u001b[39;49m\u001b[43m,\u001b[49m\n\u001b[1;32m   1492\u001b[0m \u001b[43m        \u001b[49m\u001b[43mfunc\u001b[49m\u001b[38;5;241;43m=\u001b[39;49m\u001b[43mfunc\u001b[49m\u001b[43m,\u001b[49m\n\u001b[1;32m   1493\u001b[0m \u001b[43m        \u001b[49m\u001b[43mbulk\u001b[49m\u001b[38;5;241;43m=\u001b[39;49m\u001b[43mbulk\u001b[49m\u001b[43m,\u001b[49m\n\u001b[1;32m   1494\u001b[0m \u001b[43m        \u001b[49m\u001b[43moperation\u001b[49m\u001b[38;5;241;43m=\u001b[39;49m\u001b[43moperation\u001b[49m\u001b[43m,\u001b[49m\n\u001b[1;32m   1495\u001b[0m \u001b[43m        \u001b[49m\u001b[43mis_read\u001b[49m\u001b[38;5;241;43m=\u001b[39;49m\u001b[43mis_read\u001b[49m\u001b[43m,\u001b[49m\n\u001b[1;32m   1496\u001b[0m \u001b[43m        \u001b[49m\u001b[43msession\u001b[49m\u001b[38;5;241;43m=\u001b[39;49m\u001b[43msession\u001b[49m\u001b[43m,\u001b[49m\n\u001b[1;32m   1497\u001b[0m \u001b[43m        \u001b[49m\u001b[43mread_pref\u001b[49m\u001b[38;5;241;43m=\u001b[39;49m\u001b[43mread_pref\u001b[49m\u001b[43m,\u001b[49m\n\u001b[1;32m   1498\u001b[0m \u001b[43m        \u001b[49m\u001b[43maddress\u001b[49m\u001b[38;5;241;43m=\u001b[39;49m\u001b[43maddress\u001b[49m\u001b[43m,\u001b[49m\n\u001b[1;32m   1499\u001b[0m \u001b[43m        \u001b[49m\u001b[43mretryable\u001b[49m\u001b[38;5;241;43m=\u001b[39;49m\u001b[43mretryable\u001b[49m\u001b[43m,\u001b[49m\n\u001b[1;32m   1500\u001b[0m \u001b[43m        \u001b[49m\u001b[43moperation_id\u001b[49m\u001b[38;5;241;43m=\u001b[39;49m\u001b[43moperation_id\u001b[49m\u001b[43m,\u001b[49m\n\u001b[0;32m-> 1501\u001b[0m \u001b[43m    \u001b[49m\u001b[43m)\u001b[49m\u001b[38;5;241;43m.\u001b[39;49m\u001b[43mrun\u001b[49m\u001b[43m(\u001b[49m\u001b[43m)\u001b[49m\n",
      "File \u001b[0;32m~/opt/anaconda3/lib/python3.11/site-packages/pymongo/mongo_client.py:2347\u001b[0m, in \u001b[0;36m_ClientConnectionRetryable.run\u001b[0;34m(self)\u001b[0m\n\u001b[1;32m   2345\u001b[0m \u001b[38;5;28mself\u001b[39m\u001b[38;5;241m.\u001b[39m_check_last_error(check_csot\u001b[38;5;241m=\u001b[39m\u001b[38;5;28;01mTrue\u001b[39;00m)\n\u001b[1;32m   2346\u001b[0m \u001b[38;5;28;01mtry\u001b[39;00m:\n\u001b[0;32m-> 2347\u001b[0m     \u001b[38;5;28;01mreturn\u001b[39;00m \u001b[38;5;28mself\u001b[39m\u001b[38;5;241m.\u001b[39m_read() \u001b[38;5;28;01mif\u001b[39;00m \u001b[38;5;28mself\u001b[39m\u001b[38;5;241m.\u001b[39m_is_read \u001b[38;5;28;01melse\u001b[39;00m \u001b[38;5;28;43mself\u001b[39;49m\u001b[38;5;241;43m.\u001b[39;49m\u001b[43m_write\u001b[49m\u001b[43m(\u001b[49m\u001b[43m)\u001b[49m\n\u001b[1;32m   2348\u001b[0m \u001b[38;5;28;01mexcept\u001b[39;00m ServerSelectionTimeoutError:\n\u001b[1;32m   2349\u001b[0m     \u001b[38;5;66;03m# The application may think the write was never attempted\u001b[39;00m\n\u001b[1;32m   2350\u001b[0m     \u001b[38;5;66;03m# if we raise ServerSelectionTimeoutError on the retry\u001b[39;00m\n\u001b[1;32m   2351\u001b[0m     \u001b[38;5;66;03m# attempt. Raise the original exception instead.\u001b[39;00m\n\u001b[1;32m   2352\u001b[0m     \u001b[38;5;28mself\u001b[39m\u001b[38;5;241m.\u001b[39m_check_last_error()\n",
      "File \u001b[0;32m~/opt/anaconda3/lib/python3.11/site-packages/pymongo/mongo_client.py:2464\u001b[0m, in \u001b[0;36m_ClientConnectionRetryable._write\u001b[0;34m(self)\u001b[0m\n\u001b[1;32m   2462\u001b[0m             \u001b[38;5;28mself\u001b[39m\u001b[38;5;241m.\u001b[39m_check_last_error()\n\u001b[1;32m   2463\u001b[0m             \u001b[38;5;28mself\u001b[39m\u001b[38;5;241m.\u001b[39m_retryable \u001b[38;5;241m=\u001b[39m \u001b[38;5;28;01mFalse\u001b[39;00m\n\u001b[0;32m-> 2464\u001b[0m         \u001b[38;5;28;01mreturn\u001b[39;00m \u001b[38;5;28;43mself\u001b[39;49m\u001b[38;5;241;43m.\u001b[39;49m\u001b[43m_func\u001b[49m\u001b[43m(\u001b[49m\u001b[38;5;28;43mself\u001b[39;49m\u001b[38;5;241;43m.\u001b[39;49m\u001b[43m_session\u001b[49m\u001b[43m,\u001b[49m\u001b[43m \u001b[49m\u001b[43mconn\u001b[49m\u001b[43m,\u001b[49m\u001b[43m \u001b[49m\u001b[38;5;28;43mself\u001b[39;49m\u001b[38;5;241;43m.\u001b[39;49m\u001b[43m_retryable\u001b[49m\u001b[43m)\u001b[49m  \u001b[38;5;66;03m# type: ignore\u001b[39;00m\n\u001b[1;32m   2465\u001b[0m \u001b[38;5;28;01mexcept\u001b[39;00m PyMongoError \u001b[38;5;28;01mas\u001b[39;00m exc:\n\u001b[1;32m   2466\u001b[0m     \u001b[38;5;28;01mif\u001b[39;00m \u001b[38;5;129;01mnot\u001b[39;00m \u001b[38;5;28mself\u001b[39m\u001b[38;5;241m.\u001b[39m_retryable:\n",
      "File \u001b[0;32m~/opt/anaconda3/lib/python3.11/site-packages/pymongo/bulk.py:441\u001b[0m, in \u001b[0;36m_Bulk.execute_command.<locals>.retryable_bulk\u001b[0;34m(session, conn, retryable)\u001b[0m\n\u001b[1;32m    438\u001b[0m \u001b[38;5;28;01mdef\u001b[39;00m \u001b[38;5;21mretryable_bulk\u001b[39m(\n\u001b[1;32m    439\u001b[0m     session: Optional[ClientSession], conn: Connection, retryable: \u001b[38;5;28mbool\u001b[39m\n\u001b[1;32m    440\u001b[0m ) \u001b[38;5;241m-\u001b[39m\u001b[38;5;241m>\u001b[39m \u001b[38;5;28;01mNone\u001b[39;00m:\n\u001b[0;32m--> 441\u001b[0m     \u001b[38;5;28;43mself\u001b[39;49m\u001b[38;5;241;43m.\u001b[39;49m\u001b[43m_execute_command\u001b[49m\u001b[43m(\u001b[49m\n\u001b[1;32m    442\u001b[0m \u001b[43m        \u001b[49m\u001b[43mgenerator\u001b[49m\u001b[43m,\u001b[49m\n\u001b[1;32m    443\u001b[0m \u001b[43m        \u001b[49m\u001b[43mwrite_concern\u001b[49m\u001b[43m,\u001b[49m\n\u001b[1;32m    444\u001b[0m \u001b[43m        \u001b[49m\u001b[43msession\u001b[49m\u001b[43m,\u001b[49m\n\u001b[1;32m    445\u001b[0m \u001b[43m        \u001b[49m\u001b[43mconn\u001b[49m\u001b[43m,\u001b[49m\n\u001b[1;32m    446\u001b[0m \u001b[43m        \u001b[49m\u001b[43mop_id\u001b[49m\u001b[43m,\u001b[49m\n\u001b[1;32m    447\u001b[0m \u001b[43m        \u001b[49m\u001b[43mretryable\u001b[49m\u001b[43m,\u001b[49m\n\u001b[1;32m    448\u001b[0m \u001b[43m        \u001b[49m\u001b[43mfull_result\u001b[49m\u001b[43m,\u001b[49m\n\u001b[1;32m    449\u001b[0m \u001b[43m    \u001b[49m\u001b[43m)\u001b[49m\n",
      "File \u001b[0;32m~/opt/anaconda3/lib/python3.11/site-packages/pymongo/bulk.py:386\u001b[0m, in \u001b[0;36m_Bulk._execute_command\u001b[0;34m(self, generator, write_concern, session, conn, op_id, retryable, full_result, final_write_concern)\u001b[0m\n\u001b[1;32m    384\u001b[0m \u001b[38;5;66;03m# Run as many ops as possible in one command.\u001b[39;00m\n\u001b[1;32m    385\u001b[0m \u001b[38;5;28;01mif\u001b[39;00m write_concern\u001b[38;5;241m.\u001b[39macknowledged:\n\u001b[0;32m--> 386\u001b[0m     result, to_send \u001b[38;5;241m=\u001b[39m \u001b[43mbwc\u001b[49m\u001b[38;5;241;43m.\u001b[39;49m\u001b[43mexecute\u001b[49m\u001b[43m(\u001b[49m\u001b[43mcmd\u001b[49m\u001b[43m,\u001b[49m\u001b[43m \u001b[49m\u001b[43mops\u001b[49m\u001b[43m,\u001b[49m\u001b[43m \u001b[49m\u001b[43mclient\u001b[49m\u001b[43m)\u001b[49m\n\u001b[1;32m    388\u001b[0m     \u001b[38;5;66;03m# Retryable writeConcernErrors halt the execution of this run.\u001b[39;00m\n\u001b[1;32m    389\u001b[0m     wce \u001b[38;5;241m=\u001b[39m result\u001b[38;5;241m.\u001b[39mget(\u001b[38;5;124m\"\u001b[39m\u001b[38;5;124mwriteConcernError\u001b[39m\u001b[38;5;124m\"\u001b[39m, {})\n",
      "File \u001b[0;32m~/opt/anaconda3/lib/python3.11/site-packages/pymongo/message.py:959\u001b[0m, in \u001b[0;36m_BulkWriteContext.execute\u001b[0;34m(self, cmd, docs, client)\u001b[0m\n\u001b[1;32m    956\u001b[0m \u001b[38;5;28;01mdef\u001b[39;00m \u001b[38;5;21mexecute\u001b[39m(\n\u001b[1;32m    957\u001b[0m     \u001b[38;5;28mself\u001b[39m, cmd: MutableMapping[\u001b[38;5;28mstr\u001b[39m, Any], docs: \u001b[38;5;28mlist\u001b[39m[Mapping[\u001b[38;5;28mstr\u001b[39m, Any]], client: MongoClient\n\u001b[1;32m    958\u001b[0m ) \u001b[38;5;241m-\u001b[39m\u001b[38;5;241m>\u001b[39m \u001b[38;5;28mtuple\u001b[39m[Mapping[\u001b[38;5;28mstr\u001b[39m, Any], \u001b[38;5;28mlist\u001b[39m[Mapping[\u001b[38;5;28mstr\u001b[39m, Any]]]:\n\u001b[0;32m--> 959\u001b[0m     request_id, msg, to_send \u001b[38;5;241m=\u001b[39m \u001b[38;5;28;43mself\u001b[39;49m\u001b[38;5;241;43m.\u001b[39;49m\u001b[43m__batch_command\u001b[49m\u001b[43m(\u001b[49m\u001b[43mcmd\u001b[49m\u001b[43m,\u001b[49m\u001b[43m \u001b[49m\u001b[43mdocs\u001b[49m\u001b[43m)\u001b[49m\n\u001b[1;32m    960\u001b[0m     result \u001b[38;5;241m=\u001b[39m \u001b[38;5;28mself\u001b[39m\u001b[38;5;241m.\u001b[39mwrite_command(cmd, request_id, msg, to_send, client)\n\u001b[1;32m    961\u001b[0m     client\u001b[38;5;241m.\u001b[39m_process_response(result, \u001b[38;5;28mself\u001b[39m\u001b[38;5;241m.\u001b[39msession)\n",
      "File \u001b[0;32m~/opt/anaconda3/lib/python3.11/site-packages/pymongo/message.py:949\u001b[0m, in \u001b[0;36m_BulkWriteContext.__batch_command\u001b[0;34m(self, cmd, docs)\u001b[0m\n\u001b[1;32m    945\u001b[0m \u001b[38;5;28;01mdef\u001b[39;00m \u001b[38;5;21m__batch_command\u001b[39m(\n\u001b[1;32m    946\u001b[0m     \u001b[38;5;28mself\u001b[39m, cmd: MutableMapping[\u001b[38;5;28mstr\u001b[39m, Any], docs: \u001b[38;5;28mlist\u001b[39m[Mapping[\u001b[38;5;28mstr\u001b[39m, Any]]\n\u001b[1;32m    947\u001b[0m ) \u001b[38;5;241m-\u001b[39m\u001b[38;5;241m>\u001b[39m \u001b[38;5;28mtuple\u001b[39m[\u001b[38;5;28mint\u001b[39m, \u001b[38;5;28mbytes\u001b[39m, \u001b[38;5;28mlist\u001b[39m[Mapping[\u001b[38;5;28mstr\u001b[39m, Any]]]:\n\u001b[1;32m    948\u001b[0m     namespace \u001b[38;5;241m=\u001b[39m \u001b[38;5;28mself\u001b[39m\u001b[38;5;241m.\u001b[39mdb_name \u001b[38;5;241m+\u001b[39m \u001b[38;5;124m\"\u001b[39m\u001b[38;5;124m.$cmd\u001b[39m\u001b[38;5;124m\"\u001b[39m\n\u001b[0;32m--> 949\u001b[0m     request_id, msg, to_send \u001b[38;5;241m=\u001b[39m \u001b[43m_do_batched_op_msg\u001b[49m\u001b[43m(\u001b[49m\n\u001b[1;32m    950\u001b[0m \u001b[43m        \u001b[49m\u001b[43mnamespace\u001b[49m\u001b[43m,\u001b[49m\u001b[43m \u001b[49m\u001b[38;5;28;43mself\u001b[39;49m\u001b[38;5;241;43m.\u001b[39;49m\u001b[43mop_type\u001b[49m\u001b[43m,\u001b[49m\u001b[43m \u001b[49m\u001b[43mcmd\u001b[49m\u001b[43m,\u001b[49m\u001b[43m \u001b[49m\u001b[43mdocs\u001b[49m\u001b[43m,\u001b[49m\u001b[43m \u001b[49m\u001b[38;5;28;43mself\u001b[39;49m\u001b[38;5;241;43m.\u001b[39;49m\u001b[43mcodec\u001b[49m\u001b[43m,\u001b[49m\u001b[43m \u001b[49m\u001b[38;5;28;43mself\u001b[39;49m\n\u001b[1;32m    951\u001b[0m \u001b[43m    \u001b[49m\u001b[43m)\u001b[49m\n\u001b[1;32m    952\u001b[0m     \u001b[38;5;28;01mif\u001b[39;00m \u001b[38;5;129;01mnot\u001b[39;00m to_send:\n\u001b[1;32m    953\u001b[0m         \u001b[38;5;28;01mraise\u001b[39;00m InvalidOperation(\u001b[38;5;124m\"\u001b[39m\u001b[38;5;124mcannot do an empty bulk write\u001b[39m\u001b[38;5;124m\"\u001b[39m)\n",
      "File \u001b[0;32m~/opt/anaconda3/lib/python3.11/site-packages/pymongo/message.py:1451\u001b[0m, in \u001b[0;36m_do_batched_op_msg\u001b[0;34m(namespace, operation, command, docs, opts, ctx)\u001b[0m\n\u001b[1;32m   1449\u001b[0m \u001b[38;5;28;01mif\u001b[39;00m ctx\u001b[38;5;241m.\u001b[39mconn\u001b[38;5;241m.\u001b[39mcompression_context:\n\u001b[1;32m   1450\u001b[0m     \u001b[38;5;28;01mreturn\u001b[39;00m _batched_op_msg_compressed(operation, command, docs, ack, opts, ctx)\n\u001b[0;32m-> 1451\u001b[0m \u001b[38;5;28;01mreturn\u001b[39;00m \u001b[43m_batched_op_msg\u001b[49m\u001b[43m(\u001b[49m\u001b[43moperation\u001b[49m\u001b[43m,\u001b[49m\u001b[43m \u001b[49m\u001b[43mcommand\u001b[49m\u001b[43m,\u001b[49m\u001b[43m \u001b[49m\u001b[43mdocs\u001b[49m\u001b[43m,\u001b[49m\u001b[43m \u001b[49m\u001b[43mack\u001b[49m\u001b[43m,\u001b[49m\u001b[43m \u001b[49m\u001b[43mopts\u001b[49m\u001b[43m,\u001b[49m\u001b[43m \u001b[49m\u001b[43mctx\u001b[49m\u001b[43m)\u001b[49m\n",
      "File \u001b[0;32mnattype.pyx:58\u001b[0m, in \u001b[0;36mpandas._libs.tslibs.nattype._make_error_func.f\u001b[0;34m()\u001b[0m\n",
      "\u001b[0;31mValueError\u001b[0m: NaTType does not support utcoffset"
     ]
    }
   ],
   "source": [
    "db.listings.drop()\n",
    "print(db.list_collection_names())\n",
    "\n",
    "listings = db.listings\n",
    "\n",
    "\n",
    "time1 = datetime.now()\n",
    "for i in range(1,392):\n",
    "    result = listings.insert_many(dict_ljr_new[100*i:100*(i+1)])\n",
    "    print('Last element of result for run number', str(i), 'was:')\n",
    "    print(result.inserted_ids[-1:])\n",
    "time2 = datetime.now()\n",
    "print('The time to do the load of 39K documents into local mongodb, with a total of about 300MB was:')\n",
    "print(util.time_diff(time1,time2))\n",
    "\n",
    "print('\\nThe last ObjectID in the collection is:')\n",
    "print(result.inserted_ids[-1:])\n",
    "\n",
    "\n",
    "result = listings.insert_many(dict_ljr_new[39200:])\n",
    "print('\\nLast element of result for the last run was:')\n",
    "print(result.inserted_ids[-1:])\n",
    "\n"
   ]
  },
  {
   "cell_type": "code",
   "execution_count": 84,
   "id": "1183a4f8-81a0-45e7-99bb-ca1837b27d68",
   "metadata": {},
   "outputs": [
    {
     "name": "stdout",
     "output_type": "stream",
     "text": [
      "Last element of result for run number 1 was:\n",
      "[ObjectId('664adfc48550e1de8d8d1dc7')]\n",
      "<class 'bson.objectid.ObjectId'>\n",
      "{'_id': ObjectId('664adfc48550e1de8d8d1dc7'), 'id': '47305871', 'name': 'Rental unit in New York · 1 bedroom · 1 bed · 0 shared baths', 'host_id': '305240193', 'host_name': 'June', 'neighbourhood_group': 'Manhattan', 'neighbourhood': 'Harlem', 'latitude': 40.821926, 'longitude': -73.956245, 'room_type': 'Private room', 'price': 46, 'minimum_nights': 30, 'number_of_reviews': 0, 'last_review': nan, 'reviews_per_month': None, 'calculated_host_listings_count': 333, 'availability_365': 160, 'number_of_reviews_ltm': 0, 'license': '', 'reviews': {}}\n"
     ]
    }
   ],
   "source": [
    "# result = listings.insert_many(dict_ljr_new[0:1])\n",
    "print('Last element of result for run number', str(i), 'was:')\n",
    "print(result.inserted_ids[-1:])\n",
    "print(type(result.inserted_ids[-1:][0]))\n",
    "print(db.listings.find_one({'_id': result.inserted_ids[-1:][0]}))"
   ]
  },
  {
   "cell_type": "code",
   "execution_count": 38,
   "id": "e97a7ef4-bbd6-4ccf-9127-6e89a5807c9e",
   "metadata": {},
   "outputs": [
    {
     "name": "stdout",
     "output_type": "stream",
     "text": [
      "<class 'bson.objectid.ObjectId'>\n",
      "664987068b80b91420d2b513\n"
     ]
    }
   ],
   "source": [
    "doc = db.testing.find_one()\n",
    "obj_pointer = doc['_id']\n",
    "print(type(obj_pointer))\n",
    "print(obj_pointer)"
   ]
  },
  {
   "cell_type": "code",
   "execution_count": 40,
   "id": "c52f24f8-b167-4c7a-8554-d2691148b54f",
   "metadata": {},
   "outputs": [
    {
     "name": "stdout",
     "output_type": "stream",
     "text": [
      "['testing', 'listings']\n"
     ]
    }
   ],
   "source": [
    "print(db.list_collection_names())"
   ]
  },
  {
   "cell_type": "code",
   "execution_count": 27,
   "id": "e3a6c475-7a8b-4426-86c2-bb984b182e11",
   "metadata": {},
   "outputs": [],
   "source": [
    "def write_dict_to_json(dict, filename):\n",
    "    with open(filename, 'w') as fp:\n",
    "        json.dump(dict, fp)\n",
    "\n",
    "filename = 'listings_with_reviews_embedded.json'\n",
    "# write_dict_to_json(dict_ljr100_left, filename)\n",
    "# hmm -- timestamp is not json serializable !!\n"
   ]
  },
  {
   "cell_type": "code",
   "execution_count": null,
   "id": "d6182c8d-933c-4a2a-9cb9-fa52e0366166",
   "metadata": {},
   "outputs": [],
   "source": []
  },
  {
   "cell_type": "code",
   "execution_count": null,
   "id": "e9cff806-c2b4-416d-ab4d-01efe9889d18",
   "metadata": {},
   "outputs": [],
   "source": []
  },
  {
   "cell_type": "code",
   "execution_count": null,
   "id": "cf4cdea7-8cd4-4373-95ad-a670b318c50b",
   "metadata": {},
   "outputs": [],
   "source": []
  }
 ],
 "metadata": {
  "kernelspec": {
   "display_name": "dm4ds",
   "language": "python",
   "name": "dm4ds"
  },
  "language_info": {
   "codemirror_mode": {
    "name": "ipython",
    "version": 3
   },
   "file_extension": ".py",
   "mimetype": "text/x-python",
   "name": "python",
   "nbconvert_exporter": "python",
   "pygments_lexer": "ipython3",
   "version": "3.11.7"
  }
 },
 "nbformat": 4,
 "nbformat_minor": 5
}
