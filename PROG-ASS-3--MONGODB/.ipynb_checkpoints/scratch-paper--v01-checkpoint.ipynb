{
 "cells": [
  {
   "cell_type": "markdown",
   "id": "c41c61f7-a78b-41f3-b5b3-a73bab1982c3",
   "metadata": {},
   "source": [
    "### <span style=color:blue>Scratch Paper</span>"
   ]
  },
  {
   "cell_type": "code",
   "execution_count": 1,
   "id": "44829a7a-346e-4bb5-86cb-1dc43b9eb22b",
   "metadata": {},
   "outputs": [],
   "source": [
    "import sys\n",
    "import json\n",
    "import csv\n",
    "import yaml\n",
    "\n",
    "import importlib\n",
    "\n",
    "import pandas as pd\n",
    "import numpy as np\n",
    "\n",
    "import matplotlib as mpl\n",
    "import matplotlib.pyplot as plt\n",
    "import os\n",
    "from dotenv import load_dotenv\n",
    "\n",
    "from datetime import time\n",
    "from datetime import date\n",
    "from datetime import datetime\n",
    "# with the above choices, the imported datetime.time(2023,07,01) is recognized\n",
    "# from datetime import date\n",
    "# from datetime import datetime\n",
    "\n",
    "import pprint\n",
    "\n",
    "import psycopg2\n",
    "from sqlalchemy import create_engine, text as sql_text\n",
    "\n",
    "# Create an utilities file util.py in a folder benchmarking and import it\n",
    "sys.path.append('helper_functions/')\n",
    "# import util as util\n",
    "import util"
   ]
  },
  {
   "cell_type": "code",
   "execution_count": 2,
   "id": "17408a90-b92a-4186-a455-ac961d3ccc3a",
   "metadata": {},
   "outputs": [
    {
     "name": "stdout",
     "output_type": "stream",
     "text": [
      "hello world\n"
     ]
    }
   ],
   "source": [
    "# test that utils.py has been imported well\n",
    "util.hello_world()"
   ]
  },
  {
   "cell_type": "markdown",
   "id": "8f656e3b-03a5-49e2-ab6e-876d3620b82c",
   "metadata": {},
   "source": [
    " <span style=color:blue>Getting postgres connection set up</span>"
   ]
  },
  {
   "cell_type": "code",
   "execution_count": 4,
   "id": "02a3ff37-8ef2-47e9-a8de-6020a32d7858",
   "metadata": {},
   "outputs": [
    {
     "name": "stdout",
     "output_type": "stream",
     "text": [
      "Successfully created db engine.\n"
     ]
    }
   ],
   "source": [
    "# Load the env file \n",
    "\n",
    "dotenv_path = 'env_variables.env'\n",
    "load_dotenv(dotenv_path=dotenv_path)\n",
    "\n",
    "# Import the env variables\n",
    "\n",
    "load_dotenv()\n",
    "\n",
    "schema = os.getenv('DISC_6_SCHEMA')\n",
    "port = os.getenv('DISC_6_PORT')\n",
    "host = os.getenv('DISC_6_HOST')\n",
    "database = os.getenv('DISC_6_DB')\n",
    "password = os.getenv('DISC_6_PASSWORD')\n",
    "connection = os.getenv('DISC_6_CONNECTION')\n",
    "\n",
    "# Create the db engine \n",
    "\n",
    "db_eng = create_engine(f\"postgresql+psycopg2://{connection}:{password}@{host}:{port}/{database}\",\n",
    "                       connect_args={'options': '-csearch_path={}'.format(schema)},\n",
    "                       isolation_level = 'SERIALIZABLE')\n",
    "\n",
    "print(\"Successfully created db engine.\")"
   ]
  },
  {
   "cell_type": "markdown",
   "id": "ce485de0-2e32-4759-bea3-f241d93a95a8",
   "metadata": {},
   "source": [
    "<span style=color:blue>Getting mongodb connection set up</span>"
   ]
  },
  {
   "cell_type": "code",
   "execution_count": 5,
   "id": "cc1000a9-346b-42e0-8dd2-edcd831c9461",
   "metadata": {},
   "outputs": [],
   "source": [
    "from pymongo import MongoClient\n",
    "\n",
    "client = MongoClient()\n",
    "# could have written client = MongoClient(\"localhost\", 27017)\n",
    "#                 or client = MongoClient(\"mongodb://localhost:27017/\")"
   ]
  },
  {
   "cell_type": "code",
   "execution_count": 6,
   "id": "cab4545d-cb2a-4c13-964c-90cab5d5d134",
   "metadata": {},
   "outputs": [
    {
     "name": "stdout",
     "output_type": "stream",
     "text": [
      "['admin', 'airbnb', 'config', 'local', 'test']\n"
     ]
    }
   ],
   "source": [
    "print(client.list_database_names())"
   ]
  },
  {
   "cell_type": "code",
   "execution_count": 7,
   "id": "6779c6d1-e92a-411c-ad41-b90444f7bf53",
   "metadata": {},
   "outputs": [
    {
     "name": "stdout",
     "output_type": "stream",
     "text": [
      "['testing', 'listings', 'calendar']\n"
     ]
    }
   ],
   "source": [
    "# I have (or will have) a database \"airbnb\"\n",
    "db = client.airbnb\n",
    "\n",
    "# inside the \"airbnb\" database, I have (or will have) a collection \"listings\"\n",
    "# listings = db.listings\n",
    "\n",
    "print(db.list_collection_names())"
   ]
  },
  {
   "cell_type": "markdown",
   "id": "1767275c-6ccb-4332-bb61-642c331f5f6d",
   "metadata": {},
   "source": [
    "<span style=color:blue>Renaming a collection</span>"
   ]
  },
  {
   "cell_type": "code",
   "execution_count": 18,
   "id": "0a2621fb-79c0-457d-b06f-3893152d5c2c",
   "metadata": {},
   "outputs": [
    {
     "name": "stdout",
     "output_type": "stream",
     "text": [
      "['testing', 'listings_previously_built', 'calendar_previously_built']\n"
     ]
    }
   ],
   "source": [
    "# db.listings.rename('listings_previously_built')\n",
    "# db.calendar.rename('calendar_previously_built')\n",
    "print(db.list_collection_names())\n"
   ]
  },
  {
   "cell_type": "code",
   "execution_count": 19,
   "id": "5e28d96e-ae20-4074-a17e-29110e6898f1",
   "metadata": {},
   "outputs": [
    {
     "name": "stdout",
     "output_type": "stream",
     "text": [
      "99\n",
      "0\n",
      "39202\n",
      "39201\n"
     ]
    }
   ],
   "source": [
    "# way to count docs in a collection.  The '{}' corresponds to no selection condition\n",
    "print(db.testing.count_documents({}))\n",
    "# listings is empty, because I renamed it to listings_previously_built\n",
    "print(db.listings.count_documents({}))\n",
    "print(db.listings_previously_built.count_documents({}))\n",
    "print(db.calendar_previously_built.count_documents({}))"
   ]
  },
  {
   "cell_type": "code",
   "execution_count": null,
   "id": "15591236-a3d9-4a8f-972a-be4a2ce1b5cf",
   "metadata": {},
   "outputs": [],
   "source": []
  },
  {
   "cell_type": "code",
   "execution_count": null,
   "id": "54aa5aac-2370-4677-9878-c7197f06a81d",
   "metadata": {},
   "outputs": [],
   "source": []
  },
  {
   "cell_type": "code",
   "execution_count": null,
   "id": "58c6aa6d-9386-441d-ba7e-2082c8eebb6f",
   "metadata": {},
   "outputs": [],
   "source": []
  }
 ],
 "metadata": {
  "kernelspec": {
   "display_name": "dm4ds",
   "language": "python",
   "name": "dm4ds"
  },
  "language_info": {
   "codemirror_mode": {
    "name": "ipython",
    "version": 3
   },
   "file_extension": ".py",
   "mimetype": "text/x-python",
   "name": "python",
   "nbconvert_exporter": "python",
   "pygments_lexer": "ipython3",
   "version": "3.11.7"
  }
 },
 "nbformat": 4,
 "nbformat_minor": 5
}
