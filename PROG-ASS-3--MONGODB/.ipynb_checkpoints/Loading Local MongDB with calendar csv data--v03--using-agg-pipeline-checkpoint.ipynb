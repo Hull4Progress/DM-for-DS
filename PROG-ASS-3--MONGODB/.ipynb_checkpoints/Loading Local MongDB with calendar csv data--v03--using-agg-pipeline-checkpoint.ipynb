{
 "cells": [
  {
   "cell_type": "markdown",
   "id": "d5084f64-ba25-4211-8b9e-bfe9f74e7dd0",
   "metadata": {},
   "source": [
    "### <span style=color:blue> Loading Listings & Reviews data from postgresql into local MongoDB    </span>"
   ]
  },
  {
   "cell_type": "code",
   "execution_count": 1,
   "id": "a68c7f36-e5e9-4a3a-ad72-95e44012abe3",
   "metadata": {},
   "outputs": [],
   "source": [
    "import sys\n",
    "import json\n",
    "import csv\n",
    "import yaml\n",
    "\n",
    "import importlib\n",
    "\n",
    "import pandas as pd\n",
    "import numpy as np\n",
    "\n",
    "import matplotlib as mpl\n",
    "import matplotlib.pyplot as plt\n",
    "import os\n",
    "from dotenv import load_dotenv\n",
    "\n",
    "from datetime import time\n",
    "from datetime import date\n",
    "from datetime import datetime\n",
    "# with the above choices, the imported datetime.time(2023,07,01) is recognized\n",
    "# from datetime import date\n",
    "# from datetime import datetime\n",
    "\n",
    "import pprint\n",
    "\n",
    "import psycopg2\n",
    "from sqlalchemy import create_engine, text as sql_text\n",
    "\n",
    "# Create an utilities file util.py in a folder benchmarking and import it\n",
    "sys.path.append('helper_functions/')\n",
    "# import util as util\n",
    "import util"
   ]
  },
  {
   "cell_type": "markdown",
   "id": "91b6ebfa-f97a-4f27-b896-8fec02a46f0a",
   "metadata": {},
   "source": [
    "<span style=color:blue>Getting mongodb connection set up</span>"
   ]
  },
  {
   "cell_type": "code",
   "execution_count": 2,
   "id": "f9bd4324-7d32-49c5-abe6-649fb3899618",
   "metadata": {},
   "outputs": [],
   "source": [
    "from pymongo import MongoClient\n",
    "\n",
    "client = MongoClient()\n",
    "# could have written client = MongoClient(\"localhost\", 27017)\n",
    "#                 or client = MongoClient(\"mongodb://localhost:27017/\")"
   ]
  },
  {
   "cell_type": "markdown",
   "id": "11bdfa8a-48fd-494c-b58c-1af3d41a2057",
   "metadata": {},
   "source": [
    "<span style=color:blue>Getting access to airbnb database, and setting up collection \"cal\" to hold the calendar data in mongodb</span>"
   ]
  },
  {
   "cell_type": "code",
   "execution_count": 3,
   "id": "73169714-363a-48db-ba75-cb506790cbec",
   "metadata": {},
   "outputs": [
    {
     "name": "stdout",
     "output_type": "stream",
     "text": [
      "The list of all databases currently in the MongoDB client is:\n",
      "['admin', 'airbnb', 'company', 'config', 'local', 'test']\n",
      "\n",
      "The list of all collections in the airbnb database is:\n",
      "['calendar_by_agg', 'testing', 'listings_previously_built', 'listings_test', 'calendar_previously_built', 'listings']\n"
     ]
    }
   ],
   "source": [
    "# I have (or will have) a database \"airbnb\"\n",
    "db = client.airbnb\n",
    "\n",
    "# inside the \"airbnb\" database, I have (or will have) a collection \"listings\"\n",
    "cal = db.calendar_by_agg\n",
    "\n",
    "print('The list of all databases currently in the MongoDB client is:')\n",
    "print(client.list_database_names())\n",
    "\n",
    "print('\\nThe list of all collections in the airbnb database is:')\n",
    "print(db.list_collection_names())\n",
    "# Note: calendar may not show up yet; it is created only when a first document is inserted into it"
   ]
  },
  {
   "cell_type": "markdown",
   "id": "0557b445-572e-4322-aa62-7db01c863955",
   "metadata": {},
   "source": [
    "<span style=color:blue>FAILED ATTEMPT AT: Loading contents of calendar csv file into a dataframe</span>"
   ]
  },
  {
   "cell_type": "code",
   "execution_count": 4,
   "id": "d45a082b-b604-4c71-b545-470d1a05fb7d",
   "metadata": {},
   "outputs": [
    {
     "name": "stdout",
     "output_type": "stream",
     "text": [
      "This was a black hole\n"
     ]
    }
   ],
   "source": [
    "\"\"\"\n",
    "# This became a black hole!\n",
    "\n",
    "filename = '/Users/rick/DM-for-DS--Davis-Spring-2024/DATA-SETS/AirBNB/New-York-City/calendar.csv'\n",
    "\n",
    "# see https://stackoverflow.com/questions/24251219/pandas-read-csv-low-memory-and-dtype-options for\n",
    "#    various info about including data types into the read_csv command\n",
    "# see also https://pandas.pydata.org/pandas-docs/stable/user_guide/basics.html#basics-dtypes\n",
    "# As for the date and available fields (intended as date type and boolean, respectively,\n",
    "#    we import as strings and convert in the data frame\n",
    "dtype = {\"listing_id\": str, \"date\": str, \"available\": str, \n",
    "        \"price\": str, \"adjusted_price\": str, \"minimum_nights\": int, \"maximum_nights\": int}\n",
    "\n",
    "# the csv has nulls in \"adjusted_price\", which has type str,. so including keep_default_na=False, \n",
    "#    see https://stackoverflow.com/questions/10867028/get-pandas-read-csv-to-read-empty-values-as-empty-string-instead-of-nan\n",
    "\n",
    "# there are 7000+ entries for minimum_nights and maximum_nights with NULL values\n",
    "# so following this pattern:\n",
    "#    df2 = pd.read_csv('test_int64.csv', converters={'nr_nan':lambda x: pd.NA if x == '' else int(x)})\n",
    "#    df2.nr_nan = df2.nr_nan.astype('Int64')\n",
    "# see https://stackoverflow.com/questions/70776957/pandas-read-csv-with-integer-columns-with-null-values-without-precision-loss\n",
    "converters = {'nr_nan':lambda x: pd.NA if x == '' else int(x)}\n",
    "\n",
    "df = pd.read_csv(filename, dtype=dtype, converters=converters, keep_default_na=False)\n",
    "df.nr_nan = df.nr_nan.astype('Int64')\n",
    "\n",
    "print('The datatypes for the fields of df are:')\n",
    "print(df.types)\n",
    "\n",
    "print('\\nThe first few rows of df are:')\n",
    "print(df.head())\n",
    "\"\"\"\n",
    "print('This was a black hole')"
   ]
  },
  {
   "cell_type": "markdown",
   "id": "38617e68-c04b-4851-abc5-8dbd7faa3d51",
   "metadata": {},
   "source": [
    "<span style=color:blue>Loading contents of calendar csv file into a dataframe</span>\n",
    "\n",
    "<span style=color:blue>The system will give a warning, but it appears safe to ignore it.</span>"
   ]
  },
  {
   "cell_type": "code",
   "execution_count": 5,
   "id": "f7e1ab69-270d-448a-abee-62b60cdeb745",
   "metadata": {},
   "outputs": [
    {
     "name": "stderr",
     "output_type": "stream",
     "text": [
      "/var/folders/3l/gd1qj_mw8xl3gm001s6w9h180000gp/T/ipykernel_2411/2422796389.py:13: DtypeWarning: Columns (5,6) have mixed types. Specify dtype option on import or set low_memory=False.\n",
      "  df = pd.read_csv(filename, dtype=dtype, keep_default_na=False)\n"
     ]
    }
   ],
   "source": [
    "filename = '/Users/rick/DM-for-DS--Davis-Spring-2024/DATA-SETS/AirBNB/New-York-City/calendar.csv'\n",
    "\n",
    "# Using partial list of dtypes, so that first several fields are interpreted as strings\n",
    "# As for the date and available fields (intended as date type and boolean, respectively,\n",
    "#    we import as strings and convert in the data frame\n",
    "dtype = {\"listing_id\": str, \"date\": str, \"available\": str, \n",
    "        \"price\": str, \"adjusted_price\": str}\n",
    "# note including these, because the null values make trouble:  , \"minimum_nights\": int, \"maximum_nights\": int}\n",
    "\n",
    "# the csv has nulls in \"adjusted_price\", which has type str,. so including keep_default_na=False, \n",
    "#    see https://stackoverflow.com/questions/10867028/get-pandas-read-csv-to-read-empty-values-as-empty-string-instead-of-nan\n",
    "         \n",
    "df = pd.read_csv(filename, dtype=dtype, keep_default_na=False)"
   ]
  },
  {
   "cell_type": "code",
   "execution_count": 6,
   "id": "a29d504a-475f-45ee-8cde-cfddb7ea4b97",
   "metadata": {},
   "outputs": [
    {
     "name": "stdout",
     "output_type": "stream",
     "text": [
      "The datatypes for the fields of df are:\n",
      "listing_id        object\n",
      "date              object\n",
      "available         object\n",
      "price             object\n",
      "adjusted_price    object\n",
      "minimum_nights    object\n",
      "maximum_nights    object\n",
      "dtype: object\n",
      "\n",
      "The first few rows of df are:\n",
      "  listing_id        date available    price adjusted_price minimum_nights  \\\n",
      "0     144087  2024-02-10         t  $259.00                            30   \n",
      "1     144087  2024-02-11         t  $259.00                            30   \n",
      "2     144087  2024-02-12         t  $259.00                            30   \n",
      "3     144087  2024-02-13         t  $259.00                            30   \n",
      "4     144087  2024-02-14         t  $259.00                            30   \n",
      "\n",
      "  maximum_nights  \n",
      "0            365  \n",
      "1            365  \n",
      "2            365  \n",
      "3            365  \n",
      "4            365  \n"
     ]
    }
   ],
   "source": [
    "print('The datatypes for the fields of df are:')\n",
    "print(df.dtypes)\n",
    "\n",
    "print('\\nThe first few rows of df are:')\n",
    "print(df.head())"
   ]
  },
  {
   "cell_type": "code",
   "execution_count": null,
   "id": "f25d4c1c-ebee-4567-a255-d38552a86658",
   "metadata": {},
   "outputs": [],
   "source": []
  },
  {
   "cell_type": "markdown",
   "id": "94b02e95-079a-4164-9dbc-2858411351fa",
   "metadata": {},
   "source": [
    "<span style=color:blue>Function to convert dates into datetimes.  This is useful because MongoDB recognizes datetime types but not date types.  So, will convert all dates into datetimes for insertion into MongoDB (after which we can do date arithmetic).</span>\n",
    "\n",
    "<span style=color:blue>It also has conditions that turn various kinds of null values into None.  (Note: curiously this works on small dataframes, but left some values of \"NaT\" when applied on very large dataframes.)</span>"
   ]
  },
  {
   "cell_type": "code",
   "execution_count": 7,
   "id": "6cdbdbcd-0226-4af4-8f3b-904b48359238",
   "metadata": {},
   "outputs": [
    {
     "name": "stdout",
     "output_type": "stream",
     "text": [
      "2024-05-23 00:00:00\n"
     ]
    }
   ],
   "source": [
    "# also converts NaT to None, because MongoDB does not recognize NaT\n",
    "def convert_date_str_to_datetime(dt):\n",
    "    if dt is None:\n",
    "        return None\n",
    "    elif pd.isnull(dt):  # tests whether dt is the pandas value NaT (\"not a time\")\n",
    "        # print('\\nEntered the NaT case\\n')\n",
    "        return None\n",
    "    elif dt != dt:\n",
    "        return None        # could also use math.nan, I think\n",
    "    elif dt == '':\n",
    "        return None\n",
    "    else:\n",
    "        year = int(dt[0:4])\n",
    "        month = int(dt[5:7])\n",
    "        day = int(dt[8:10])\n",
    "        # print(year, month, day)\n",
    "        temp = datetime(year, month, day)\n",
    "        ts = temp.timestamp()\n",
    "        new_dt = datetime.fromtimestamp(ts)\n",
    "        return new_dt\n",
    "\n",
    "print(convert_date_str_to_datetime('2024-05-23'))\n"
   ]
  },
  {
   "cell_type": "markdown",
   "id": "8d940419-55c4-4dc2-a865-159275469def",
   "metadata": {},
   "source": [
    "<span style=color:blue>Function to convert the values of field \"available\" to booleans </span>"
   ]
  },
  {
   "cell_type": "code",
   "execution_count": 8,
   "id": "173da9f8-c344-4815-85a6-2bec5e0f5563",
   "metadata": {},
   "outputs": [
    {
     "name": "stdout",
     "output_type": "stream",
     "text": [
      "True False None\n"
     ]
    }
   ],
   "source": [
    "def convert_tf_to_boolean(val):\n",
    "    if val == 't':\n",
    "        return True\n",
    "    elif val == 'f':\n",
    "        return False\n",
    "    else:\n",
    "        return None\n",
    "\n",
    "print(convert_tf_to_boolean('t'), convert_tf_to_boolean('f'), convert_tf_to_boolean('foo'))\n"
   ]
  },
  {
   "cell_type": "markdown",
   "id": "2c99cb66-dba3-434e-94a7-1cb251ae749e",
   "metadata": {},
   "source": [
    "<span style=color:blue>Cleaning up the values in df, to be more compatible with MongoDB  </span>"
   ]
  },
  {
   "cell_type": "code",
   "execution_count": 9,
   "id": "13867450-d217-4570-a378-ce68dd3d1095",
   "metadata": {},
   "outputs": [
    {
     "name": "stdout",
     "output_type": "stream",
     "text": [
      "  listing_id       date  available    price adjusted_price minimum_nights  \\\n",
      "0     144087 2024-02-10       True  $259.00                            30   \n",
      "1     144087 2024-02-11       True  $259.00                            30   \n",
      "2     144087 2024-02-12       True  $259.00                            30   \n",
      "3     144087 2024-02-13       True  $259.00                            30   \n",
      "4     144087 2024-02-14       True  $259.00                            30   \n",
      "\n",
      "  maximum_nights  \n",
      "0            365  \n",
      "1            365  \n",
      "2            365  \n",
      "3            365  \n",
      "4            365  \n"
     ]
    }
   ],
   "source": [
    "df['date'] = df['date'].apply(convert_date_str_to_datetime)\n",
    "df['available'] = df['available'].apply(convert_tf_to_boolean)\n",
    "\n",
    "print(df.head())"
   ]
  },
  {
   "cell_type": "code",
   "execution_count": null,
   "id": "1a8e0238-574f-474e-b0cb-637ffa9257f5",
   "metadata": {},
   "outputs": [],
   "source": [
    "# need to strip the leading '$' from the price value, and remove commas\n",
    "df['price'] = df['price'].apply(lambda x:x.replace('$','').replace(',',''))"
   ]
  },
  {
   "cell_type": "code",
   "execution_count": 23,
   "id": "f7509054-324a-4dcc-b421-d1bbdaab9a79",
   "metadata": {},
   "outputs": [
    {
     "name": "stdout",
     "output_type": "stream",
     "text": [
      "<class 'numpy.float64'>\n",
      "  listing_id       date  available  price adjusted_price minimum_nights  \\\n",
      "0     144087 2024-02-10       True  259.0                            30   \n",
      "1     144087 2024-02-11       True  259.0                            30   \n",
      "2     144087 2024-02-12       True  259.0                            30   \n",
      "3     144087 2024-02-13       True  259.0                            30   \n",
      "4     144087 2024-02-14       True  259.0                            30   \n",
      "\n",
      "  maximum_nights  \n",
      "0            365  \n",
      "1            365  \n",
      "2            365  \n",
      "3            365  \n",
      "4            365  \n"
     ]
    }
   ],
   "source": [
    "df['price'] = pd.to_numeric(df['price']) \n",
    "# df[\"a\"] = pd.to_numeric(df[\"a\"])\n",
    "print(type(df.loc[0,'price']))\n",
    "print(df.head())"
   ]
  },
  {
   "cell_type": "markdown",
   "id": "6b25e6bf-d333-412a-b2ce-606eece1ba58",
   "metadata": {},
   "source": [
    "### <span style=color:blue>Now working to fill calendar_by_agg with the dataframe df.  After that we will attempt to use an agg function to produce a collection is an array of listings and for each listing an arracy of dates that it is available,   </span>\n",
    "\n",
    "<span style=color:blue>First step is to get a dataframe with just the listing_ids</span>\n"
   ]
  },
  {
   "cell_type": "code",
   "execution_count": 24,
   "id": "d9f9e7f1-ec4c-4ac1-b61e-d01d96fe6729",
   "metadata": {},
   "outputs": [
    {
     "name": "stdout",
     "output_type": "stream",
     "text": [
      "  listing_id       date  available  price adjusted_price minimum_nights  \\\n",
      "0     144087 2024-02-10       True  259.0                            30   \n",
      "1     144087 2024-02-11       True  259.0                            30   \n",
      "2     144087 2024-02-12       True  259.0                            30   \n",
      "3     144087 2024-02-13       True  259.0                            30   \n",
      "4     144087 2024-02-14       True  259.0                            30   \n",
      "\n",
      "  maximum_nights  \n",
      "0            365  \n",
      "1            365  \n",
      "2            365  \n",
      "3            365  \n",
      "4            365  \n"
     ]
    }
   ],
   "source": [
    "df_small = df.iloc[:1000]\n",
    "print(df_small.head())"
   ]
  },
  {
   "cell_type": "code",
   "execution_count": null,
   "id": "c6efd0d2-4961-4084-833c-70fdc19e8f7a",
   "metadata": {},
   "outputs": [],
   "source": [
    "# dict_small = df_small.to_dict('records')\n",
    "dict_full = df.to_dict('records')"
   ]
  },
  {
   "cell_type": "code",
   "execution_count": 56,
   "id": "f2482ffa-ae30-4e21-9744-8f467fb62601",
   "metadata": {},
   "outputs": [
    {
     "name": "stdout",
     "output_type": "stream",
     "text": [
      "14299870\n",
      "142998\n"
     ]
    },
    {
     "data": {
      "text/plain": [
       "\"\\noutdocs = []\\nfor o in result.inserted_ids[-5:]:\\n    outdocs.append(cal.find_one({ '_id': o}))\\npprint.pp(outdocs)\\n\""
      ]
     },
     "execution_count": 56,
     "metadata": {},
     "output_type": "execute_result"
    }
   ],
   "source": [
    "print(len(dict_full))\n",
    "print(len(dict_full)//100)\n",
    "\n",
    "db.calendar_by_agg.drop()\n",
    "# result = cal.insert_many(dict_small)\n",
    "# result = cal.insert_many(dict_full)\n",
    "\n",
    "\"\"\"\n",
    "outdocs = []\n",
    "for o in result.inserted_ids[-5:]:\n",
    "    outdocs.append(cal.find_one({ '_id': o}))\n",
    "pprint.pp(outdocs)\n",
    "\"\"\""
   ]
  },
  {
   "cell_type": "code",
   "execution_count": 57,
   "id": "02a0d473-fe37-4a31-9838-82d099b3848e",
   "metadata": {},
   "outputs": [
    {
     "name": "stdout",
     "output_type": "stream",
     "text": [
      "Have now performed step 0 (or 1000 inserts each), and it took 0.1420 seconds\n",
      "Have now performed step 100 (or 1000 inserts each), and it took 0.6580 seconds\n",
      "Have now performed step 200 (or 1000 inserts each), and it took 0.6742 seconds\n",
      "Have now performed step 300 (or 1000 inserts each), and it took 0.6864 seconds\n",
      "Have now performed step 400 (or 1000 inserts each), and it took 0.6824 seconds\n",
      "Have now performed step 500 (or 1000 inserts each), and it took 0.6674 seconds\n",
      "Have now performed step 600 (or 1000 inserts each), and it took 0.6715 seconds\n",
      "Have now performed step 700 (or 1000 inserts each), and it took 0.7060 seconds\n",
      "Have now performed step 800 (or 1000 inserts each), and it took 0.6672 seconds\n",
      "Have now performed step 900 (or 1000 inserts each), and it took 0.6770 seconds\n",
      "Have now performed step 1000 (or 1000 inserts each), and it took 0.7040 seconds\n",
      "Have now performed step 1100 (or 1000 inserts each), and it took 0.6658 seconds\n",
      "Have now performed step 1200 (or 1000 inserts each), and it took 0.6907 seconds\n",
      "Have now performed step 1300 (or 1000 inserts each), and it took 0.6774 seconds\n",
      "Have now performed step 1400 (or 1000 inserts each), and it took 0.6753 seconds\n",
      "Have now performed step 1500 (or 1000 inserts each), and it took 0.6964 seconds\n",
      "Have now performed step 1600 (or 1000 inserts each), and it took 0.6874 seconds\n",
      "Have now performed step 1700 (or 1000 inserts each), and it took 0.6921 seconds\n",
      "Have now performed step 1800 (or 1000 inserts each), and it took 0.6962 seconds\n",
      "Have now performed step 1900 (or 1000 inserts each), and it took 0.6968 seconds\n",
      "Have now performed step 2000 (or 1000 inserts each), and it took 0.7451 seconds\n",
      "Have now performed step 2100 (or 1000 inserts each), and it took 0.7882 seconds\n",
      "Have now performed step 2200 (or 1000 inserts each), and it took 0.7510 seconds\n",
      "Have now performed step 2300 (or 1000 inserts each), and it took 0.6824 seconds\n",
      "Have now performed step 2400 (or 1000 inserts each), and it took 0.6971 seconds\n",
      "Have now performed step 2500 (or 1000 inserts each), and it took 0.7205 seconds\n",
      "Have now performed step 2600 (or 1000 inserts each), and it took 0.8979 seconds\n",
      "Have now performed step 2700 (or 1000 inserts each), and it took 0.7741 seconds\n",
      "Have now performed step 2800 (or 1000 inserts each), and it took 0.7102 seconds\n",
      "Have now performed step 2900 (or 1000 inserts each), and it took 0.7800 seconds\n",
      "Have now performed step 3000 (or 1000 inserts each), and it took 0.6969 seconds\n",
      "Have now performed step 3100 (or 1000 inserts each), and it took 0.6835 seconds\n",
      "Have now performed step 3200 (or 1000 inserts each), and it took 0.6891 seconds\n",
      "Have now performed step 3300 (or 1000 inserts each), and it took 0.7025 seconds\n",
      "Have now performed step 3400 (or 1000 inserts each), and it took 0.7035 seconds\n",
      "Have now performed step 3500 (or 1000 inserts each), and it took 0.6816 seconds\n",
      "Have now performed step 3600 (or 1000 inserts each), and it took 0.6941 seconds\n",
      "Have now performed step 3700 (or 1000 inserts each), and it took 0.8512 seconds\n",
      "Have now performed step 3800 (or 1000 inserts each), and it took 0.8148 seconds\n",
      "Have now performed step 3900 (or 1000 inserts each), and it took 0.7968 seconds\n",
      "Have now performed step 4000 (or 1000 inserts each), and it took 0.7486 seconds\n",
      "Have now performed step 4100 (or 1000 inserts each), and it took 0.7474 seconds\n",
      "Have now performed step 4200 (or 1000 inserts each), and it took 0.8102 seconds\n",
      "Have now performed step 4300 (or 1000 inserts each), and it took 0.8903 seconds\n",
      "Have now performed step 4400 (or 1000 inserts each), and it took 0.9406 seconds\n",
      "Have now performed step 4500 (or 1000 inserts each), and it took 0.8575 seconds\n",
      "Have now performed step 4600 (or 1000 inserts each), and it took 0.8499 seconds\n",
      "Have now performed step 4700 (or 1000 inserts each), and it took 0.9141 seconds\n",
      "Have now performed step 4800 (or 1000 inserts each), and it took 0.8811 seconds\n",
      "Have now performed step 4900 (or 1000 inserts each), and it took 0.9621 seconds\n",
      "Have now performed step 5000 (or 1000 inserts each), and it took 1.0535 seconds\n",
      "Have now performed step 5100 (or 1000 inserts each), and it took 0.9923 seconds\n",
      "Have now performed step 5200 (or 1000 inserts each), and it took 0.9731 seconds\n",
      "Have now performed step 5300 (or 1000 inserts each), and it took 0.8774 seconds\n",
      "Have now performed step 5400 (or 1000 inserts each), and it took 0.8519 seconds\n",
      "Have now performed step 5500 (or 1000 inserts each), and it took 0.8278 seconds\n",
      "Have now performed step 5600 (or 1000 inserts each), and it took 0.8345 seconds\n",
      "Have now performed step 5700 (or 1000 inserts each), and it took 0.8366 seconds\n",
      "Have now performed step 5800 (or 1000 inserts each), and it took 0.8607 seconds\n",
      "Have now performed step 5900 (or 1000 inserts each), and it took 0.8552 seconds\n",
      "Have now performed step 6000 (or 1000 inserts each), and it took 0.8831 seconds\n",
      "Have now performed step 6100 (or 1000 inserts each), and it took 0.9107 seconds\n",
      "Have now performed step 6200 (or 1000 inserts each), and it took 0.9435 seconds\n",
      "Have now performed step 6300 (or 1000 inserts each), and it took 0.9087 seconds\n",
      "Have now performed step 6400 (or 1000 inserts each), and it took 0.9378 seconds\n",
      "Have now performed step 6500 (or 1000 inserts each), and it took 0.8741 seconds\n",
      "Have now performed step 6600 (or 1000 inserts each), and it took 0.9982 seconds\n",
      "Have now performed step 6700 (or 1000 inserts each), and it took 0.9065 seconds\n",
      "Have now performed step 6800 (or 1000 inserts each), and it took 0.9093 seconds\n",
      "Have now performed step 6900 (or 1000 inserts each), and it took 0.9749 seconds\n",
      "Have now performed step 7000 (or 1000 inserts each), and it took 0.9182 seconds\n",
      "Have now performed step 7100 (or 1000 inserts each), and it took 0.9988 seconds\n",
      "Have now performed step 7200 (or 1000 inserts each), and it took 0.9540 seconds\n",
      "Have now performed step 7300 (or 1000 inserts each), and it took 0.9593 seconds\n",
      "Have now performed step 7400 (or 1000 inserts each), and it took 0.9255 seconds\n",
      "Have now performed step 7500 (or 1000 inserts each), and it took 1.0169 seconds\n",
      "Have now performed step 7600 (or 1000 inserts each), and it took 0.9032 seconds\n",
      "Have now performed step 7700 (or 1000 inserts each), and it took 0.9393 seconds\n",
      "Have now performed step 7800 (or 1000 inserts each), and it took 0.9044 seconds\n",
      "Have now performed step 7900 (or 1000 inserts each), and it took 0.9318 seconds\n",
      "Have now performed step 8000 (or 1000 inserts each), and it took 0.9136 seconds\n",
      "Have now performed step 8100 (or 1000 inserts each), and it took 0.9508 seconds\n",
      "Have now performed step 8200 (or 1000 inserts each), and it took 0.9191 seconds\n",
      "Have now performed step 8300 (or 1000 inserts each), and it took 0.9825 seconds\n",
      "Have now performed step 8400 (or 1000 inserts each), and it took 0.9307 seconds\n",
      "Have now performed step 8500 (or 1000 inserts each), and it took 0.9448 seconds\n",
      "Have now performed step 8600 (or 1000 inserts each), and it took 0.9335 seconds\n",
      "Have now performed step 8700 (or 1000 inserts each), and it took 0.9797 seconds\n",
      "Have now performed step 8800 (or 1000 inserts each), and it took 1.0329 seconds\n",
      "Have now performed step 8900 (or 1000 inserts each), and it took 1.0025 seconds\n",
      "Have now performed step 9000 (or 1000 inserts each), and it took 1.0814 seconds\n",
      "Have now performed step 9100 (or 1000 inserts each), and it took 1.1308 seconds\n",
      "Have now performed step 9200 (or 1000 inserts each), and it took 1.0862 seconds\n",
      "Have now performed step 9300 (or 1000 inserts each), and it took 1.1139 seconds\n",
      "Have now performed step 9400 (or 1000 inserts each), and it took 1.0038 seconds\n",
      "Have now performed step 9500 (or 1000 inserts each), and it took 1.1153 seconds\n",
      "Have now performed step 9600 (or 1000 inserts each), and it took 1.0872 seconds\n",
      "Have now performed step 9700 (or 1000 inserts each), and it took 0.9931 seconds\n",
      "Have now performed step 9800 (or 1000 inserts each), and it took 1.0959 seconds\n",
      "Have now performed step 9900 (or 1000 inserts each), and it took 1.0385 seconds\n",
      "Have now performed step 10000 (or 1000 inserts each), and it took 1.0752 seconds\n",
      "Have now performed step 10100 (or 1000 inserts each), and it took 0.9161 seconds\n",
      "Have now performed step 10200 (or 1000 inserts each), and it took 1.0366 seconds\n",
      "Have now performed step 10300 (or 1000 inserts each), and it took 1.0827 seconds\n",
      "Have now performed step 10400 (or 1000 inserts each), and it took 1.0375 seconds\n",
      "Have now performed step 10500 (or 1000 inserts each), and it took 1.1203 seconds\n",
      "Have now performed step 10600 (or 1000 inserts each), and it took 1.2337 seconds\n",
      "Have now performed step 10700 (or 1000 inserts each), and it took 1.0686 seconds\n",
      "Have now performed step 10800 (or 1000 inserts each), and it took 1.2046 seconds\n",
      "Have now performed step 10900 (or 1000 inserts each), and it took 1.2312 seconds\n",
      "Have now performed step 11000 (or 1000 inserts each), and it took 1.2588 seconds\n",
      "Have now performed step 11100 (or 1000 inserts each), and it took 1.1794 seconds\n",
      "Have now performed step 11200 (or 1000 inserts each), and it took 1.2846 seconds\n",
      "Have now performed step 11300 (or 1000 inserts each), and it took 1.2488 seconds\n",
      "Have now performed step 11400 (or 1000 inserts each), and it took 1.1166 seconds\n",
      "Have now performed step 11500 (or 1000 inserts each), and it took 1.0966 seconds\n",
      "Have now performed step 11600 (or 1000 inserts each), and it took 0.9709 seconds\n",
      "Have now performed step 11700 (or 1000 inserts each), and it took 1.0358 seconds\n",
      "Have now performed step 11800 (or 1000 inserts each), and it took 1.0478 seconds\n",
      "Have now performed step 11900 (or 1000 inserts each), and it took 1.2198 seconds\n",
      "Have now performed step 12000 (or 1000 inserts each), and it took 1.0554 seconds\n",
      "Have now performed step 12100 (or 1000 inserts each), and it took 1.4503 seconds\n",
      "Have now performed step 12200 (or 1000 inserts each), and it took 1.0961 seconds\n",
      "Have now performed step 12300 (or 1000 inserts each), and it took 1.1503 seconds\n",
      "Have now performed step 12400 (or 1000 inserts each), and it took 1.1785 seconds\n",
      "Have now performed step 12500 (or 1000 inserts each), and it took 1.3143 seconds\n",
      "Have now performed step 12600 (or 1000 inserts each), and it took 1.3511 seconds\n",
      "Have now performed step 12700 (or 1000 inserts each), and it took 1.2968 seconds\n",
      "Have now performed step 12800 (or 1000 inserts each), and it took 1.3472 seconds\n",
      "Have now performed step 12900 (or 1000 inserts each), and it took 1.2691 seconds\n",
      "Have now performed step 13000 (or 1000 inserts each), and it took 1.1868 seconds\n",
      "Have now performed step 13100 (or 1000 inserts each), and it took 1.2520 seconds\n",
      "Have now performed step 13200 (or 1000 inserts each), and it took 1.2921 seconds\n",
      "Have now performed step 13300 (or 1000 inserts each), and it took 1.3294 seconds\n",
      "Have now performed step 13400 (or 1000 inserts each), and it took 1.2054 seconds\n",
      "Have now performed step 13500 (or 1000 inserts each), and it took 1.1841 seconds\n",
      "Have now performed step 13600 (or 1000 inserts each), and it took 1.2099 seconds\n",
      "Have now performed step 13700 (or 1000 inserts each), and it took 1.2891 seconds\n",
      "Have now performed step 13800 (or 1000 inserts each), and it took 1.2920 seconds\n",
      "Have now performed step 13900 (or 1000 inserts each), and it took 1.2911 seconds\n",
      "Have now performed step 14000 (or 1000 inserts each), and it took 1.3349 seconds\n",
      "Have now performed step 14100 (or 1000 inserts each), and it took 1.2401 seconds\n",
      "Have now performed step 14200 (or 1000 inserts each), and it took 1.2549 seconds\n",
      "\n",
      "The last ObjectID in the collection is:\n",
      "[ObjectId('665a7fe4b7e82b000ffe531f')]\n",
      "\n",
      "The time for this loading into local mongodb was:\n",
      "137.210148 .4f\n"
     ]
    }
   ],
   "source": [
    "time0 = datetime.now()\n",
    "time1 = datetime.now()\n",
    "for i in range(0, len(dict_full)//1000):\n",
    "    result = cal.insert_many(dict_full[1000*i:1000*(i+1)])\n",
    "    if i % 100 == 0:\n",
    "        time2 = datetime.now()\n",
    "        diff = util.time_diff(time1, time2)\n",
    "        print('Have now performed step', i, '(or 1000 inserts each), and it took', format(diff, '.4f'), 'seconds' )\n",
    "        time1 = datetime.now()\n",
    "\n",
    "time3 = datetime.now()\n",
    "\n",
    "print('\\nThe last ObjectID in the collection is:')\n",
    "print(result.inserted_ids[-1:])\n",
    "\n",
    "# print('\\nThe time to do the load of 39K documents into local mongodb, with a total of about 300MB was:')\n",
    "print('\\nThe time for this loading into local mongodb was:')\n",
    "print(format(util.time_diff(time0,time3)), '.4f')"
   ]
  },
  {
   "cell_type": "code",
   "execution_count": 58,
   "id": "695e1f90-5bfc-4c58-bcce-0f850c3b6b5c",
   "metadata": {},
   "outputs": [
    {
     "name": "stdout",
     "output_type": "stream",
     "text": [
      "\n",
      "Last element of result for the last run was:\n",
      "[ObjectId('665a7fe4b7e82b000ffe5685')]\n",
      "\n",
      "The total number of documents in the collection db.calendar is now:\n",
      "14299870\n"
     ]
    }
   ],
   "source": [
    "# this is for the last handful records in dict_ljr_new, but built for some number of records over 2\n",
    "# again, testing for whether the 'last_review' value is NaT, and if so, changing it to None\n",
    "\n",
    "result = cal.insert_many(dict_full[(len(dict_full)//1000)*1000:])\n",
    "print('\\nLast element of result for the last run was:')\n",
    "print(result.inserted_ids[-1:])\n",
    "\n",
    "\n",
    "print('\\nThe total number of documents in the collection db.calendar is now:')\n",
    "print(cal.count_documents({}))"
   ]
  },
  {
   "cell_type": "code",
   "execution_count": 65,
   "id": "71dd5951-bdf5-4ef9-babc-f3b10762ccbd",
   "metadata": {},
   "outputs": [
    {
     "name": "stdout",
     "output_type": "stream",
     "text": [
      "\n",
      "Time it took was: 68.2444 .\n",
      "['listings_with_calendar', 'testing', 'listings_previously_built', 'listings_test', 'calendar_by_agg', 'calendar_previously_built', 'listings']\n",
      "test1:\n",
      "<class 'pymongo.command_cursor.CommandCursor'>\n"
     ]
    }
   ],
   "source": [
    "# making sure that listings_with_calendar is empty\n",
    "db.listings_with_calendar.drop()\n",
    "\n",
    "pipeline = [\n",
    "    {\n",
    "        # Group documents by listing_id, and for each one associate\n",
    "        #     average price across all available dates, \n",
    "        #     and also an array of all available dates\n",
    "        \"$group\": {\n",
    "            \"_id\": '$listing_id',\n",
    "            \"average_price\": {\"$avg\": \"$price\"},\n",
    "            'earliest_available_date': {'$min': '$date'},\n",
    "            'last_available_date': {'$max': '$date'},\n",
    "            'dates_list' : {\n",
    "                '$push': {\n",
    "                    'date': '$date',\n",
    "                    'available' : '$available',\n",
    "                    'price' : '$price',\n",
    "                    'minimum_nights' : '$minimum_nights',\n",
    "                    'maximum_nights' : '$maximum_nights'\n",
    "                }\n",
    "            }\n",
    "        }\n",
    "    },\n",
    "    { '$out' : 'listings_with_calendar' }\n",
    "]\n",
    "\n",
    "time1 = datetime.now()\n",
    "test1 = cal.aggregate(pipeline)\n",
    "time2 = datetime.now()\n",
    "diff = util.time_diff(time1, time2)\n",
    "\n",
    "print('\\nTime it took was:', format(diff, '.4f'), '.')\n",
    "\n",
    "print(db.list_collection_names())\n",
    "\n",
    "print(\"test1:\")\n",
    "\n",
    "# print(len(list(test1)))\n",
    "\n",
    "print(type(test1))\n",
    "\n"
   ]
  },
  {
   "cell_type": "code",
   "execution_count": 79,
   "id": "0c1f14e8-22b1-47f7-a220-40e967b2d206",
   "metadata": {},
   "outputs": [
    {
     "name": "stdout",
     "output_type": "stream",
     "text": [
      "39201\n",
      "\n"
     ]
    }
   ],
   "source": [
    "count = db.listings_with_calendar.count_documents({})\n",
    "print(count)\n",
    "\n",
    "# a slower alternative approach:\n",
    "\"\"\"\n",
    "result = db.listings_with_calendar.find()\n",
    "# by using clone(), the cursor is not consumed\n",
    "print(len(list(result.clone())))\n",
    "\"\"\"\n",
    "print()"
   ]
  },
  {
   "cell_type": "code",
   "execution_count": null,
   "id": "ca8557cf-4791-4916-bef9-9fee234907c3",
   "metadata": {},
   "outputs": [],
   "source": []
  },
  {
   "cell_type": "code",
   "execution_count": null,
   "id": "fff3673b-82d7-49de-9de0-b001c20d3cc1",
   "metadata": {},
   "outputs": [],
   "source": []
  },
  {
   "cell_type": "code",
   "execution_count": null,
   "id": "73af2e61-2488-4f72-b9aa-4dc8ad2b152c",
   "metadata": {},
   "outputs": [],
   "source": []
  },
  {
   "cell_type": "code",
   "execution_count": null,
   "id": "ed8e570e-1bb4-48a7-b460-d39f0db3506f",
   "metadata": {},
   "outputs": [],
   "source": []
  },
  {
   "cell_type": "code",
   "execution_count": null,
   "id": "d5fb74b4-a572-4d50-90b4-c1f6f6748fdc",
   "metadata": {},
   "outputs": [],
   "source": []
  },
  {
   "cell_type": "code",
   "execution_count": null,
   "id": "def5596a-55eb-4f47-aedb-ca4a12d41352",
   "metadata": {},
   "outputs": [],
   "source": []
  },
  {
   "cell_type": "code",
   "execution_count": null,
   "id": "5b5169e9-ed4f-4b47-8190-7bdacd86ed93",
   "metadata": {},
   "outputs": [],
   "source": []
  },
  {
   "cell_type": "code",
   "execution_count": null,
   "id": "bb434d19-d7c8-4dbd-9470-998093cc6b52",
   "metadata": {},
   "outputs": [],
   "source": []
  },
  {
   "cell_type": "code",
   "execution_count": null,
   "id": "bb764e74-d9c3-49d6-bb88-74634924faf6",
   "metadata": {},
   "outputs": [],
   "source": []
  },
  {
   "cell_type": "code",
   "execution_count": null,
   "id": "8329ed6f-e797-4942-9dd3-77daa17e833d",
   "metadata": {},
   "outputs": [],
   "source": []
  },
  {
   "cell_type": "code",
   "execution_count": null,
   "id": "a6623a78-7cae-4479-9622-6d1997434aa6",
   "metadata": {},
   "outputs": [],
   "source": []
  },
  {
   "cell_type": "code",
   "execution_count": null,
   "id": "f9de39f3-e2f5-4b2c-83fa-9b632f12e952",
   "metadata": {},
   "outputs": [],
   "source": []
  },
  {
   "cell_type": "code",
   "execution_count": null,
   "id": "31dd8898-352e-46db-8dbd-ce1aa603499a",
   "metadata": {},
   "outputs": [],
   "source": []
  },
  {
   "cell_type": "code",
   "execution_count": null,
   "id": "4c8fedb0-a289-44b1-9920-a6432fb28897",
   "metadata": {},
   "outputs": [],
   "source": []
  },
  {
   "cell_type": "code",
   "execution_count": null,
   "id": "9270fbdd-d9c7-4f96-8cb1-fbc7e2ec4795",
   "metadata": {},
   "outputs": [],
   "source": []
  }
 ],
 "metadata": {
  "kernelspec": {
   "display_name": "dm4ds",
   "language": "python",
   "name": "dm4ds"
  },
  "language_info": {
   "codemirror_mode": {
    "name": "ipython",
    "version": 3
   },
   "file_extension": ".py",
   "mimetype": "text/x-python",
   "name": "python",
   "nbconvert_exporter": "python",
   "pygments_lexer": "ipython3",
   "version": "3.11.7"
  }
 },
 "nbformat": 4,
 "nbformat_minor": 5
}
