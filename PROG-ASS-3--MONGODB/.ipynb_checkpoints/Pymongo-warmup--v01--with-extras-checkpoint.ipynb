{
 "cells": [
  {
   "cell_type": "markdown",
   "id": "c62ea35f-de63-47e8-93fc-a13bc4e58a9c",
   "metadata": {},
   "source": [
    "### <span style=color:blue> Pymongo warmup </span>"
   ]
  },
  {
   "cell_type": "code",
   "execution_count": 1,
   "id": "ea7cbe6e-4481-4bf3-bb1d-7e0e9649a1be",
   "metadata": {},
   "outputs": [],
   "source": [
    "import sys\n",
    "import json\n",
    "import csv\n",
    "import yaml\n",
    "\n",
    "import importlib\n",
    "\n",
    "import pandas as pd\n",
    "import numpy as np\n",
    "\n",
    "import matplotlib as mpl\n",
    "import matplotlib.pyplot as plt\n",
    "import os\n",
    "from dotenv import load_dotenv\n",
    "\n",
    "from datetime import time\n",
    "from datetime import date\n",
    "from datetime import datetime\n",
    "# with the above choices, the imported datetime.time(2023,07,01) is recognized\n",
    "# from datetime import date\n",
    "# from datetime import datetime\n",
    "\n",
    "import pprint\n",
    "\n",
    "import psycopg2\n",
    "from sqlalchemy import create_engine, text as sql_text\n",
    "\n",
    "# Create an utilities file util.py in a folder benchmarking and import it\n",
    "# Note: I moved my util.py file into the directory \"helper_functions\", which \n",
    "#    seems like a better name\n",
    "sys.path.append('helper_functions/')\n",
    "# import util as util\n",
    "import util"
   ]
  },
  {
   "cell_type": "code",
   "execution_count": 2,
   "id": "95c43ba9-99d5-481d-b549-7952326aacef",
   "metadata": {},
   "outputs": [
    {
     "name": "stdout",
     "output_type": "stream",
     "text": [
      "hello world\n"
     ]
    }
   ],
   "source": [
    "# test that utils.py has been imported well\n",
    "util.hello_world()"
   ]
  },
  {
   "cell_type": "markdown",
   "id": "86dc7f83-99a7-4686-af8b-f3a04ab60d4b",
   "metadata": {},
   "source": [
    "<span style=color:blue>Getting PostgreSQL connection set up</span>"
   ]
  },
  {
   "cell_type": "code",
   "execution_count": 3,
   "id": "461d210b-087a-4512-8592-af5af384976b",
   "metadata": {},
   "outputs": [
    {
     "name": "stdout",
     "output_type": "stream",
     "text": [
      "Successfully created db engine.\n"
     ]
    }
   ],
   "source": [
    "# Load the env file \n",
    "\n",
    "dotenv_path = 'env_variables.env'\n",
    "load_dotenv(dotenv_path=dotenv_path)\n",
    "\n",
    "# Import the env variables\n",
    "\n",
    "load_dotenv()\n",
    "\n",
    "schema = os.getenv('DISC_6_SCHEMA')\n",
    "port = os.getenv('DISC_6_PORT')\n",
    "host = os.getenv('DISC_6_HOST')\n",
    "database = os.getenv('DISC_6_DB')\n",
    "password = os.getenv('DISC_6_PASSWORD')\n",
    "connection = os.getenv('DISC_6_CONNECTION')\n",
    "\n",
    "# Create the db engine \n",
    "\n",
    "db_eng = create_engine(f\"postgresql+psycopg2://{connection}:{password}@{host}:{port}/{database}\",\n",
    "                       connect_args={'options': '-csearch_path={}'.format(schema)},\n",
    "                       isolation_level = 'SERIALIZABLE')\n",
    "\n",
    "print(\"Successfully created db engine.\")"
   ]
  },
  {
   "cell_type": "markdown",
   "id": "3d4b4754-f3bc-4d78-900a-3061eb856b71",
   "metadata": {},
   "source": [
    "<span style=color:blue>Getting mongodb connection set up</span>"
   ]
  },
  {
   "cell_type": "code",
   "execution_count": 4,
   "id": "e0fbfb3f-2529-447b-b17d-bf12dbd2d36d",
   "metadata": {},
   "outputs": [],
   "source": [
    "from pymongo import MongoClient\n",
    "\n",
    "client = MongoClient()\n",
    "# the default port for MongoDB is 27017\n",
    "# could have written client = MongoClient(\"localhost\", 27017)\n",
    "#                 or client = MongoClient(\"mongodb://localhost:27017/\")"
   ]
  },
  {
   "cell_type": "markdown",
   "id": "8d3d8ec1-b6f7-4cae-8ec4-dcfd4c9be361",
   "metadata": {},
   "source": [
    "<span style=color:blue>Creating a small database with 2 collections</span>"
   ]
  },
  {
   "cell_type": "code",
   "execution_count": 12,
   "id": "ecf66543-17ca-4da0-bacd-568d6d3110f7",
   "metadata": {},
   "outputs": [
    {
     "name": "stdout",
     "output_type": "stream",
     "text": [
      "[]\n",
      "\n",
      "[]\n",
      "\n",
      "['prices', 'inventory']\n",
      "\n",
      "{'_id': ObjectId('665487b583c0ce3edcd03bbd'),\n",
      " 'item': 'journal',\n",
      " 'qty': 25,\n",
      " 'size': {'h': 14, 'w': 21, 'uom': 'cm'},\n",
      " 'loc': 'NY'}\n",
      "{'_id': ObjectId('665487b583c0ce3edcd03bbe'),\n",
      " 'item': 'journal',\n",
      " 'qty': 50,\n",
      " 'size': {'h': 14, 'w': 21, 'uom': 'cm'},\n",
      " 'loc': 'LA'}\n",
      "{'_id': ObjectId('665487b583c0ce3edcd03bbf'),\n",
      " 'item': 'notebook',\n",
      " 'qty': 80,\n",
      " 'size': {'h': 8.5, 'w': 11, 'uom': 'in'},\n",
      " 'loc': 'NY'}\n",
      "{'_id': ObjectId('665487b583c0ce3edcd03bc0'),\n",
      " 'item': 'notebook',\n",
      " 'qty': 20,\n",
      " 'size': {'h': 8.5, 'w': 11, 'uom': 'in'},\n",
      " 'loc': 'LA'}\n",
      "{'_id': ObjectId('665487b583c0ce3edcd03bc1'),\n",
      " 'item': 'notebook',\n",
      " 'qty': 30,\n",
      " 'size': {'h': 8.5, 'w': 11, 'uom': 'in'},\n",
      " 'loc': 'SF'}\n",
      "{'_id': ObjectId('665487b583c0ce3edcd03bc2'),\n",
      " 'item': 'bottle',\n",
      " 'qty': 30,\n",
      " 'size': {'h': 4, 'w': 10, 'uom': 'in'},\n",
      " 'loc': 'NY'}\n",
      "{'_id': ObjectId('665487b583c0ce3edcd03bc3'),\n",
      " 'item': 'bottle',\n",
      " 'qty': 40,\n",
      " 'size': {'h': 4, 'w': 10, 'uom': 'in'},\n",
      " 'loc': 'SF'}\n",
      "{'_id': ObjectId('665487b583c0ce3edcd03bc4'),\n",
      " 'item': 'paper',\n",
      " 'qty': 100,\n",
      " 'size': {'h': 8.5, 'w': 11, 'uom': 'in'},\n",
      " 'loc': 'NY'}\n",
      "{'_id': ObjectId('665487b583c0ce3edcd03bc5'),\n",
      " 'item': 'paper',\n",
      " 'qty': 120,\n",
      " 'size': {'h': 8.5, 'w': 11, 'uom': 'in'},\n",
      " 'loc': 'SF'}\n",
      "{'_id': ObjectId('665487b583c0ce3edcd03bc6'),\n",
      " 'item': 'planner',\n",
      " 'qty': 75,\n",
      " 'size': {'h': 22.85, 'w': 30, 'uom': 'cm'},\n",
      " 'loc': 'LA'}\n",
      "\n",
      "{'_id': ObjectId('665487b583c0ce3edcd03bc7'),\n",
      " 'descrip': 'journal',\n",
      " 'price': 9.5}\n",
      "{'_id': ObjectId('665487b583c0ce3edcd03bc8'),\n",
      " 'descrip': 'notebook',\n",
      " 'price': 7.44}\n",
      "{'_id': ObjectId('665487b583c0ce3edcd03bc9'),\n",
      " 'descrip': 'envelopes',\n",
      " 'price': 6.75}\n"
     ]
    }
   ],
   "source": [
    "# set variable db_test to hold the test database in MongoDB, \n",
    "#    or create it if it doesn't already exist\n",
    "db_test = client.test\n",
    "\n",
    "# dropping the collections to have a fresh start\n",
    "db_test.inventory.drop()\n",
    "db_test.prices.drop()\n",
    "\n",
    "print(db_test.list_collection_names())\n",
    "\n",
    "# set up for creation of inventory and price_list collections in db_test\n",
    "inv = db_test.inventory\n",
    "pr = db_test.prices\n",
    "\n",
    "# A collection is not actually created until it has at least one document\n",
    "print()\n",
    "print(db_test.list_collection_names())\n",
    "\n",
    "\n",
    "inv_list = [{ \"item\": \"journal\", \"qty\": 25, \"size\": { \"h\": 14, \"w\": 21, \"uom\": \"cm\" }, \"loc\": \"NY\" },\n",
    "            { \"item\": \"journal\", \"qty\": 50, \"size\": { \"h\": 14, \"w\": 21, \"uom\": \"cm\" }, \"loc\": \"LA\" },\n",
    "            { \"item\": \"notebook\", \"qty\": 80, \"size\": { \"h\": 8.5, \"w\": 11, \"uom\": \"in\" }, \"loc\": \"NY\" },\n",
    "            { \"item\": \"notebook\", \"qty\": 20, \"size\": { \"h\": 8.5, \"w\": 11, \"uom\": \"in\" }, \"loc\": \"LA\" },\n",
    "            { \"item\": \"notebook\", \"qty\": 30, \"size\": { \"h\": 8.5, \"w\": 11, \"uom\": \"in\" }, \"loc\": \"SF\" },\n",
    "            { \"item\": \"bottle\", \"qty\": 30, \"size\": { \"h\": 4, \"w\": 10, \"uom\": \"in\" }, \"loc\": \"NY\" },\n",
    "            { \"item\": \"bottle\", \"qty\": 40, \"size\": { \"h\": 4, \"w\": 10, \"uom\": \"in\" }, \"loc\": \"SF\" },\n",
    "            { \"item\": \"paper\", \"qty\": 100, \"size\": { \"h\": 8.5, \"w\": 11, \"uom\": \"in\" }, \"loc\": \"NY\" },\n",
    "            { \"item\": \"paper\", \"qty\": 120, \"size\": { \"h\": 8.5, \"w\": 11, \"uom\": \"in\" }, \"loc\": \"SF\" },\n",
    "            { \"item\": \"planner\", \"qty\": 75, \"size\": { \"h\": 22.85, \"w\": 30, \"uom\": \"cm\" }, \"loc\": \"LA\" }\n",
    "            ]\n",
    "\n",
    "price_list = [{\"descrip\": \"journal\", \"price\": 9.50},\n",
    "              {\"descrip\": \"notebook\", \"price\": 7.44},\n",
    "              {\"descrip\": \"envelopes\", \"price\": 6.75}\n",
    "             ]\n",
    "\n",
    "# bulk inserts in pymongo\n",
    "inv.insert_many(inv_list)\n",
    "pr.insert_many(price_list)\n",
    "\n",
    "print()\n",
    "print(db_test.list_collection_names())\n",
    "\n",
    "print()\n",
    "# if no condition, then return everything\n",
    "invDocs = inv.find()\n",
    "for doc in invDocs:\n",
    "    pprint.pp(doc)\n",
    "\n",
    "print()\n",
    "prDocs = pr.find()\n",
    "for doc in prDocs:\n",
    "    pprint.pp(doc)"
   ]
  },
  {
   "cell_type": "markdown",
   "id": "08597fe8-382d-4f14-ab77-07a64aa8ff76",
   "metadata": {},
   "source": [
    "<span style=color:blue>A few example queries</span>"
   ]
  },
  {
   "cell_type": "code",
   "execution_count": 13,
   "id": "e68df77c-da46-42c8-af87-3d73bcb704fc",
   "metadata": {},
   "outputs": [
    {
     "name": "stdout",
     "output_type": "stream",
     "text": [
      "{'_id': ObjectId('665487b583c0ce3edcd03bc7'),\n",
      " 'descrip': 'journal',\n",
      " 'price': 9.5}\n"
     ]
    }
   ],
   "source": [
    "for doc in pr.find({\"descrip\": \"journal\"}):\n",
    "    pprint.pp(doc)"
   ]
  },
  {
   "cell_type": "code",
   "execution_count": 14,
   "id": "4392099b-0b99-47ee-a1df-c64f46569c4d",
   "metadata": {},
   "outputs": [
    {
     "name": "stdout",
     "output_type": "stream",
     "text": [
      "{'_id': ObjectId('665487b583c0ce3edcd03bc8'),\n",
      " 'descrip': 'notebook',\n",
      " 'price': 7.44}\n",
      "{'_id': ObjectId('665487b583c0ce3edcd03bc9'),\n",
      " 'descrip': 'envelopes',\n",
      " 'price': 6.75}\n"
     ]
    }
   ],
   "source": [
    "for doc in pr.find({\"price\": {\"$lt\": 7.50}}):\n",
    "    pprint.pp(doc)"
   ]
  },
  {
   "cell_type": "code",
   "execution_count": 15,
   "id": "0af487a5-0a3e-40fc-a340-aee4ca1de37a",
   "metadata": {},
   "outputs": [
    {
     "name": "stdout",
     "output_type": "stream",
     "text": [
      "{'_id': ObjectId('665487b583c0ce3edcd03bbd'),\n",
      " 'item': 'journal',\n",
      " 'qty': 25,\n",
      " 'size': {'h': 14, 'w': 21, 'uom': 'cm'},\n",
      " 'loc': 'NY'}\n",
      "{'_id': ObjectId('665487b583c0ce3edcd03bbe'),\n",
      " 'item': 'journal',\n",
      " 'qty': 50,\n",
      " 'size': {'h': 14, 'w': 21, 'uom': 'cm'},\n",
      " 'loc': 'LA'}\n",
      "{'_id': ObjectId('665487b583c0ce3edcd03bc6'),\n",
      " 'item': 'planner',\n",
      " 'qty': 75,\n",
      " 'size': {'h': 22.85, 'w': 30, 'uom': 'cm'},\n",
      " 'loc': 'LA'}\n"
     ]
    }
   ],
   "source": [
    "for doc in inv.find({'size.h': {'$gt': 9}}):\n",
    "    pprint.pp(doc)"
   ]
  },
  {
   "cell_type": "code",
   "execution_count": 16,
   "id": "930078c3-3ef0-457a-bbe3-e41f013b072b",
   "metadata": {},
   "outputs": [
    {
     "name": "stdout",
     "output_type": "stream",
     "text": [
      "{'_id': ObjectId('665487b583c0ce3edcd03bbf'),\n",
      " 'item': 'notebook',\n",
      " 'qty': 80,\n",
      " 'size': {'h': 8.5, 'w': 11, 'uom': 'in'},\n",
      " 'loc': 'NY'}\n",
      "{'_id': ObjectId('665487b583c0ce3edcd03bc0'),\n",
      " 'item': 'notebook',\n",
      " 'qty': 20,\n",
      " 'size': {'h': 8.5, 'w': 11, 'uom': 'in'},\n",
      " 'loc': 'LA'}\n",
      "{'_id': ObjectId('665487b583c0ce3edcd03bc1'),\n",
      " 'item': 'notebook',\n",
      " 'qty': 30,\n",
      " 'size': {'h': 8.5, 'w': 11, 'uom': 'in'},\n",
      " 'loc': 'SF'}\n"
     ]
    }
   ],
   "source": [
    "# string matching with regex\n",
    "#    see https://www.geeksforgeeks.org/how-to-query-mongodb-documents-with-regex-in-python/\n",
    "\n",
    "# simple matching:  Here \"^\" marks the beginning of a string, and \"$\" can be used to mark the end of string\n",
    "for doc in inv.find({'item' : {'$regex': '^n'}}):\n",
    "    pprint.pp(doc)"
   ]
  },
  {
   "cell_type": "code",
   "execution_count": 17,
   "id": "7684d49c-0b01-420d-92ac-09e66773ac8c",
   "metadata": {},
   "outputs": [
    {
     "name": "stdout",
     "output_type": "stream",
     "text": [
      "{'_id': ObjectId('665487b583c0ce3edcd03bc4'),\n",
      " 'item': 'paper',\n",
      " 'qty': 100,\n",
      " 'size': {'h': 8.5, 'w': 11, 'uom': 'in'},\n",
      " 'loc': 'NY'}\n",
      "{'_id': ObjectId('665487b583c0ce3edcd03bc5'),\n",
      " 'item': 'paper',\n",
      " 'qty': 120,\n",
      " 'size': {'h': 8.5, 'w': 11, 'uom': 'in'},\n",
      " 'loc': 'SF'}\n",
      "{'_id': ObjectId('665487b583c0ce3edcd03bc6'),\n",
      " 'item': 'planner',\n",
      " 'qty': 75,\n",
      " 'size': {'h': 22.85, 'w': 30, 'uom': 'cm'},\n",
      " 'loc': 'LA'}\n"
     ]
    }
   ],
   "source": [
    "for doc in inv.find({'item' : {'$regex': 'r$'}}):\n",
    "    pprint.pp(doc)"
   ]
  },
  {
   "cell_type": "code",
   "execution_count": 18,
   "id": "203dc137-628e-4f9b-b4df-fd40dc91b5b4",
   "metadata": {},
   "outputs": [
    {
     "name": "stdout",
     "output_type": "stream",
     "text": [
      "{'_id': ObjectId('665487b583c0ce3edcd03bbf'),\n",
      " 'item': 'notebook',\n",
      " 'qty': 80,\n",
      " 'size': {'h': 8.5, 'w': 11, 'uom': 'in'},\n",
      " 'loc': 'NY'}\n",
      "{'_id': ObjectId('665487b583c0ce3edcd03bc0'),\n",
      " 'item': 'notebook',\n",
      " 'qty': 20,\n",
      " 'size': {'h': 8.5, 'w': 11, 'uom': 'in'},\n",
      " 'loc': 'LA'}\n",
      "{'_id': ObjectId('665487b583c0ce3edcd03bc1'),\n",
      " 'item': 'notebook',\n",
      " 'qty': 30,\n",
      " 'size': {'h': 8.5, 'w': 11, 'uom': 'in'},\n",
      " 'loc': 'SF'}\n",
      "{'_id': ObjectId('665487b583c0ce3edcd03bc2'),\n",
      " 'item': 'bottle',\n",
      " 'qty': 30,\n",
      " 'size': {'h': 4, 'w': 10, 'uom': 'in'},\n",
      " 'loc': 'NY'}\n",
      "{'_id': ObjectId('665487b583c0ce3edcd03bc3'),\n",
      " 'item': 'bottle',\n",
      " 'qty': 40,\n",
      " 'size': {'h': 4, 'w': 10, 'uom': 'in'},\n",
      " 'loc': 'SF'}\n"
     ]
    }
   ],
   "source": [
    "# find names with given substring\n",
    "for doc in inv.find({'item' : {'$regex': '^.*bo.*$'}}):\n",
    "    pprint.pp(doc)"
   ]
  },
  {
   "cell_type": "code",
   "execution_count": 19,
   "id": "a8cfbb09-3509-4211-97bd-cb48c4e00ef2",
   "metadata": {},
   "outputs": [
    {
     "name": "stdout",
     "output_type": "stream",
     "text": [
      "{'_id': ObjectId('665487b583c0ce3edcd03bbf'),\n",
      " 'item': 'notebook',\n",
      " 'qty': 80,\n",
      " 'size': {'h': 8.5, 'w': 11, 'uom': 'in'},\n",
      " 'loc': 'NY'}\n",
      "{'_id': ObjectId('665487b583c0ce3edcd03bc0'),\n",
      " 'item': 'notebook',\n",
      " 'qty': 20,\n",
      " 'size': {'h': 8.5, 'w': 11, 'uom': 'in'},\n",
      " 'loc': 'LA'}\n",
      "{'_id': ObjectId('665487b583c0ce3edcd03bc1'),\n",
      " 'item': 'notebook',\n",
      " 'qty': 30,\n",
      " 'size': {'h': 8.5, 'w': 11, 'uom': 'in'},\n",
      " 'loc': 'SF'}\n",
      "{'_id': ObjectId('665487b583c0ce3edcd03bc2'),\n",
      " 'item': 'bottle',\n",
      " 'qty': 30,\n",
      " 'size': {'h': 4, 'w': 10, 'uom': 'in'},\n",
      " 'loc': 'NY'}\n",
      "{'_id': ObjectId('665487b583c0ce3edcd03bc3'),\n",
      " 'item': 'bottle',\n",
      " 'qty': 40,\n",
      " 'size': {'h': 4, 'w': 10, 'uom': 'in'},\n",
      " 'loc': 'SF'}\n",
      "{'_id': ObjectId('665487b583c0ce3edcd03bc4'),\n",
      " 'item': 'paper',\n",
      " 'qty': 100,\n",
      " 'size': {'h': 8.5, 'w': 11, 'uom': 'in'},\n",
      " 'loc': 'NY'}\n",
      "{'_id': ObjectId('665487b583c0ce3edcd03bc5'),\n",
      " 'item': 'paper',\n",
      " 'qty': 120,\n",
      " 'size': {'h': 8.5, 'w': 11, 'uom': 'in'},\n",
      " 'loc': 'SF'}\n",
      "{'_id': ObjectId('665487b583c0ce3edcd03bc6'),\n",
      " 'item': 'planner',\n",
      " 'qty': 75,\n",
      " 'size': {'h': 22.85, 'w': 30, 'uom': 'cm'},\n",
      " 'loc': 'LA'}\n"
     ]
    }
   ],
   "source": [
    "# you can also create richer patterns using the python regex package (re)\n",
    "#    e.g., see https://www.w3schools.com/python/python_regex.asp\n",
    "#    the '|' is \"or\"\n",
    "import re\n",
    "pattern = re.compile('^p|^.*bo.*$')\n",
    "for doc in inv.find({'item' : pattern}):\n",
    "    pprint.pp(doc)"
   ]
  },
  {
   "cell_type": "code",
   "execution_count": 20,
   "id": "38fde8fb-06d3-4ed6-a29f-4a0baa60a2d3",
   "metadata": {},
   "outputs": [
    {
     "name": "stdout",
     "output_type": "stream",
     "text": [
      "{'_id': ObjectId('665487b583c0ce3edcd03bbd'),\n",
      " 'item': 'journal',\n",
      " 'qty': 25,\n",
      " 'size': {'h': 14, 'w': 21, 'uom': 'cm'},\n",
      " 'loc': 'NY'}\n",
      "{'_id': ObjectId('665487b583c0ce3edcd03bbe'),\n",
      " 'item': 'journal',\n",
      " 'qty': 50,\n",
      " 'size': {'h': 14, 'w': 21, 'uom': 'cm'},\n",
      " 'loc': 'LA'}\n",
      "{'_id': ObjectId('665487b583c0ce3edcd03bbf'),\n",
      " 'item': 'notebook',\n",
      " 'qty': 80,\n",
      " 'size': {'h': 8.5, 'w': 11, 'uom': 'in'},\n",
      " 'loc': 'NY'}\n",
      "{'_id': ObjectId('665487b583c0ce3edcd03bc0'),\n",
      " 'item': 'notebook',\n",
      " 'qty': 20,\n",
      " 'size': {'h': 8.5, 'w': 11, 'uom': 'in'},\n",
      " 'loc': 'LA'}\n",
      "{'_id': ObjectId('665487b583c0ce3edcd03bc1'),\n",
      " 'item': 'notebook',\n",
      " 'qty': 30,\n",
      " 'size': {'h': 8.5, 'w': 11, 'uom': 'in'},\n",
      " 'loc': 'SF'}\n",
      "{'_id': ObjectId('665487b583c0ce3edcd03bc2'),\n",
      " 'item': 'bottle',\n",
      " 'qty': 30,\n",
      " 'size': {'h': 4, 'w': 10, 'uom': 'in'},\n",
      " 'loc': 'NY'}\n",
      "{'_id': ObjectId('665487b583c0ce3edcd03bc3'),\n",
      " 'item': 'bottle',\n",
      " 'qty': 40,\n",
      " 'size': {'h': 4, 'w': 10, 'uom': 'in'},\n",
      " 'loc': 'SF'}\n",
      "{'_id': ObjectId('665487b583c0ce3edcd03bc6'),\n",
      " 'item': 'planner',\n",
      " 'qty': 75,\n",
      " 'size': {'h': 22.85, 'w': 30, 'uom': 'cm'},\n",
      " 'loc': 'LA'}\n"
     ]
    }
   ],
   "source": [
    "# boolean combinations of conditions\n",
    "for doc in inv.find({'$or' : [{'size.h': {'$gt': 9}}, {'item' : {'$regex': '^.*bo.*$'}} ]}):\n",
    "    pprint.pp(doc)"
   ]
  },
  {
   "cell_type": "markdown",
   "id": "0253366a-98ac-492f-ad2d-5a157150af53",
   "metadata": {},
   "source": [
    "<span style=color:blue>An small example of left join using $lookup </span>\n",
    "\n",
    "<span style=color:blue>E.g., see https://www.mongodb.com/docs/v6.2/reference/operator/aggregation/lookup/</span>"
   ]
  },
  {
   "cell_type": "code",
   "execution_count": 23,
   "id": "bebe7a47-018c-446c-9da3-4116ee4b574e",
   "metadata": {},
   "outputs": [
    {
     "name": "stdout",
     "output_type": "stream",
     "text": [
      "{'_id': ObjectId('665487b583c0ce3edcd03bc7'),\n",
      " 'descrip': 'journal',\n",
      " 'price': 9.5,\n",
      " 'invinfo': [{'_id': ObjectId('665487b583c0ce3edcd03bbd'),\n",
      "              'item': 'journal',\n",
      "              'qty': 25,\n",
      "              'size': {'h': 14, 'w': 21, 'uom': 'cm'},\n",
      "              'loc': 'NY'},\n",
      "             {'_id': ObjectId('665487b583c0ce3edcd03bbe'),\n",
      "              'item': 'journal',\n",
      "              'qty': 50,\n",
      "              'size': {'h': 14, 'w': 21, 'uom': 'cm'},\n",
      "              'loc': 'LA'}]}\n",
      "{'_id': ObjectId('665487b583c0ce3edcd03bc8'),\n",
      " 'descrip': 'notebook',\n",
      " 'price': 7.44,\n",
      " 'invinfo': [{'_id': ObjectId('665487b583c0ce3edcd03bbf'),\n",
      "              'item': 'notebook',\n",
      "              'qty': 80,\n",
      "              'size': {'h': 8.5, 'w': 11, 'uom': 'in'},\n",
      "              'loc': 'NY'},\n",
      "             {'_id': ObjectId('665487b583c0ce3edcd03bc0'),\n",
      "              'item': 'notebook',\n",
      "              'qty': 20,\n",
      "              'size': {'h': 8.5, 'w': 11, 'uom': 'in'},\n",
      "              'loc': 'LA'},\n",
      "             {'_id': ObjectId('665487b583c0ce3edcd03bc1'),\n",
      "              'item': 'notebook',\n",
      "              'qty': 30,\n",
      "              'size': {'h': 8.5, 'w': 11, 'uom': 'in'},\n",
      "              'loc': 'SF'}]}\n",
      "{'_id': ObjectId('665487b583c0ce3edcd03bc9'),\n",
      " 'descrip': 'envelopes',\n",
      " 'price': 6.75,\n",
      " 'invinfo': []}\n"
     ]
    }
   ],
   "source": [
    "pipeline = [{ '$lookup':\n",
    "               {'from': 'inventory',       # need collection name here; do not use \n",
    "                                           # \"inv\", which is variable holding collection\n",
    "                'localField': 'descrip',\n",
    "                'foreignField': 'item',\n",
    "                'as': 'invinfo'}\n",
    "           }]\n",
    "for doc in pr.aggregate(pipeline):\n",
    "    pprint.pp(doc)\n"
   ]
  },
  {
   "cell_type": "code",
   "execution_count": null,
   "id": "0682cc8c-0b36-4519-8f89-82e4299730f8",
   "metadata": {},
   "outputs": [],
   "source": []
  },
  {
   "cell_type": "code",
   "execution_count": null,
   "id": "1801556a-4a7e-4fb4-b006-91ba78b9536c",
   "metadata": {},
   "outputs": [],
   "source": []
  },
  {
   "cell_type": "code",
   "execution_count": null,
   "id": "45225f85-ce7d-4142-8af0-a05b9b9e6898",
   "metadata": {},
   "outputs": [],
   "source": []
  },
  {
   "cell_type": "code",
   "execution_count": null,
   "id": "67862f7e-2718-45e0-af33-4676cbf1b8e2",
   "metadata": {},
   "outputs": [],
   "source": []
  },
  {
   "cell_type": "code",
   "execution_count": null,
   "id": "6c3450ac-9b2f-47a4-81b3-60a7ead1339c",
   "metadata": {},
   "outputs": [],
   "source": []
  },
  {
   "cell_type": "code",
   "execution_count": null,
   "id": "fe6be097-a75e-4e35-9ed1-f78a2ad1d74d",
   "metadata": {},
   "outputs": [],
   "source": []
  },
  {
   "cell_type": "code",
   "execution_count": null,
   "id": "4c661b1e-8a5a-4b0b-9cf1-e1a9601de298",
   "metadata": {},
   "outputs": [],
   "source": []
  },
  {
   "cell_type": "markdown",
   "id": "0f83562d-38f4-422a-9b38-5f9ffe60ae39",
   "metadata": {},
   "source": [
    "<span style=color:blue>Setting up collection \"listings\" in mongodb</span>"
   ]
  },
  {
   "cell_type": "code",
   "execution_count": 5,
   "id": "e1a6e20f-5c3e-4892-881b-2f64c42d8331",
   "metadata": {},
   "outputs": [
    {
     "name": "stdout",
     "output_type": "stream",
     "text": [
      "['testing']\n"
     ]
    }
   ],
   "source": [
    "# I have (or will have) a database \"airbnb\"\n",
    "db = client.airbnb\n",
    "\n",
    "# inside the \"airbnb\" database, I have (or will have) a collection \"listings\"\n",
    "listings = db.listings\n",
    "print(db.list_collection_names())"
   ]
  },
  {
   "cell_type": "code",
   "execution_count": 7,
   "id": "a4812bb2-4f7f-4032-a963-2f452758f3d0",
   "metadata": {},
   "outputs": [
    {
     "name": "stdout",
     "output_type": "stream",
     "text": [
      "<class 'bson.objectid.ObjectId'>\n",
      "664987068b80b91420d2b513\n",
      "{'_id': ObjectId('664987068b80b91420d2b513'), 'date': datetime.datetime(2023, 1, 1, 0, 0)}\n",
      "<class 'datetime.datetime'>\n",
      "{'_id': ObjectId('664987068b80b91420d2b513'), 'date': datetime.datetime(2023, 1, 1, 0, 0)}\n"
     ]
    }
   ],
   "source": [
    "doc = db.testing.find_one()\n",
    "obj_pointer = doc['_id']\n",
    "print(type(obj_pointer))\n",
    "print(obj_pointer)\n",
    "print(doc)\n",
    "print(type(doc['date']))\n",
    "print(db.testing.find_one({'_id': obj_pointer}))"
   ]
  },
  {
   "cell_type": "markdown",
   "id": "637dd78e-f235-43da-bcc9-3449b5624b71",
   "metadata": {},
   "source": [
    "<span style=color:blue>Making a left join of inv and pr </span>"
   ]
  },
  {
   "cell_type": "code",
   "execution_count": null,
   "id": "1aaaa08b-6dfc-4320-996b-a7976c9b1310",
   "metadata": {},
   "outputs": [],
   "source": [
    "\n",
    "\n",
    "\n",
    "\n"
   ]
  },
  {
   "cell_type": "markdown",
   "id": "a8be960a-d6e1-42e8-8d2a-341c7d22f60c",
   "metadata": {},
   "source": [
    "<span style=color:blue>Interesting page with mapping from some SQL operators to MongoDB operators: https://www.mongodb.com/docs/manual/reference/sql-comparison/ </span>"
   ]
  },
  {
   "cell_type": "code",
   "execution_count": null,
   "id": "7f99c5fe-698d-41b2-8793-d67afe7ae1f4",
   "metadata": {},
   "outputs": [],
   "source": []
  },
  {
   "cell_type": "code",
   "execution_count": null,
   "id": "eaa422da-c692-49a1-9d90-ae192c581f43",
   "metadata": {},
   "outputs": [],
   "source": []
  },
  {
   "cell_type": "markdown",
   "id": "4dc1716d-fec3-482d-9880-7080e49daa6e",
   "metadata": {},
   "source": [
    "<span style=color:blue>Dropping the collection \"listings\" to get a fresh start.    </span>"
   ]
  },
  {
   "cell_type": "code",
   "execution_count": 8,
   "id": "1e101a46-3128-4b59-9453-43b048811a18",
   "metadata": {},
   "outputs": [
    {
     "name": "stdout",
     "output_type": "stream",
     "text": [
      "['testing']\n"
     ]
    }
   ],
   "source": [
    "# recall that db is holding access to the airbnb database within the MongoDB client\n",
    "db.listings.drop()\n",
    "print(db.list_collection_names())"
   ]
  },
  {
   "cell_type": "markdown",
   "id": "d6de7bdc-84c8-4a84-b713-a8b7f39cc022",
   "metadata": {},
   "source": [
    "### <span style=color:blue>As preparation for this, I have a table reviewm (for review_mongodb) in which I dropped the comments_tsv column (because not needed) and renamed column \"id\" to \"review_id\" (so that it is not repeating the \"id\" column of the listings table</span>"
   ]
  },
  {
   "cell_type": "code",
   "execution_count": 57,
   "id": "8e5b30df-c3c4-4a49-901a-415e18dc8ed0",
   "metadata": {},
   "outputs": [
    {
     "name": "stdout",
     "output_type": "stream",
     "text": [
      "We will be using the following query:\n",
      "select *\n",
      "from listings l left join reviewsm r \n",
      "        on l.id = r.listing_id\n"
     ]
    }
   ],
   "source": [
    "import importlib\n",
    "import util\n",
    "importlib.reload(util)\n",
    "\n",
    "# q = util.build_query_full_join_listings_reviewsm()\n",
    "# q = util.build_query_left_join_listings_reviewsm_null_right()\n",
    "q = util.build_query_left_join_listings_reviewsm()\n",
    "\n",
    "print('We will be using the following query:')\n",
    "print(q)"
   ]
  },
  {
   "cell_type": "code",
   "execution_count": null,
   "id": "518b6c90-01ab-4a77-b49b-fcdf82bab107",
   "metadata": {},
   "outputs": [],
   "source": [
    "with db_eng.connect() as conn:\n",
    "    # df_ljr100 = pd.read_sql(q, con=conn)\n",
    "    df_ljr = pd.read_sql(q, con=conn)\n",
    "    "
   ]
  },
  {
   "cell_type": "code",
   "execution_count": 56,
   "id": "6ff266d9-0ea6-4fe3-91f0-8574369ab148",
   "metadata": {},
   "outputs": [
    {
     "name": "stdout",
     "output_type": "stream",
     "text": [
      "         id                                               name   host_id  \\\n",
      "0  51944693  Home in Queens · ★4.82 · 1 bedroom · 5 beds · ...  91646104   \n",
      "1  51944693  Home in Queens · ★4.82 · 1 bedroom · 5 beds · ...  91646104   \n",
      "2  51944693  Home in Queens · ★4.82 · 1 bedroom · 5 beds · ...  91646104   \n",
      "3  51944693  Home in Queens · ★4.82 · 1 bedroom · 5 beds · ...  91646104   \n",
      "4  51944693  Home in Queens · ★4.82 · 1 bedroom · 5 beds · ...  91646104   \n",
      "\n",
      "  host_name neighbourhood_group neighbourhood  latitude  longitude  \\\n",
      "0       Pao              Queens      Woodside  40.74395  -73.90858   \n",
      "1       Pao              Queens      Woodside  40.74395  -73.90858   \n",
      "2       Pao              Queens      Woodside  40.74395  -73.90858   \n",
      "3       Pao              Queens      Woodside  40.74395  -73.90858   \n",
      "4       Pao              Queens      Woodside  40.74395  -73.90858   \n",
      "\n",
      "         room_type  price  ...  calculated_host_listings_count  \\\n",
      "0  Entire home/apt  294.0  ...                               4   \n",
      "1  Entire home/apt  294.0  ...                               4   \n",
      "2  Entire home/apt  294.0  ...                               4   \n",
      "3  Entire home/apt  294.0  ...                               4   \n",
      "4  Entire home/apt  294.0  ...                               4   \n",
      "\n",
      "   availability_365 number_of_reviews_ltm  license  listing_id  \\\n",
      "0                89                    23             51944693   \n",
      "1                89                    23             51944693   \n",
      "2                89                    23             51944693   \n",
      "3                89                    23             51944693   \n",
      "4                89                    23             51944693   \n",
      "\n",
      "            review_id        date reviewer_id reviewer_name  \\\n",
      "0  883354811516703393  2023-05-03    78568329        Laaziz   \n",
      "1  894958612605409458  2023-05-19    31215609      Suppasit   \n",
      "2  897151957613869875  2023-05-22    17688815          Ziya   \n",
      "3  913809803180172843  2023-06-14   518486632        Ernest   \n",
      "4  937035352711442723  2023-07-16    92504654         Katie   \n",
      "\n",
      "                                            comments  \n",
      "0  Hôte très réactif et avenant. Logement très bi...  \n",
      "1  Nice place, comfy living room with friends. Pa...  \n",
      "2  Pao’s place is a great place to stay- very clo...  \n",
      "3  It was such a hassle free stay! We felt at wel...  \n",
      "4  Really enjoyed our stay! Pao was incredible! R...  \n",
      "\n",
      "[5 rows x 24 columns]\n"
     ]
    }
   ],
   "source": [
    "# print(df_ljr100.head())\n",
    "print(df_ljr.head())\n",
    "# print(df_ljr.head())\n",
    "# print(df_ljr_new.iloc[13870])"
   ]
  },
  {
   "cell_type": "code",
   "execution_count": 10,
   "id": "16fc3cdd-63cb-43f5-8e7f-739d81cf7c8c",
   "metadata": {},
   "outputs": [
    {
     "name": "stdout",
     "output_type": "stream",
     "text": [
      "(998310, 24)\n"
     ]
    }
   ],
   "source": [
    "# should be 998,310 rows.  This is\n",
    "#     number of records in listings whose id do not show up in reviews['listing_id'] =  11,500\n",
    "#   + number of reviews                                                              = 986,810\n",
    "print(df_ljr.shape)"
   ]
  },
  {
   "cell_type": "code",
   "execution_count": 11,
   "id": "0d5e6733-dd1f-45ec-871e-187a3b228e1c",
   "metadata": {},
   "outputs": [
    {
     "name": "stdout",
     "output_type": "stream",
     "text": [
      "['id', 'name', 'host_id', 'host_name', 'neighbourhood_group', 'neighbourhood', 'latitude', 'longitude', 'room_type', 'price', 'minimum_nights', 'number_of_reviews', 'last_review', 'reviews_per_month', 'calculated_host_listings_count', 'availability_365', 'number_of_reviews_ltm', 'license', 'listing_id', 'review_id', 'date', 'reviewer_id', 'reviewer_name', 'comments']\n"
     ]
    }
   ],
   "source": [
    "# cols = df_ljr100.columns.tolist()\n",
    "cols = df_ljr.columns.tolist()\n",
    "print(cols)"
   ]
  },
  {
   "cell_type": "code",
   "execution_count": 37,
   "id": "72a595cc-9b34-4a41-a89e-d465b8676982",
   "metadata": {},
   "outputs": [
    {
     "name": "stdout",
     "output_type": "stream",
     "text": [
      "<class 'pandas._libs.tslibs.timestamps.Timestamp'>\n",
      "2023-09-24 00:00:00\n",
      "(39202, 18)\n",
      "id                                                              1009467369984606523\n",
      "name                              Rental unit in New York · 2 bedrooms · 1 bed ·...\n",
      "host_id                                                                   305240193\n",
      "host_name                                                                      June\n",
      "neighbourhood_group                                                       Manhattan\n",
      "neighbourhood                                                              Gramercy\n",
      "latitude                                                                  40.736534\n",
      "longitude                                                                 -73.98062\n",
      "room_type                                                              Private room\n",
      "price                                                                         113.0\n",
      "minimum_nights                                                                   30\n",
      "number_of_reviews                                                                 0\n",
      "last_review                                                                     NaT\n",
      "reviews_per_month                                                               NaN\n",
      "calculated_host_listings_count                                                  333\n",
      "availability_365                                                                342\n",
      "number_of_reviews_ltm                                                             0\n",
      "license                                                                            \n",
      "Name: 519326, dtype: object\n"
     ]
    }
   ],
   "source": [
    "# to do a projection and remove duplicates\n",
    "cols_of_listings = ['id', 'name', 'host_id', 'host_name', 'neighbourhood_group', \n",
    "                    'neighbourhood', 'latitude', 'longitude', 'room_type', 'price', \n",
    "                    'minimum_nights', 'number_of_reviews', 'last_review', \n",
    "                    'reviews_per_month', 'calculated_host_listings_count', \n",
    "                    'availability_365', 'number_of_reviews_ltm', 'license']\n",
    "cols_of_reviews = ['listing_id', 'review_id', 'date', 'reviewer_id', \n",
    "                   'reviewer_name', 'comments']\n",
    "\n",
    "df_ljr_new = df_ljr.drop(cols_of_reviews, axis=1).drop_duplicates()\n",
    "\n",
    "# df_ljr_new['last_review'] = df_ljr_new['last_review'].apply(lambda x: convert_date_to_datetime(x))\n",
    "df_ljr_new['last_review'] = df_ljr_new['last_review'].apply(convert_date_to_datetime)\n",
    "\n",
    "print(type(df_ljr_new.at[0,'last_review']))\n",
    "print(str(df_ljr_new.at[0,'last_review']))\n",
    "\n",
    "print(df_ljr_new.shape)\n",
    "# print(df_ljr_new.head(10))\n",
    "\n",
    "print(df_ljr_new.iloc[13870])"
   ]
  },
  {
   "cell_type": "code",
   "execution_count": 13,
   "id": "50762f47-894e-4daf-b223-d3162ec33ec7",
   "metadata": {},
   "outputs": [
    {
     "name": "stdout",
     "output_type": "stream",
     "text": [
      "39202\n",
      "{'id': '51944693',\n",
      " 'name': 'Home in Queens · ★4.82 · 1 bedroom · 5 beds · 1 bath',\n",
      " 'host_id': '91646104',\n",
      " 'host_name': 'Pao',\n",
      " 'neighbourhood_group': 'Queens',\n",
      " 'neighbourhood': 'Woodside',\n",
      " 'latitude': 40.74395,\n",
      " 'longitude': -73.90858,\n",
      " 'room_type': 'Entire home/apt',\n",
      " 'price': 294.0,\n",
      " 'minimum_nights': 30,\n",
      " 'number_of_reviews': 57,\n",
      " 'last_review': Timestamp('2023-09-24 00:00:00'),\n",
      " 'reviews_per_month': 1.98,\n",
      " 'calculated_host_listings_count': 4,\n",
      " 'availability_365': 89,\n",
      " 'number_of_reviews_ltm': 23,\n",
      " 'license': ''}\n"
     ]
    }
   ],
   "source": [
    "dict_ljr_new = df_ljr_new.to_dict('records')\n",
    "print(len(dict_ljr_new))\n",
    "pprint.pp(dict_ljr_new[0])"
   ]
  },
  {
   "cell_type": "code",
   "execution_count": 14,
   "id": "bbbcf116-c243-4d4e-9286-062ed682da5e",
   "metadata": {},
   "outputs": [
    {
     "name": "stdout",
     "output_type": "stream",
     "text": [
      "Have now completed step number: 1000\n",
      "Have now completed step number: 2000\n",
      "Have now completed step number: 3000\n",
      "Have now completed step number: 4000\n",
      "Have now completed step number: 5000\n",
      "Have now completed step number: 6000\n",
      "Have now completed step number: 7000\n",
      "Have now completed step number: 8000\n",
      "Have now completed step number: 9000\n",
      "Have now completed step number: 10000\n",
      "Have now completed step number: 11000\n",
      "Have now completed step number: 12000\n",
      "Have now completed step number: 13000\n",
      "Have now completed step number: 14000\n",
      "Have now completed step number: 15000\n",
      "Have now completed step number: 16000\n",
      "Have now completed step number: 17000\n",
      "Have now completed step number: 18000\n",
      "Have now completed step number: 19000\n",
      "Have now completed step number: 20000\n",
      "Have now completed step number: 21000\n",
      "Have now completed step number: 22000\n",
      "Have now completed step number: 23000\n",
      "Have now completed step number: 24000\n",
      "Have now completed step number: 25000\n",
      "Have now completed step number: 26000\n",
      "Have now completed step number: 27000\n",
      "Have now completed step number: 28000\n",
      "Have now completed step number: 29000\n",
      "Have now completed step number: 30000\n",
      "Have now completed step number: 31000\n",
      "Have now completed step number: 32000\n",
      "Have now completed step number: 33000\n",
      "Have now completed step number: 34000\n",
      "Have now completed step number: 35000\n",
      "Have now completed step number: 36000\n",
      "Have now completed step number: 37000\n",
      "Have now completed step number: 38000\n",
      "Have now completed step number: 39000\n",
      "39202\n",
      "[{'id': '762393507139462217',\n",
      "  'name': 'Hotel in New York · 1 bedroom · 2 beds · 1 private bath',\n",
      "  'host_id': '202829797',\n",
      "  'host_name': 'Crystal',\n",
      "  'neighbourhood_group': 'Manhattan',\n",
      "  'neighbourhood': 'Murray Hill',\n",
      "  'latitude': 40.749428,\n",
      "  'longitude': -73.97196,\n",
      "  'room_type': 'Private room',\n",
      "  'price': nan,\n",
      "  'minimum_nights': 30,\n",
      "  'number_of_reviews': 0,\n",
      "  'last_review': NaT,\n",
      "  'reviews_per_month': nan,\n",
      "  'calculated_host_listings_count': 3,\n",
      "  'availability_365': 364,\n",
      "  'number_of_reviews_ltm': 0,\n",
      "  'license': '',\n",
      "  'reviews': {}}]\n"
     ]
    }
   ],
   "source": [
    "i = 0\n",
    "\n",
    "for d in dict_ljr_new:\n",
    "    i += 1\n",
    "\n",
    "    df_reviews_one_listing = df_ljr.loc[df_ljr['id'] == d['id']].drop(cols_of_listings, axis=1)\n",
    "\n",
    "    df_reviews_one_listing['date'] = df_reviews_one_listing['date'].apply(lambda x: convert_date_to_datetime(x))\n",
    "\n",
    "    dicts_reviews_one_listing = df_reviews_one_listing.to_dict('records')\n",
    "\n",
    "    if len(dicts_reviews_one_listing) == 1 and dicts_reviews_one_listing[0]['review_id'] is None:\n",
    "        d['reviews'] = {}\n",
    "    else:\n",
    "        d['reviews'] = dicts_reviews_one_listing\n",
    "\n",
    "    if i % 1000 == 0:\n",
    "        print('Have now completed step number:', str(i))\n",
    "\n",
    "print(len(dict_ljr_new))\n",
    "pprint.pp(dict_ljr_new[-1:])\n",
    "\n",
    "\n",
    "    "
   ]
  },
  {
   "cell_type": "markdown",
   "id": "236925db-c088-4fa2-83f5-096916f5d9b7",
   "metadata": {},
   "source": [
    "<span style=color:blue> Doing a bulk insert    </span>"
   ]
  },
  {
   "cell_type": "code",
   "execution_count": 16,
   "id": "e052b6ff-fbe8-4953-9db3-7e4d69f9053e",
   "metadata": {},
   "outputs": [
    {
     "name": "stdout",
     "output_type": "stream",
     "text": [
      "39202\n"
     ]
    }
   ],
   "source": [
    "print(len(dict_ljr_new))"
   ]
  },
  {
   "cell_type": "markdown",
   "id": "8e3f1a97-44bc-45dd-8c8e-8baa25e4f61e",
   "metadata": {},
   "source": [
    "<span style=color:blue>Now loading dict_ljr_new into mongodb.  The NaT values occurring in the 'last_review' field of listings need special treatment, unfortunately.     </span>\n",
    "\n",
    "<span style=color:blue>The loading is done 100 documents at a time, with a last small loat </span>"
   ]
  },
  {
   "cell_type": "code",
   "execution_count": 52,
   "id": "3770eecb-fc64-49d9-8df1-e3ed69216b38",
   "metadata": {},
   "outputs": [
    {
     "name": "stdout",
     "output_type": "stream",
     "text": [
      "2\n",
      "39202\n"
     ]
    }
   ],
   "source": [
    "print(len(dict_ljr_new) % 100)\n",
    "print(len(dict_ljr_new))"
   ]
  },
  {
   "cell_type": "code",
   "execution_count": 61,
   "id": "02cd44ac-c475-4648-930e-6d0df81c3825",
   "metadata": {},
   "outputs": [
    {
     "name": "stdout",
     "output_type": "stream",
     "text": [
      "\n",
      "Last element of result for the last run was:\n",
      "[ObjectId('664be01338b2bd10b4774431')]\n",
      "\n",
      "The total number of documents in the collection db.listings is now:\n",
      "39202\n"
     ]
    }
   ],
   "source": [
    "# CAUTION: the first step here erases db.listing\n",
    "# db.listings.drop()\n",
    "# print(db.list_collection_names())\n",
    "\n",
    "listings = db.listings\n",
    "\n",
    "\"\"\"\n",
    "time1 = datetime.now()\n",
    "for i in range(0,392):\n",
    "# for j in range(0,10):\n",
    "# for k in range(0,10):\n",
    "    # testing for whether the 'last_review' value is NaT, and if so, changing it to None\n",
    "    #    normally the \"apply\" function using the \"change_date_to_datetime\" should take care\n",
    "    #    of this substitution, but it does not work on my mac for large df's.  \n",
    "    #    (Oddly, it does work on small df's.)\n",
    "    for j in range(0,100):\n",
    "        if dict_ljr_new[100*i + j]['last_review'] != dict_ljr_new[100*i + j]['last_review']:\n",
    "            dict_ljr_new[100*i + j]['last_review'] = None\n",
    "    result = listings.insert_many(dict_ljr_new[100*i:100*(i+1)])\n",
    "    # result = listings.insert_many(dict_ljr_new[13800 + 10*j:13800 + 10*(j+1)])\n",
    "    # result = listings.insert_many(dict_ljr_new[13870 + k:13870 + k + 1])\n",
    "    # print('Last element of result for run number', str(i), 'was:')\n",
    "    # print(result.inserted_ids[-1:])\n",
    "\n",
    "time2 = datetime.now()\n",
    "\n",
    "print('\\nThe last ObjectID in the collection is:')\n",
    "print(result.inserted_ids[-1:])\n",
    "\n",
    "print('\\nThe time to do the load of 39K documents into local mongodb, with a total of about 300MB was:')\n",
    "print(util.time_diff(time1,time2))\n",
    "\n",
    "\"\"\"\n",
    "\n",
    "# this is for the last 2 records in dict_ljr_new, but built for some number of records over 2\n",
    "# again, testing for whether the 'last_review' value is NaT, and if so, changing it to None\n",
    "for j in range(0,len(dict_ljr_new) % 100):\n",
    "    if dict_ljr_new[39100 + j]['last_review'] != dict_ljr_new[39200 + j]['last_review']:\n",
    "        dict_ljr_new[39200 + j]['last_review'] = None\n",
    "result = listings.insert_many(dict_ljr_new[39200:])\n",
    "print('\\nLast element of result for the last run was:')\n",
    "print(result.inserted_ids[-1:])\n",
    "\n",
    "\n",
    "print('\\nThe total number of documents in the collection db.listings is now:')\n",
    "print(listings.count_documents({}))\n"
   ]
  },
  {
   "cell_type": "code",
   "execution_count": 60,
   "id": "afbd9d67-db94-4102-96e7-9cf245eceda8",
   "metadata": {},
   "outputs": [
    {
     "name": "stdout",
     "output_type": "stream",
     "text": [
      "(39202, 18)\n"
     ]
    }
   ],
   "source": [
    "print(df_ljr_new.shape)"
   ]
  },
  {
   "cell_type": "code",
   "execution_count": null,
   "id": "e8bfbd3c-d64f-4cde-b16a-fb7fb2518363",
   "metadata": {},
   "outputs": [],
   "source": [
    "\n",
    "\n",
    "pprint.pp(dict_ljr_new[13800 + 69:13800 + 72])\n",
    "\n",
    "print(df_ljr_new.iloc[13870])"
   ]
  },
  {
   "cell_type": "code",
   "execution_count": null,
   "id": "faa226c1-735c-4f40-878f-8d8fabcd0d02",
   "metadata": {},
   "outputs": [],
   "source": [
    "\"\"\"\n",
    "val_last_review = df_ljr_new.iloc[13870,df_ljr_new.columns.get_loc('last_review')]\n",
    "print(val_last_review)\n",
    "print(convert_date_to_datetime(val_last_review))\n",
    "\n",
    "val_reviews_per_month = df_ljr_new.iloc[13870,df_ljr_new.columns.get_loc('reviews_per_month')]\n",
    "print(val_reviews_per_month)\n",
    "print(convert_date_to_datetime(val_last_review))\n",
    "\n",
    "\n",
    "\n",
    "row = df_ljr_new.iloc[13870]\n",
    "print(row)\n",
    "    \n",
    "doc = dict_ljr_new[13870]\n",
    "pprint.pp(doc)\n",
    "print()\n",
    "row = df_ljr_new.iloc[13870]\n",
    "print(row)\n",
    "\"\"\"\n",
    "\n",
    "df_test = df_ljr_new.copy()\n",
    "df_test = df_test.iloc[13870:13872]\n",
    "print(df_test.head())\n",
    "df_test['last_review'] = df_test['last_review'].apply(lambda x: convert_date_to_datetime(x))\n",
    "# df_test['last_review'] = df_test['last_review'].apply(convert_date_to_datetime)\n",
    "print(df_test.head())\n",
    "\n",
    "\n",
    "\n",
    "if dict_ljr_new[13870]['last_review'] != dict_ljr_new[13870]['last_review']:\n",
    "    dict_ljr_new[13870]['last_review'] = None\n",
    "pprint.pp(dict_ljr_new[13870])\n",
    "\n",
    "\n"
   ]
  },
  {
   "cell_type": "code",
   "execution_count": 84,
   "id": "1183a4f8-81a0-45e7-99bb-ca1837b27d68",
   "metadata": {},
   "outputs": [
    {
     "name": "stdout",
     "output_type": "stream",
     "text": [
      "Last element of result for run number 1 was:\n",
      "[ObjectId('664adfc48550e1de8d8d1dc7')]\n",
      "<class 'bson.objectid.ObjectId'>\n",
      "{'_id': ObjectId('664adfc48550e1de8d8d1dc7'), 'id': '47305871', 'name': 'Rental unit in New York · 1 bedroom · 1 bed · 0 shared baths', 'host_id': '305240193', 'host_name': 'June', 'neighbourhood_group': 'Manhattan', 'neighbourhood': 'Harlem', 'latitude': 40.821926, 'longitude': -73.956245, 'room_type': 'Private room', 'price': 46, 'minimum_nights': 30, 'number_of_reviews': 0, 'last_review': nan, 'reviews_per_month': None, 'calculated_host_listings_count': 333, 'availability_365': 160, 'number_of_reviews_ltm': 0, 'license': '', 'reviews': {}}\n"
     ]
    }
   ],
   "source": [
    "# result = listings.insert_many(dict_ljr_new[0:1])\n",
    "print('Last element of result for run number', str(i), 'was:')\n",
    "print(result.inserted_ids[-1:])\n",
    "print(type(result.inserted_ids[-1:][0]))\n",
    "print(db.listings.find_one({'_id': result.inserted_ids[-1:][0]}))"
   ]
  },
  {
   "cell_type": "code",
   "execution_count": 38,
   "id": "e97a7ef4-bbd6-4ccf-9127-6e89a5807c9e",
   "metadata": {},
   "outputs": [
    {
     "name": "stdout",
     "output_type": "stream",
     "text": [
      "<class 'bson.objectid.ObjectId'>\n",
      "664987068b80b91420d2b513\n"
     ]
    }
   ],
   "source": [
    "doc = db.testing.find_one()\n",
    "obj_pointer = doc['_id']\n",
    "print(type(obj_pointer))\n",
    "print(obj_pointer)"
   ]
  },
  {
   "cell_type": "code",
   "execution_count": 40,
   "id": "c52f24f8-b167-4c7a-8554-d2691148b54f",
   "metadata": {},
   "outputs": [
    {
     "name": "stdout",
     "output_type": "stream",
     "text": [
      "['testing', 'listings']\n"
     ]
    }
   ],
   "source": [
    "print(db.list_collection_names())"
   ]
  },
  {
   "cell_type": "code",
   "execution_count": 62,
   "id": "e3a6c475-7a8b-4426-86c2-bb984b182e11",
   "metadata": {
    "scrolled": true
   },
   "outputs": [
    {
     "ename": "TypeError",
     "evalue": "Object of type Timestamp is not JSON serializable",
     "output_type": "error",
     "traceback": [
      "\u001b[0;31m---------------------------------------------------------------------------\u001b[0m",
      "\u001b[0;31mTypeError\u001b[0m                                 Traceback (most recent call last)",
      "Cell \u001b[0;32mIn[62], line 6\u001b[0m\n\u001b[1;32m      3\u001b[0m         json\u001b[38;5;241m.\u001b[39mdump(\u001b[38;5;28mdict\u001b[39m, fp)\n\u001b[1;32m      5\u001b[0m filename \u001b[38;5;241m=\u001b[39m \u001b[38;5;124m'\u001b[39m\u001b[38;5;124mlistings_with_reviews_embedded__v01.json\u001b[39m\u001b[38;5;124m'\u001b[39m\n\u001b[0;32m----> 6\u001b[0m \u001b[43mwrite_dict_to_json\u001b[49m\u001b[43m(\u001b[49m\u001b[43mdict_ljr_new\u001b[49m\u001b[43m,\u001b[49m\u001b[43m \u001b[49m\u001b[43mfilename\u001b[49m\u001b[43m)\u001b[49m\n\u001b[1;32m      7\u001b[0m \u001b[38;5;66;03m# hmm -- timestamp is not json serializable !!\u001b[39;00m\n",
      "Cell \u001b[0;32mIn[62], line 3\u001b[0m, in \u001b[0;36mwrite_dict_to_json\u001b[0;34m(dict, filename)\u001b[0m\n\u001b[1;32m      1\u001b[0m \u001b[38;5;28;01mdef\u001b[39;00m \u001b[38;5;21mwrite_dict_to_json\u001b[39m(\u001b[38;5;28mdict\u001b[39m, filename):\n\u001b[1;32m      2\u001b[0m     \u001b[38;5;28;01mwith\u001b[39;00m \u001b[38;5;28mopen\u001b[39m(filename, \u001b[38;5;124m'\u001b[39m\u001b[38;5;124mw\u001b[39m\u001b[38;5;124m'\u001b[39m) \u001b[38;5;28;01mas\u001b[39;00m fp:\n\u001b[0;32m----> 3\u001b[0m         \u001b[43mjson\u001b[49m\u001b[38;5;241;43m.\u001b[39;49m\u001b[43mdump\u001b[49m\u001b[43m(\u001b[49m\u001b[38;5;28;43mdict\u001b[39;49m\u001b[43m,\u001b[49m\u001b[43m \u001b[49m\u001b[43mfp\u001b[49m\u001b[43m)\u001b[49m\n",
      "File \u001b[0;32m~/opt/anaconda3/lib/python3.11/json/__init__.py:179\u001b[0m, in \u001b[0;36mdump\u001b[0;34m(obj, fp, skipkeys, ensure_ascii, check_circular, allow_nan, cls, indent, separators, default, sort_keys, **kw)\u001b[0m\n\u001b[1;32m    173\u001b[0m     iterable \u001b[38;5;241m=\u001b[39m \u001b[38;5;28mcls\u001b[39m(skipkeys\u001b[38;5;241m=\u001b[39mskipkeys, ensure_ascii\u001b[38;5;241m=\u001b[39mensure_ascii,\n\u001b[1;32m    174\u001b[0m         check_circular\u001b[38;5;241m=\u001b[39mcheck_circular, allow_nan\u001b[38;5;241m=\u001b[39mallow_nan, indent\u001b[38;5;241m=\u001b[39mindent,\n\u001b[1;32m    175\u001b[0m         separators\u001b[38;5;241m=\u001b[39mseparators,\n\u001b[1;32m    176\u001b[0m         default\u001b[38;5;241m=\u001b[39mdefault, sort_keys\u001b[38;5;241m=\u001b[39msort_keys, \u001b[38;5;241m*\u001b[39m\u001b[38;5;241m*\u001b[39mkw)\u001b[38;5;241m.\u001b[39miterencode(obj)\n\u001b[1;32m    177\u001b[0m \u001b[38;5;66;03m# could accelerate with writelines in some versions of Python, at\u001b[39;00m\n\u001b[1;32m    178\u001b[0m \u001b[38;5;66;03m# a debuggability cost\u001b[39;00m\n\u001b[0;32m--> 179\u001b[0m \u001b[38;5;28;01mfor\u001b[39;00m chunk \u001b[38;5;129;01min\u001b[39;00m iterable:\n\u001b[1;32m    180\u001b[0m     fp\u001b[38;5;241m.\u001b[39mwrite(chunk)\n",
      "File \u001b[0;32m~/opt/anaconda3/lib/python3.11/json/encoder.py:430\u001b[0m, in \u001b[0;36m_make_iterencode.<locals>._iterencode\u001b[0;34m(o, _current_indent_level)\u001b[0m\n\u001b[1;32m    428\u001b[0m     \u001b[38;5;28;01myield\u001b[39;00m _floatstr(o)\n\u001b[1;32m    429\u001b[0m \u001b[38;5;28;01melif\u001b[39;00m \u001b[38;5;28misinstance\u001b[39m(o, (\u001b[38;5;28mlist\u001b[39m, \u001b[38;5;28mtuple\u001b[39m)):\n\u001b[0;32m--> 430\u001b[0m     \u001b[38;5;28;01myield from\u001b[39;00m _iterencode_list(o, _current_indent_level)\n\u001b[1;32m    431\u001b[0m \u001b[38;5;28;01melif\u001b[39;00m \u001b[38;5;28misinstance\u001b[39m(o, \u001b[38;5;28mdict\u001b[39m):\n\u001b[1;32m    432\u001b[0m     \u001b[38;5;28;01myield from\u001b[39;00m _iterencode_dict(o, _current_indent_level)\n",
      "File \u001b[0;32m~/opt/anaconda3/lib/python3.11/json/encoder.py:326\u001b[0m, in \u001b[0;36m_make_iterencode.<locals>._iterencode_list\u001b[0;34m(lst, _current_indent_level)\u001b[0m\n\u001b[1;32m    324\u001b[0m         \u001b[38;5;28;01melse\u001b[39;00m:\n\u001b[1;32m    325\u001b[0m             chunks \u001b[38;5;241m=\u001b[39m _iterencode(value, _current_indent_level)\n\u001b[0;32m--> 326\u001b[0m         \u001b[38;5;28;01myield from\u001b[39;00m chunks\n\u001b[1;32m    327\u001b[0m \u001b[38;5;28;01mif\u001b[39;00m newline_indent \u001b[38;5;129;01mis\u001b[39;00m \u001b[38;5;129;01mnot\u001b[39;00m \u001b[38;5;28;01mNone\u001b[39;00m:\n\u001b[1;32m    328\u001b[0m     _current_indent_level \u001b[38;5;241m-\u001b[39m\u001b[38;5;241m=\u001b[39m \u001b[38;5;241m1\u001b[39m\n",
      "File \u001b[0;32m~/opt/anaconda3/lib/python3.11/json/encoder.py:406\u001b[0m, in \u001b[0;36m_make_iterencode.<locals>._iterencode_dict\u001b[0;34m(dct, _current_indent_level)\u001b[0m\n\u001b[1;32m    404\u001b[0m         \u001b[38;5;28;01melse\u001b[39;00m:\n\u001b[1;32m    405\u001b[0m             chunks \u001b[38;5;241m=\u001b[39m _iterencode(value, _current_indent_level)\n\u001b[0;32m--> 406\u001b[0m         \u001b[38;5;28;01myield from\u001b[39;00m chunks\n\u001b[1;32m    407\u001b[0m \u001b[38;5;28;01mif\u001b[39;00m newline_indent \u001b[38;5;129;01mis\u001b[39;00m \u001b[38;5;129;01mnot\u001b[39;00m \u001b[38;5;28;01mNone\u001b[39;00m:\n\u001b[1;32m    408\u001b[0m     _current_indent_level \u001b[38;5;241m-\u001b[39m\u001b[38;5;241m=\u001b[39m \u001b[38;5;241m1\u001b[39m\n",
      "File \u001b[0;32m~/opt/anaconda3/lib/python3.11/json/encoder.py:439\u001b[0m, in \u001b[0;36m_make_iterencode.<locals>._iterencode\u001b[0;34m(o, _current_indent_level)\u001b[0m\n\u001b[1;32m    437\u001b[0m         \u001b[38;5;28;01mraise\u001b[39;00m \u001b[38;5;167;01mValueError\u001b[39;00m(\u001b[38;5;124m\"\u001b[39m\u001b[38;5;124mCircular reference detected\u001b[39m\u001b[38;5;124m\"\u001b[39m)\n\u001b[1;32m    438\u001b[0m     markers[markerid] \u001b[38;5;241m=\u001b[39m o\n\u001b[0;32m--> 439\u001b[0m o \u001b[38;5;241m=\u001b[39m \u001b[43m_default\u001b[49m\u001b[43m(\u001b[49m\u001b[43mo\u001b[49m\u001b[43m)\u001b[49m\n\u001b[1;32m    440\u001b[0m \u001b[38;5;28;01myield from\u001b[39;00m _iterencode(o, _current_indent_level)\n\u001b[1;32m    441\u001b[0m \u001b[38;5;28;01mif\u001b[39;00m markers \u001b[38;5;129;01mis\u001b[39;00m \u001b[38;5;129;01mnot\u001b[39;00m \u001b[38;5;28;01mNone\u001b[39;00m:\n",
      "File \u001b[0;32m~/opt/anaconda3/lib/python3.11/json/encoder.py:180\u001b[0m, in \u001b[0;36mJSONEncoder.default\u001b[0;34m(self, o)\u001b[0m\n\u001b[1;32m    161\u001b[0m \u001b[38;5;28;01mdef\u001b[39;00m \u001b[38;5;21mdefault\u001b[39m(\u001b[38;5;28mself\u001b[39m, o):\n\u001b[1;32m    162\u001b[0m \u001b[38;5;250m    \u001b[39m\u001b[38;5;124;03m\"\"\"Implement this method in a subclass such that it returns\u001b[39;00m\n\u001b[1;32m    163\u001b[0m \u001b[38;5;124;03m    a serializable object for ``o``, or calls the base implementation\u001b[39;00m\n\u001b[1;32m    164\u001b[0m \u001b[38;5;124;03m    (to raise a ``TypeError``).\u001b[39;00m\n\u001b[0;32m   (...)\u001b[0m\n\u001b[1;32m    178\u001b[0m \n\u001b[1;32m    179\u001b[0m \u001b[38;5;124;03m    \"\"\"\u001b[39;00m\n\u001b[0;32m--> 180\u001b[0m     \u001b[38;5;28;01mraise\u001b[39;00m \u001b[38;5;167;01mTypeError\u001b[39;00m(\u001b[38;5;124mf\u001b[39m\u001b[38;5;124m'\u001b[39m\u001b[38;5;124mObject of type \u001b[39m\u001b[38;5;132;01m{\u001b[39;00mo\u001b[38;5;241m.\u001b[39m\u001b[38;5;18m__class__\u001b[39m\u001b[38;5;241m.\u001b[39m\u001b[38;5;18m__name__\u001b[39m\u001b[38;5;132;01m}\u001b[39;00m\u001b[38;5;124m \u001b[39m\u001b[38;5;124m'\u001b[39m\n\u001b[1;32m    181\u001b[0m                     \u001b[38;5;124mf\u001b[39m\u001b[38;5;124m'\u001b[39m\u001b[38;5;124mis not JSON serializable\u001b[39m\u001b[38;5;124m'\u001b[39m)\n",
      "\u001b[0;31mTypeError\u001b[0m: Object of type Timestamp is not JSON serializable"
     ]
    }
   ],
   "source": [
    "def write_dict_to_json(dict, filename):\n",
    "    with open(filename, 'w') as fp:\n",
    "        json.dump(dict, fp)\n",
    "\n",
    "# filename = 'listings_with_reviews_embedded__v01.json'\n",
    "# write_dict_to_json(dict_ljr_new, filename)\n",
    "# hmm -- timestamp is not json serializable !!\n",
    "# some suggestions at\n",
    "#   https://stackoverflow.com/questions/50404559/python-error-typeerror-object-of-type-timestamp-is-not-json-serializable\n"
   ]
  },
  {
   "cell_type": "code",
   "execution_count": null,
   "id": "d6182c8d-933c-4a2a-9cb9-fa52e0366166",
   "metadata": {},
   "outputs": [],
   "source": []
  },
  {
   "cell_type": "code",
   "execution_count": null,
   "id": "e9cff806-c2b4-416d-ab4d-01efe9889d18",
   "metadata": {},
   "outputs": [],
   "source": []
  },
  {
   "cell_type": "code",
   "execution_count": null,
   "id": "cf4cdea7-8cd4-4373-95ad-a670b318c50b",
   "metadata": {},
   "outputs": [],
   "source": []
  }
 ],
 "metadata": {
  "kernelspec": {
   "display_name": "dm4ds",
   "language": "python",
   "name": "dm4ds"
  },
  "language_info": {
   "codemirror_mode": {
    "name": "ipython",
    "version": 3
   },
   "file_extension": ".py",
   "mimetype": "text/x-python",
   "name": "python",
   "nbconvert_exporter": "python",
   "pygments_lexer": "ipython3",
   "version": "3.11.7"
  }
 },
 "nbformat": 4,
 "nbformat_minor": 5
}
