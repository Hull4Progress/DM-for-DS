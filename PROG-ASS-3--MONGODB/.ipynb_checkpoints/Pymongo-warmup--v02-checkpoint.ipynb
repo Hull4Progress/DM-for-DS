{
 "cells": [
  {
   "cell_type": "markdown",
   "id": "c62ea35f-de63-47e8-93fc-a13bc4e58a9c",
   "metadata": {},
   "source": [
    "### <span style=color:blue> Some examples of pymongo \"CRUD\" - inserts (create), find (read), updates, deletes  </span>\n",
    "\n",
    "<span style=color:blue>These are all illustrated using pymongo.  A useful exercise would be to understand how to express all of these in mongosh.</span>"
   ]
  },
  {
   "cell_type": "code",
   "execution_count": 1,
   "id": "ea7cbe6e-4481-4bf3-bb1d-7e0e9649a1be",
   "metadata": {},
   "outputs": [],
   "source": [
    "# my usual collection of package imports; not really using them in this notebook\n",
    "\n",
    "import sys\n",
    "import json\n",
    "import csv\n",
    "import yaml\n",
    "\n",
    "import importlib\n",
    "\n",
    "import pandas as pd\n",
    "import numpy as np\n",
    "\n",
    "import matplotlib as mpl\n",
    "import matplotlib.pyplot as plt\n",
    "import os\n",
    "from dotenv import load_dotenv\n",
    "\n",
    "from datetime import time\n",
    "from datetime import date\n",
    "from datetime import datetime\n",
    "# with the above choices, the imported datetime.time(2023,07,01) is recognized\n",
    "# from datetime import date\n",
    "# from datetime import datetime\n",
    "\n",
    "import pprint\n",
    "\n",
    "import psycopg2\n",
    "from sqlalchemy import create_engine, text as sql_text\n",
    "\n",
    "# Create an utilities file util.py in a folder benchmarking and import it\n",
    "# Note: I moved my util.py file into the directory \"helper_functions\", which \n",
    "#    seems like a better name\n",
    "# sys.path.append('helper_functions/')\n",
    "# import util as util\n",
    "# import util"
   ]
  },
  {
   "cell_type": "markdown",
   "id": "3d4b4754-f3bc-4d78-900a-3061eb856b71",
   "metadata": {},
   "source": [
    "<span style=color:blue>Getting mongodb connection set up</span>"
   ]
  },
  {
   "cell_type": "code",
   "execution_count": 2,
   "id": "e0fbfb3f-2529-447b-b17d-bf12dbd2d36d",
   "metadata": {},
   "outputs": [],
   "source": [
    "from pymongo import MongoClient\n",
    "\n",
    "client = MongoClient()\n",
    "# the default port for MongoDB is 27017\n",
    "# could have written client = MongoClient(\"localhost\", 27017)\n",
    "#                 or client = MongoClient(\"mongodb://localhost:27017/\")"
   ]
  },
  {
   "cell_type": "markdown",
   "id": "8d3d8ec1-b6f7-4cae-8ec4-dcfd4c9be361",
   "metadata": {},
   "source": [
    "<span style=color:blue>Creating a small database with 2 collections</span>"
   ]
  },
  {
   "cell_type": "code",
   "execution_count": 3,
   "id": "ecf66543-17ca-4da0-bacd-568d6d3110f7",
   "metadata": {},
   "outputs": [
    {
     "name": "stdout",
     "output_type": "stream",
     "text": [
      "[]\n",
      "\n",
      "[]\n",
      "\n",
      "['prices', 'inventory']\n",
      "\n",
      "{'_id': ObjectId('6654bf84978a669a87e16f1d'),\n",
      " 'item': 'journal',\n",
      " 'qty': 25,\n",
      " 'size': {'h': 14, 'w': 21, 'uom': 'cm'},\n",
      " 'loc': 'NY'}\n",
      "{'_id': ObjectId('6654bf84978a669a87e16f1e'),\n",
      " 'item': 'journal',\n",
      " 'qty': 50,\n",
      " 'size': {'h': 14, 'w': 21, 'uom': 'cm'},\n",
      " 'loc': 'LA'}\n",
      "{'_id': ObjectId('6654bf84978a669a87e16f1f'),\n",
      " 'item': 'notebook',\n",
      " 'qty': 80,\n",
      " 'size': {'h': 8.5, 'w': 11, 'uom': 'in'},\n",
      " 'loc': 'NY'}\n",
      "{'_id': ObjectId('6654bf84978a669a87e16f20'),\n",
      " 'item': 'notebook',\n",
      " 'qty': 20,\n",
      " 'size': {'h': 8.5, 'w': 11, 'uom': 'in'},\n",
      " 'loc': 'LA'}\n",
      "{'_id': ObjectId('6654bf84978a669a87e16f21'),\n",
      " 'item': 'notebook',\n",
      " 'qty': 30,\n",
      " 'size': {'h': 8.5, 'w': 11, 'uom': 'in'},\n",
      " 'loc': 'SF'}\n",
      "{'_id': ObjectId('6654bf84978a669a87e16f22'),\n",
      " 'item': 'bottle',\n",
      " 'qty': 30,\n",
      " 'size': {'h': 4, 'w': 10, 'uom': 'in'},\n",
      " 'loc': 'NY'}\n",
      "{'_id': ObjectId('6654bf84978a669a87e16f23'),\n",
      " 'item': 'bottle',\n",
      " 'qty': 40,\n",
      " 'size': {'h': 4, 'w': 10, 'uom': 'in'},\n",
      " 'loc': 'SF'}\n",
      "{'_id': ObjectId('6654bf84978a669a87e16f24'),\n",
      " 'item': 'paper',\n",
      " 'qty': 100,\n",
      " 'size': {'h': 8.5, 'w': 11, 'uom': 'in'},\n",
      " 'loc': 'NY'}\n",
      "{'_id': ObjectId('6654bf84978a669a87e16f25'),\n",
      " 'item': 'paper',\n",
      " 'qty': 120,\n",
      " 'size': {'h': 8.5, 'w': 11, 'uom': 'in'},\n",
      " 'loc': 'SF'}\n",
      "{'_id': ObjectId('6654bf84978a669a87e16f26'),\n",
      " 'item': 'planner',\n",
      " 'qty': 75,\n",
      " 'size': {'h': 22.85, 'w': 30, 'uom': 'cm'},\n",
      " 'loc': 'LA'}\n",
      "\n",
      "{'_id': ObjectId('6654bf84978a669a87e16f27'),\n",
      " 'descrip': 'journal',\n",
      " 'price': 9.5}\n",
      "{'_id': ObjectId('6654bf84978a669a87e16f28'),\n",
      " 'descrip': 'notebook',\n",
      " 'price': 7.44}\n",
      "{'_id': ObjectId('6654bf84978a669a87e16f29'),\n",
      " 'descrip': 'envelopes',\n",
      " 'price': 6.75}\n"
     ]
    }
   ],
   "source": [
    "# set variable db_test to hold the test database in MongoDB, \n",
    "#    or create it if it doesn't already exist\n",
    "db_test = client.test\n",
    "\n",
    "# dropping the collections to have a fresh start\n",
    "db_test.inventory.drop()\n",
    "db_test.prices.drop()\n",
    "\n",
    "print(db_test.list_collection_names())\n",
    "\n",
    "# set up for creation of inventory and price_list collections in db_test\n",
    "inv = db_test.inventory\n",
    "pr = db_test.prices\n",
    "\n",
    "# A collection is not actually created until it has at least one document\n",
    "print()\n",
    "print(db_test.list_collection_names())\n",
    "\n",
    "\n",
    "inv_list = [{ \"item\": \"journal\", \"qty\": 25, \"size\": { \"h\": 14, \"w\": 21, \"uom\": \"cm\" }, \"loc\": \"NY\" },\n",
    "            { \"item\": \"journal\", \"qty\": 50, \"size\": { \"h\": 14, \"w\": 21, \"uom\": \"cm\" }, \"loc\": \"LA\" },\n",
    "            { \"item\": \"notebook\", \"qty\": 80, \"size\": { \"h\": 8.5, \"w\": 11, \"uom\": \"in\" }, \"loc\": \"NY\" },\n",
    "            { \"item\": \"notebook\", \"qty\": 20, \"size\": { \"h\": 8.5, \"w\": 11, \"uom\": \"in\" }, \"loc\": \"LA\" },\n",
    "            { \"item\": \"notebook\", \"qty\": 30, \"size\": { \"h\": 8.5, \"w\": 11, \"uom\": \"in\" }, \"loc\": \"SF\" },\n",
    "            { \"item\": \"bottle\", \"qty\": 30, \"size\": { \"h\": 4, \"w\": 10, \"uom\": \"in\" }, \"loc\": \"NY\" },\n",
    "            { \"item\": \"bottle\", \"qty\": 40, \"size\": { \"h\": 4, \"w\": 10, \"uom\": \"in\" }, \"loc\": \"SF\" },\n",
    "            { \"item\": \"paper\", \"qty\": 100, \"size\": { \"h\": 8.5, \"w\": 11, \"uom\": \"in\" }, \"loc\": \"NY\" },\n",
    "            { \"item\": \"paper\", \"qty\": 120, \"size\": { \"h\": 8.5, \"w\": 11, \"uom\": \"in\" }, \"loc\": \"SF\" },\n",
    "            { \"item\": \"planner\", \"qty\": 75, \"size\": { \"h\": 22.85, \"w\": 30, \"uom\": \"cm\" }, \"loc\": \"LA\" }\n",
    "            ]\n",
    "\n",
    "price_list = [{\"descrip\": \"journal\", \"price\": 9.50},\n",
    "              {\"descrip\": \"notebook\", \"price\": 7.44},\n",
    "              {\"descrip\": \"envelopes\", \"price\": 6.75}\n",
    "             ]\n",
    "\n",
    "# bulk inserts in pymongo\n",
    "inv.insert_many(inv_list)\n",
    "pr.insert_many(price_list)\n",
    "\n",
    "print()\n",
    "print(db_test.list_collection_names())\n",
    "\n",
    "print()\n",
    "# if no condition, then return everything\n",
    "invDocs = inv.find()\n",
    "for doc in invDocs:\n",
    "    pprint.pp(doc)\n",
    "\n",
    "print()\n",
    "prDocs = pr.find()\n",
    "for doc in prDocs:\n",
    "    pprint.pp(doc)"
   ]
  },
  {
   "cell_type": "markdown",
   "id": "08597fe8-382d-4f14-ab77-07a64aa8ff76",
   "metadata": {},
   "source": [
    "<span style=color:blue>A few example queries</span>"
   ]
  },
  {
   "cell_type": "code",
   "execution_count": 4,
   "id": "e68df77c-da46-42c8-af87-3d73bcb704fc",
   "metadata": {},
   "outputs": [
    {
     "name": "stdout",
     "output_type": "stream",
     "text": [
      "{'_id': ObjectId('6654bf84978a669a87e16f27'),\n",
      " 'descrip': 'journal',\n",
      " 'price': 9.5}\n"
     ]
    }
   ],
   "source": [
    "for doc in pr.find({\"descrip\": \"journal\"}):\n",
    "    pprint.pp(doc)"
   ]
  },
  {
   "cell_type": "markdown",
   "id": "c6691ca6-42ba-41c2-8f2e-88a444fc76ed",
   "metadata": {},
   "source": [
    "### <span style=color:blue>As part of Problem Set 4, please write the mongosh command that performs the operation in the next cell.  This is \"Question 1.\"</span>"
   ]
  },
  {
   "cell_type": "code",
   "execution_count": 5,
   "id": "4392099b-0b99-47ee-a1df-c64f46569c4d",
   "metadata": {},
   "outputs": [
    {
     "name": "stdout",
     "output_type": "stream",
     "text": [
      "{'_id': ObjectId('6654bf84978a669a87e16f28'),\n",
      " 'descrip': 'notebook',\n",
      " 'price': 7.44}\n",
      "{'_id': ObjectId('6654bf84978a669a87e16f29'),\n",
      " 'descrip': 'envelopes',\n",
      " 'price': 6.75}\n"
     ]
    }
   ],
   "source": [
    "for doc in pr.find({\"price\": {\"$lt\": 7.50}}):\n",
    "    pprint.pp(doc)"
   ]
  },
  {
   "cell_type": "markdown",
   "id": "f19753f4-b3de-411e-91a3-8d79def38132",
   "metadata": {},
   "source": [
    "<span style=color:blue>Digression: what is the output of collection.find()?  It is a cursor</span>"
   ]
  },
  {
   "cell_type": "code",
   "execution_count": 6,
   "id": "37998130-d881-4d90-9b04-957dfccb221e",
   "metadata": {},
   "outputs": [
    {
     "name": "stdout",
     "output_type": "stream",
     "text": [
      "<class 'pymongo.cursor.Cursor'>\n",
      "\n",
      "{'_id': ObjectId('6654bf84978a669a87e16f1e'),\n",
      " 'item': 'journal',\n",
      " 'qty': 50,\n",
      " 'size': {'h': 14, 'w': 21, 'uom': 'cm'},\n",
      " 'loc': 'LA'}\n",
      "\n",
      "{'_id': ObjectId('6654bf84978a669a87e16f1f'),\n",
      " 'item': 'notebook',\n",
      " 'qty': 80,\n",
      " 'size': {'h': 8.5, 'w': 11, 'uom': 'in'},\n",
      " 'loc': 'NY'}\n",
      "\n",
      "4\n",
      "\n",
      "[{'_id': ObjectId('6654bf84978a669a87e16f23'),\n",
      "  'item': 'bottle',\n",
      "  'qty': 40,\n",
      "  'size': {'h': 4, 'w': 10, 'uom': 'in'},\n",
      "  'loc': 'SF'},\n",
      " {'_id': ObjectId('6654bf84978a669a87e16f24'),\n",
      "  'item': 'paper',\n",
      "  'qty': 100,\n",
      "  'size': {'h': 8.5, 'w': 11, 'uom': 'in'},\n",
      "  'loc': 'NY'},\n",
      " {'_id': ObjectId('6654bf84978a669a87e16f25'),\n",
      "  'item': 'paper',\n",
      "  'qty': 120,\n",
      "  'size': {'h': 8.5, 'w': 11, 'uom': 'in'},\n",
      "  'loc': 'SF'},\n",
      " {'_id': ObjectId('6654bf84978a669a87e16f26'),\n",
      "  'item': 'planner',\n",
      "  'qty': 75,\n",
      "  'size': {'h': 22.85, 'w': 30, 'uom': 'cm'},\n",
      "  'loc': 'LA'}]\n",
      "\n",
      "The cursor has reached the end of the query results\n"
     ]
    }
   ],
   "source": [
    "cursor = inv.find({\"qty\": {\"$gte\": 40}})\n",
    "print(type(cursor))\n",
    "\n",
    "print()\n",
    "pprint.pp(cursor.next())\n",
    "print()\n",
    "pprint.pp(cursor.next())\n",
    "print()\n",
    "# convert the remainder of cursor into a list, without reading more of it\n",
    "l = list(cursor)\n",
    "print(len(l))\n",
    "# print the rest of the contents of cursor\n",
    "print()\n",
    "pprint.pp(l)\n",
    "# because we used \"list\", the cursor has traversed the rest of the query output\n",
    "print()\n",
    "try:\n",
    "    pprint.pp(cursor.next())\n",
    "except:\n",
    "    print('The cursor has reached the end of the query results')"
   ]
  },
  {
   "cell_type": "markdown",
   "id": "b2c63dfa-7f77-482a-bba6-5e98c050ac7d",
   "metadata": {},
   "source": [
    "<span style=color:blue>More query examples</span>\n",
    "\n",
    "<span style=color:blue>Example of \"projection\" similar to relational model.  If a target column is an array, the number will restrict the number of elements of the array to be produced.</span>"
   ]
  },
  {
   "cell_type": "code",
   "execution_count": 7,
   "id": "c926ebf4-051b-4891-bbf9-ae32f8967b5d",
   "metadata": {},
   "outputs": [
    {
     "name": "stdout",
     "output_type": "stream",
     "text": [
      "{'_id': ObjectId('6654bf84978a669a87e16f1f'),\n",
      " 'item': 'notebook',\n",
      " 'qty': 80,\n",
      " 'loc': 'NY'}\n",
      "{'_id': ObjectId('6654bf84978a669a87e16f24'),\n",
      " 'item': 'paper',\n",
      " 'qty': 100,\n",
      " 'loc': 'NY'}\n",
      "{'_id': ObjectId('6654bf84978a669a87e16f25'),\n",
      " 'item': 'paper',\n",
      " 'qty': 120,\n",
      " 'loc': 'SF'}\n",
      "{'_id': ObjectId('6654bf84978a669a87e16f26'),\n",
      " 'item': 'planner',\n",
      " 'qty': 75,\n",
      " 'loc': 'LA'}\n"
     ]
    }
   ],
   "source": [
    "for doc in inv.find({\"qty\": {\"$gte\": 70}},projection={'item':1,'qty':1, 'loc':1}):\n",
    "    pprint.pp(doc)"
   ]
  },
  {
   "cell_type": "markdown",
   "id": "b689efd1-e93a-4d74-ad13-4d327ff88aab",
   "metadata": {},
   "source": [
    "<span style=color:blue>More query examples</span>"
   ]
  },
  {
   "cell_type": "code",
   "execution_count": 8,
   "id": "0af487a5-0a3e-40fc-a340-aee4ca1de37a",
   "metadata": {},
   "outputs": [
    {
     "name": "stdout",
     "output_type": "stream",
     "text": [
      "{'_id': ObjectId('6654bf84978a669a87e16f1d'),\n",
      " 'item': 'journal',\n",
      " 'qty': 25,\n",
      " 'size': {'h': 14, 'w': 21, 'uom': 'cm'},\n",
      " 'loc': 'NY'}\n",
      "{'_id': ObjectId('6654bf84978a669a87e16f1e'),\n",
      " 'item': 'journal',\n",
      " 'qty': 50,\n",
      " 'size': {'h': 14, 'w': 21, 'uom': 'cm'},\n",
      " 'loc': 'LA'}\n",
      "{'_id': ObjectId('6654bf84978a669a87e16f26'),\n",
      " 'item': 'planner',\n",
      " 'qty': 75,\n",
      " 'size': {'h': 22.85, 'w': 30, 'uom': 'cm'},\n",
      " 'loc': 'LA'}\n"
     ]
    }
   ],
   "source": [
    "for doc in inv.find({'size.h': {'$gt': 9}}):\n",
    "    pprint.pp(doc)"
   ]
  },
  {
   "cell_type": "code",
   "execution_count": 9,
   "id": "930078c3-3ef0-457a-bbe3-e41f013b072b",
   "metadata": {},
   "outputs": [
    {
     "name": "stdout",
     "output_type": "stream",
     "text": [
      "{'_id': ObjectId('6654bf84978a669a87e16f1f'),\n",
      " 'item': 'notebook',\n",
      " 'qty': 80,\n",
      " 'size': {'h': 8.5, 'w': 11, 'uom': 'in'},\n",
      " 'loc': 'NY'}\n",
      "{'_id': ObjectId('6654bf84978a669a87e16f20'),\n",
      " 'item': 'notebook',\n",
      " 'qty': 20,\n",
      " 'size': {'h': 8.5, 'w': 11, 'uom': 'in'},\n",
      " 'loc': 'LA'}\n",
      "{'_id': ObjectId('6654bf84978a669a87e16f21'),\n",
      " 'item': 'notebook',\n",
      " 'qty': 30,\n",
      " 'size': {'h': 8.5, 'w': 11, 'uom': 'in'},\n",
      " 'loc': 'SF'}\n"
     ]
    }
   ],
   "source": [
    "# string matching with regex\n",
    "#    see https://www.geeksforgeeks.org/how-to-query-mongodb-documents-with-regex-in-python/\n",
    "\n",
    "# simple matching:  Here \"^\" marks the beginning of a string, and \"$\" can be used to mark the end of string\n",
    "for doc in inv.find({'item' : {'$regex': '^n'}}):\n",
    "    pprint.pp(doc)"
   ]
  },
  {
   "cell_type": "code",
   "execution_count": 10,
   "id": "7684d49c-0b01-420d-92ac-09e66773ac8c",
   "metadata": {},
   "outputs": [
    {
     "name": "stdout",
     "output_type": "stream",
     "text": [
      "{'_id': ObjectId('6654bf84978a669a87e16f24'),\n",
      " 'item': 'paper',\n",
      " 'qty': 100,\n",
      " 'size': {'h': 8.5, 'w': 11, 'uom': 'in'},\n",
      " 'loc': 'NY'}\n",
      "{'_id': ObjectId('6654bf84978a669a87e16f25'),\n",
      " 'item': 'paper',\n",
      " 'qty': 120,\n",
      " 'size': {'h': 8.5, 'w': 11, 'uom': 'in'},\n",
      " 'loc': 'SF'}\n",
      "{'_id': ObjectId('6654bf84978a669a87e16f26'),\n",
      " 'item': 'planner',\n",
      " 'qty': 75,\n",
      " 'size': {'h': 22.85, 'w': 30, 'uom': 'cm'},\n",
      " 'loc': 'LA'}\n"
     ]
    }
   ],
   "source": [
    "for doc in inv.find({'item' : {'$regex': 'r$'}}):\n",
    "    pprint.pp(doc)"
   ]
  },
  {
   "cell_type": "code",
   "execution_count": 11,
   "id": "203dc137-628e-4f9b-b4df-fd40dc91b5b4",
   "metadata": {},
   "outputs": [
    {
     "name": "stdout",
     "output_type": "stream",
     "text": [
      "{'_id': ObjectId('6654bf84978a669a87e16f1f'),\n",
      " 'item': 'notebook',\n",
      " 'qty': 80,\n",
      " 'size': {'h': 8.5, 'w': 11, 'uom': 'in'},\n",
      " 'loc': 'NY'}\n",
      "{'_id': ObjectId('6654bf84978a669a87e16f20'),\n",
      " 'item': 'notebook',\n",
      " 'qty': 20,\n",
      " 'size': {'h': 8.5, 'w': 11, 'uom': 'in'},\n",
      " 'loc': 'LA'}\n",
      "{'_id': ObjectId('6654bf84978a669a87e16f21'),\n",
      " 'item': 'notebook',\n",
      " 'qty': 30,\n",
      " 'size': {'h': 8.5, 'w': 11, 'uom': 'in'},\n",
      " 'loc': 'SF'}\n",
      "{'_id': ObjectId('6654bf84978a669a87e16f22'),\n",
      " 'item': 'bottle',\n",
      " 'qty': 30,\n",
      " 'size': {'h': 4, 'w': 10, 'uom': 'in'},\n",
      " 'loc': 'NY'}\n",
      "{'_id': ObjectId('6654bf84978a669a87e16f23'),\n",
      " 'item': 'bottle',\n",
      " 'qty': 40,\n",
      " 'size': {'h': 4, 'w': 10, 'uom': 'in'},\n",
      " 'loc': 'SF'}\n"
     ]
    }
   ],
   "source": [
    "# find names with given substring\n",
    "for doc in inv.find({'item' : {'$regex': '^.*bo.*$'}}):\n",
    "    pprint.pp(doc)"
   ]
  },
  {
   "cell_type": "code",
   "execution_count": 12,
   "id": "a8cfbb09-3509-4211-97bd-cb48c4e00ef2",
   "metadata": {},
   "outputs": [
    {
     "name": "stdout",
     "output_type": "stream",
     "text": [
      "{'_id': ObjectId('6654bf84978a669a87e16f1f'),\n",
      " 'item': 'notebook',\n",
      " 'qty': 80,\n",
      " 'size': {'h': 8.5, 'w': 11, 'uom': 'in'},\n",
      " 'loc': 'NY'}\n",
      "{'_id': ObjectId('6654bf84978a669a87e16f20'),\n",
      " 'item': 'notebook',\n",
      " 'qty': 20,\n",
      " 'size': {'h': 8.5, 'w': 11, 'uom': 'in'},\n",
      " 'loc': 'LA'}\n",
      "{'_id': ObjectId('6654bf84978a669a87e16f21'),\n",
      " 'item': 'notebook',\n",
      " 'qty': 30,\n",
      " 'size': {'h': 8.5, 'w': 11, 'uom': 'in'},\n",
      " 'loc': 'SF'}\n",
      "{'_id': ObjectId('6654bf84978a669a87e16f22'),\n",
      " 'item': 'bottle',\n",
      " 'qty': 30,\n",
      " 'size': {'h': 4, 'w': 10, 'uom': 'in'},\n",
      " 'loc': 'NY'}\n",
      "{'_id': ObjectId('6654bf84978a669a87e16f23'),\n",
      " 'item': 'bottle',\n",
      " 'qty': 40,\n",
      " 'size': {'h': 4, 'w': 10, 'uom': 'in'},\n",
      " 'loc': 'SF'}\n",
      "{'_id': ObjectId('6654bf84978a669a87e16f24'),\n",
      " 'item': 'paper',\n",
      " 'qty': 100,\n",
      " 'size': {'h': 8.5, 'w': 11, 'uom': 'in'},\n",
      " 'loc': 'NY'}\n",
      "{'_id': ObjectId('6654bf84978a669a87e16f25'),\n",
      " 'item': 'paper',\n",
      " 'qty': 120,\n",
      " 'size': {'h': 8.5, 'w': 11, 'uom': 'in'},\n",
      " 'loc': 'SF'}\n",
      "{'_id': ObjectId('6654bf84978a669a87e16f26'),\n",
      " 'item': 'planner',\n",
      " 'qty': 75,\n",
      " 'size': {'h': 22.85, 'w': 30, 'uom': 'cm'},\n",
      " 'loc': 'LA'}\n"
     ]
    }
   ],
   "source": [
    "# you can also create richer patterns using the python regex package (re)\n",
    "#    e.g., see https://www.w3schools.com/python/python_regex.asp\n",
    "#    the '|' is \"or\"\n",
    "import re\n",
    "pattern = re.compile('^p|^.*bo.*$')\n",
    "for doc in inv.find({'item' : pattern}):\n",
    "    pprint.pp(doc)"
   ]
  },
  {
   "cell_type": "markdown",
   "id": "1f4e7964-fb8f-4d7f-880a-c30b3987701e",
   "metadata": {},
   "source": [
    "### <span style=color:blue>As part of Problem Set 4, please write the mongosh command that performs the operation in the next cell.  This is \"Question 2.\"</span>"
   ]
  },
  {
   "cell_type": "code",
   "execution_count": 13,
   "id": "38fde8fb-06d3-4ed6-a29f-4a0baa60a2d3",
   "metadata": {},
   "outputs": [
    {
     "name": "stdout",
     "output_type": "stream",
     "text": [
      "{'_id': ObjectId('6654bf84978a669a87e16f1d'),\n",
      " 'item': 'journal',\n",
      " 'qty': 25,\n",
      " 'size': {'h': 14, 'w': 21, 'uom': 'cm'},\n",
      " 'loc': 'NY'}\n",
      "{'_id': ObjectId('6654bf84978a669a87e16f1e'),\n",
      " 'item': 'journal',\n",
      " 'qty': 50,\n",
      " 'size': {'h': 14, 'w': 21, 'uom': 'cm'},\n",
      " 'loc': 'LA'}\n",
      "{'_id': ObjectId('6654bf84978a669a87e16f1f'),\n",
      " 'item': 'notebook',\n",
      " 'qty': 80,\n",
      " 'size': {'h': 8.5, 'w': 11, 'uom': 'in'},\n",
      " 'loc': 'NY'}\n",
      "{'_id': ObjectId('6654bf84978a669a87e16f20'),\n",
      " 'item': 'notebook',\n",
      " 'qty': 20,\n",
      " 'size': {'h': 8.5, 'w': 11, 'uom': 'in'},\n",
      " 'loc': 'LA'}\n",
      "{'_id': ObjectId('6654bf84978a669a87e16f21'),\n",
      " 'item': 'notebook',\n",
      " 'qty': 30,\n",
      " 'size': {'h': 8.5, 'w': 11, 'uom': 'in'},\n",
      " 'loc': 'SF'}\n",
      "{'_id': ObjectId('6654bf84978a669a87e16f22'),\n",
      " 'item': 'bottle',\n",
      " 'qty': 30,\n",
      " 'size': {'h': 4, 'w': 10, 'uom': 'in'},\n",
      " 'loc': 'NY'}\n",
      "{'_id': ObjectId('6654bf84978a669a87e16f23'),\n",
      " 'item': 'bottle',\n",
      " 'qty': 40,\n",
      " 'size': {'h': 4, 'w': 10, 'uom': 'in'},\n",
      " 'loc': 'SF'}\n",
      "{'_id': ObjectId('6654bf84978a669a87e16f26'),\n",
      " 'item': 'planner',\n",
      " 'qty': 75,\n",
      " 'size': {'h': 22.85, 'w': 30, 'uom': 'cm'},\n",
      " 'loc': 'LA'}\n"
     ]
    }
   ],
   "source": [
    "# boolean combinations of conditions\n",
    "for doc in inv.find({'$or' : [{'size.h': {'$gt': 9}}, {'item' : {'$regex': '^.*bo.*$'}} ]}):\n",
    "    pprint.pp(doc)"
   ]
  },
  {
   "cell_type": "markdown",
   "id": "0253366a-98ac-492f-ad2d-5a157150af53",
   "metadata": {},
   "source": [
    "<span style=color:blue>A small example of left join using aggregation and $lookup.  Note that the info coming from the \"right\" collection is incorporated into docs from the \"left\" collection as an array (i.e., list). </span>\n",
    "\n",
    "<span style=color:blue>E.g., see https://www.mongodb.com/docs/v6.2/reference/operator/aggregation/lookup/ and https://www.w3schools.com/mongodb/mongodb_aggregations_lookup.php</span>\n",
    "\n",
    "### <span style=color:blue>As part of Problem Set 4, please write the mongosh command that performs the operation in the next cell.  This is \"Question 3.\"</span>"
   ]
  },
  {
   "cell_type": "code",
   "execution_count": 14,
   "id": "bebe7a47-018c-446c-9da3-4116ee4b574e",
   "metadata": {},
   "outputs": [
    {
     "name": "stdout",
     "output_type": "stream",
     "text": [
      "{'_id': ObjectId('6654bf84978a669a87e16f27'),\n",
      " 'descrip': 'journal',\n",
      " 'price': 9.5,\n",
      " 'invinfo': [{'_id': ObjectId('6654bf84978a669a87e16f1d'),\n",
      "              'item': 'journal',\n",
      "              'qty': 25,\n",
      "              'size': {'h': 14, 'w': 21, 'uom': 'cm'},\n",
      "              'loc': 'NY'},\n",
      "             {'_id': ObjectId('6654bf84978a669a87e16f1e'),\n",
      "              'item': 'journal',\n",
      "              'qty': 50,\n",
      "              'size': {'h': 14, 'w': 21, 'uom': 'cm'},\n",
      "              'loc': 'LA'}]}\n",
      "{'_id': ObjectId('6654bf84978a669a87e16f28'),\n",
      " 'descrip': 'notebook',\n",
      " 'price': 7.44,\n",
      " 'invinfo': [{'_id': ObjectId('6654bf84978a669a87e16f1f'),\n",
      "              'item': 'notebook',\n",
      "              'qty': 80,\n",
      "              'size': {'h': 8.5, 'w': 11, 'uom': 'in'},\n",
      "              'loc': 'NY'},\n",
      "             {'_id': ObjectId('6654bf84978a669a87e16f20'),\n",
      "              'item': 'notebook',\n",
      "              'qty': 20,\n",
      "              'size': {'h': 8.5, 'w': 11, 'uom': 'in'},\n",
      "              'loc': 'LA'},\n",
      "             {'_id': ObjectId('6654bf84978a669a87e16f21'),\n",
      "              'item': 'notebook',\n",
      "              'qty': 30,\n",
      "              'size': {'h': 8.5, 'w': 11, 'uom': 'in'},\n",
      "              'loc': 'SF'}]}\n",
      "{'_id': ObjectId('6654bf84978a669a87e16f29'),\n",
      " 'descrip': 'envelopes',\n",
      " 'price': 6.75,\n",
      " 'invinfo': []}\n"
     ]
    }
   ],
   "source": [
    "pipeline = [{ '$lookup':\n",
    "               {'from': 'inventory',       # need collection name here; do not use \n",
    "                                           # \"inv\", which is variable holding collection\n",
    "                'localField': 'descrip',\n",
    "                'foreignField': 'item',\n",
    "                'as': 'invinfo'}\n",
    "           }]\n",
    "for doc in pr.aggregate(pipeline):\n",
    "    pprint.pp(doc)"
   ]
  },
  {
   "cell_type": "markdown",
   "id": "b89c6c3d-7447-45af-8de3-aece78b53074",
   "metadata": {},
   "source": [
    "<span style=color:blue>Simple update example: setting a value</span>"
   ]
  },
  {
   "cell_type": "code",
   "execution_count": 15,
   "id": "1801556a-4a7e-4fb4-b006-91ba78b9536c",
   "metadata": {},
   "outputs": [
    {
     "name": "stdout",
     "output_type": "stream",
     "text": [
      "The number of documents matched is: 3\n",
      "The number of documents modified is: 2\n",
      "\n",
      "The type of variable upd is: <class 'pymongo.results.UpdateResult'>\n",
      "\n",
      "{'_id': ObjectId('6654bf84978a669a87e16f24'),\n",
      " 'item': 'paper',\n",
      " 'qty': 100,\n",
      " 'size': {'h': 8.5, 'w': 11, 'uom': 'in'},\n",
      " 'loc': 'NY'}\n",
      "{'_id': ObjectId('6654bf84978a669a87e16f25'),\n",
      " 'item': 'paper',\n",
      " 'qty': 100,\n",
      " 'size': {'h': 8.5, 'w': 11, 'uom': 'in'},\n",
      " 'loc': 'SF'}\n",
      "{'_id': ObjectId('6654bf84978a669a87e16f26'),\n",
      " 'item': 'planner',\n",
      " 'qty': 100,\n",
      " 'size': {'h': 22.85, 'w': 30, 'uom': 'cm'},\n",
      " 'loc': 'LA'}\n"
     ]
    }
   ],
   "source": [
    "selection_condition = { 'item': {'$regex': '^p'}}\n",
    "new_values = { '$set': { 'qty' : 100}}\n",
    "\n",
    "upd = inv.update_many(selection_condition, new_values)\n",
    "\n",
    "print('The number of documents matched is:', upd.matched_count)\n",
    "print('The number of documents modified is:', upd.modified_count)\n",
    "\n",
    "print()\n",
    "print('The type of variable upd is:', type(upd))\n",
    "\n",
    "print()\n",
    "for doc in inv.find(selection_condition):\n",
    "    pprint.pp(doc)\n"
   ]
  },
  {
   "cell_type": "markdown",
   "id": "7ddb847d-fd49-4391-a489-d88d52ddd34c",
   "metadata": {},
   "source": [
    "<span style=color:blue>Updating with simple arithmetic </span>"
   ]
  },
  {
   "cell_type": "code",
   "execution_count": 16,
   "id": "2caf819a-3e5a-4077-8e2c-aa1ba0ce5a27",
   "metadata": {},
   "outputs": [
    {
     "name": "stdout",
     "output_type": "stream",
     "text": [
      "The number of documents matched is: 5\n",
      "The number of documents modified is: 5\n",
      "\n",
      "{'_id': ObjectId('6654bf84978a669a87e16f1f'),\n",
      " 'item': 'notebook',\n",
      " 'qty': 105,\n",
      " 'size': {'h': 8.5, 'w': 11, 'uom': 'in'},\n",
      " 'loc': 'NY'}\n",
      "{'_id': ObjectId('6654bf84978a669a87e16f20'),\n",
      " 'item': 'notebook',\n",
      " 'qty': 45,\n",
      " 'size': {'h': 8.5, 'w': 11, 'uom': 'in'},\n",
      " 'loc': 'LA'}\n",
      "{'_id': ObjectId('6654bf84978a669a87e16f21'),\n",
      " 'item': 'notebook',\n",
      " 'qty': 55,\n",
      " 'size': {'h': 8.5, 'w': 11, 'uom': 'in'},\n",
      " 'loc': 'SF'}\n",
      "{'_id': ObjectId('6654bf84978a669a87e16f22'),\n",
      " 'item': 'bottle',\n",
      " 'qty': 55,\n",
      " 'size': {'h': 4, 'w': 10, 'uom': 'in'},\n",
      " 'loc': 'NY'}\n",
      "{'_id': ObjectId('6654bf84978a669a87e16f23'),\n",
      " 'item': 'bottle',\n",
      " 'qty': 65,\n",
      " 'size': {'h': 4, 'w': 10, 'uom': 'in'},\n",
      " 'loc': 'SF'}\n"
     ]
    }
   ],
   "source": [
    "selection_condition = { 'item': {'$regex': '^.*bo.*$'}}\n",
    "# adding 25 to the qty values\n",
    "new_values = { '$inc': { 'qty' : 25}}\n",
    "\n",
    "upd = inv.update_many(selection_condition, new_values)\n",
    "\n",
    "print('The number of documents matched is:', upd.matched_count)\n",
    "print('The number of documents modified is:', upd.modified_count)\n",
    "\n",
    "print()\n",
    "for doc in inv.find(selection_condition):\n",
    "    pprint.pp(doc)\n"
   ]
  },
  {
   "cell_type": "markdown",
   "id": "7964e561-b8ea-49e1-ae7a-abe5d06fd1ca",
   "metadata": {},
   "source": [
    "<span style=color:blue>Changing a value, and adding a column</span>"
   ]
  },
  {
   "cell_type": "code",
   "execution_count": 17,
   "id": "3eb65726-3d03-4fdb-87b2-72381448c508",
   "metadata": {},
   "outputs": [
    {
     "name": "stdout",
     "output_type": "stream",
     "text": [
      "The number of documents matched is: 2\n",
      "The number of documents modified is: 2\n",
      "\n",
      "{'_id': ObjectId('6654bf84978a669a87e16f1d'),\n",
      " 'item': 'journal',\n",
      " 'qty': 25,\n",
      " 'size': {'h': 10, 'w': 21, 'uom': 'cm'},\n",
      " 'loc': 'NY',\n",
      " 'color': 'red'}\n",
      "{'_id': ObjectId('6654bf84978a669a87e16f1e'),\n",
      " 'item': 'journal',\n",
      " 'qty': 50,\n",
      " 'size': {'h': 10, 'w': 21, 'uom': 'cm'},\n",
      " 'loc': 'LA',\n",
      " 'color': 'red'}\n"
     ]
    }
   ],
   "source": [
    "selection_condition = { '$and': [ {'item': {'$regex': '^.*o.*$'}}, {'size.uom': 'cm'}]}\n",
    "\n",
    "new_values = { '$set': {'size.h' : 10, 'color':'red'}}\n",
    "\n",
    "upd = inv.update_many(selection_condition, new_values)\n",
    "\n",
    "print('The number of documents matched is:', upd.matched_count)\n",
    "print('The number of documents modified is:', upd.modified_count)\n",
    "\n",
    "print()\n",
    "for doc in inv.find(selection_condition):\n",
    "    pprint.pp(doc)\n"
   ]
  },
  {
   "cell_type": "markdown",
   "id": "5e6c4cc4-a663-459f-b1e9-ff970ab21a87",
   "metadata": {},
   "source": [
    "<span style=color:blue>Simple delete example</span>"
   ]
  },
  {
   "cell_type": "code",
   "execution_count": 18,
   "id": "2d5311d8-32d2-4783-a9a9-a9004168d308",
   "metadata": {},
   "outputs": [
    {
     "name": "stdout",
     "output_type": "stream",
     "text": [
      "The number of documents deleted is: 3\n"
     ]
    }
   ],
   "source": [
    "selection_condition = { 'item': {'$regex': '^p'}}\n",
    "\n",
    "dlt = inv.delete_many(selection_condition)\n",
    "\n",
    "print('The number of documents deleted is:', dlt.deleted_count)\n"
   ]
  },
  {
   "cell_type": "markdown",
   "id": "432f4f2a-0181-461c-b979-86ff162b9557",
   "metadata": {},
   "source": [
    "<span style=color:blue>Working with object identifiers</span>\n",
    "\n",
    "<span style=color:blue>See https://pymongo.readthedocs.io/en/stable/api/bson/objectid.html</span>"
   ]
  },
  {
   "cell_type": "code",
   "execution_count": 21,
   "id": "6c5ff547-01c3-43e1-9435-b68623a06906",
   "metadata": {},
   "outputs": [
    {
     "name": "stdout",
     "output_type": "stream",
     "text": [
      "{'_id': ObjectId('6654bf84978a669a87e16f1d'),\n",
      " 'item': 'journal',\n",
      " 'qty': 25,\n",
      " 'size': {'h': 10, 'w': 21, 'uom': 'cm'},\n",
      " 'loc': 'NY',\n",
      " 'color': 'red'}\n",
      "\n",
      "<class 'bson.objectid.ObjectId'>\n",
      "\n",
      "6654bf84978a669a87e16f1d\n",
      "\n",
      "<class 'int'>\n",
      "\n",
      "You can retrieve an object based on its object id\n",
      "{'_id': ObjectId('6654bf84978a669a87e16f1d'),\n",
      " 'item': 'journal',\n",
      " 'qty': 25,\n",
      " 'size': {'h': 10, 'w': 21, 'uom': 'cm'},\n",
      " 'loc': 'NY',\n",
      " 'color': 'red'}\n",
      "\n",
      "You cannot match the \"_id\" with a string type!\n",
      "None\n",
      "\n",
      "You can convert the string of an objectid back into an objectid\n",
      "{'_id': ObjectId('6654bf84978a669a87e16f1d'),\n",
      " 'item': 'journal',\n",
      " 'qty': 25,\n",
      " 'size': {'h': 10, 'w': 21, 'uom': 'cm'},\n",
      " 'loc': 'NY',\n",
      " 'color': 'red'}\n"
     ]
    }
   ],
   "source": [
    "doc = inv.find_one()\n",
    "pprint.pp(doc)\n",
    "\n",
    "obj_pointer = doc['_id']\n",
    "print()\n",
    "print(type(obj_pointer))\n",
    "\n",
    "print()\n",
    "print(obj_pointer)\n",
    "\n",
    "print()\n",
    "print(type(doc['qty']))\n",
    "\n",
    "print('\\nYou can retrieve an object based on its object id')\n",
    "pprint.pp(inv.find_one({'_id': obj_pointer}))\n",
    "\n",
    "print('\\nYou cannot match the \"_id\" with a string type!' )\n",
    "pprint.pp(inv.find_one({'_id': str(obj_pointer)}))\n",
    "\n",
    "import bson\n",
    "# for some reason, I need to include the entire string \"bson.objectid.ObjectID\" in the following\n",
    "print('\\nYou can convert the string of an objectid back into an objectid')\n",
    "pprint.pp(inv.find_one({'_id': bson.objectid.ObjectId(str(obj_pointer))}))"
   ]
  },
  {
   "cell_type": "code",
   "execution_count": null,
   "id": "819c3a26-27bf-4cbc-a450-0248e562b65d",
   "metadata": {},
   "outputs": [],
   "source": []
  }
 ],
 "metadata": {
  "kernelspec": {
   "display_name": "dm4ds",
   "language": "python",
   "name": "dm4ds"
  },
  "language_info": {
   "codemirror_mode": {
    "name": "ipython",
    "version": 3
   },
   "file_extension": ".py",
   "mimetype": "text/x-python",
   "name": "python",
   "nbconvert_exporter": "python",
   "pygments_lexer": "ipython3",
   "version": "3.11.7"
  }
 },
 "nbformat": 4,
 "nbformat_minor": 5
}
