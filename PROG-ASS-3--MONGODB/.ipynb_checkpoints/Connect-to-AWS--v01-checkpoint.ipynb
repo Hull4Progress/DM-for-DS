{
 "cells": [
  {
   "cell_type": "code",
   "execution_count": 3,
   "id": "4aefe24a-7754-4a34-b92b-e3085bd426f3",
   "metadata": {},
   "outputs": [],
   "source": [
    "import sys\n",
    "import json\n",
    "import csv\n",
    "import yaml\n",
    "\n",
    "import importlib\n",
    "\n",
    "import pandas as pd\n",
    "import numpy as np\n",
    "\n",
    "import matplotlib as mpl\n",
    "import matplotlib.pyplot as plt\n",
    "import os\n",
    "from dotenv import load_dotenv\n",
    "\n",
    "from datetime import time\n",
    "from datetime import date\n",
    "from datetime import datetime\n",
    "# with the above choices, the imported datetime.time(2023,07,01) is recognized\n",
    "# from datetime import date\n",
    "# from datetime import datetime\n",
    "\n",
    "import pprint\n",
    "\n",
    "import psycopg2\n",
    "from sqlalchemy import create_engine, text as sql_text\n",
    "\n",
    "# Create an utilities file util.py in a folder benchmarking and import it\n",
    "sys.path.append('helper_functions/')\n",
    "# import util as util\n",
    "import util"
   ]
  },
  {
   "cell_type": "markdown",
   "id": "b1d91712-b3ef-4c7d-80f0-7a0a340ce285",
   "metadata": {},
   "source": [
    "<span style=color:blue>Getting mongodb connection set up</span>"
   ]
  },
  {
   "cell_type": "code",
   "execution_count": 4,
   "id": "27a70c21-c27b-48b6-8942-57f9c0970c1e",
   "metadata": {},
   "outputs": [],
   "source": [
    "from pymongo import MongoClient\n",
    "\n",
    "client = MongoClient()\n",
    "# could have written client = MongoClient(\"localhost\", 27017)\n",
    "#                 or client = MongoClient(\"mongodb://localhost:27017/\")"
   ]
  },
  {
   "cell_type": "markdown",
   "id": "32393a13-8080-4040-888b-64fb06b9905d",
   "metadata": {},
   "source": [
    "<span style=color:blue>Setting up access to the airbnb database that already exists in my local MongoDB, in case I want to use it</span>"
   ]
  },
  {
   "cell_type": "code",
   "execution_count": 5,
   "id": "bef987b2-04a4-475b-b2df-43cc47de602d",
   "metadata": {},
   "outputs": [
    {
     "name": "stdout",
     "output_type": "stream",
     "text": [
      "['admin', 'airbnb', 'config', 'local', 'test']\n",
      "['testing', 'listings']\n"
     ]
    }
   ],
   "source": [
    "# I have (or will have) a database \"airbnb\"\n",
    "db = client.airbnb\n",
    "\n",
    "print(client.list_database_names())\n",
    "print(db.list_collection_names())"
   ]
  },
  {
   "cell_type": "markdown",
   "id": "1a6da428-d709-43d6-9dbc-6a182594f873",
   "metadata": {},
   "source": [
    "<span style=color:blue></span>"
   ]
  },
  {
   "cell_type": "code",
   "execution_count": null,
   "id": "7f16bdb2-a5cb-46b1-9240-4473bba39541",
   "metadata": {},
   "outputs": [],
   "source": []
  },
  {
   "cell_type": "code",
   "execution_count": null,
   "id": "814e002d-4877-45f4-b5a9-abbcf2fd83dd",
   "metadata": {},
   "outputs": [],
   "source": []
  },
  {
   "cell_type": "code",
   "execution_count": null,
   "id": "76e62e41-11d5-4031-a5c8-ebe7eed9bbec",
   "metadata": {},
   "outputs": [],
   "source": []
  },
  {
   "cell_type": "code",
   "execution_count": null,
   "id": "b18ac7fd-a835-4098-80f6-bb8f175b1a05",
   "metadata": {},
   "outputs": [],
   "source": []
  }
 ],
 "metadata": {
  "kernelspec": {
   "display_name": "dm4ds",
   "language": "python",
   "name": "dm4ds"
  },
  "language_info": {
   "codemirror_mode": {
    "name": "ipython",
    "version": 3
   },
   "file_extension": ".py",
   "mimetype": "text/x-python",
   "name": "python",
   "nbconvert_exporter": "python",
   "pygments_lexer": "ipython3",
   "version": "3.11.7"
  }
 },
 "nbformat": 4,
 "nbformat_minor": 5
}
