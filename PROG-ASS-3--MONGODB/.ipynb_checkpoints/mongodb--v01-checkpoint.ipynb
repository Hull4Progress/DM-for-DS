{
 "cells": [
  {
   "cell_type": "markdown",
   "id": "525edb6e-6754-47e2-9a33-bbe6cd48209f",
   "metadata": {},
   "source": [
    "<span style=color:blue> Following https://pymongo.readthedocs.io/en/stable/tutorial.html </span>"
   ]
  },
  {
   "cell_type": "code",
   "execution_count": 4,
   "id": "8f24bab3-ac07-44f6-92c1-ef1c58a0bef8",
   "metadata": {},
   "outputs": [],
   "source": [
    "import sys\n",
    "import json\n",
    "import csv\n",
    "import yaml\n",
    "\n",
    "import pandas as pd\n",
    "import numpy as np\n",
    "\n",
    "import matplotlib as mpl\n",
    "import matplotlib.pyplot as plt\n",
    "import os\n",
    "from dotenv import load_dotenv\n",
    "\n",
    "import time\n",
    "from datetime import datetime\n",
    "\n",
    "import pprint\n",
    "\n",
    "import psycopg2\n",
    "from sqlalchemy import create_engine, text as sql_text\n",
    "\n",
    "from pymongo import MongoClient"
   ]
  },
  {
   "cell_type": "code",
   "execution_count": 6,
   "id": "ebe99384-12bb-4b93-bee0-6e1f7b12d2c8",
   "metadata": {},
   "outputs": [],
   "source": [
    "client = MongoClient()\n",
    "# could have written client = MongoClient(\"localhost\", 27017)\n",
    "#                 or client = MongoClient(\"mongodb://localhost:27017/\")\n"
   ]
  },
  {
   "cell_type": "code",
   "execution_count": 7,
   "id": "cc36dcd3-bd72-4c91-b8e6-2d4fc5423f08",
   "metadata": {},
   "outputs": [],
   "source": [
    "db = client.test"
   ]
  },
  {
   "cell_type": "code",
   "execution_count": 12,
   "id": "49e3ff6b-0d10-4d14-9aaf-29a78a03d035",
   "metadata": {},
   "outputs": [
    {
     "data": {
      "text/plain": [
       "['collection_1', 'inventory', 'inventory1']"
      ]
     },
     "execution_count": 12,
     "metadata": {},
     "output_type": "execute_result"
    }
   ],
   "source": [
    "db.list_collection_names()"
   ]
  },
  {
   "cell_type": "markdown",
   "id": "b06070f4-8529-458d-8e19-2620d30c0903",
   "metadata": {},
   "source": [
    "<span style=color:blue>In the mongosh one uses findOne(); here one uses find_one()"
   ]
  },
  {
   "cell_type": "code",
   "execution_count": 13,
   "id": "5dc29fc7-47e9-4e3e-9510-a7c6685428ce",
   "metadata": {},
   "outputs": [
    {
     "name": "stdout",
     "output_type": "stream",
     "text": [
      "{'_id': ObjectId('6644230ad7538e2589325cba'),\n",
      " 'item': 'journal',\n",
      " 'qty': 25,\n",
      " 'size': {'h': 14, 'w': 21, 'uom': 'cm'},\n",
      " 'status': 'A'}\n"
     ]
    }
   ],
   "source": [
    "inventory = db.inventory\n",
    "doc = inventory.find_one()\n",
    "pprint.pp(doc)"
   ]
  },
  {
   "cell_type": "code",
   "execution_count": 16,
   "id": "a7925ab5-22b2-4d06-9d92-10edfb0246e2",
   "metadata": {},
   "outputs": [
    {
     "name": "stdout",
     "output_type": "stream",
     "text": [
      "<pymongo.cursor.Cursor object at 0x13b198bd0>\n",
      "{'_id': ObjectId('6644230ad7538e2589325cba'),\n",
      " 'item': 'journal',\n",
      " 'qty': 25,\n",
      " 'size': {'h': 14, 'w': 21, 'uom': 'cm'},\n",
      " 'status': 'A'}\n",
      "{'_id': ObjectId('6644230ad7538e2589325cbb'),\n",
      " 'item': 'notebook',\n",
      " 'qty': 50,\n",
      " 'size': {'h': 8.5, 'w': 11, 'uom': 'in'},\n",
      " 'status': 'A'}\n",
      "{'_id': ObjectId('6644230ad7538e2589325cbc'),\n",
      " 'item': 'paper',\n",
      " 'qty': 100,\n",
      " 'size': {'h': 8.5, 'w': 11, 'uom': 'cm'},\n",
      " 'status': 'P',\n",
      " 'lastModified': datetime.datetime(2024, 5, 17, 20, 23, 52, 234000)}\n",
      "{'_id': ObjectId('6644230ad7538e2589325cbd'),\n",
      " 'item': 'planner',\n",
      " 'qty': 75,\n",
      " 'size': {'h': 22.85, 'w': 30, 'uom': 'cm'},\n",
      " 'status': 'D'}\n",
      "{'_id': ObjectId('6644230ad7538e2589325cbe'),\n",
      " 'item': 'postcard',\n",
      " 'qty': 45,\n",
      " 'size': {'h': 10, 'w': 15.25, 'uom': 'cm'},\n",
      " 'status': 'A'}\n"
     ]
    }
   ],
   "source": [
    "docs = inventory.find()\n",
    "pprint.pp(docs)\n",
    "for doc in docs:\n",
    "    pprint.pp(doc)"
   ]
  },
  {
   "cell_type": "code",
   "execution_count": 23,
   "id": "ea09c678-218d-43ae-883d-ec603d5708a4",
   "metadata": {},
   "outputs": [
    {
     "name": "stdout",
     "output_type": "stream",
     "text": [
      "5\n",
      "\n",
      "4\n"
     ]
    }
   ],
   "source": [
    "print(inventory.count_documents({}))\n",
    "print()\n",
    "print(inventory.count_documents({'size.uom': \"cm\"}))"
   ]
  },
  {
   "cell_type": "code",
   "execution_count": null,
   "id": "fb0a15ef-2801-452e-a3b6-8b18ebbff733",
   "metadata": {},
   "outputs": [],
   "source": []
  },
  {
   "cell_type": "code",
   "execution_count": null,
   "id": "2a7d4c4e-6f6a-4cd2-b4f8-3e32127c8635",
   "metadata": {},
   "outputs": [],
   "source": []
  },
  {
   "cell_type": "code",
   "execution_count": 8,
   "id": "e9ac7891-8525-43c7-9c60-b60a364adb8f",
   "metadata": {},
   "outputs": [
    {
     "ename": "NameError",
     "evalue": "name 'listCollections' is not defined",
     "output_type": "error",
     "traceback": [
      "\u001b[0;31m---------------------------------------------------------------------------\u001b[0m",
      "\u001b[0;31mNameError\u001b[0m                                 Traceback (most recent call last)",
      "Cell \u001b[0;32mIn[8], line 1\u001b[0m\n\u001b[0;32m----> 1\u001b[0m db\u001b[38;5;241m.\u001b[39mrunCommand({\u001b[43mlistCollections\u001b[49m:\u001b[38;5;241m1\u001b[39m})\n",
      "\u001b[0;31mNameError\u001b[0m: name 'listCollections' is not defined"
     ]
    }
   ],
   "source": [
    "db.runCommand({listCollections:1})"
   ]
  },
  {
   "cell_type": "code",
   "execution_count": null,
   "id": "0f739911-095a-48e1-b8df-d3ee284d59a6",
   "metadata": {},
   "outputs": [],
   "source": []
  }
 ],
 "metadata": {
  "kernelspec": {
   "display_name": "dm4ds",
   "language": "python",
   "name": "dm4ds"
  },
  "language_info": {
   "codemirror_mode": {
    "name": "ipython",
    "version": 3
   },
   "file_extension": ".py",
   "mimetype": "text/x-python",
   "name": "python",
   "nbconvert_exporter": "python",
   "pygments_lexer": "ipython3",
   "version": "3.11.7"
  }
 },
 "nbformat": 4,
 "nbformat_minor": 5
}
